{
 "cells": [
  {
   "cell_type": "markdown",
   "metadata": {},
   "source": [
    "# Important Equations:"
   ]
  },
  {
   "cell_type": "markdown",
   "metadata": {},
   "source": [
    "## Variables\n",
    "$g = gravity\\ \\frac{in}{s^2} $\n",
    "\n",
    "$c* = characteristic\\ velocity $\n",
    "\n",
    "$\\gamma= specific\\ heat\\ ratio$ (obtained from CEA)\n",
    "\n",
    "$C_f = thrust\\ coefficient$\n",
    "\n",
    "$P_e = exit\\ pressure\\ (PSI) $\n",
    "\n",
    "$P_a = ambient\\ pressure\\ (PSI) $\n",
    "\n",
    "$P_{c_{ns}} = nozzle\\ stagnation\\ pressure\\ (PSI) $\n",
    "\n",
    "$P_{c_{inj}} = chamber\\ total\\ pressure\\ at\\ injector\\ end$    (This is generally treated as equivalent to the total pressure)\n",
    "\n",
    "$P_i = inlet\\ pressure\\ (PSI)$\n",
    "\n",
    "$A_e = Exit\\ Area\\ (in^2)$\n",
    "\n",
    "$A_t = Throat\\ Area\\ (in^2)$\n",
    "\n",
    "$F = thrust\\ (lb)$\n",
    "\n",
    "$ISP = specific\\ impulse\\ (s)$  \n",
    "\n",
    "$r = mixture\\ ratio$ (Taken from https://www.braeunig.us/space/comb-OE )\n",
    "\n",
    "$T_C= chamber\\ temperature\\ (deg\\ R)$\n",
    "\n",
    "$M_i= nozzle\\ inlet\\ flow\\ mach\\ number$\n",
    "\n",
    "$M= molecular\\ weight$\n",
    "\n",
    "$R_{gas}= gas\\ constant$\n",
    "\n",
    "#### Material Properties: \n",
    "(source https://www.applichem.com/en/shop/product-detail/as/ethanol-70-reinst-dab/ )\n",
    "\n",
    "$\\rho_{lox} = 71.38$ $\\frac{lb}{ft^3}$ \n",
    "\n",
    "$\\rho_{lox} = 0.0413$ $\\frac{lb}{in^3}$ \n",
    "\n",
    "$\\nu_{lox} = 0.0003389$ $\\frac{in^2}{s}$ \n",
    "\n",
    "$\\nu_{ethanol} = 0.00210187$ $\\frac{in^2}{s}$ \n",
    "\n",
    "$\\rho_{ethanol} = 55.249$ $\\frac{lb}{ft^3}$ \n",
    "\n",
    "$\\rho_{ethanol} = 0.03197$ $\\frac{lb}{in^3}$ \n",
    "\n",
    "$\\mu_{lox} = 0.000013999$ $\\frac{lb}{in*s}$\n",
    "\n",
    "$\\mu_{ethanol} = 0.000067197$ $\\frac{lb}{in*s}$\n",
    "\n",
    "$M= 22 \\frac{g}{mol} = 22 \\frac{lbf}{lb*mol}$ (Taken from CEA)\n",
    "\n",
    "#### Assumptions:\n",
    "\n",
    "$M_i = 0.3$ \n"
   ]
  },
  {
   "cell_type": "markdown",
   "metadata": {},
   "source": [
    "## Laminar or Turbulent Flow\n",
    "\n",
    "The flow is: \n",
    "\n",
    "Laminar when $Re<2300$\n",
    "\n",
    "Transient when $2300<Re<4000$\n",
    "\n",
    "Turbulent when $4000<Re$\n",
    "\n",
    "\n",
    "$Re = Reynolds\\ number = \\frac{\\rho*u*D_h}{\\mu}$\n",
    "\n",
    "$D_h= hydraulic diameter$\n",
    "\n",
    "For an annulus $D_h= D_o-D_i$\n",
    "\n",
    "\n",
    "\n",
    "\n",
    "\n",
    "\n"
   ]
  },
  {
   "cell_type": "markdown",
   "metadata": {},
   "source": [
    "### Theoretical ISP (Specific Impulse)\n",
    "\n",
    "From Huzzel and Huang Eqn 1-28......:\n",
    "\n",
    "$$ISP = \\frac{(c*)C_f}{g} = \\frac{F}{\\dot{m}_{total}}$$\n",
    "\n",
    "\n",
    "\n",
    "$Theoretical\\ c*$\n",
    "$$c*_{theo}= \\frac{\\sqrt{g\\gamma*T_c*R}}{{\\gamma\\sqrt{\\frac{2}{\\gamma+1}}}^{\\frac{\\gamma+1}{\\gamma-1}}} $$\n",
    "\n",
    "$Actual\\ c*$\n",
    "$$c*_{act} = \\eta_v*(c*_{theo})$$\n",
    "\n",
    "\n",
    "$Theoretical\\ C_F$\n",
    "$$C_{f_{theo}} = \\sqrt{\\frac{2\\gamma^2}{\\gamma-1}[{\\frac{2}{\\gamma+1}}]^{\\frac{\\gamma+1}{\\gamma-1}}[1-{\\frac{P_e}{P_{c_{ns}}}}^{\\frac{\\gamma-1}{\\gamma}}]}+\\epsilon[\\frac{P_e-Pa}{P_{c_{ns}}}]$$\n",
    "\n",
    "\n",
    "\n",
    "$Actual\\ C_F$\n",
    "$$C_{f_{act}} = \\eta_f(C_{f_{theo}})$$ \n",
    "\n",
    "$$P_{c_{ns}} = P_i*(1+\\frac{1}{2}*(\\gamma-1)Mi^2)^\\frac{\\gamma}{\\gamma-1}$$ \n",
    "\n",
    "\n",
    "\n",
    "$$\\epsilon = \\frac{A_e}{A_t} = \\frac{\\frac{2}{\\gamma +1}^\\frac{1}{\\gamma-1}\\frac{P_{c_{ns}}}{P_e}^\\frac{1}{\\gamma}}{\\sqrt{\\frac{\\gamma +1}{\\gamma-1}(1-\\frac{P_e}{P_{c_{ns}}})^\\frac{\\gamma-1}{\\gamma}}}$$\n",
    "\n",
    "\n",
    "\n",
    "\n",
    "\n",
    "\n",
    "From Huzzel and Huang Eqn 128......:\n",
    "\n",
    "$$\\dot{m}_{total} = \\frac{F}{ISP}$$  \n",
    "\n",
    "$$\\dot{m}_{ethanol} = \\frac{\\dot{m}_{total}}{1+r}$$\n",
    "\n",
    "$$\\dot{m}_{lox} = r*\\dot{m}_{ethanol}$$\n",
    "\n",
    "\n",
    "\n",
    "\n",
    "\n",
    "### Given Variables and Constants\n",
    "$P_c = Chamber\\ Pressure\\ = 350\\ PSI$\n",
    "\n",
    "$P_a = 14.7\\ PSI$\n",
    "\n",
    "$P_e= 14.7\\ PSI$\n",
    "\n",
    "$r = 1.25$\n",
    "\n",
    "$\\gamma = 1.192$\n",
    "\n",
    "$T_c= 3050\\ K = 5490\\ R$\n",
    "\n",
    "$R_{gas} = \\frac{1544}{M} \\frac{ft}{degR} = \\frac{18528}{M} \\frac{in}{degR}$\n",
    "\n"
   ]
  },
  {
   "cell_type": "code",
   "execution_count": 1,
   "metadata": {
    "collapsed": false
   },
   "outputs": [],
   "source": [
    "import math\n",
    "from IPython.display import display\n",
    "from ipywidgets import widgets\n",
    "\n",
    "F_ = widgets.Text(\"250\",     description=\"Thrust, F (lb)\", width=60)\n",
    "r_ = widgets.Text(\"1.2\",    description=\"Mixture Ratio, r\", width=60)\n",
    "gam_ = widgets.Text(\"1.12\",    description=\"Specific Heat Ratio, gamma\", width=60)\n",
    "Pa_ = widgets.Text(\"14.7\",    description=\"Ambient Pressure, Pa, (PSI)\", width=60)\n",
    "Pc_ = widgets.Text(\"350\",    description=\"Chamber Pressure, Pc, (PSI)\", width=60)\n",
    "Pe_ = widgets.Text(\"14.7\",    description=\"Exit Pressure, Pe, (PSI)\", width=60)\n",
    "g_ = widgets.Text(\"386.4\",    description=\"Gravity, g (in/s^2)\", width=60)\n",
    "Tc_ = widgets.Text(\"5232\",    description=\"Chamber Temperature, Tc (R)\", width=60)\n",
    "Pinj_= widgets.Text(\"350\",    description= \"chamber total pressure at injector, (PSI)\", width=60)\n",
    "Mi_ = widgets.Text(\"0.3\",           description=\"Mach Number at inlet\", width=60 )\n",
    "M_ = widgets.Text(\"22.1\",           description=\"Molecular Weight from CEA\", width=60 )\n",
    "etaf_ = widgets.Text(\".98\",           description=\"eta_f\", width=60 )\n",
    "etav_ = widgets.Text(\".98\",           description=\"eta_v\", width=60 )\n",
    "\n",
    "display(F_)\n",
    "display(r_)\n",
    "display(gam_)\n",
    "display(Pa_)\n",
    "display(Pc_)\n",
    "display(Pe_)\n",
    "display(Pinj_)\n",
    "display(g_)\n",
    "display(Tc_)\n",
    "display(Mi_)\n",
    "display(M_)\n",
    "display(etaf_)\n",
    "display(etav_)\n",
    "\n",
    "\n"
   ]
  },
  {
   "cell_type": "code",
   "execution_count": 2,
   "metadata": {
    "collapsed": false
   },
   "outputs": [
    {
     "name": "stdout",
     "output_type": "stream",
     "text": [
      "c*_theo =  65087.36539697642\n",
      "epsilon =  2.3946989791123037\n",
      "Cf_theo =  1.4575862419184928\n",
      "c*_act =  63785.61808903689\n",
      "Cf_act =  1.428434517080123\n",
      "838.3710407239819\n"
     ]
    }
   ],
   "source": [
    "g=float(g_.value)\n",
    "r=float(r_.value)\n",
    "F=float(F_.value)\n",
    "Pe=float(Pe_.value)\n",
    "Pc=float(Pc_.value)\n",
    "Pa=float(Pa_.value)\n",
    "Pinj=float(Pinj_.value)\n",
    "gam=float(gam_.value)\n",
    "Tc=float(Tc_.value)\n",
    "Mi=float(Mi_.value)\n",
    "M=float(M_.value)\n",
    "eta_f= float(etaf_.value)\n",
    "eta_v= float(etav_.value)\n",
    "\n",
    "#Solving for c, c*, epsilon\n",
    "\n",
    "R=18528/M\n",
    "\n",
    "Pcinj    = Pinj                   #Chamber total pressure is equal to injector pressure\n",
    "\n",
    "Pi       = Pinj/(1+gam*Mi**2) \n",
    "\n",
    "Pcns     = Pi*(1+((gam-1)/2)*Mi**2)**(gam/(gam-1))\n",
    "\n",
    "cstar_theo = math.sqrt(g*R*gam*Tc)/(gam*math.sqrt((2/(gam+1))**((gam+1)/(gam-1))))\n",
    "\n",
    "epsilon  = ((2/(gam+1))**(1/(gam-1))*(Pcns/Pe)**(1/gam))/math.sqrt((gam+1)/(gam-1)*(1-(Pe/Pcns))**((gam-1/gam)))\n",
    "    \n",
    "\n",
    "Cf_theo = (math.sqrt(2*gam**2/(gam-1)*(2/(gam+1))**((gam+1)/(gam-1))\n",
    "             *(1-(Pe/Pcns)**((gam-1)/gam))))+epsilon*((Pe-Pa)/Pcns)\n",
    "\n",
    "cstar_act= eta_v*cstar_theo\n",
    "\n",
    "Cf_act= eta_f*Cf_theo\n",
    "\n",
    "\n",
    "\n",
    "\n",
    "print(\"c*_theo = \", cstar_theo)\n",
    "print(\"epsilon = \", epsilon)\n",
    "print(\"Cf_theo = \", Cf_theo)\n",
    "print(\"c*_act = \", cstar_act)\n",
    "print(\"Cf_act = \", Cf_act)\n",
    "\n",
    "print(R)\n",
    "\n"
   ]
  },
  {
   "cell_type": "code",
   "execution_count": 3,
   "metadata": {
    "collapsed": false
   },
   "outputs": [
    {
     "name": "stdout",
     "output_type": "stream",
     "text": [
      "m_total =   1.0602151898140382\n",
      "m_ethanol =  0.48191599537001734\n",
      "m_lox =  0.5782991944440208\n",
      "ISP =  235.80118677968576\n"
     ]
    }
   ],
   "source": [
    "\n",
    "ISP=(cstar_act*Cf_act)/g\n",
    "\n",
    "m_total = F/ISP\n",
    "m_ethanol = m_total/(1+r)\n",
    "m_lox = r*m_ethanol\n",
    "\n",
    "print(\"m_total =  \", m_total)\n",
    "\n",
    "print(\"m_ethanol = \", m_ethanol)\n",
    "\n",
    "print(\"m_lox = \", m_lox)\n",
    "\n",
    "print(\"ISP = \", ISP)\n"
   ]
  },
  {
   "cell_type": "markdown",
   "metadata": {
    "collapsed": true
   },
   "source": [
    "# Engine Injector\n",
    "\n",
    "The injector design should produce high combustion performance and stable operation without affecting injector and thrust chamber durabilities. There are a few different types of injectors used in a rocket engine. The types of injectors are impinging, pintle.....\n",
    "there are various combinations, unlike vs. like combined with either doublet, triplet or quadlet.\n",
    "\n",
    "For ease of machinability and other reasons, the pintle injector has been chosen as the injector for the liquid fueled rocket engine. \n"
   ]
  },
  {
   "cell_type": "markdown",
   "metadata": {},
   "source": [
    "# Pintle Injector\n",
    "\n",
    "The advantages of the pintle injector are throtteability, dependability, manufacture simplicity and large thrust per element. The disadvantages of the pintle are wall compatiblity problems and lack of correlations for level of mixing and spray size. \n",
    "\n",
    "\n",
    "The pintle injector can be either fuel centered or lox centered. \n",
    "\n",
    "Fuel centered is typically used for smaller engines, but a lox center pintle is advantageous with machinability.  \n"
   ]
  },
  {
   "cell_type": "markdown",
   "metadata": {},
   "source": [
    "<img src=\"lox.png\" width=\"500\" height=\"500\"  /> "
   ]
  },
  {
   "cell_type": "markdown",
   "metadata": {},
   "source": [
    "<img src=\"pintle.png\" width=\"600\" height=\"600\"/> "
   ]
  },
  {
   "cell_type": "markdown",
   "metadata": {
    "collapsed": true
   },
   "source": [
    "## Pintle Equations\n",
    "\n",
    "We are choosing our pintle radius, $R_p$\n",
    "(We are basing this off of Penn State AIAA-98-3816, Woodward et. al)\n",
    "\n",
    "$$R_p = outer\\ radius\\ = 0.14\\ in$$\n",
    "$$r_p = inner\\ radius\\ = .05\\ in$$ \n",
    "\n",
    "\n",
    "$N = number\\ of\\ primary\\ holes$\n",
    "\n",
    "$n = number\\ of\\ secondary\\ holes$\n",
    "\n",
    "$W = big\\ hole\\ diameter$\n",
    "\n",
    "$w = small\\ hole\\ diameter$\n",
    "\n",
    "$TMR = total\\ momentum\\ ratio$\n",
    "\n",
    "$BF = blockage\\ factor$\n",
    "\n",
    "$D_p = outer\\ post\\ diameter$\n",
    "\n",
    "$EMR = effective\\ momentum\\ ratio$\n",
    "\n",
    "\n",
    "$$TMR = \\frac{\\dot{m}U_{inner}}{\\dot{m}U_{outer}}$$\n",
    "\n",
    "\n",
    "$$BF = \\frac{(n*w)(N*W)}{D_p*pi}$$\n",
    "\n",
    "\n",
    "$$EMR = \\frac{TMR}{BF}$$\n",
    "\n",
    "*Note:\n",
    "\n",
    "BF should be less than 1, preferably between 0.3 and 0.7.\n",
    "\n",
    "If $BF > 1$ , there will be risk of interfacial shear \n",
    "\n",
    "Performance is best when $TMR = 1$\n",
    "\n",
    "As TMR increases, the fan angle increases. If ratio is too low, fan angle is extremely small and the spray will be very close to tip. If ratio is too high, fan angle is high and the flow will impinge directly on chamber walls (Stanford 2014). \n",
    "\n",
    "$$U= \\frac{Q}{A} $$\n",
    "\n",
    "$U=velocity$\n",
    "\n",
    "\n",
    "<img src=\"outerpostd.png\" width=\"150\" height=\"150\"/> "
   ]
  },
  {
   "cell_type": "markdown",
   "metadata": {},
   "source": [
    "# Fuel Centered Pintle Design\n",
    "\n",
    "## Annular Orifice\n",
    "The design is currently fuel centered, with the lox flowing through the annulus\n",
    "\n",
    "<img src=\"annularorifice.png\" width=\"600\" height=\"600\"/> \n",
    "\n",
    "The flow rate is computed using the Hagen-Poiseuille equation:\n",
    "\n",
    "\n",
    "$$\\dot m = \\frac{\\pi*R(R-r)^3}{6\\nu\\rho*L}*(1+\\frac{3}{2}E^2)*\\Delta P$$\n",
    "\n",
    "\n",
    "$E = \\frac{e}{R-r}$\n",
    "\n",
    "where,\n",
    "\n",
    "$E= eccentricity\\ ratio$\n",
    "\n",
    "$e= eccentricity$\n",
    "\n",
    "Since, the pintle annulus will be concentric, $E = 0$\n",
    "\n",
    "\n",
    "\n",
    "\n"
   ]
  },
  {
   "cell_type": "code",
   "execution_count": 4,
   "metadata": {
    "collapsed": false
   },
   "outputs": [
    {
     "name": "stdout",
     "output_type": "stream",
     "text": [
      "Change in Pressure, PSI =  52.5\n"
     ]
    }
   ],
   "source": [
    "from ipywidgets import widgets\n",
    "#Outer (Rp) and Inner (rp) radii of Pintle\n",
    "Rp_ = widgets.Text(\".14\",           description=\"Outer radius of pintle, R_p\", width=60 )\n",
    "rp_ = widgets.Text(\".05\",           description=\"Inner radius of pintle, r_p\", width=60 )\n",
    "\n",
    "#Annulus Radius input\n",
    "Ra_= widgets.Text(\".15\",           description=\"Annulus radius, Ra (in)\", width=60)\n",
    "\n",
    "display(Ra_)\n",
    "display(Rp_)\n",
    "display(rp_)\n",
    "\n",
    "#Pressure drop ranges from 10-20% of chamber pressure\n",
    "dp=.15*Pc\n",
    "\n",
    "\n",
    "#Densities and viscosities of ethanol and lox\n",
    "rhoethanol= widgets.Text(\"0.03197\", description=\"Density of Ethanol, lb/s^3\", width=65)\n",
    "rholox= widgets.Text(\"0.0413\", description=\"Density of Lox, lb/s^3\", width=65)\n",
    "nulox= widgets.Text(\"0.0003389\", description=\"Viscosity of Lox, in^2/s\", width=65)\n",
    "nuethanol=widgets.Text(\"0.00210187\", description=\"Viscosity of Ethanol, in^2/s\", width=65)\n",
    "\n",
    "print(\"Change in Pressure, PSI = \", dp)\n",
    "display(rholox)\n",
    "display(rhoethanol)\n",
    "display(nuethanol)\n",
    "display(nulox)"
   ]
  },
  {
   "cell_type": "code",
   "execution_count": 5,
   "metadata": {
    "collapsed": false
   },
   "outputs": [
    {
     "data": {
      "text/plain": [
       "[0.127329594398863]"
      ]
     },
     "execution_count": 5,
     "metadata": {},
     "output_type": "execute_result"
    }
   ],
   "source": [
    "#floating annulus radius for usage in formulas\n",
    "Ra=float(Ra_.value)\n",
    "Rp=float(Rp_.value)\n",
    "rp=float(rp_.value)\n",
    "\n",
    "\n",
    "#floating densities and viscocities for ethanol and lox\n",
    "nu_lox = float(nulox.value)\n",
    "nu_ethanol = float(nuethanol.value)\n",
    "rho_ethanol = float(rhoethanol.value)\n",
    "rho_lox = float(rholox.value)\n",
    "\n",
    "\n",
    "\n",
    "\n",
    "#Fuel Center or Lox Center\n",
    "FCenter = False\n",
    "\n",
    "#assign inner fluid\n",
    "if (FCenter):\n",
    "    m_inner = m_ethanol\n",
    "    m_outer = m_lox\n",
    "    rhoi    = rho_ethanol\n",
    "    rhoo    = rho_lox\n",
    "    nuo     = nu_lox\n",
    "    nui     = nu_ethanol\n",
    "else:\n",
    "    m_inner = m_lox\n",
    "    m_outer = m_ethanol\n",
    "    rhoi    = rho_lox\n",
    "    rhoo    = rho_ethanol\n",
    "    nuo     = nu_ethanol\n",
    "    nui     = nu_lox\n",
    "\n",
    "\n",
    "\n",
    "\n",
    "\n",
    "from sympy.solvers import solve\n",
    "from sympy import Symbol\n",
    "L= Symbol('L')\n",
    "solve((((math.pi * Ra*(Ra-Rp)**3)/(6*nuo*rhoo*L))*dp)-m_outer,L)"
   ]
  },
  {
   "cell_type": "code",
   "execution_count": 6,
   "metadata": {
    "collapsed": false
   },
   "outputs": [
    {
     "data": {
      "text/plain": [
       "'Uinner = '"
      ]
     },
     "metadata": {},
     "output_type": "display_data"
    },
    {
     "data": {
      "text/plain": [
       "1782.8411696237683"
      ]
     },
     "metadata": {},
     "output_type": "display_data"
    },
    {
     "data": {
      "text/plain": [
       "'Uouter = '"
      ]
     },
     "metadata": {},
     "output_type": "display_data"
    },
    {
     "data": {
      "text/plain": [
       "1654.553575403433"
      ]
     },
     "metadata": {},
     "output_type": "display_data"
    }
   ],
   "source": [
    "\n",
    "\n",
    "#Cross sectional areas of Annulus and Pintle\n",
    "Area_rp = math.pi*rp**2\n",
    "Area_Ra = math.pi*Ra**2\n",
    "Area_Rp = math.pi*Rp**2\n",
    "\n",
    "\n",
    "\n",
    "#Inner and Outer Pintle Velocities \n",
    "Ui= m_inner/(rhoi*Area_rp)\n",
    "Uo =m_outer/(rhoo*(Area_Ra-Area_Rp))\n",
    "\n",
    "\n",
    "display(\"Uinner = \" , Ui)\n",
    "display(\"Uouter = \" , Uo)"
   ]
  },
  {
   "cell_type": "code",
   "execution_count": 9,
   "metadata": {
    "collapsed": false
   },
   "outputs": [],
   "source": [
    "#Using round holes\n",
    "W_ = widgets.Text(\".03\",description=\"Primary round hole diameter in pintle, W (in)\", width=60 )\n",
    "#w_ = widgets.Text(\".005\",description=\"Secondary round hole diameter in pintle, w(in)\", width=60 )\n",
    "\n",
    "\n",
    "#Using square holes\n",
    "W2_ = widgets.Text(\".03\",description=\"Primary square hole width in pintle, W (in)\", width=60 )\n",
    "#w2_ = widgets.Text(\".005\",           description=\"Secondary square hole width in pintle, w\", width=60 )\n",
    "\n",
    "\n",
    "#number of holes input\n",
    "N_ = widgets.Text(\"12\",description=\"number of primary holes, N\", width=60)\n",
    "#n_ = widgets.Text(\"24\",description=\"number of secondary holes, n\", width=60)\n",
    "\n",
    "\n",
    "display(N_)\n",
    "#display(n_)\n",
    "display(W_)\n",
    "display(W2_)\n"
   ]
  },
  {
   "cell_type": "code",
   "execution_count": 11,
   "metadata": {
    "collapsed": false
   },
   "outputs": [
    {
     "name": "stdout",
     "output_type": "stream",
     "text": [
      "BF with square holes=  1.1459155902616465\n",
      "TMR fuel centered with square holes =  0.8979467312348665\n",
      "EMR fuel centered with square holes =  0.7836063483784513\n"
     ]
    }
   ],
   "source": [
    "\n",
    "W=float(W_.value)\n",
    "W2=float(W2_.value)\n",
    "N=float(N_.value)\n",
    "\n",
    "\n",
    "\n",
    "\n",
    "#Using round holes\n",
    "#inner diameter\n",
    "di=2*rp\n",
    "BF = ((N*W))/(di*math.pi)\n",
    "mfi = m_ethanol*Ui\n",
    "mfl = m_lox*Uo\n",
    "TMR_F = mfi/mfl\n",
    "EMR_F = TMR_F/BF\n",
    "\n",
    "#Using square holes\n",
    "BF2 = ((N*W2))/(di*math.pi)\n",
    "mil2 = m_lox*Ui\n",
    "mfi2 = m_ethanol*Ui\n",
    "mfl2 = m_lox*Uo\n",
    "TMR_F2 = mfi2/mfl2\n",
    "EMR_F2 = TMR_F2/BF2\n",
    "\n",
    "\n",
    "\n",
    "\n",
    "print(\"BF with square holes= \", BF2)\n",
    "#print(\"TMR lox centered with round holes = \", TMR_l)\n",
    "print(\"TMR fuel centered with square holes = \", TMR_F2)\n",
    "#print(\"EMR lox centered with round holes = \", EMR_l)\n",
    "print(\"EMR fuel centered with square holes = \", EMR_F2)"
   ]
  }
 ],
 "metadata": {
  "kernelspec": {
   "display_name": "Python 3",
   "language": "python",
   "name": "python3"
  },
  "language_info": {
   "codemirror_mode": {
    "name": "ipython",
    "version": 3
   },
   "file_extension": ".py",
   "mimetype": "text/x-python",
   "name": "python",
   "nbconvert_exporter": "python",
   "pygments_lexer": "ipython3",
   "version": "3.5.1"
  }
 },
 "nbformat": 4,
 "nbformat_minor": 0
}
