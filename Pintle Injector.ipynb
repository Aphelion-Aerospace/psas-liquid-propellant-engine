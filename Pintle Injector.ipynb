{
 "cells": [
  {
   "cell_type": "markdown",
   "metadata": {},
   "source": [
    "# Important Equations:"
   ]
  },
  {
   "cell_type": "markdown",
   "metadata": {},
   "source": [
    "## Variables\n",
    "$g = gravity $\n",
    "\n",
    "$c* = characteristic\\ velocity $\n",
    "\n",
    "$\\gamma= specific\\ heat\\ ratio$ (obtained from CEA)\n",
    "\n",
    "$C_f = thrust\\ coefficient$\n",
    "\n",
    "$P_e = exit\\ pressure $\n",
    "\n",
    "$P_a = ambient\\ pressure $\n",
    "\n",
    "$P_{c_{ns}} = nozzle\\ stagnation\\ pressure $\n",
    "\n",
    "$P_{c_{inj}} = chamber\\ total\\ pressure\\ at\\ injector\\ end$    This is generally treated as equivalent to the total pressure\n",
    "\n",
    "$P_i = inlet\\ pressure$\n",
    "\n",
    "$A_e = Exit\\ Area$\n",
    "\n",
    "$A_t = Throat\\ Area$\n",
    "\n",
    "$F = thrust$\n",
    "\n",
    "$ISP = specific\\ impulse$  \n",
    "\n",
    "$r = mixture\\ ratio$ (Taken from https://www.braeunig.us/space/comb-OE )\n",
    "\n",
    "$T_C= chamber\\ temperature$\n",
    "\n",
    "$M_i= nozzle\\ inlet\\ flow\\ mach\\ number$\n",
    "\n",
    "#### Material Properties: \n",
    "(source https://www.applichem.com/en/shop/product-detail/as/ethanol-70-reinst-dab/ )\n",
    "\n",
    "$\\rho_{lox} = 71.38$ $\\frac{lb}{ft^3}$ \n",
    "\n",
    "$\\rho_{lox} = 0.0413$ $\\frac{lb}{in^3}$ \n",
    "\n",
    "$\\rho_{ethanol} = 55.249$ $\\frac{lb}{ft^3}$ \n",
    "\n",
    "$\\rho_{ethanol} = 0.03197$ $\\frac{lb}{in^3}$ \n",
    "\n",
    "$\\mu_{lox} = 0.000013999$ $\\frac{lb}{in*s}$\n",
    "\n",
    "$\\mu_{ethanol} = 0.000067197$ $\\frac{lb}{in*s}$\n",
    "\n",
    "#### Assumptions:\n",
    "\n",
    "$M_i = 0.3$\n",
    "\n"
   ]
  },
  {
   "cell_type": "markdown",
   "metadata": {},
   "source": [
    "## Laminar or Turbulent Flow\n",
    "\n",
    "The flow is: \n",
    "\n",
    "Laminar when $Re<2300$\n",
    "\n",
    "Transient when $2300<Re<4000$\n",
    "\n",
    "Turbulent when $4000<Re$\n",
    "\n",
    "\n",
    "$Re = Reynolds\\ number = \\frac{\\rho*u*D_h}{\\mu}$\n",
    "\n",
    "$D_h= hydraulic diameter$\n",
    "\n",
    "For an annulus $D_h= D_o-D_i$\n",
    "\n",
    "\n",
    "\n",
    "\n",
    "\n",
    "\n"
   ]
  },
  {
   "cell_type": "markdown",
   "metadata": {},
   "source": [
    "### Theoretical ISP (Specific Impulse)\n",
    "\n",
    "From Huzzel and Huang Eqn 128......:\n",
    "\n",
    "$$ISP = \\frac{(c*)C_f}{g} = \\frac{F}{\\dot{m}_{total}}$$\n",
    "\n",
    "\n",
    "\n",
    "\n",
    "$$c*= \\frac{\\sqrt{g\\gamma*T_c}}{{\\gamma\\sqrt{\\frac{2}{\\gamma+1}}}^{\\frac{\\gamma+1}{\\gamma-1}}} $$\n",
    "\n",
    "\n",
    "\n",
    "\n",
    "\n",
    "$$C_f = \\sqrt{\\frac{2\\gamma^2}{\\gamma-1}[{\\frac{2}{\\gamma+1}}]^{\\frac{\\gamma+1}{\\gamma-1}}[1-{\\frac{P_e}{P_{c_{ns}}}}^{\\frac{\\gamma-1}{\\gamma}}]}+\\epsilon[\\frac{P_e-Pa}{P_{c_{ns}}}]$$\n",
    "\n",
    "\n",
    "\n",
    "\n",
    "$$P_{c_{ns}} = P_i*(1+\\frac{1}{2}*(\\gamma-1)Mi^2)^\\frac{\\gamma}{\\gamma-1}$$ \n",
    "\n",
    "\n",
    "\n",
    "$$\\epsilon = \\frac{A_e}{A_t} = \\frac{\\frac{2}{\\gamma +1}^\\frac{1}{\\gamma-1}\\frac{P_{c_{ns}}}{P_e}^\\frac{1}{\\gamma}}{\\sqrt{\\frac{\\gamma +1}{\\gamma-1}(1-\\frac{P_e}{P_{c_{ns}}})^\\frac{\\gamma-1}{\\gamma}}}$$\n",
    "\n",
    "\n",
    "\n",
    "\n",
    "\n",
    "\n",
    "From Huzzel and Huang Eqn 128......:\n",
    "\n",
    "$$\\dot{m}_{total} = \\frac{F}{ISP}$$  \n",
    "\n",
    "$$\\dot{m}_{ethanol} = \\frac{\\dot{m}_{total}}{1+r}$$\n",
    "\n",
    "$$\\dot{m}_{lox} = r*\\dot{m}_{ethanol}$$\n",
    "\n",
    "\n",
    " \n",
    "$ISP = 253$ (Taken from Huzzel)\n",
    "\n",
    "\n",
    "\n",
    "\n",
    "\n",
    "### Given Variables\n",
    "$P_c = Chamber\\ Pressure\\ = 350\\ PSI$\n",
    "\n",
    "$P_a = 14.7\\ PSI$\n",
    "\n",
    "$P_e= 14.7\\ PSI$\n",
    "\n",
    "$r = 1.25$\n",
    "\n",
    "$\\gamma = 1.192$\n",
    "\n",
    "$T_c= 3050\\ K = 5490\\ R$\n",
    "\n",
    "\n",
    "\n",
    "\n",
    "\n"
   ]
  },
  {
   "cell_type": "code",
   "execution_count": 178,
   "metadata": {
    "collapsed": false
   },
   "outputs": [],
   "source": [
    "import math\n",
    "from IPython.display import display\n",
    "from ipywidgets import widgets\n",
    "\n",
    "F_ = widgets.Text(\"250\",     description=\"Thrust, F (lb)\", width=60)\n",
    "ISP_ = widgets.Text(\"253\",   description=\"Specific Impulse, ISP\", width=60)\n",
    "r_ = widgets.Text(\"1.25\",    description=\"Mixture Ratio, r\", width=60)\n",
    "gam_ = widgets.Text(\"1.192\",    description=\"Specific Heat Ratio, gamma\", width=60)\n",
    "Pa_ = widgets.Text(\"14.7\",    description=\"Ambient Pressure, Pa\", width=60)\n",
    "Pc_ = widgets.Text(\"350\",    description=\"Chamber Pressure, Pc\", width=60)\n",
    "Pe_ = widgets.Text(\"14.7\",    description=\"Exit Pressure, Pe\", width=60)\n",
    "g_ = widgets.Text(\"32.2\",    description=\"Gravity, g ()\", width=60)\n",
    "Tc_ = widgets.Text(\"5487\",    description=\"Chamber Temperature, Tc (R)\", width=60)\n",
    "Pinj_= widgets.Text(\"350\",    description= \"chamber total pressure at injector\", width=60)\n",
    "Mi_ = widgets.Text(\"0.3\",           description=\"Mach Number at inlet\", width=60 )\n",
    "\n",
    "\n",
    "display(F_)\n",
    "#display(ISP_)\n",
    "display(r_)\n",
    "display(gam_)\n",
    "display(Pa_)\n",
    "display(Pc_)\n",
    "display(Pe_)\n",
    "display(Pinj_)\n",
    "display(g_)\n",
    "display(Tc_)\n",
    "display(Mi_)\n",
    "\n"
   ]
  },
  {
   "cell_type": "code",
   "execution_count": 192,
   "metadata": {
    "collapsed": false
   },
   "outputs": [
    {
     "name": "stdout",
     "output_type": "stream",
     "text": [
      "c* =  7.567552204650758\n",
      "epsilon =  2.5390038883146593\n",
      "Cf =  1.4331121281994632\n"
     ]
    }
   ],
   "source": [
    "g=float(g_.value)\n",
    "r=float(r_.value)\n",
    "F=float(F_.value)\n",
    "Pe=float(Pe_.value)\n",
    "Pc=float(Pc_.value)\n",
    "Pa=float(Pa_.value)\n",
    "Pinj=float(Pinj_.value)\n",
    "gam=float(gam_.value)\n",
    "Tc=float(Tc_.value)\n",
    "Mi=float(Mi_.value)\n",
    "\n",
    "R=1544/52.21 #why??????\n",
    "\n",
    "Pcinj    = Pinj                   #Chamber total pressure is equal to injector pressure\n",
    "\n",
    "Pi       = Pinj/(1+gam*Mi**2) \n",
    "\n",
    "Pcns     = Pi*(1+((gam-1)/2)*Mi**2)**(gam/(gam-1))\n",
    "\n",
    "cstar= (math.sqrt(g*R*gam*Tc))/(gam*math.sqrt((2/gam+1)**((gam+1)/(gam-1))))\n",
    "\n",
    "\n",
    "epsilon  = ((2/(gam+1))**(1/(gam-1))*(Pcns/Pe)**(1/gam))/math.sqrt((gam+1)/(gam-1)*(1-(Pe/Pcns))**((gam-1/gam)))\n",
    "    \n",
    "\n",
    "Cf = (math.sqrt(2*gam**2/(gam-1)*(2/(gam+1))**((gam+1)/(gam-1))\n",
    "             *(1-(Pe/Pcns)**((gam-1)/gam))))+epsilon*((Pe-Pa)/Pcns)\n",
    "\n",
    "\n",
    "\n",
    "print(\"c* = \", cstar)\n",
    "print(\"epsilon = \", epsilon)\n",
    "print(\"Cf = \", Cf)\n"
   ]
  },
  {
   "cell_type": "code",
   "execution_count": 193,
   "metadata": {
    "collapsed": false
   },
   "outputs": [
    {
     "name": "stdout",
     "output_type": "stream",
     "text": [
      "m_total =   742.2672229139824\n",
      "m_ethanol =  329.89654351732554\n",
      "m_lox =  412.3706793966569\n"
     ]
    }
   ],
   "source": [
    "\n",
    "ISP=cstar*Cf/g\n",
    "\n",
    "m_total = F/ISP\n",
    "m_ethanol = m_total/(1+r)\n",
    "m_lox = r*m_ethanol\n",
    "\n",
    "print(\"m_total =  \", m_total)\n",
    "\n",
    "print(\"m_ethanol = \", m_ethanol)\n",
    "\n",
    "print(\"m_lox = \", m_lox)"
   ]
  },
  {
   "cell_type": "markdown",
   "metadata": {
    "collapsed": true
   },
   "source": [
    "# Engine Injector\n",
    "\n",
    "The injector design should produce high combustion performance and stable operation without affecting injector and thrust chamber durabilities. There are a few different types of injectors used in a rocket engine. The types of injectors are impinging, pintle.....\n",
    "there are various combinations, unlike vs. like combined with either doublet, triplet or quadlet.\n",
    "\n",
    "For ease of machinability and other reasons, the pintle injector has been chosen as the injector for the liquid fueled rocket engine. \n"
   ]
  },
  {
   "cell_type": "markdown",
   "metadata": {},
   "source": [
    "# Pintle Injector\n",
    "\n",
    "The advantages of the pintle injector are throtteability, dependability, manufacture simplicity and large thrust per element. The disadvantages of the pintle are wall compatiblity problems and lack of correlations for level of mixing and spray size. \n",
    "\n",
    "\n",
    "The pintle injector can be either fuel centered or lox centered. \n",
    "\n",
    "Fuel centered is typically used for smaller engines, but for ease of machinability a pintle design with LOX centered is being used.  \n"
   ]
  },
  {
   "cell_type": "markdown",
   "metadata": {},
   "source": [
    "<img src=\"lox.png\" width=\"500\" height=\"500\"  /> "
   ]
  },
  {
   "cell_type": "markdown",
   "metadata": {},
   "source": [
    "<img src=\"pintle.png\" width=\"600\" height=\"600\"/> "
   ]
  },
  {
   "cell_type": "markdown",
   "metadata": {
    "collapsed": true
   },
   "source": [
    "## Pintle Equations\n",
    "\n",
    "We are choosing our pintle radius, $R_p$\n",
    "(We are basing this off of AIAA-98-3816, Woodward et. al)\n",
    "\n",
    "$$R_p = outer\\ radius\\ = 0.0825\\ in$$\n",
    "$$r_p = inner\\ radius\\ = 0.0675\\ in$$ \n",
    "\n",
    "\n",
    "$N = number\\ of\\ primary\\ holes$\n",
    "\n",
    "$n = number\\ of\\ secondary\\ holes$\n",
    "\n",
    "$W = big\\ hole\\ diameter$\n",
    "\n",
    "$w = small\\ hole\\ diameter$\n",
    "\n",
    "$TMR = total\\ momentum\\ ratio$\n",
    "\n",
    "$BF = blockage\\ factor$\n",
    "\n",
    "$D_p = outer\\ post\\ diameter$\n",
    "\n",
    "$EMR = effective\\ momentum\\ ratio$\n",
    "\n",
    "\n",
    "$$TMR = \\frac{\\dot{m}U_{inner}}{\\dot{m}U_{outer}}$$\n",
    "\n",
    "\n",
    "$$BF = \\frac{(n*w)(N*W)}{D_p*pi}$$\n",
    "\n",
    "\n",
    "$$EMR = \\frac{TMR}{BF}$$\n",
    "\n",
    "\n",
    "*Note:\n",
    "\n",
    "BF should be less than 1, preferably between 0.3 and 0.7.\n",
    "\n",
    "If $BF > 1$ , there will be risk of interfacial shear \n",
    "\n",
    "Performance is best when $TMR = 1$\n",
    "\n",
    "As TMR increases, the fan angle increases. If ratio is too low, fan angle is extremely small and the spray will be very close to tip. If ratio is too high, fan angle is high and the flow will impinge directly on chamber walls (Stanford 2014). \n",
    "\n",
    "$$U= \\frac{A}{Q} $$\n",
    "\n",
    "$U=velocity$\n",
    "\n",
    "\n",
    "<img src=\"outerpostd.png\" width=\"150\" height=\"150\"/> "
   ]
  },
  {
   "cell_type": "markdown",
   "metadata": {},
   "source": [
    "# Lox Centered Pintle Design\n",
    "\n",
    "## Annular Orifice\n",
    "\n",
    "<img src=\"annularorifice.png\" width=\"600\" height=\"600\"/> \n",
    "\n",
    "The flow rate is computed using the Hagen-Poiseuille equation:\n",
    "\n",
    "\n",
    "$$\\dot m = \\frac{\\pi*R(R-r)^3}{6\\mu\\rho*L}*(1+\\frac{3}{2}E^2)*\\Delta P$$\n",
    "\n",
    "\n",
    "$E = \\frac{e}{R-r}$\n",
    "\n",
    "where,\n",
    "\n",
    "$E= eccentricity\\ ratio$\n",
    "\n",
    "$e= eccentricity$\n",
    "\n",
    "Since, the pintle annulus will be concentric, $E = 0$\n",
    "\n",
    "\n",
    "\n",
    "\n"
   ]
  },
  {
   "cell_type": "markdown",
   "metadata": {},
   "source": [
    "## Pintle Hole Orifices:\n",
    "\n",
    "The pintle injector will have a sharp-edged orifice for the exit of the inner fluid into the chamber. The figure below taken from Sutton shows a diagram of a sharp-edged orifice with the corresponding coefficients.\n",
    "\n",
    "<img src=\"orifice.png\" width=\"600\" height=\"600\"/> \n",
    "\n",
    "$$A_t = \\frac{\\dot m_{lox}}{C_d*\\sqrt{2*\\Delta P*\\rho}}$$\n",
    "\n",
    "\n",
    "\n",
    "$$Cd = Discharge\\ Coefficient $$\n",
    "\n",
    "$$\\rho = Density $$\n",
    "\n",
    "$$\\Delta P = Change\\ in\\ Pressure $$\n",
    "\n",
    "$$\\dot m_{lox} = Q*\\rho $$  \n",
    "\n",
    "$$Q = Volume\\ Flow\\ Rate $$\n",
    "\n",
    "$A_t = N*A_p +n*A_s$\n",
    "\n",
    "$A_p = Primary\\ hole$\n",
    "\n",
    "$A_s = Secondary\\ hole = 0.5\\ A_p$\n",
    "\n",
    "\n",
    "\n",
    "\n",
    "\n",
    "\n",
    "A good starting point for the design level of injection flow resistance is 20% of chamber pressure for pressure loss across the injection orifice system. \n",
    "\n",
    "$$\\Delta P = 20 \\% * Chamber\\ Pressure $$"
   ]
  },
  {
   "cell_type": "code",
   "execution_count": 157,
   "metadata": {
    "collapsed": false
   },
   "outputs": [],
   "source": [
    "\n",
    "\n",
    "N_ = widgets.Text(description=\"number of primary holes, N\", width=60)\n",
    "n_ = widgets.Text(description=\"number of secondary holes, n\", width=60)\n",
    "d_ = widgets.Text(description=\"outer post diameter, d (in)\", width=60)\n",
    "Uinner = widgets.Text(description=\"fluid inner velocity, Ui ()\", width=60)\n",
    "Uouter = widgets.Text(description=\"fluid outer velocity, Uo ()\", width=60)\n",
    "\n",
    "display(N_)\n",
    "display(n_)\n",
    "display(d_)\n",
    "\n",
    "display(Uinner)\n",
    "display(Uouter)\n",
    "\n",
    "\n"
   ]
  },
  {
   "cell_type": "code",
   "execution_count": 162,
   "metadata": {
    "collapsed": false
   },
   "outputs": [
    {
     "name": "stdout",
     "output_type": "stream",
     "text": [
      "Change in Pressure =  70.0\n"
     ]
    }
   ],
   "source": [
    "N=float(N_.value)\n",
    "n=float(n_.value)\n",
    "d=float(d_.value)\n",
    "Ui=float(Uinner.value)\n",
    "Uo=float(Uouter.value)\n",
    "\n",
    "Dp=.2*Pc\n",
    "\n",
    "Cd_ = widgets.Text(\"0.65\", description=\"Discharge Coefficent, Cd\", width=60)\n",
    "rho_= widgets.Text(\"0.0413\", description=\"density, rho\", width=65)\n",
    "\n",
    "display(Cd_)\n",
    "display(rho_)\n",
    "\n",
    "print(\"Change in Pressure = \", Dp)\n",
    "\n",
    "\n"
   ]
  },
  {
   "cell_type": "code",
   "execution_count": 163,
   "metadata": {
    "collapsed": false
   },
   "outputs": [
    {
     "name": "stdout",
     "output_type": "stream",
     "text": [
      "A_t =  0.3512324087383522\n",
      "A_p =  0.023415493915890147\n",
      "A_s =  0.011707746957945074\n",
      "W (big hole diameter) =  0.17270974109737922\n",
      "w (small hole diameter) =  0.12212422910692979\n"
     ]
    }
   ],
   "source": [
    "Cd= float(Cd_.value)\n",
    "\n",
    "rho= float(rho_.value)\n",
    "A_t = m_lox/((Cd)*math.sqrt(2*Dp*rho))\n",
    "A_p = A_t/(np+0.5*ns)\n",
    "A_s = 0.5*A_p\n",
    "W = math.sqrt((4*A_p)/3.14)\n",
    "w = math.sqrt((4*A_s)/3.14)\n",
    "\n",
    "print(\"A_t = \", A_t)\n",
    "print(\"A_p = \", A_p)\n",
    "print(\"A_s = \", A_s)\n",
    "print(\"W (big hole diameter) = \", W)\n",
    "print(\"w (small hole diameter) = \", w)\n"
   ]
  },
  {
   "cell_type": "code",
   "execution_count": 164,
   "metadata": {
    "collapsed": false
   },
   "outputs": [
    {
     "name": "stdout",
     "output_type": "stream",
     "text": [
      "BF =  0.7511693508390038\n",
      "TMR lox centered =  1.25\n",
      "TMR fuel centered =  0.7999999999999999\n",
      "EMR lox centered =  1.3312577235520455\n",
      "EMR fuel centered =  1.3312577235520455\n"
     ]
    }
   ],
   "source": [
    "\n",
    "BF = ((n*w)+(N*W))/(d*3.14)\n",
    "mil = m_lox*Ui\n",
    "mfo = m_ethanol*Uo\n",
    "mfi = m_ethanol*Ui\n",
    "mfl = m_lox*Uo\n",
    "TMR_l = mil/mfo \n",
    "TMR_F = mfi/mfl\n",
    "EMR_l = TMRl/BF\n",
    "EMR_F = TMRF/BF\n",
    "print(\"BF = \", BF)\n",
    "print(\"TMR lox centered = \", TMR_l)\n",
    "print(\"TMR fuel centered = \", TMR_F)\n",
    "print(\"EMR lox centered = \", EMR_l)\n",
    "print(\"EMR fuel centered = \", EMR_F)\n"
   ]
  },
  {
   "cell_type": "code",
   "execution_count": null,
   "metadata": {
    "collapsed": true
   },
   "outputs": [],
   "source": []
  }
 ],
 "metadata": {
  "kernelspec": {
   "display_name": "Python 3",
   "language": "python",
   "name": "python3"
  },
  "language_info": {
   "codemirror_mode": {
    "name": "ipython",
    "version": 3
   },
   "file_extension": ".py",
   "mimetype": "text/x-python",
   "name": "python",
   "nbconvert_exporter": "python",
   "pygments_lexer": "ipython3",
   "version": "3.5.1"
  }
 },
 "nbformat": 4,
 "nbformat_minor": 0
}
