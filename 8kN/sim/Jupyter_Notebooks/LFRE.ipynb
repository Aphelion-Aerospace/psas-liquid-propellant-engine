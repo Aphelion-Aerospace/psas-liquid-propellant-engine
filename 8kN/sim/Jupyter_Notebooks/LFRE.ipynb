{
 "cells": [
  {
   "cell_type": "markdown",
   "metadata": {},
   "source": [
    "# Exploration of the Construction of Liquid Fuel Bipropellant Rocket Engines Utilizing Additive Manufacturing Processes\n",
    "\n",
    "\n",
    "## Abstract:\n",
    "\n",
    "The Portland State Aerospace Society (PSAS) is an engineering student group and citizen science project at Portland State University dedicated to building low-cost, open-source, open-hardware rockets and avionics systems. The group’s stated long term goal is to place a 1 kg cubesat into low Earth orbit with their own launch vehicle. One step needed to achieve this goal is to transition the current rocket design from a solid motor to a liquid fuel engine. The liquid propelled rocket engine project is being conducted as part of a mechanical engineering senior capstone project at Portland State University. This project is on track to being completed by June of 2016.\n",
    "\n",
    "The complexity and cost of building a liquid fuel rocket engine typically makes such devices unobtainable for a majority of parties interested in their construction. Until recently, manufacturing processes and techniques limited the geometries available to the designer and rendered such engines cost prohibitive as options for inexpensive orbital space flight. Advances in additive manufacturing technologies provide the potential to prototype complex geometries on a lower budget and with shorter lead times which would be considered unobtainable with traditional manufacturing methods. Furthermore, bipropellant liquid fuels offer many complex engineering considerations; the full analysis of which may not be within the design ability of many amateur builds. It is therefore advantageous to develop techniques for additive manufacturing rapid prototyping to make the study of bipropellant fuels more accessible.\n",
    "\n",
    "Explored herein is the process of designing and testing a liquid bipropellant engine on the scale of 50-1000 lbf of thrust using liquid oxygen (LOX) and ethanol as propellants. A low cost pintle injector and accompanying regeneratively cooled thrust chamber is developed using a combination of traditional manufacturing techniques and additive processes. Equations have been determined to describe the more complex geometries of the nozzle contour and the sizing of other important components. Figure 1 shows the preliminary design of the combustion chamber and nozzle with cooling channels. Heat transfer analysis is being conducted to determine the type of metal to be selected for the nozzle and cooling chamber, most likely a high-temperature steel such as inconel.\n",
    "\n",
    "\n",
    "Figure 1: Combustion chamber and nozzle preliminary design\n",
    "\n",
    "In order to achieve a simple and easy to manufacture pintle injector design, the regenerative cooling channel interface, fuel manifold and most of the injector plate will be part of the additively manufactured combustion chamber. The design will accommodate easy installation of different injector types to allow for testing of different injector and spray configurations. Cold flow tests will be conducted to study the viscous losses in 3D-printed metal cooling channels, manifold system, and pintle injector designs.\n",
    "\n",
    "An engine test-stand has been constructed and a pressure fed fuel system with actuated valves is being developed for fuel delivery. Pressure transducers and thermocouples will be ported into the final engine design to collect pressure and temperature data in the nozzle and combustion chamber. Analytical solutions and empirical data will be compared against simulations carried out by computational fluid dynamics (CFD) simulations. CFD simulations will be conducted using Loci/CHEM and Star-CCM+ simulation software."
   ]
  },
  {
   "cell_type": "markdown",
   "metadata": {
    "collapsed": true
   },
   "source": [
    "#### Initial Design Considerations\n",
    "\n",
    "Parameters must be selected. The generation of force is the desire of a rocket engine. the force equation is:\n",
    "\n",
    "$$ F = \\frac{\\dot{w}}{g} V_{e} + A_{e}(P_{e}-P_{a}) $$\n",
    "\n",
    "This is important when designing engines for flight, but when testing engines $P_{e}$ is optimally expanded and assumed to be atmospheric pressure (14.7 psia) and the equation becomes:\n",
    "\n",
    "$$ F = \\frac{\\dot{w}}{g} V_{e} $$\n",
    "\n",
    "For engines in flight the effective exhaust velocity, $c$, can be used, and equation X can be expressed as:\n",
    "\n",
    "$$F = c\\frac{\\dot{W}}{g} $$\n",
    "\n",
    "Where c is defined as\n",
    "\n",
    "$$c=V_{e} + A_{e}(P_{e}-P_{a})\\frac{g}{\\dot{W}} $$\n",
    "\n",
    "which changes with altitude.\n",
    "\n",
    "For a desired force, there must then be selected an exit velocity to find the necessary flow rate, $\\dot{w}$. The theoretical exit velocity is defined as:\n",
    "\n",
    "$$V_{e} = \\sqrt{\\frac{2g\\gamma}{\\gamma-1}RT_{i}\\bigg[1-\\bigg(\\frac{P_{e}}{P_{i}}\\bigg)\\bigg]^\\frac{\\gamma-1}{\\gamma}+v_{i}^2} $$\n",
    "\n",
    "Because the inlet velocity is very small, it is assumed to be zero, this gives the following:\n",
    "\n",
    "$$V_{e} = \\sqrt{\\frac{2g\\gamma}{\\gamma-1}RT_{c_{ns}}\\bigg[1-\\bigg(\\frac{P_{e}}{P_{c_{ns}}}\\bigg)\\bigg]^\\frac{\\gamma-1}{\\gamma}} $$\n",
    "\n",
    "which is dependent on the propellants, chamber pressure which should be chosen for the design, $P_{i}$, and the mach number at the nozzle inlet, $M_{i}$, which must be calculated iteratively. \n",
    "\n",
    "Pressure at the exit, $P_{e}$, of a test nozzle should be expanded to the pressure of testing conditions (assumed to be sea-level atmospheric pressure).\n",
    "\n",
    "Flame temperature and gamma can be obtained for a given propellant combination by using NASA's [CEArun](https://cearun.grc.nasa.gov/) tool. [link to portion in document which describes how to use cearun](internallinkhere)\n",
    "\n",
    "The propellent mixture ratio, can be used to manipulate flame temperature as well as cooling capacity. Increasing fuel; and thereby decreasing rw, will result in lower temperatures and more coolant mass flow-rate. CEArun should be used to determine the effect of a given mixture ratio.\n",
    "\n",
    "Things to add to this section:\n",
    "choosing OF ratios, (maximize theoretical specific impulse, balance with temperature limits, increases in oxidizer tend to lead to higher temperatures. selecting chamber pressures should be dependent on material limits, impulse tends to increase with increases in pressure, more enthalpy is available to convert to exhaust velocity, higher pressures generally result in higher temperatures.\n",
    "\n",
    "define constants to be used in mathmatics. discuss gas constants and their calculations.\n",
    "\n",
    "discuss each parameter as well as nomenclature, what does inj, inlet, throat, or exit mean, show locations in diagrams.\n",
    "\n",
    "\n"
   ]
  },
  {
   "cell_type": "code",
   "execution_count": 363,
   "metadata": {
    "collapsed": true
   },
   "outputs": [],
   "source": [
    "import math\n",
    "from mpmath import *\n",
    "from IPython.display import display\n",
    "from ipywidgets import widgets\n",
    "\n",
    "#Define Constants\n",
    "g     = 32.2  # gravitational constant in ft/s^2\n",
    "J     = 778   # Energy conversion factor (ft-lb/Btu)\n",
    "Regas = 1544  # Gas constant (ft/degR)\n",
    "Rgas  = 8.314 # Gas constant (J/mol/K)"
   ]
  },
  {
   "cell_type": "markdown",
   "metadata": {},
   "source": [
    "Force: The desired force output of the nozzle. Increasing force will increase mass flow rate of propellants, and can be used to increase cooling capacity.\n",
    "\n",
    "Molecular weight: CEARun Parameter\n",
    "\n",
    "Atmospheric Pressure: Pressure of the open atmosphere at desired optimized altitude. 14.7 psi for sea level applications.\n",
    "\n",
    "Exit Pressure: Desired expansion pressure. Equal to atmospheric pressure in an ideally expanded nozzle.\n",
    "\n",
    "Pressure at Injector: Desired chamber pressure after drop across injector. Higher chamber pressures allow for longer super sonic flow sections and greater expansion ratios, but will result in larger cooling surface areas and heavier nozzles.\n",
    "\n",
    "Weight mixture ratio: Optimized using CEARun for particular propellant combinations. Use of fuel rich ratios can aid in cooling by increasing fuel mass flow rate and thereby cooling capacity. Non ideal mixtures can have the effect of small changes in flame temperature.\n",
    "\n",
    "Fuel mixture percentage: mass percent of aqueous fuel solutions. Lowering can increase cooling capacity by increasing the mass flow rate of coolant, as well as raising the specific heat of the coolant. Results in less available fuel for combustion and lower combustion efficiencies.\n",
    "\n",
    "Ambient temperature: Local air temperature, assumed to be the holding temperature of fuel. Refridgeration of fuel can be acheived by altering ambient temperature. (this could potentially be altered by adding a refridgeration temperature differential value, or solving for needed refridgeration temperature in order to provide sufficient cooling capacity for an engine near convergence on heat transfer.\n",
    "\n",
    "Nozzle Stagnation Temperature: Flame temperature at stagnation, assumed to be chamber flame temperature. Obtained by CEARun.\n",
    "\n",
    "Contraction Ratio: Ratio of chamber cross sectional area to throat cross sectional area. Reasonable values may be obtained by Fig 4-9 Huang (add picture of fig 4-9 xx). Small rockets may increase avaible tooling area by increasing this value. Larger values result in larger cooling surface areas and greater cooling capacity requirements. Decreasing can aid in heat transfer convergence.\n",
    "\n",
    "Ratio of specific heats: The ratio of specific heats of propellants. Obtained via CEARun."
   ]
  },
  {
   "cell_type": "code",
   "execution_count": 364,
   "metadata": {
    "collapsed": false,
    "scrolled": true
   },
   "outputs": [],
   "source": [
    "#initial design considerations inputs\n",
    "#consider calculated exit pressure based on desired optimized altitude and then printing results by iterating\n",
    "#through various ambient pressures as a tool for designing flight engines.\n",
    "#-------------------------------------------------------------------------\n",
    "#also consider grouping all CEArun generated perameters together and dedicating a whole section to using the tool.\n",
    "\n",
    "F_        = widgets.Text(\"1500\"    , description=\"Force, F (lbf)\"                           , width=60  )\n",
    "M_        = widgets.Text(\"21.016\" , description=\"Molecular Weight, (lb/lb-mol)\"             , width=100 )\n",
    "Pa_       = widgets.Text(\"14.7\"   , description=\"Ambient Pressure, (lbf/in^2)\"                 , width=60  )\n",
    "Pe_       = widgets.Text(\"10\"   , description=\"Exit Pressure, Pe (lbf/in^2) \"                , width=60  )\n",
    "Pinj_     = widgets.Text(\"350\"    , description=\"Pressure at injector, Pinj (lb/in^2)\"      , width=60  )\n",
    "rw_       = widgets.Text(\"1.2\"    , description=\"(oxidizer/fuel) Weight mixture ratio\"      , width=60  )\n",
    "rwfuel_   = widgets.Text(\"80\"   , description=\"Fuel mixture percentage\"                     , width=60  )\n",
    "Tamb_     = widgets.Text(\"536.67\"    , description=\"Ambient temperature, (deg R)\"              , width=60  ) #77 deg f and default in CEARUN\n",
    "Tcns_     = widgets.Text(\"5482.85\" , description=\"Nozzle stagnation temperature, (deg R)\"    , width=80  )\n",
    "epsilonc_ = widgets.Text(\"5\"   , description=\"Contraction ratio\"                         , width=60  )\n",
    "gam_      = widgets.Text(\"1.1597\" , description=\"Specific heat ratio\"                       , width=80  )\n",
    "\n",
    "display(F_        )\n",
    "display(M_        )\n",
    "display(Pa_       )\n",
    "display(Pe_       )\n",
    "display(Pinj_     )\n",
    "display(rw_       )\n",
    "display(rwfuel_   )\n",
    "display(Tamb_     )\n",
    "display(Tcns_     )\n",
    "display(epsilonc_ )\n",
    "display(gam_      )"
   ]
  },
  {
   "cell_type": "code",
   "execution_count": 365,
   "metadata": {
    "collapsed": false
   },
   "outputs": [],
   "source": [
    "F        = float(F_.value        ) #Nozzle force\n",
    "M        = float(M_.value        ) #Molecular Weight\n",
    "Pa       = float(Pa_.value       ) #Atmospheric Pressure\n",
    "Pe       = float(Pe_.value       ) #Pressure at exit\n",
    "Pinj     = float(Pinj_.value     ) #Pressure at injector\n",
    "rw       = float(rw_.value       ) #Weight mixture ratio\n",
    "rwfuel   = float(rwfuel_.value   ) #Fuel mixture percentage\n",
    "Tamb     = float(Tamb_.value     ) #Ambient temperature\n",
    "Tcns     = float(Tcns_.value     ) #Nozzle stagnation temperature\n",
    "epsilonc = float(epsilonc_.value ) #Contraction ratio\n",
    "gam      = float(gam_.value      ) #Specific Heat Ratio\n"
   ]
  },
  {
   "cell_type": "markdown",
   "metadata": {},
   "source": [
    "The mach number at the inlet varies with dependence on the contraction ratio. Higher contraction ratios lead to smaller mach numbers at the nozzle inlet, small engines tend to have large contraction ratios in order to be machinable, which results in small mach numbers at the inlet.\n",
    "\n",
    "(Figure 1-10 (huang) could be displayed here xx)"
   ]
  },
  {
   "cell_type": "code",
   "execution_count": 366,
   "metadata": {
    "collapsed": false
   },
   "outputs": [
    {
     "name": "stdout",
     "output_type": "stream",
     "text": [
      "Mach Number at inlet: 0.13\n"
     ]
    }
   ],
   "source": [
    "#Itterative process to find mach number at the inlet.\n",
    "#equation 1-23, huang\n",
    "Mi_current = .3 # a reasonable guess for mach number at inlet\n",
    "Mi_last    = 0\n",
    "\n",
    "while (abs(Mi_current-Mi_last)>0.0001):\n",
    "    Mi_last    = Mi_current\n",
    "    Mi_current = math.sqrt(((1+(gam-1)/2*Mi_last)/((gam+1)/2))**((gam+1)/(gam-1)))/epsilonc\n",
    "\n",
    "Mi = Mi_current\n",
    "\n",
    "print(\"Mach Number at inlet: %.2f\" % Mi)"
   ]
  },
  {
   "cell_type": "code",
   "execution_count": 367,
   "metadata": {
    "collapsed": false
   },
   "outputs": [],
   "source": [
    "#Assumptions\n",
    "\n",
    "Pcinj = Pinj                   #Chamber total pressure is equal to injector pressure\n",
    "Minj  = 0                      #Mach number at injector assumed to be zero\n",
    "R     = Regas/M                #Gas constant for the flow\n",
    "Tci   = Tamb                   #Fuel holding temperature is equal to ambient temp\n",
    "Vinj  = 0                      #Injector velocity is zero"
   ]
  },
  {
   "cell_type": "markdown",
   "metadata": {},
   "source": [
    "After determining the inlet mach number, several other parameters may also be obtained.\n",
    "\n",
    "#### Pressures\n",
    "\n",
    "The nozzle stagnation pressure can be found as a function of the injector pressure, gamma, and the inlet mach number:\n",
    "\n",
    "$$ \\frac{P_{c_{inj}}}{P_{c_{ns}}} = \\frac{\\big( 1 + \\gamma M^2_i\\big)}{\\bigg( 1 + \\frac{\\gamma - 1}{2} M^2_i \\bigg)^\\frac{\\gamma}{\\gamma-1}} $$\n",
    "(equation 1-14, huang)\n",
    "\n",
    "Which may be used to find the nozzle pressure at the inlet:\n",
    "\n",
    "$$ \\frac{P_{inj}}{P_i} = 1 + \\gamma M^2_i $$\n",
    "(equation 1-15, huang)\n",
    "\n",
    "Further, the pressure at the throat, also known as the critical pressure, may also be determined:\n",
    "\n",
    "$$ \\frac{P_t}{P_{c_{ns}}} = \\bigg( \\frac{2}{\\gamma + 1} \\bigg)^{\\frac{\\gamma}{\\gamma - 1}} $$\n",
    "(equation 1-16, huang)\n",
    "\n",
    "It is important to note that past the throat of a de Laval nozzle, because the flow is moving faster than a pressure wave will propegate; a pressure wave due to an ambient pressure higher than that inside the nozzle will not occur. Because of this it is possible to expand the flow to pressures lower than ambient (or over-expand). Peak force production occurs when this pressure difference is negligible, and it is therefore important to consider at which altitude a nozzle should produce its peak force. It is uncommon for seperation to occur at the nozzle wall due to this overexpansion, but severe expansion angles or drastic over-expansion can lead to flow seperation.\n",
    "\n",
    "#### Velocities\n",
    "\n",
    "Velocity is obtained by the conversion of propellant enthalpy to motion, exit velocity is a function of the ratio of specific heats, nozzle pressure ratio, and chamber temperature, and is represented by,\n",
    "\n",
    "$$ V_{e} = \\sqrt{\\frac{2g\\gamma}{\\gamma-1}R T_{c_{ns}}\\bigg[1-\\bigg(\\frac{P_{e}}{P_{c_{ns}}}\\bigg)^\\frac{\\gamma-1}{\\gamma}}\\bigg] $$\n",
    "(1-18, huang)\n",
    "\n",
    "The velocity at the throat is independent of pressure, and represents the speed of sound in the particular medium at the throat; it is a function of the ratio of specific heats and nozzle stagnation temperature,\n",
    "\n",
    "$$ V_t = \\sqrt{\\frac{2g\\gamma}{\\gamma + 1}RT_{c_{ns}}} $$\n",
    "(1-22, huang)\n",
    "\n",
    "#### Mass flow rates\n",
    "\n",
    "Mass flow rate will depend on the desired force for a nozzle design. In order to provide a specific force requirement, and given the above calculated exit velocities; a mass flow rate is calculated,\n",
    "\n",
    "$$ F = \\frac{\\dot{w}}{g}V_e $$\n",
    "(1-6, huang)\n",
    "\n",
    "The propellant composition determines the specific mass flow rates of fuel and oxidizer. The fuel mass flow rate is calculated,\n",
    "\n",
    "(mass percent formula for fuel * flow rate)\n",
    "\n",
    "The difference between fuel and total flow rate is the remaining oxidizer flow rate,\n",
    "\n",
    "(ox flow rate formula)\n",
    "\n",
    "#### Temperature\n",
    "\n",
    "The throat temperature is a function of either the throat pressure ratio, or throat velocity ratio and ratio of specific heats and is calculated,\n",
    "\n",
    "$$ \\frac{T_i}{T_t} = \\bigg( \\frac{P_i}{P_t} \\bigg)^{\\frac{\\gamma - 1}{\\gamma}} = \\bigg( \\frac{V_t}{V_i} \\bigg)^{\\gamma - 1} $$\n",
    "(1-13, huang)\n",
    "\n",
    "The exit temperature is calculated similarly,\n",
    "\n",
    "$$ \\frac{T_i}{T_e} = \\bigg( \\frac{P_i}{P_e} \\bigg)^{\\frac{\\gamma - 1}{\\gamma}} = \\bigg( \\frac{V_e}{V_i} \\bigg)^{\\gamma - 1} $$\n",
    "(1-13, huang)\n",
    "\n",
    "The inlet temperature is a function of the inlet mach number and ratio of specific heats,\n",
    "\n",
    "$$ T_i = \\frac{T_{c_{ns}}}{\\big( 1+\\frac{\\gamma - 1}{2}M^2_i \\big)}  $$\n",
    "(table 1-1, huang)\n",
    "\n",
    "#### Geometries\n",
    "\n",
    "The throat area is critical to a choked flow. It is determined by first calculating the volume of gas according to the perfect gas law,\n",
    "\n",
    "$$ 144 P_xV_x=RT_x $$\n",
    "(1-9, huang)\n",
    "\n",
    "which is then applied with the mass flow rate and throat velocity.\n",
    "\n",
    "$$ \\dot{W} = \\frac{A_iv_i}{144V_i} = \\frac{A_xv_x}{144V_x} $$\n",
    "(1-11, huang)\n",
    "\n",
    "Further, the expansion ratio is represented as a function of the exit ratio and ratio of specific heats,\n",
    "\n",
    "$$ \\epsilon = \\frac{A_e}{A_t} = \\frac{\\bigg( \\frac{2}{\\gamma + 1} \\bigg)^{\\frac{1}{\\gamma - 1}} \\bigg[ \\frac{P_{c_{ns}}}{P_e} \\bigg]^{\\frac{1}{\\gamma}}}{\\sqrt{ \\frac{\\gamma + 1}{\\gamma - 1} \\bigg[ 1 - \\big( \\frac{P_e}{P_{c_{ns}}} \\big)^{\\frac{\\gamma - 1}{\\gamma}} \\bigg] }} $$\n",
    "(1-20, huang)\n",
    "\n",
    "which may be applied to the area ratio to determine the requisite exit area,\n",
    "\n",
    "$$ A_e = A_t \\frac{\\bigg( \\frac{2}{\\gamma + 1} \\bigg)^{\\frac{1}{\\gamma - 1}} \\bigg[ \\frac{P_{c_{ns}}}{P_e} \\bigg]^{\\frac{1}{\\gamma}}}{\\sqrt{ \\frac{\\gamma + 1}{\\gamma - 1} \\bigg[ 1 - \\big( \\frac{P_e}{P_{c_{ns}}} \\big)^{\\frac{\\gamma - 1}{\\gamma}} \\bigg] }} $$\n",
    "(1-20, huang)\n",
    "\n",
    "Finally, the effective exhaust velocity is now calculated for engines operating at ambient pressures which are not equal to the exit pressure.\n",
    "\n",
    "$$ c = v_e + A_e \\big( P_e - P_a \\big) \\frac{g}{\\dot{W}} $$\n",
    "(1-8, huang)"
   ]
  },
  {
   "cell_type": "code",
   "execution_count": 368,
   "metadata": {
    "collapsed": false
   },
   "outputs": [],
   "source": [
    "#Calculations\n",
    "\n",
    "Pcns     = Pcinj*(1+((gam-1)/2)*Mi**2)**(gam/(gam-1))/(1+gam*Mi**2)         #Nozzle stagnation pressure (1-14, huang)\n",
    "Pi       = Pinj/(1+gam*Mi**2)                                               #Pressure at inlet          (1-15, huang)\n",
    "Pt       = Pcns*(2/(gam+1))**(gam/(gam-1))                                  #Pressure at throat         (1-21, huang)\n",
    "Ve       = math.sqrt(((2*g*gam)/(gam-1))*R*Tcns*(1-(Pe/Pi)**((gam-1)/gam))) #Velocity at exit           (1-18, huang)\n",
    "Vt       = math.sqrt(((2*g*gam)/(gam+1))*R*Tcns)                            #Velocity at throat         (1-22, huang)\n",
    "wdot     = F*g/Ve                                                           #Propellant flow rate       (1-6,  huang)\n",
    "wdotf    = 1/(1+rw)*wdot                                                    #Fuel mass flow rate\n",
    "wdoto    = wdot-wdotf                                                       #Ox mass flow rate\n",
    "Tt       = Tcns*(Pt/Pcns)**((gam-1)/gam)                                    #Temperature at throat      (1-13, huang)\n",
    "Ti       = Tcns/(1+.5*(gam-1)*Mi**2)                                        #Inlet temperature          (Tab. 1-1, huang)\n",
    "Te       = Ti/(Pi/Pe)**((gam-1)/gam)                                        #Temperature at exit        (1-13, huang)\n",
    "Volumet  = R*Tt/144/Pt                                                      #Gas volume at throat       (1-9,  huang)\n",
    "At       = 144*wdot*Volumet/Vt                                              #Area of throat             (1-11, huang)\n",
    "Wdot     = At*Pcns*math.sqrt(g*gam*(2/(gam+1))**((gam+1)/(gam-1))/R/Tcns)   #Theoretical weight flow    (1-19, huang)\n",
    "epsilon  = ((2/(gam+1))**(1/(gam-1))*(Pcns/Pe)**(1/gam)/math.sqrt((gam+1)/\n",
    "                        (gam-1)*(1-(Pe/Pcns)**((gam-1/gam)))))              #Expansion ratio            (1-20, huang)\n",
    "Ae       = At*epsilon                                                       #Area of exit               (1-20, huang)\n",
    "c        = Ve+Ae*(Pe-Pa)*(g/wdot)                                           #Effective exhaust velocity (1-8,  huang)\n"
   ]
  },
  {
   "cell_type": "code",
   "execution_count": 369,
   "metadata": {
    "collapsed": false
   },
   "outputs": [
    {
     "name": "stdout",
     "output_type": "stream",
     "text": [
      "Pressures:\n",
      "Total Chamber,  Pcinj (psi):     350.00\n",
      "Stagnation,     Pcns  (psi):     346.78\n",
      "Inlet,          Pi    (psi):     343.53\n",
      "Throat,         Pt    (psi):     198.51\n",
      "\n",
      "Velocities:\n",
      "Throat,         Vt (ft/sec):     3732.25\n",
      "Exit,           Vt (ft/sec):     8522.30\n",
      "Effective,      c  (ft/sec):     8184.67\n",
      "\n",
      "Mass Flow Rates:\n",
      "Total,          wdot  (lb/sec):  5.67\n",
      "Fuel,           wdotf (lb/sec):  2.58\n",
      "Oxidizer,       wdoto (lb/sec):  3.09\n",
      "Theoretical,    Wdot  (lb/sec):  5.67\n",
      "\n",
      "Temperatures:\n",
      "Fuel (holding), Tci  (R):        536.67\n",
      "Stagnation,     Tcns (R):        5482.85\n",
      "Inlet,          Ti   (R):        5475.75\n",
      "\n",
      "Expansion Ratio: 4.43\n"
     ]
    }
   ],
   "source": [
    "#Print results\n",
    "print(\"Pressures:\")\n",
    "print(\"Total Chamber,  Pcinj (psi):     %.2f\"   % Pcinj )\n",
    "print(\"Stagnation,     Pcns  (psi):     %.2f\"   % Pcns  )\n",
    "print(\"Inlet,          Pi    (psi):     %.2f\"   % Pi    )\n",
    "print(\"Throat,         Pt    (psi):     %.2f\\n\" % Pt    )\n",
    "print(\"Velocities:\")\n",
    "print(\"Throat,         Vt (ft/sec):     %.2f\"   % Vt    )\n",
    "print(\"Exit,           Vt (ft/sec):     %.2f\"   % Ve    )\n",
    "print(\"Effective,      c  (ft/sec):     %.2f\\n\" % c     )\n",
    "print(\"Mass Flow Rates:\")\n",
    "print(\"Total,          wdot  (lb/sec):  %.2f\"   % wdot  )\n",
    "print(\"Fuel,           wdotf (lb/sec):  %.2f\"   % wdotf )\n",
    "print(\"Oxidizer,       wdoto (lb/sec):  %.2f\"   % wdoto )\n",
    "print(\"Theoretical,    Wdot  (lb/sec):  %.2f\\n\" % Wdot  )\n",
    "print(\"Temperatures:\")\n",
    "print(\"Fuel (holding), Tci  (R):        %.2f\"   % Tci   )\n",
    "print(\"Stagnation,     Tcns (R):        %.2f\"   % Tcns  )\n",
    "print(\"Inlet,          Ti   (R):        %.2f\\n\" % Ti    )\n",
    "print(\"Expansion Ratio: %.2f\" % epsilon)"
   ]
  },
  {
   "cell_type": "markdown",
   "metadata": {},
   "source": [
    "#### Material Properties\n",
    "\n",
    "Material properties are dependent on the material and process used. Current listed properties represent materials available through i3D manufacturing processes according to their print datasheets. Values do not typically deviate to a magnitude which would result in unacceptable designs if different print materials were to be used, but it is important to check any design against material datasheet properties which represent the final process which will be used to machine the engine.\n",
    "\n",
    "Properties are represented by the following variables:\n",
    "a: Thermal expansion coefficent (in/in-F)\n",
    "E: Modulus of elasticity (lb/in^2)\n",
    "k: Thermal conductivity (Btu/in^2-s-F/in)\n",
    "Twg: Maximum acceptable material temperature (R)\n",
    "v: Poisson's ratio (in/in)\n",
    "RA: RA surface roughness (in)\n",
    "\n",
    "#### Changing material properties\n",
    "\n",
    "Alteration of the material index variable (MatInd) is the only change necessary to choose a material for nozzle construction."
   ]
  },
  {
   "cell_type": "code",
   "execution_count": 370,
   "metadata": {
    "collapsed": false
   },
   "outputs": [],
   "source": [
    "#material properties\n",
    "\n",
    "# Typical values for various printable materials\n",
    "# Inconel 718:         a = 0.000008065 , E = 25450000 , k = .000225694 , Twg = 1700 , v = 0.274 , RA = 650*10**-6 in\n",
    "# Aluminum (AlSi10Mg): a = 0.000014 , E = 10200000 , k = 0.001716667 - 0.001983333, Twg = 1500, v = 0.33 , RA = 0.59-0.75 * 10**-3 in\n",
    "# Cobalt Chrome:       a = 0.0000069 , E = 30000000 , k = 0.000333333 , Twg = 2563 , v = 0.29 , RA = 0.39 *10**-3 in\n",
    "# Titanium:            a = 0.000032724 , E =16100000 , k = .000111667 , Twg = 3479 , v = 0.31, RA \n",
    "# Steel\n",
    "\n",
    "Props = [\n",
    "    #     a              E              k          Twg        v         RA\n",
    "    [\"0.000008065\" , \"25450000\" , \"0.000225694\" , \"1700\" , \"0.274\" , \"0.00065\"], # 0 Inconel\n",
    "    [\"0.000014\"    , \"10200000\" , \"0.001716667\" , \"1200\" , \"0.33\"  , \"0.00059\"], # 1 Aluminum\n",
    "    [\"0.0000069\"   , \"30000000\" , \"0.000333333\" , \"2563\" , \"0.29\"  , \"0.00039\"], # 2 Cobalt Chrome\n",
    "    [\"0.000032724\" , \"16100000\" , \"0.000111667\" , \"3479\" , \"0.31\"  , \"0.00065\"]  # 3 Titanium\n",
    "        ]\n",
    "MatInd = 1 # Material index\n",
    "\n",
    "a_   = widgets.Text(Props[MatInd][0], description=\"Thermal expansion ratio nozzle material\"        , width=100 )\n",
    "E_   = widgets.Text(Props[MatInd][1], description=\"Elastic modulus of nozzle material, E (psi)\"    , width=70  )\n",
    "k_   = widgets.Text(Props[MatInd][2], description=\"Wall thermal conductivity, k (Btu-in/in^2-s-F)\" , width=120 )\n",
    "Twg_ = widgets.Text(Props[MatInd][3], description=\"Maximum Material Temperature at wall, (deg R)\"  , width=60  )\n",
    "v_   = widgets.Text(Props[MatInd][4], description=\"Poisson's ratio nozzle material\"                , width=60  )\n",
    "RA_  = widgets.Text(Props[MatInd][5], description=\"Surface Rougness, (inch RA)\"                    , width=100 )\n",
    "\n",
    "\n",
    "\n",
    "#display user input boxes\n",
    "display(a_   )\n",
    "display(E_   )\n",
    "display(k_   )\n",
    "display(Twg_ )\n",
    "display(v_   )\n",
    "display(RA_  )"
   ]
  },
  {
   "cell_type": "code",
   "execution_count": 371,
   "metadata": {
    "collapsed": true
   },
   "outputs": [],
   "source": [
    "#Convert user inputs to float\n",
    "a   = float(a_.value   ) #Thermal expansion ratio of nozzle material\n",
    "E   = float(E_.value   ) #Elastic modulus of nozzle material\n",
    "k   = float(k_.value   ) #Wall thermal conductivity\n",
    "Twg = float(Twg_.value ) #Maximum Wall Temperature\n",
    "v   = float(v_.value   ) #Poisson's ratio nozzle material\n",
    "RA  = float(RA_.value  ) #RA surface roughness of nozzle material"
   ]
  },
  {
   "cell_type": "markdown",
   "metadata": {},
   "source": [
    "#### Design Variables\n",
    "\n",
    "Certain variables are dependant on design choices, such as a choice of fuel, or a desired cooling channel area ratio. These variables may be used to manipulate resulting design dependent values.\n",
    "\n",
    "#### Cooling channel aspect ratio at throat\n",
    "\n",
    "High aspect ratios have been associated with higher cooling efficiencies (cite paper xx). Increasing the cooling channel aspect ratio will result in a smaller hydraulic diameter, and greater pressure losses through the cooling channels. Increases in aspect ratio will also lead to an increased number of cooling channels, which decreases stresses in the chamber walls due to a pressure differential on either side of a given wall. Typically, small scale rockets will not experience significant stresses due to pressure within the cooling channel, as the pressures required to cause significant stresses within such small geometries are high enough to require turbomachinery, which are generally not available to builds on the amature scale. Lowering aspect ratios can therefore be used to decrease pressure losses and make pressure fed systems more manageable.\n",
    "\n",
    "#### Boiling point of fuel\n",
    "\n",
    "Fuel boiling point is a material property, but may be manipulated in certain fuels, particularly those which are aqueous solutions. Dilution of fuels with water will generally change the boiling point of a fuel, though the effect is generally not linear. Boiling point is taken at standard temperature and pressure for a given fuel solution.\n",
    "\n",
    "#### Specific heat of fuel\n",
    "\n",
    "The specific heat of the fuel is a material property. The value used for specific heat should be that of a pure sample of the fuel.\n",
    "\n",
    "#### Injector pressure drop\n",
    "\n",
    "Injector design is beyond the scope of this document, but the pressure drop across any particular design must be accounted for, and is done so here.\n",
    "\n",
    "#### Fuel heat of vaporization\n",
    "\n",
    "Heat of vaporization is a material property. In order to determine coolant capacity, the boiling point of the coolant must be calculated at the lowest pressure along the cooling channel. The heat of vaporization is used to calculate this value.\n",
    "\n",
    "#### Characteristic chamber length\n",
    "\n",
    "The characteristic length of the chamber is a range of emperically determined values for various propellant combinations. Accepted ranges for characterist length for various fuels can be found (consider adding table xx) in table 4-1 in Huang. \n",
    "\n",
    "#### Nucleate boiling factor of safety\n",
    "\n",
    "Factor of safety to protect against nucleate boiling. For pressures which will not allow for a supercritical coolant, nucleate boiling should be avoided. Designers should determine an acceptable level of risk when approaching the boiling point of the coolant. High factors of safety should also be avoided, as over cooling an engine can decrease performance significantly. Typical factors of safety range from 1.1 to 1.3 for engine applications.\n",
    "\n",
    "#### Initial fuel pressure\n",
    "\n",
    "The pressure of the fuel when it arrives at the fuel manifold. Higher pressures can protect against nucleate boiling by raising the temperature required for nucleate boiling.\n",
    "\n",
    "#### Throat temperature\n",
    "\n",
    "CEArun parameter. Can be manipulated slightly by changing composition of the fuel or mixture ratio.\n",
    "\n",
    "#### Combustion efficiency\n",
    "\n",
    "Determined experimentally. Adjust after measuring engine performance in testing.\n",
    "\n",
    "#### Film cooling correction factor\n",
    "\n",
    "When film cooling is used in conjunction with regenerative cooling, a correction factor for the adiabadic gas wall temperature must be applied. There is no reliable model for determining this, but a correction factor can be determined after measuring the temperature rise in the coolant during hot fire."
   ]
  },
  {
   "cell_type": "code",
   "execution_count": 372,
   "metadata": {
    "collapsed": true
   },
   "outputs": [],
   "source": [
    "#Define User Inputs for Equation Variables, assign values to default values\n",
    "\n",
    "ARhb_    = widgets.Text(\"11\"     , description=\"Cooling channel aspect ratio at throat\"        , width=60  )\n",
    "Bpf_     = widgets.Text(\"688.67\" , description=\"Boiling Point of Fuel, Bpf (deg R)\"            , width=100 )\n",
    "CpFuel_  = widgets.Text(\"0.5876\" , description=\"Specific heat of pure Fuel, CpFuel (BTU/lb-F)\" , width=80  )\n",
    "DelPi_   = widgets.Text(\"87.5\"   , description=\"Injector pressure drop, DelPi (lbf/in^2)\"      , width=60  )\n",
    "Hvapf_   = widgets.Text(\"36800\"  , description=\"Fuel heat of vaporization, Hvapf (J/mol)\"      , width=80  )\n",
    "Lstar_   = widgets.Text(\"40\"     , description=\"Characteristic Chamber Length, L* (in) \"       , width=60  )\n",
    "nc_      = widgets.Text(\"1.075\"  , description=\"Nucleate boiling factor of safety, nc\"         , width=60  )\n",
    "Pco_     = widgets.Text(\"550\"    , description=\"Initial fuel pressure, Pco (lbf/in^2)\"         , width=60  )\n",
    "Tt_      = widgets.Text(\"5111.7\" , description=\"Throat Temperature (deg R)\"                    , width=80  )\n",
    "eta_     = widgets.Text(\"0.90\"   , description=\"Combustion efficiency\"                         , width=60  )\n",
    "edafilm_ = widgets.Text(\"1\"      , description=\"Correction factor from film cooling for Taw\"   , width=60  ) # 1 = NO FILM COOLING\n",
    "\n",
    "\n",
    "#Display user input text boxes\n",
    "\n",
    "display(ARhb_    )\n",
    "display(Bpf_     )\n",
    "display(CpFuel_  )\n",
    "display(DelPi_   )\n",
    "display(Hvapf_   )\n",
    "display(Lstar_   )\n",
    "display(nc_      )\n",
    "display(Pco_     )\n",
    "display(Tt_      )\n",
    "display(eta_     )\n",
    "display(edafilm_ )"
   ]
  },
  {
   "cell_type": "code",
   "execution_count": 373,
   "metadata": {
    "collapsed": false,
    "scrolled": true
   },
   "outputs": [],
   "source": [
    "#Convert string entries to floats\n",
    "\n",
    "ARhb    = float(ARhb_.value    ) #Cooling channel aspect ratio\n",
    "Bpf     = float(Bpf_.value     ) #Boiling Point of fuel\n",
    "CpFuel  = float(CpFuel_.value  ) #Specific Heat of pure fuel\n",
    "DelPi   = float(DelPi_.value   ) #Pressure drop across injector\n",
    "Hvapf   = float(Hvapf_.value   ) #Fuel heat of vaporization\n",
    "Lstar   = float(Lstar_.value   ) #Characteristic Chamber Length\n",
    "nc      = float(nc_.value      ) #Nucleate boiling factor of safety\n",
    "Pco     = float(Pco_.value     ) #Initial fuel pressure\n",
    "Tt      = float(Tt_.value      ) #Temperature of throat flow\n",
    "eta     = float(eta_.value     ) #Combustion efficiency\n",
    "edafilm = float(edafilm_.value ) #Adiabadic wall temperature correction factor due to film cooling"
   ]
  },
  {
   "cell_type": "code",
   "execution_count": 374,
   "metadata": {
    "collapsed": true
   },
   "outputs": [],
   "source": [
    "#Performance Parameters\n",
    "\n",
    "Is    = F/wdot                                                      #Specific Impulse                (1-28,  huang)\n",
    "Istc  = c/g                                                         #Thrust chamber specific impulse (1-31a, huang)\n",
    "cstar = (math.sqrt(g*gam*R*Tcns)/gam\n",
    "             /math.sqrt((2/(gam+1))**((gam+1)/(gam-1))))            #Characteristic Velocity         (1-32a, huang)\n",
    "Cf    = (math.sqrt(2*gam**2/(gam-1)*(2/(gam+1))**((gam+1)/(gam-1))\n",
    "             *(1-(Pe/Pcns)**((gam-1)/gam)))+epsilon*((Pe-Pa)/Pcns)) #Thrust Coefficient              (1-33a, huang)"
   ]
  },
  {
   "cell_type": "code",
   "execution_count": 375,
   "metadata": {
    "collapsed": false
   },
   "outputs": [
    {
     "name": "stdout",
     "output_type": "stream",
     "text": [
      "Specific Impulse,                Is   (lb s/lb):  264.67\n",
      "Thrust Chamber specific impulse, Istc (lb s/lb):  254.18\n",
      "Characteristic Velocity,         c*   (ft/s):     5622.14\n",
      "Thrust Coefficient,              Cf:              1.46\n"
     ]
    }
   ],
   "source": [
    "#Print Performance Parameters\n",
    "\n",
    "print(\"Specific Impulse,                Is   (lb s/lb):  %.2f\" % Is    )\n",
    "print(\"Thrust Chamber specific impulse, Istc (lb s/lb):  %.2f\" % Istc  )\n",
    "print(\"Characteristic Velocity,         c*   (ft/s):     %.2f\" % cstar )\n",
    "print(\"Thrust Coefficient,              Cf:              %.2f\" % Cf    )"
   ]
  },
  {
   "cell_type": "code",
   "execution_count": 376,
   "metadata": {
    "collapsed": false
   },
   "outputs": [],
   "source": [
    "#Thrust Chamber Layout\n",
    "\n",
    "Vc = Lstar*At    #Chamber volume (4-4, huang)\n",
    "Ac = epsilonc*At #Chamber cross sectional area (fig. 4-11, huang)\n",
    "Lc = Lstar/Ac    #does not account for the converging part of combustion chamber use 4-5, huang instead"
   ]
  },
  {
   "cell_type": "code",
   "execution_count": 377,
   "metadata": {
    "collapsed": false
   },
   "outputs": [
    {
     "name": "stdout",
     "output_type": "stream",
     "text": [
      "Chamber Volume,               Vc (in^3):  114.14\n",
      "Chamber Cross Sectional Area, Ac (in^2):  14.27\n",
      "Chamber Length,               Lc (in):    2.80\n"
     ]
    }
   ],
   "source": [
    "#print thrust chamber layout\n",
    "\n",
    "print(\"Chamber Volume,               Vc (in^3):  %.2f\" % Vc)\n",
    "print(\"Chamber Cross Sectional Area, Ac (in^2):  %.2f\" % Ac)\n",
    "print(\"Chamber Length,               Lc (in):    %.2f\" % Lc)"
   ]
  },
  {
   "cell_type": "code",
   "execution_count": 378,
   "metadata": {
    "collapsed": false
   },
   "outputs": [],
   "source": [
    "#Heat Transfer\n",
    "\n",
    "CpH20  = 0.998137                                                 #Water specific heat\n",
    "Cplc   = rwfuel/100*CpFuel+(1-rwfuel/100)*CpH20                   #Coolant specific heat\n",
    "Pr     = 4*gam/(9*gam-5)                                          #Prandtl number\n",
    "mucc   = (46.6*10**-10)*M**0.5*Tcns                               #Viscosity in the combustion chamber\n",
    "mut    = (46.6*10**-10)*M**0.5*Tt                                 #Viscosity in the throat\n",
    "rlam   = Pr**0.5                                                  #Laminar flow local recovery factor\n",
    "rturb  = Pr**0.33                                                 #Turbulent flow local recovery factor\n",
    "Reffcc = ((1+rturb*((gam-1)/2)*Mi**2)/(1+((gam-1)/2)*Mi**2))\n",
    "Refft  = ((1+rturb*((gam-1)/2))/(1+((gam-1)/2)))\n",
    "Tawi   = edafilm*Tcns*Reffcc                                      #Adiabatic wall temperature at inlet\n",
    "Tawt   = edafilm*Tcns*Refft                                       #Adiabatic wall temperature at throat\n",
    "Tcc    = 9/5*(math.log(Pa/(Pi+DelPi))*Rgas/Hvapf+1/(Bpf*5/9))**-1 #Critical temperature of fuel coolant\n",
    "Twc    = Tcc/nc                                                   #Maximum coolant wall temperature\n",
    "Cpg    = gam*R/(gam-1)/J                                          #Specific heat at constant pressure\n",
    "rt     = math.sqrt(At/math.pi)                                    #Radius of throat\n",
    "re     = math.sqrt(Ae/math.pi)                                    #Radius of exit\n",
    "rmean  = rt*(1.5+.382)/2                                          #Mean throat curvature\n",
    "sigmat = (1/((.5*Twg/Tcns*(1+(gam-1)/2)+.5)**0.68                 #Correction factor for property variations across BL\n",
    "             *(1+(gam+1)/2)**0.12))                               #specified at throat\n",
    "sigmai = (1/((.5*Twg/Tcns*(1+(gam-1)/2*Mi**2)+.5)**0.68           #Correction factor for property variations across BL\n",
    "             *(1+(gam+1)/2*Mi**2)**0.12))                         #specified at inlet\n",
    "hg     = ((0.026/(2*rt)**0.2*(mucc**0.2*Cpg/Pr**0.6)\n",
    "           *(Pcns*g/cstar)**0.8*(2*rt/rmean)**0.1)*sigmat)        #heat transfer coefficient at throat\n",
    "\n",
    "#film cooling estimate\n",
    "\n",
    "Cpvc  =  0.582784 #btu/lb/f\n",
    "edac  = .5\n",
    "Gc    = (hg/Cpvc/edac)/math.log((Tawt-Twc)/(Tawt-Twg))\n",
    "Acool = 0 # Desired cooled surface area (in^2)\n",
    "\n",
    "q     = hg*(Tawt-Twg)                   #required heat flux\n",
    "Tbulk = (Twc + Tci)/2                   #Coolant bulk temp\n",
    "t     = k/q*(Twg-Twc)                   #Calculated Wall thickness for desired coolant wall temp\n",
    "Qc    = (wdotf+Gc*Acool)*Cplc*(Twc-Tci) #Coolant capacity\n",
    "hc    = q/(Twc-Tbulk)                   #Coolant side heat transfer coefficient\n",
    "H     = 1/(1/hg+t/k+1/hc)               #Overall heat transfer coefficient"
   ]
  },
  {
   "cell_type": "code",
   "execution_count": 379,
   "metadata": {
    "collapsed": false
   },
   "outputs": [
    {
     "name": "stdout",
     "output_type": "stream",
     "text": [
      "Coolant Specific Heat,                                         Cplc:   0.67\n",
      "Prandtl Number,                                                Pr:     0.85\n",
      "Viscosity in combustion chamber,                               mucc:   0.00011713\n",
      "Viscosity in throat,                                           mut:    0.00010920\n",
      "Laminar Flow Local Recovery Factor,                            rlam:   0.92\n",
      "Turbulent Flow Local Recovery Factor,                          rturb:  0.95\n",
      "Effective Combustion Chamber Recovery Factor,                  Reffcc: 1.00\n",
      "Effective Throat Recovery Factor,                              Refft:  1.00\n",
      "Adiabatic wall temperature at inlet,                           Tawi:   5482.49\n",
      "Adiabatic wall temperature at throat,                          Tawt:   5462.15\n",
      "Throat radius,                                                 rt:     0.953\n",
      "Exit radius,                                                   re:     2.006\n",
      "Mean throat curvature,                                         rmean:  0.897\n",
      "Correction factor for property variations across BL at throat, sigmat: 1.27\n",
      "Correction factor for property variations across BL at inlet,  sigmai: 1.40\n",
      "Specific heat at constant pressure,                            Cpg:    0.68574\n",
      "Heat transfer coefficient at throat,                           hg:     0.00669\n",
      "Required heat flux,                                            q:      28.50\n",
      "Critical temperature of coolant,                               Tcc:    972.72\n",
      "Coolant capacity,                                              Qc:     635.21\n",
      "Coolant wall temperature,                                      Twc     904.85\n",
      "Coolant bulk temperature,                                      Tbulk:  720.76\n",
      "Wall thickness,                                                t:      0.01778\n",
      "Coolant side heat transfer coefficient,                        hc:     0.15483\n",
      "Overall heat transfer coefficient,                             H:      0.00601\n",
      "Film-Coolant flowrate per unit area of cooled wall, lb/in^2/s  Gc:     0.343\n"
     ]
    }
   ],
   "source": [
    "#print heat transfer\n",
    "print(\"Coolant Specific Heat,                                         Cplc:   %.2f\" % Cplc)\n",
    "print(\"Prandtl Number,                                                Pr:     %.2f\" % Pr)\n",
    "print(\"Viscosity in combustion chamber,                               mucc:   %.8f\" % mucc)\n",
    "print(\"Viscosity in throat,                                           mut:    %.8f\" % mut)\n",
    "print(\"Laminar Flow Local Recovery Factor,                            rlam:   %.2f\" % rlam)\n",
    "print(\"Turbulent Flow Local Recovery Factor,                          rturb:  %.2f\" % rturb)\n",
    "print(\"Effective Combustion Chamber Recovery Factor,                  Reffcc: %.2f\" % Reffcc)\n",
    "print(\"Effective Throat Recovery Factor,                              Refft:  %.2f\" % Refft)\n",
    "print(\"Adiabatic wall temperature at inlet,                           Tawi:   %.2f\" % Tawi)\n",
    "print(\"Adiabatic wall temperature at throat,                          Tawt:   %.2f\" % Tawt)\n",
    "print(\"Throat radius,                                                 rt:     %.3f\" % rt)\n",
    "print(\"Exit radius,                                                   re:     %.3f\" % re)\n",
    "print(\"Mean throat curvature,                                         rmean:  %.3f\" % rmean)\n",
    "print(\"Correction factor for property variations across BL at throat, sigmat: %.2f\" % sigmat)\n",
    "print(\"Correction factor for property variations across BL at inlet,  sigmai: %.2f\" % sigmai)\n",
    "print(\"Specific heat at constant pressure,                            Cpg:    %.5f\" % Cpg)\n",
    "print(\"Heat transfer coefficient at throat,                           hg:     %.5f\" % hg)\n",
    "print(\"Required heat flux,                                            q:      %.2f\" % q)\n",
    "print(\"Critical temperature of coolant,                               Tcc:    %.2f\" % Tcc)\n",
    "print(\"Coolant capacity,                                              Qc:     %.2f\" % Qc)\n",
    "print(\"Coolant wall temperature,                                      Twc     %.2f\" % Twc)\n",
    "print(\"Coolant bulk temperature,                                      Tbulk:  %.2f\" % Tbulk)\n",
    "print(\"Wall thickness,                                                t:      %.5f\" % t)\n",
    "print(\"Coolant side heat transfer coefficient,                        hc:     %.5f\" % hc)\n",
    "print(\"Overall heat transfer coefficient,                             H:      %.5f\" % H)\n",
    "print(\"Film-Coolant flowrate per unit area of cooled wall, lb/in^2/s  Gc:     %.3f\" % Gc)"
   ]
  },
  {
   "cell_type": "code",
   "execution_count": 380,
   "metadata": {
    "collapsed": false
   },
   "outputs": [],
   "source": [
    "import sympy as sympy\n",
    "\n",
    "from sympy.solvers import solve\n",
    "from sympy import Symbol\n",
    "from sympy import log\n",
    "\n",
    "#######These should be in a reasonable input section, not burried in code.#########\n",
    "Re  = 3800 #Desired channel Reynold's number\n",
    "muf = 2.7998705 *10**-5 #Viscosity of the fuel mixture\n",
    "rhof = 0.031972653 #density of 70% ethanol (lb per cubic inch)\n",
    "\n",
    "#solve for minimum number of cooling channels to acheive appropriate cross sectional area,\n",
    "#and the appropriate channel aspect ratio\n",
    "\n",
    "n_g    = 0                                 #a reasonable guess for a particular geometry's number of cooling channels\n",
    "n      = 1\n",
    "while (abs(n_g-n)>0):\n",
    "    n_g   = n\n",
    "    bt    = (2*(rt+t)*pi/n_g-t)          \n",
    "    d     = 2*ARhb*bt**2/(ARhb+1)/bt \n",
    "    Vco   = Re/rhof/d*muf                 #Velocity for chosen Reynold's Number\n",
    "    A_u   = (wdotf+Gc*Acool)/rhof/Vco     #unobstructed cross sectional area\n",
    "\n",
    "    #find min number of channels for ideal ratio\n",
    "    L = Symbol('L')\n",
    "    n = round(solve(L*t+(A_u*L/ARhb)**0.5-(2*rt+2*t)*math.pi,L)[0])\n",
    "    \n",
    "Vco    = Re/rhof/d*muf                    #velocity for chosen Reynold's Number\n",
    "A_u    = (wdotf+Gc*Acool)/rhof/Vco        #unobstructed cross sectional area\n",
    "\n",
    "#cooling channel geometry\n",
    "bt     = (2*rt+t)*math.pi/n-t              #base width at throat\n",
    "be     = (2*re+t)*math.pi/n-t              #base width at exit\n",
    "rccht  = bt/2                              #cooling channel effective radius at throat\n",
    "rcche  = be/2                              #cooling channel effective radius at nozzle exit\n",
    "d      = 2*ARhb*bt**2/(ARhb+1)/bt          #cooling channel hydraulic diameter\n",
    "A_ob   = n*(bt**2*(1-math.pi/4)+ARhb*bt*t) #total obstructed area\n",
    "A_c    = A_u + A_ob                        #Total area for cooling channels to be used in parametric equations\n",
    "\n",
    "\n",
    "#friction factor\n",
    "\n",
    "if Re > 4000:\n",
    "    f=0.2\n",
    "    F=0\n",
    "\n",
    "    while (abs(f-F)>0.000000000001):\n",
    "        F=(f+F)/2\n",
    "        f=(1/(-2*math.log10(RA/3.71/d+2.51/Re/F**0.5)))**2\n",
    "else:\n",
    "    f=64/Re\n",
    "\n",
    "#calculate pressure drop of a cooling channel\n",
    "#to do this we must:\n",
    "#calculate arc length of parametric equations (or use solidworks for now...)\n",
    "#calculate reynolds number of passage\n",
    "#calculate friction factor for the pipe use solver of darcy FF\n",
    "#use this to determine holding tank pressure"
   ]
  },
  {
   "cell_type": "code",
   "execution_count": 381,
   "metadata": {
    "collapsed": false
   },
   "outputs": [
    {
     "name": "stdout",
     "output_type": "stream",
     "text": [
      "Fuel viscosity,                             muf:   0.00002800\n",
      "Fuel density,                               rhof:  0.03197\n",
      "Velocity for turbulent flow,                Vco (in/sec):   51.47\n",
      "Base width at throat,                       bt:    0.03478\n",
      "Base width at exit,                         be:    0.09232\n",
      "Cooling channel effective radius at throat, rccht: 0.01739\n",
      "Cooling channel effective radius at exit,   rcche: 0.04616\n",
      "Cooling channel hydraulic diameter,         d:     0.06376\n",
      "Cooling channel unobstructed area,          A_u:   1.56548\n",
      "Cooling channel obstructed area,            A_ob:  0.81196\n",
      "Cooling channel total area,                 A_c:   2.37744\n",
      "Number of cooling channels,                 n:     115\n",
      "Friction factor of cooling channel,         f:     0.01684\n"
     ]
    }
   ],
   "source": [
    "#print cooling channel geometry\n",
    "\n",
    "print(\"Fuel viscosity,                             muf:   %.8f\" % muf)\n",
    "print(\"Fuel density,                               rhof:  %.5f\" % rhof)\n",
    "print(\"Velocity for turbulent flow,                Vco (in/sec):   %.2f\" % Vco)\n",
    "print(\"Base width at throat,                       bt:    %.5f\" % bt)\n",
    "print(\"Base width at exit,                         be:    %.5f\" % be)\n",
    "print(\"Cooling channel effective radius at throat, rccht: %.5f\" % rccht)\n",
    "print(\"Cooling channel effective radius at exit,   rcche: %.5f\" % rcche)\n",
    "print(\"Cooling channel hydraulic diameter,         d:     %.5f\" % d)\n",
    "print(\"Cooling channel unobstructed area,          A_u:   %.5f\" % A_u)\n",
    "print(\"Cooling channel obstructed area,            A_ob:  %.5f\" % A_ob)\n",
    "print(\"Cooling channel total area,                 A_c:   %.5f\" % A_c)\n",
    "print(\"Number of cooling channels,                 n:     %.0f\" % n)\n",
    "print(\"Friction factor of cooling channel,         f:     %.5f\" % f)\n"
   ]
  },
  {
   "cell_type": "code",
   "execution_count": 382,
   "metadata": {
    "collapsed": false
   },
   "outputs": [],
   "source": [
    "#wall stresses\n",
    "\n",
    "Ste    =(Pco-Pe)*rcche/t+E*a*q*t/2/(1-v)/k #combined tangential stress at nozzle exit\n",
    "Stt    =(Pco-Pt)*rccht/t+E*a*q*t/2/(1-v)/k\n",
    "Sce    =(Pco-Pe)*re/t+E*a*q*t/2/(1-v)/k    #maximum compressive stress as coaxial shell design"
   ]
  },
  {
   "cell_type": "code",
   "execution_count": 383,
   "metadata": {
    "collapsed": false
   },
   "outputs": [
    {
     "name": "stdout",
     "output_type": "stream",
     "text": [
      "Combined tangential stress at nozzle exit,          Ste: 32855.16\n",
      "Combined tangential stress at throat,               Stt: 31796.80\n",
      "Maximum compressive stress as coaxial shell design, Sce: 92395.48\n"
     ]
    }
   ],
   "source": [
    "#Print wall stresses\n",
    "\n",
    "print(\"Combined tangential stress at nozzle exit,          Ste: %.2f\" % Ste)\n",
    "print(\"Combined tangential stress at throat,               Stt: %.2f\" % Stt)\n",
    "print(\"Maximum compressive stress as coaxial shell design, Sce: %.2f\" % Sce) #does not account for support of channel walls"
   ]
  },
  {
   "cell_type": "code",
   "execution_count": 384,
   "metadata": {
    "collapsed": true
   },
   "outputs": [],
   "source": [
    "#heat transfer plots\n",
    "\n",
    "%matplotlib inline\n",
    "\n",
    "import matplotlib\n",
    "import numpy as np\n",
    "import matplotlib.pyplot as plt"
   ]
  },
  {
   "cell_type": "code",
   "execution_count": 385,
   "metadata": {
    "collapsed": false
   },
   "outputs": [
    {
     "data": {
      "text/plain": [
       "(904.8533342901233, 1200.0)"
      ]
     },
     "execution_count": 385,
     "metadata": {},
     "output_type": "execute_result"
    },
    {
     "data": {
      "image/png": "[encoded data removed]",
      "text/plain": [
       "<matplotlib.figure.Figure at 0x1e3cbf5b518>"
      ]
     },
     "metadata": {},
     "output_type": "display_data"
    },
    {
     "data": {
      "image/png": "[encoded data removed]",
      "text/plain": [
       "<matplotlib.figure.Figure at 0x1e3cb50e1d0>"
      ]
     },
     "metadata": {},
     "output_type": "display_data"
    }
   ],
   "source": [
    "#this needs to be revisited to ensure adjustments are being made for film cooling, the temperature doesnt seem to be graphing quite correctly\n",
    "\n",
    "x = np.linspace(Tbulk,Twg)\n",
    "\n",
    "#figure 1 Max stress v. Gas side wall temp\n",
    "plt.figure(1)\n",
    "line, = plt.plot(x,(Pco-Pt)*rccht/(k/((((0.026/(2*rt)**0.2*(mucc**0.2*Cpg/Pr**0.6)*(Pcns*g/cstar)**0.8*(2*rt/rmean)**0.1)*((1/((.5*x/Tcns*(1+(gam-1)/2)+.5)**0.68*(1+(gam+1)/2)**0.12)))))*(Tawt-x))*(x-Tcc))+E*a*q*(k/((((0.026/(2*rt)**0.2*(mucc**0.2*Cpg/Pr**0.6)*(Pcns*g/cstar)**0.8*(2*rt/rmean)**0.1)*((1/((.5*x/Tcns*(1+(gam-1)/2)+.5)**0.68*(1+(gam+1)/2)**0.12)))))*(Tawt-x))*(x-Tcc))/2/(1-v)/k, '--', linewidth=2)\n",
    "plt.suptitle(\"Figure 1\")\n",
    "plt.title(\"Max stress v. Gas-side wall temp\")\n",
    "plt.xlabel(\"Temp (R)\")\n",
    "plt.ylabel(\"Stress (psi)\")\n",
    "plt.ylim([0,30000])\n",
    "plt.xlim([Twc,Twg])\n",
    "\n",
    "#figure 2 Wall thickness v. gas side wall temp\n",
    "plt.figure(2)\n",
    "line, = plt.plot(x,k/((((0.026/(2*rt)**0.2*(mucc**0.2*Cpg/Pr**0.6)*(Pcns*g/cstar)**0.8*(2*rt/rmean)**0.1)*((1/((.5*x/Tcns*(1+(gam-1)/2)+.5)**0.68*(1+(gam+1)/2)**0.12)))))*(Tawt-x))*(x-Tcc), '--', linewidth=2)\n",
    "plt.suptitle(\"Figure 2\")\n",
    "plt.title(\"Wall thickness v. Gas-side wall temp\")\n",
    "plt.xlabel(\"Temp (R)\")\n",
    "plt.ylabel(\"Thickness (in)\")\n",
    "plt.ylim([0,0.020])\n",
    "plt.xlim([Twc,Twg])"
   ]
  },
  {
   "cell_type": "markdown",
   "metadata": {},
   "source": [
    "### Parametric Equations\n",
    "\n",
    "Nozzle geometry is a critical perameter of any engine. Given an throat area, contraction ratio, expansion ratio, as well as the rapid expansion and contraction angles surrounding the throat; a unique set of parametric equations will justify the inner nozzle contour. Furthermore, given the wall thickness calculated as a function of the heat transfer properties of the throat; there exists a unique set of parametric equations justifying the remaining cooling channel geometries. These contours are generated such that the cross sectional area of the cooling channels normal to the surface of the rocket is a constant. Scaling functions may be applied, with an inversely proportional effect on the velocity of the fluid through the cooling channels. Left unchanged, the velocity of the coolant will be highest at the throat. The cross sectional area of the channels is certainly uniform, but the hydraulic diameter is decreasing as the cooling channels increase in aspect ratio (defined as the height of the rectangular duct divided by the base).\n",
    "\n",
    "A designer may utilize these parametric equations by importing them into computer aided drafting (CAD) software, and rotating the resulting contours about the y axis. The particular proceedure of such a rotation in any particular CAD software is beyond the scope of this document."
   ]
  },
  {
   "cell_type": "code",
   "execution_count": 386,
   "metadata": {
    "collapsed": true
   },
   "outputs": [],
   "source": [
    "rcc = math.sqrt((At*epsilonc)/math.pi)\n",
    "#Parametric Equations\n",
    "\n",
    "#calculate parameters\n",
    "\n",
    "tout   = 2*t # calculate a better outer thickness or place in input parameters\n",
    "theta  = 45\n",
    "thetaN = 45\n",
    "A1     = math.tan(math.radians(90-thetaN))/(2*(rt-rt*.382*(1-math.cos(math.radians(thetaN)))))\n",
    "A2     = -(.382*rt*math.sin(math.radians(thetaN)))+A1*(rt+.382*rt*(1-math.cos(math.radians(thetaN))))**2\n",
    "X1     = rt+.382*rt*(1-math.cos(math.radians(thetaN)))"
   ]
  },
  {
   "cell_type": "code",
   "execution_count": 387,
   "metadata": {
    "collapsed": false
   },
   "outputs": [
    {
     "name": "stdout",
     "output_type": "stream",
     "text": [
      "Parametric Equations:\n",
      "\n",
      "Internal Contour:\n",
      "\n",
      "Bell\n",
      "x(t):\n",
      " t\n",
      "y(t):\n",
      " 0.590724 * t^2 - 0.405908\n",
      "Parameters:\n",
      "t1:\n",
      " 1.059683\n",
      "t2:\n",
      " 2.006064\n",
      "\n",
      "Throat, rapid expansion\n",
      "x(t):\n",
      " 1.317116 * (1- (.382/1.382) * cos(t*3.14159/180))\n",
      "y(t):\n",
      " 0.364065 * sin(t*3.14159/180)\n",
      "Parameters:\n",
      "t1:\n",
      " 0.001\n",
      "t2:\n",
      " 44.999000\n",
      "\n",
      "Throat, rapid contraction\n",
      "x(t):\n",
      " 2.382627 * (1 - 0.6 * cos(t*3.14159/180))\n",
      "y(t):\n",
      " -1.429576 * sin(t*3.14159/180)\n",
      "Parameters:\n",
      "t1:\n",
      " 0.001\n",
      "t2:\n",
      " 44.999000\n",
      "\n",
      "Linear contraction\n",
      "x(t):\n",
      " t\n",
      "y(t):\n",
      " -1.000000 * t + 0.360901\n",
      "Parameters:\n",
      "t1:\n",
      " 1.371864\n",
      "t2:\n",
      " 1.712273\n",
      "\n",
      "Inlet\n",
      "x(t):\n",
      " 2.131087 - 1.429576 * (1 - cos(t*3.14159/180))\n",
      "y(t):\n",
      " 1.429576 * sin(t*3.14159/180) + -2.362336\n",
      "Parameters:\n",
      "t1:\n",
      " 0.001\n",
      "t2:\n",
      " 44.999900\n",
      "\n"
     ]
    }
   ],
   "source": [
    "print(\"Parametric Equations:\\n\")\n",
    "print(\"Internal Contour:\\n\")\n",
    "\n",
    "print(\"Bell\")\n",
    "print(\"x(t):\")\n",
    "print(\" t\")\n",
    "print(\"y(t):\")\n",
    "print(\" %f * t^2 - %f\" % (A1,A2) )\n",
    "print(\"Parameters:\" )\n",
    "print(\"t1:\")\n",
    "print(\" %f\" % X1 )\n",
    "print(\"t2:\")\n",
    "print(\" %f\\n\" % (re-0.0001) )\n",
    "\n",
    "Rbell = t\n",
    "\n",
    "A3 = 1.382*rt\n",
    "A4 = 0.382*rt\n",
    "\n",
    "print(\"Throat, rapid expansion\")\n",
    "print(\"x(t):\")\n",
    "print(\" %f * (1- (.382/1.382) * cos(t*3.14159/180))\" % A3 )\n",
    "print(\"y(t):\")\n",
    "print(\" %f * sin(t*3.14159/180)\" % A4 )\n",
    "print(\"Parameters:\" )\n",
    "print(\"t1:\")\n",
    "print(\" 0.001\" )\n",
    "print(\"t2:\")\n",
    "print(\" %f\\n\" % (thetaN-0.001) )\n",
    "\n",
    "A5 = 2.5*rt\n",
    "A6 = -1.5*rt\n",
    "\n",
    "print(\"Throat, rapid contraction\")\n",
    "print(\"x(t):\")\n",
    "print(\" %f * (1 - 0.6 * cos(t*3.14159/180))\" % A5 )\n",
    "print(\"y(t):\")\n",
    "print(\" %f * sin(t*3.14159/180)\" % A6 )\n",
    "print(\"Parameters:\" )\n",
    "print(\"t1:\")\n",
    "print(\" 0.001\" )\n",
    "print(\"t2:\")\n",
    "print(\" %f\\n\" % (theta-0.001) )\n",
    "\n",
    "A7 = -math.tan(math.pi/2-math.radians(theta))\n",
    "A8 = (math.tan(math.pi/2-math.radians(theta))*2.5*rt*(1-0.6*math.cos(math.radians(theta))))-1.5*rt*math.sin(math.radians(theta))\n",
    "p1 = 2.5*rt*(1-0.6*math.cos(math.radians(theta)))\n",
    "p2 = rcc-1.5*rt*(1-math.cos(math.radians(theta)))\n",
    "\n",
    "print(\"Linear contraction\")\n",
    "print(\"x(t):\")\n",
    "print(\" t\")\n",
    "print(\"y(t):\")\n",
    "print(\" %f * t + %f\" % (A7,A8))\n",
    "print(\"Parameters:\" )\n",
    "print(\"t1:\")\n",
    "print(\" %f\" % (p1+0.0001) )\n",
    "print(\"t2:\")\n",
    "print(\" %f\\n\" % (p2-0.0001) )\n",
    "\n",
    "A9  = 1.5*rt\n",
    "A10 = 1.5*rt\n",
    "A11 = (math.tan(2*math.pi-(math.pi/2-math.radians(theta))))*(rcc-1.5*rt*(1-math.cos(math.radians(theta))))+(-math.tan(2*math.pi-(math.pi/2-math.radians(theta)))*(2.5*rt*(1-0.6*math.cos(math.radians(theta))))-1.5*rt*math.sin(math.radians(theta)))-1.5*rt*math.sin(math.radians(theta))\n",
    "\n",
    "print(\"Inlet\")\n",
    "print(\"x(t):\")\n",
    "print(\" %f - %f * (1 - cos(t*3.14159/180))\" % (rcc,A9))\n",
    "print(\"y(t):\")\n",
    "print(\" %f * sin(t*3.14159/180) + %f\" % (A10,A11))\n",
    "print(\"Parameters:\")\n",
    "print(\"t1:\")\n",
    "print(\" 0.001\" )\n",
    "print(\"t2:\")\n",
    "print(\" %f\\n\" % (theta-0.0001) )"
   ]
  },
  {
   "cell_type": "code",
   "execution_count": 388,
   "metadata": {
    "collapsed": false
   },
   "outputs": [
    {
     "name": "stdout",
     "output_type": "stream",
     "text": [
      "Cooling Channel, inner:\n",
      "\n",
      "Bell\n",
      "x(t):\n",
      " t + ( 0.017776 * t / ( t^2 + 0.716424 )^0.5)\n",
      "y(t):\n",
      " 0.590724 *t^2 - 0.405908 + ( -0.017776 / ( 1.181449 *( t^2 + 0.716424 )^0.5))\n",
      "Parameters:\n",
      "t1:\n",
      " 1.059783\n",
      "t2:\n",
      " 2.006064\n",
      "\n",
      "Rapid Expansion\n",
      "x(t):\n",
      " 1.317116 * (1- (.382/1.382) * cos(t*3.14159/180)) + ( 0.017776 * cos(t*3.14159/180))\n",
      "y(t):\n",
      " 0.364065 * sin(t*3.14159/180) + (-0.017776 *sin(t*3.14159/180))\n",
      "Parameters:\n",
      "t1:\n",
      " 0.001\n",
      "t2:\n",
      " 44.999000\n",
      "\n",
      "Rapid Contraction\n",
      "x(t):\n",
      " 2.382627 * (1 - 0.6 * cos(t*3.14159/180)) + ( 0.017776 * cos(t*3.14159/180))\n",
      "y(t):\n",
      " -1.429576 * sin(t*3.14159/180) + (0.017776 *sin(t*3.14159/180))\n",
      "Parameters:\n",
      "t1:\n",
      " 0.001\n",
      "t2:\n",
      " 44.999000\n",
      "\n",
      "Linear contraction\n",
      "x(t):\n",
      " t + 0.012570\n",
      "y(t):\n",
      " -1.000000 * t + 0.373471\n",
      "Parameters:\n",
      "t1:\n",
      " 1.371864\n",
      "t2:\n",
      " 1.712273\n",
      "\n",
      "Inlet\n",
      "x(t):\n",
      " 2.131087 - 1.429576 * (1 - cos(t*3.14159/180)) + ( 0.017776 * cos(t*3.14159/180))\n",
      "y(t):\n",
      " 1.429576 * sin(t*3.14159/180) + -2.362336 + (0.017776 *sin(t*3.14159/180))\n",
      "Parameters:\n",
      "t1:\n",
      " 0.001\n",
      "t2:\n",
      " 44.999900\n",
      "\n"
     ]
    }
   ],
   "source": [
    "print(\"Cooling Channel, inner:\\n\" )\n",
    "\n",
    "A12 = 1/(4*A1**2)\n",
    "\n",
    "print(\"Bell\")\n",
    "print(\"x(t):\")\n",
    "print(\" t + ( %f * t / ( t^2 + %f )^0.5)\" % (t,A12))\n",
    "print(\"y(t):\")\n",
    "print(\" %f *t^2 - %f + ( %f / ( %f *( t^2 + %f )^0.5))\" % (A1,A2,-t,2*A1,A12))\n",
    "print(\"Parameters:\")\n",
    "print(\"t1:\")\n",
    "print(\" %f\" % (X1+0.0001) )\n",
    "print(\"t2:\")\n",
    "print(\" %f\\n\" % (re-0.0001) )\n",
    "\n",
    "print(\"Rapid Expansion\")\n",
    "print(\"x(t):\")\n",
    "print(\" %f * (1- (.382/1.382) * cos(t*3.14159/180)) + ( %f * cos(t*3.14159/180))\" % (A3,t) )\n",
    "print(\"y(t):\")\n",
    "print(\" %f * sin(t*3.14159/180) + (%f *sin(t*3.14159/180))\" % (A4,-t) )\n",
    "print(\"Parameters:\" )\n",
    "print(\"t1:\")\n",
    "print(\" 0.001\" )\n",
    "print(\"t2:\")\n",
    "print(\" %f\\n\" % (thetaN-0.001) )\n",
    "\n",
    "\n",
    "\n",
    "print(\"Rapid Contraction\")\n",
    "print(\"x(t):\")\n",
    "print(\" %f * (1 - 0.6 * cos(t*3.14159/180)) + ( %f * cos(t*3.14159/180))\" % (A5,t) )\n",
    "print(\"y(t):\")\n",
    "print(\" %f * sin(t*3.14159/180) + (%f *sin(t*3.14159/180))\" % (A6,t) )\n",
    "print(\"Parameters:\" )\n",
    "print(\"t1:\")\n",
    "print(\" 0.001\" )\n",
    "print(\"t2:\")\n",
    "print(\" %f\\n\" % (theta-0.001) )\n",
    "\n",
    "A13 = math.cos(math.radians(theta))*t\n",
    "A14 = math.sin(math.radians(theta))*t\n",
    "\n",
    "print(\"Linear contraction\")\n",
    "print(\"x(t):\")\n",
    "print(\" t + %f\" % A13)\n",
    "print(\"y(t):\")\n",
    "print(\" %f * t + %f\" % (A7,A8+A14))\n",
    "print(\"Parameters:\" )\n",
    "print(\"t1:\")\n",
    "print(\" %f\" % (p1+0.0001) )\n",
    "print(\"t2:\")\n",
    "print(\" %f\\n\" % (p2-0.0001) )\n",
    "\n",
    "print(\"Inlet\")\n",
    "print(\"x(t):\")\n",
    "print(\" %f - %f * (1 - cos(t*3.14159/180)) + ( %f * cos(t*3.14159/180))\" % (rcc,A9,t))\n",
    "print(\"y(t):\")\n",
    "print(\" %f * sin(t*3.14159/180) + %f + (%f *sin(t*3.14159/180))\" % (A10,A11,t))\n",
    "print(\"Parameters:\")\n",
    "print(\"t1:\")\n",
    "print(\" 0.001\" )\n",
    "print(\"t2:\")\n",
    "print(\" %f\\n\" % (theta-0.0001) )"
   ]
  },
  {
   "cell_type": "code",
   "execution_count": 389,
   "metadata": {
    "collapsed": false
   },
   "outputs": [
    {
     "name": "stdout",
     "output_type": "stream",
     "text": [
      "Cooling Channel, outer:\n",
      "\n",
      "Bell\n",
      "x(t):\n",
      " t + ( 0.017776 * t / ( t^2 + 0.716424 )^0.5) + ( t / ( t^2 + 0.716424 )^0.5) * ( -t + (t^2 + 0.756763 * sin(2*3.14159 - arctan(-1.181449*t)))^(.5)) / (sin(2*3.14159-arctan(-1.181449*t)))\n",
      "y(t):\n",
      " 0.590724 *t^2 - 0.405908 + ( -0.017776 / ( 1.181449 *( t^2 + 0.716424 )^0.5)) + ( 1 / ( -1.181449 * (t^2+ 0.716424 )^0.5)) * ( -t + ( t^2 + 0.756763 * sin(2*3.14159-arctan(-1.181449*t)))^0.5) / ( sin(2*3.14159 - arctan(-1.181449*t)))\n",
      "Parameters:\n",
      "t1:\n",
      " 1.059783\n",
      "t2:\n",
      " 2.006064\n",
      "\n",
      "Rapid Expansion\n",
      "x(t):\n",
      " 1.317116 * (1- (.382/1.382) * cos(t*3.14159/180)) + ( 0.017776 * cos(t*3.14159/180)) + ( -( 1.317116 * ( 1 - (0.382)/(1.382) * cos(t*3.14159/180) ) ) + (( 1.317116 * (1 - (0.382)/(1.382) * cos(t*3.14159/180) ))^2 + 0.756763 * cos(t*3.14159/180))^0.5)\n",
      "y(t):\n",
      " 0.364065 * sin(t*3.14159/180) + (-0.017776 *sin(t*3.14159/180)) + ( -( 1.317116 * ( 1 - (0.382)/(1.382) * cos(t*3.14159/180) ) ) + ( (1.317116 * ( 1 - (0.382)/(1.382) * cos(t*3.14159/180) ) )^2 + 0.756763 * cos(t*3.14159/180) )^0.5 ) * ( -tan(t*3.14159/180) )\n",
      "Parameters:\n",
      "t1:\n",
      " 0.001\n",
      "t2:\n",
      " 44.999000\n",
      "\n",
      "Rapid Contraction\n",
      "x(t):\n",
      " 2.382627 * (1 - 0.6 * cos(t*3.14159/180)) + ( 0.017776 * cos(t*3.14159/180)) + ( -( 2.382627 * ( 1 - 0.6 * cos(t*3.14159/180) ) ) + ( ( 2.382627 * ( 1 - 0.6 * cos(t*3.14159/180) ) )^2 + ( 0.756763 ) * cos(t*3.14159/180) )^0.5 )\n",
      "y(t):\n",
      " -1.429576 * sin(t*3.14159/180) + (0.017776 *sin(t*3.14159/180)) + ( -( 2.382627 * ( 1 - 0.6 * cos(t*3.14159/180) ) ) + ( ( 2.382627 * ( 1 - 0.6 * cos(t*3.14159/180) ) )^2 + 0.756763 * cos(t*3.14159/180) )^0.5 ) * ( tan(t*3.14159/180) )\n",
      "Parameters:\n",
      "t1:\n",
      " 0.001\n",
      "t2:\n",
      " 44.999000\n",
      "\n",
      "Linear contraction\n",
      "x(t):\n",
      " t + 0.012570 + ( -t + ( t^2 + 0.535112 )^0.5 )\n",
      "y(t):\n",
      " -1.000000 *t + 1.371764 + -1.010863 + ( -t + ( t^2 + 0.535112 )^0.5 ) * ( 1.000000 ) + ( 0.012570 )\n",
      "Parameters:\n",
      "t1:\n",
      " 1.371864\n",
      "t2:\n",
      " 1.712273\n",
      "\n",
      "Inlet\n",
      "x(t):\n",
      " 2.131087 - 1.429576 * (1 - cos(t*3.14159/180)) + ( 0.017776 * cos(t*3.14159/180)) + ( -( 2.131087 - 1.429576 * ( 1 - cos(t*3.14159/180) ) ) + ( ( 2.131087 - 1.429576 * ( 1 - cos(t*3.14159/180)))^2 + 0.756763 * cos(t*3.14159/180) )^0.5 )\n",
      "y(t):\n",
      " 1.429576 * sin(t*3.14159/180) + -2.362336 + ( 0.017776 * sin(t*3.14159/180) ) + ( -( 2.131087 - 1.429576 * ( 1 - cos(t*3.14159/180) ) ) + ( ( 2.131087 - 1.429576 * ( 1 - cos(t*3.14159/180) ) )^2 + 0.756763 * cos(t*3.14159/180) )^0.5 ) * tan(t*3.14159/180)\n",
      "Parameters:\n",
      "t1:\n",
      " 0.001\n",
      "t2:\n",
      " 44.999900\n",
      "\n"
     ]
    }
   ],
   "source": [
    "print(\"Cooling Channel, outer:\\n\" )\n",
    "\n",
    "A15 = A_c/math.pi\n",
    "\n",
    "print(\"Bell\")\n",
    "print(\"x(t):\")\n",
    "print(\" t + ( %f * t / ( t^2 + %f )^0.5) + ( t / ( t^2 + %f )^0.5) * ( -t + (t^2 + %f * sin(2*3.14159 - arctan(%f*t)))^(.5)) / (sin(2*3.14159-arctan(%f*t)))\" % (t,A12,A12,A15,-2*A1,-2*A1))\n",
    "print(\"y(t):\")\n",
    "print(\" %f *t^2 - %f + ( %f / ( %f *( t^2 + %f )^0.5)) + ( 1 / ( %f * (t^2+ %f )^0.5)) * ( -t + ( t^2 + %f * sin(2*3.14159-arctan(%f*t)))^0.5) / ( sin(2*3.14159 - arctan(%f*t)))\" % (A1,A2,-t,2*A1,A12,-2*A1,A12,A15,-2*A1,-2*A1))\n",
    "print(\"Parameters:\")\n",
    "print(\"t1:\")\n",
    "print(\" %f\" % (X1+0.0001) )\n",
    "print(\"t2:\")\n",
    "print(\" %f\\n\" % (re-0.0001) )\n",
    "\n",
    "print(\"Rapid Expansion\")\n",
    "print(\"x(t):\")\n",
    "print(\" %f * (1- (.382/1.382) * cos(t*3.14159/180)) + ( %f * cos(t*3.14159/180)) + ( -( %f * ( 1 - (0.382)/(1.382) * cos(t*3.14159/180) ) ) + (( %f * (1 - (0.382)/(1.382) * cos(t*3.14159/180) ))^2 + %f * cos(t*3.14159/180))^0.5)\" % (A3,t,A3,A3,A15)     )\n",
    "print(\"y(t):\")\n",
    "print(\" %f * sin(t*3.14159/180) + (%f *sin(t*3.14159/180)) + ( -( %f * ( 1 - (0.382)/(1.382) * cos(t*3.14159/180) ) ) + ( (%f * ( 1 - (0.382)/(1.382) * cos(t*3.14159/180) ) )^2 + %f * cos(t*3.14159/180) )^0.5 ) * ( -tan(t*3.14159/180) )\" % (A4,-t,A3,A3,A15)     )\n",
    "print(\"Parameters:\" )\n",
    "print(\"t1:\")\n",
    "print(\" 0.001\" )\n",
    "print(\"t2:\")\n",
    "print(\" %f\\n\" % (thetaN-0.001) )\n",
    "\n",
    "print(\"Rapid Contraction\")\n",
    "print(\"x(t):\")\n",
    "print(\" %f * (1 - 0.6 * cos(t*3.14159/180)) + ( %f * cos(t*3.14159/180)) + ( -( %f * ( 1 - 0.6 * cos(t*3.14159/180) ) ) + ( ( %f * ( 1 - 0.6 * cos(t*3.14159/180) ) )^2 + ( %f ) * cos(t*3.14159/180) )^0.5 )\" % (A5,t,A5,A5,A15)     )\n",
    "print(\"y(t):\")\n",
    "print(\" %f * sin(t*3.14159/180) + (%f *sin(t*3.14159/180)) + ( -( %f * ( 1 - 0.6 * cos(t*3.14159/180) ) ) + ( ( %f * ( 1 - 0.6 * cos(t*3.14159/180) ) )^2 + %f * cos(t*3.14159/180) )^0.5 ) * ( tan(t*3.14159/180) )\"             % (A6,t,A5,A5,A15)     )\n",
    "print(\"Parameters:\" )\n",
    "print(\"t1:\")\n",
    "print(\" 0.001\" )\n",
    "print(\"t2:\")\n",
    "print(\" %f\\n\" % (theta-0.001) )\n",
    "\n",
    "A16 = math.cos(math.radians(theta))*A15\n",
    "A17 = math.tan(math.pi/2-math.radians(theta))*2.5*rt*(1-0.6*math.cos(math.radians(theta)))\n",
    "A18 = -1.5*rt*math.sin(math.radians(theta))\n",
    "A19 = A15 * math.cos(math.radians(theta))\n",
    "A20 = math.tan(math.radians(theta))\n",
    "\n",
    "print(\"Linear contraction\")\n",
    "print(\"x(t):\")\n",
    "print(\" t + %f + ( -t + ( t^2 + %f )^0.5 )\" % (A13,A16))\n",
    "print(\"y(t):\")\n",
    "print(\" %f *t + %f + %f + ( -t + ( t^2 + %f )^0.5 ) * ( %f ) + ( %f )\" % (A7,A17,A18,A19,A20,A14))\n",
    "print(\"Parameters:\" )\n",
    "print(\"t1:\")\n",
    "print(\" %f\" % (p1+0.0001) )\n",
    "print(\"t2:\")\n",
    "print(\" %f\\n\" % (p2-0.0001) )\n",
    "\n",
    "print(\"Inlet\")\n",
    "print(\"x(t):\")\n",
    "print(\" %f - %f * (1 - cos(t*3.14159/180)) + ( %f * cos(t*3.14159/180)) + ( -( %f - %f * ( 1 - cos(t*3.14159/180) ) ) + ( ( %f - %f * ( 1 - cos(t*3.14159/180)))^2 + %f * cos(t*3.14159/180) )^0.5 )\" % (rcc,A9,t,rcc,A9,rcc,A9,A15))\n",
    "print(\"y(t):\")\n",
    "print(\" %f * sin(t*3.14159/180) + %f + ( %f * sin(t*3.14159/180) ) + ( -( %f - %f * ( 1 - cos(t*3.14159/180) ) ) + ( ( %f - %f * ( 1 - cos(t*3.14159/180) ) )^2 + %f * cos(t*3.14159/180) )^0.5 ) * tan(t*3.14159/180)\" % (A10,A11,t,rcc,A10,rcc,A10,A15))\n",
    "print(\"Parameters:\")\n",
    "print(\"t1:\")\n",
    "print(\" 0.001\" )\n",
    "print(\"t2:\")\n",
    "print(\" %f\\n\" % (theta-0.0001) )"
   ]
  },
  {
   "cell_type": "code",
   "execution_count": 390,
   "metadata": {
    "collapsed": false
   },
   "outputs": [
    {
     "name": "stdout",
     "output_type": "stream",
     "text": [
      "Nozzle surface, outer:\n",
      "\n",
      "Bell\n",
      "x(t):\n",
      " t + ( 0.017776 * t / ( t^2 + 0.716424 )^0.5 ) + ( t / ( t^2 + 0.716424 )^0.5 ) * ( -t + ( t^2 + 0.756763 * sin(2*3.14159 - arctan(-1.181449*t)) )^0.5 ) / ( sin(2*3.14159 - arctan(-1.181449*t)) ) + ( 0.035552 * t / ( t^2 + 0.716424 )^0.5 )\n",
      "y(t):\n",
      " 0.590724 *t^2 - 0.405908 + ( -0.017776 / ( 1.181449 *( t^2 + 0.716424 )^0.5)) + ( 1 / ( -1.181449 * ( t^2+ 0.716424 )^0.5 ) ) * ( -t + ( t^2 + 0.756763 * sin(2*3.14159 - arctan(-1.181449*t)) )^0.5 ) / ( sin(2*3.14159 - arctan(-1.181449*t)) ) + ( -0.035552 / ( 1.181449 * ( t^2 + 0.716424 )^0.5 ) )\n",
      "Parameters:\n",
      "t1:\n",
      " 1.059783\n",
      "t2:\n",
      " 2.006064\n",
      "\n",
      "Rapid Expansion\n",
      "x(t):\n",
      " 1.317116 * ( 1- (.382/1.382) * cos(t*3.14159/180) ) + ( 0.017776 * cos(t*3.14159/180) ) + ( -( 1.317116 * ( 1 - (0.382)/(1.382) * cos(t*3.14159/180) ) ) + ( ( 1.317116 * ( 1 - (0.382)/(1.382) * cos(t*3.14159/180) ) )^2 + 0.756763 * cos(t*3.14159/180) )^0.5 ) + ( 0.035552 * cos(t*3.14159/180) )\n",
      "y(t):\n",
      " 0.364065 * sin(t*3.14159/180) + ( -0.017776 *sin(t*3.14159/180) ) + ( -( 1.317116 * ( 1 - (0.382)/(1.382) * cos(t*3.14159/180) ) ) + ( ( 1.317116 * ( 1 - (0.382)/(1.382) * cos(t*3.14159/180) ) )^2 + 0.756763 * cos(t*3.14159/180) )^0.5 ) * ( -tan(t*3.14159/180) ) + ( -0.035552 * sin(t*3.14159/180) )\n",
      "Parameters:\n",
      "t1:\n",
      " 0.001\n",
      "t2:\n",
      " 44.999000\n",
      "\n",
      "Rapid Contraction\n",
      "x(t):\n",
      " 2.382627 * ( 1 - 0.6 * cos(t*3.14159/180) ) + ( 0.017776 * cos(t*3.14159/180) ) + ( -( 2.382627 * ( 1 - 0.6 * cos(t*3.14159/180) ) ) + ( ( 2.382627 * ( 1 - 0.6 * cos(t*3.14159/180) ) )^2 + ( 0.756763 ) * cos(t*3.14159/180) )^0.5 ) + ( 0.035552 * cos(t*3.14159/180) )\n",
      "y(t):\n",
      " -1.429576 * sin(t*3.14159/180) + ( 0.017776 *sin(t*3.14159/180) ) + ( -( 2.382627 * ( 1 - 0.6 * cos(t*3.14159/180) ) ) + ( ( 2.382627 * ( 1 - 0.6 * cos(t*3.14159/180) ) )^2 + 0.756763 * cos(t*3.14159/180) )^0.5 ) * ( tan(t*3.14159/180) ) + ( 0.035552 *sin(t*3.14159/180) )\n",
      "Parameters:\n",
      "t1:\n",
      " 0.001\n",
      "t2:\n",
      " 44.999000\n",
      "\n",
      "Linear contraction\n",
      "x(t):\n",
      " t + 0.012570 + ( -t + ( t^2 + 0.535112 )^0.5 ) + 0.025139\n",
      "y(t):\n",
      " -1.000000 *t + 1.371764 + -1.010863 + ( -t + ( t^2 + 0.535112 )^0.5 ) * ( 1.000000 ) + ( 0.012570 ) + ( 0.025139 )\n",
      "Parameters:\n",
      "t1:\n",
      " 1.371864\n",
      "t2:\n",
      " 1.712273\n",
      "\n",
      "Inlet\n",
      "x(t):\n",
      " 2.131087 - 1.429576 * (1 - cos(t*3.14159/180) ) + ( 0.017776 * cos(t*3.14159/180) ) + ( -( 2.131087 - 1.429576 * ( 1 - cos(t*3.14159/180) ) ) + ( ( 2.131087 - 1.429576 * ( 1 - cos(t*3.14159/180) ) )^2 + 0.756763 * cos(t*3.14159/180) )^0.5 ) + ( 0.035552 * cos(t*3.14159/180) )\n",
      "y(t):\n",
      " 1.429576 * sin(t*3.14159/180) + -2.362336 + ( 0.017776 * sin(t*3.14159/180) ) + ( -( 2.131087 - 1.429576 * ( 1 - cos(t*3.14159/180) ) ) + ( ( 2.131087 - 1.429576 * ( 1 - cos(t*3.14159/180) ) )^2 + 0.756763 * cos(t*3.14159/180) )^0.5 ) * tan(t*3.14159/180) + ( 0.035552 * sin(t*3.14159/180) )\n",
      "Parameters:\n",
      "t1:\n",
      " 0.001\n",
      "t2:\n",
      " 44.999900\n",
      "\n"
     ]
    }
   ],
   "source": [
    "print(\"Nozzle surface, outer:\\n\" )\n",
    "\n",
    "print(\"Bell\")\n",
    "print(\"x(t):\")\n",
    "print(\" t + ( %f * t / ( t^2 + %f )^0.5 ) + ( t / ( t^2 + %f )^0.5 ) * ( -t + ( t^2 + %f * sin(2*3.14159 - arctan(%f*t)) )^0.5 ) / ( sin(2*3.14159 - arctan(%f*t)) ) + ( %f * t / ( t^2 + %f )^0.5 )\" % (t,A12,A12,A15,-2*A1,-2*A1,tout,A12))\n",
    "print(\"y(t):\")\n",
    "print(\" %f *t^2 - %f + ( %f / ( %f *( t^2 + %f )^0.5)) + ( 1 / ( %f * ( t^2+ %f )^0.5 ) ) * ( -t + ( t^2 + %f * sin(2*3.14159 - arctan(%f*t)) )^0.5 ) / ( sin(2*3.14159 - arctan(%f*t)) ) + ( %f / ( %f * ( t^2 + %f )^0.5 ) )\" % (A1,A2,-t,2*A1,A12,-2*A1,A12,A15,-2*A1,-2*A1,-tout,2*A1,A12))\n",
    "print(\"Parameters:\")\n",
    "print(\"t1:\")\n",
    "print(\" %f\" % (X1+0.0001) )\n",
    "print(\"t2:\")\n",
    "print(\" %f\\n\" % (re-0.0001) )\n",
    "\n",
    "print(\"Rapid Expansion\")\n",
    "print(\"x(t):\")\n",
    "print(\" %f * ( 1- (.382/1.382) * cos(t*3.14159/180) ) + ( %f * cos(t*3.14159/180) ) + ( -( %f * ( 1 - (0.382)/(1.382) * cos(t*3.14159/180) ) ) + ( ( %f * ( 1 - (0.382)/(1.382) * cos(t*3.14159/180) ) )^2 + %f * cos(t*3.14159/180) )^0.5 ) + ( %f * cos(t*3.14159/180) )\" % (A3,t,A3,A3,A15,tout)     )\n",
    "print(\"y(t):\")\n",
    "print(\" %f * sin(t*3.14159/180) + ( %f *sin(t*3.14159/180) ) + ( -( %f * ( 1 - (0.382)/(1.382) * cos(t*3.14159/180) ) ) + ( ( %f * ( 1 - (0.382)/(1.382) * cos(t*3.14159/180) ) )^2 + %f * cos(t*3.14159/180) )^0.5 ) * ( -tan(t*3.14159/180) ) + ( %f * sin(t*3.14159/180) )\" % (A4,-t,A3,A3,A15,-tout)     )\n",
    "print(\"Parameters:\" )\n",
    "print(\"t1:\")\n",
    "print(\" 0.001\" )\n",
    "print(\"t2:\")\n",
    "print(\" %f\\n\" % (thetaN-0.001) )\n",
    "\n",
    "print(\"Rapid Contraction\")\n",
    "print(\"x(t):\")\n",
    "print(\" %f * ( 1 - 0.6 * cos(t*3.14159/180) ) + ( %f * cos(t*3.14159/180) ) + ( -( %f * ( 1 - 0.6 * cos(t*3.14159/180) ) ) + ( ( %f * ( 1 - 0.6 * cos(t*3.14159/180) ) )^2 + ( %f ) * cos(t*3.14159/180) )^0.5 ) + ( %f * cos(t*3.14159/180) )\" % (A5,t,A5,A5,A15,tout)     )\n",
    "print(\"y(t):\")\n",
    "print(\" %f * sin(t*3.14159/180) + ( %f *sin(t*3.14159/180) ) + ( -( %f * ( 1 - 0.6 * cos(t*3.14159/180) ) ) + ( ( %f * ( 1 - 0.6 * cos(t*3.14159/180) ) )^2 + %f * cos(t*3.14159/180) )^0.5 ) * ( tan(t*3.14159/180) ) + ( %f *sin(t*3.14159/180) )\"             % (A6,t,A5,A5,A15,tout)     )\n",
    "print(\"Parameters:\" )\n",
    "print(\"t1:\")\n",
    "print(\" 0.001\" )\n",
    "print(\"t2:\")\n",
    "print(\" %f\\n\" % (theta-0.001) )\n",
    "\n",
    "A21 = math.cos(math.radians(theta))*tout\n",
    "A22 = math.sin(math.radians(theta))*tout\n",
    "\n",
    "print(\"Linear contraction\")\n",
    "print(\"x(t):\")\n",
    "print(\" t + %f + ( -t + ( t^2 + %f )^0.5 ) + %f\" % (A13,A16,A21))\n",
    "print(\"y(t):\")\n",
    "print(\" %f *t + %f + %f + ( -t + ( t^2 + %f )^0.5 ) * ( %f ) + ( %f ) + ( %f )\" % (A7,A17,A18,A19,A20,A14,A22))\n",
    "print(\"Parameters:\" )\n",
    "print(\"t1:\")\n",
    "print(\" %f\" % (p1+0.0001) )\n",
    "print(\"t2:\")\n",
    "print(\" %f\\n\" % (p2-0.0001) )\n",
    "\n",
    "print(\"Inlet\")\n",
    "print(\"x(t):\")\n",
    "print(\" %f - %f * (1 - cos(t*3.14159/180) ) + ( %f * cos(t*3.14159/180) ) + ( -( %f - %f * ( 1 - cos(t*3.14159/180) ) ) + ( ( %f - %f * ( 1 - cos(t*3.14159/180) ) )^2 + %f * cos(t*3.14159/180) )^0.5 ) + ( %f * cos(t*3.14159/180) )\" % (rcc,A9,t,rcc,A9,rcc,A9,A15,tout))\n",
    "print(\"y(t):\")\n",
    "print(\" %f * sin(t*3.14159/180) + %f + ( %f * sin(t*3.14159/180) ) + ( -( %f - %f * ( 1 - cos(t*3.14159/180) ) ) + ( ( %f - %f * ( 1 - cos(t*3.14159/180) ) )^2 + %f * cos(t*3.14159/180) )^0.5 ) * tan(t*3.14159/180) + ( %f * sin(t*3.14159/180) )\" % (A10,A11,t,rcc,A10,rcc,A10,A15,tout))\n",
    "print(\"Parameters:\")\n",
    "print(\"t1:\")\n",
    "print(\" 0.001\"  )\n",
    "print(\"t2:\")\n",
    "print(\" %f\\n\" % (theta-0.0001) )"
   ]
  },
  {
   "cell_type": "markdown",
   "metadata": {},
   "source": [
    "### Finite Element Analysis\n",
    "\n",
    "The flow properties at any axial location of a rocket nozzle are modeled as an ideal gas. Therefore, if the particular geometry of the nozzle is known, then the properties within a finite element of the flow may be known. By determining the flow properties of the gas, a heat transfer coefficient may also be found, as well as the heat flux into any particular channel. By assuming that the heat flux into the fluid is equal to the heat flux through the nozzle wall, it may be determined whether a particular finite volume of coolant aquires enough heat to achieve a phase change, resulting in nucleate boiling when the coolant pressures are low enough for that phase change to be from a liquid to a gas.\n",
    "\n",
    "In some cases; where the pressure is high enough, a coolant super critical state may be achieved. In such cases, there may be advantages to allowing a phase change. It is; however, not advantageous to allow nucleate boiling, which would result in an insulative gas layer forming between the wall and the coolant, quickly leading to engine failure.\n",
    "\n",
    "The scope of this analysis is solely to determine the amount of heat accepted by a finite volume of fluid and produce a reasonable guess as to the phase state of the coolant at the exit of the convergent section of the nozzle. This will allow for a designer to alter their original assumptions about the converging angle of the nozzle, the rapid expansion angle of the nozzle, or the length of the combustion chamber.\n",
    "\n",
    "In general, a decrease in the surface area of the nozzle will result in less heat being transfered into the coolant. Therefore, heat transfer may be decreased by an increase of either the convergence angle or the rapid expansion angle of the nozzle. Furthermore, heat transfer may be decreased by shortening the combustion chamber. Typically, these changes will result in lower nozzle efficiencies.\n",
    "\n",
    "Coolant capacity may be increased by either the dilution of the fuel with water (in the case that the fuel is aqueous), or by increasing the mass flow rate of fuel in the nozzle. The latter is achievable by increasing the desired force of a nozzle, or by increasing the amount of film cooled surface area within the nozzle. Coefficients modifiying the adiabadic wall temperature of the flow due to the addition of film cooling should be determined by measurements performed in testing."
   ]
  },
  {
   "cell_type": "code",
   "execution_count": 391,
   "metadata": {
    "collapsed": false
   },
   "outputs": [],
   "source": [
    "import sympy as sympy\n",
    "\n",
    "from sympy.solvers import solve\n",
    "from sympy import Symbol\n",
    "from sympy import log\n",
    "\n",
    "import numpy as np\n",
    "import matplotlib.pyplot as plt\n",
    "\n",
    "#Boiling analysis\n",
    "#Heat transfer along bell\n",
    "#find Ax/At\n",
    "x  = [0]\n",
    "dx = 0.01\n",
    "\n",
    "thetaNr = math.pi/180*thetaN\n",
    "thetar  = math.pi/180*theta\n",
    "\n",
    "\n",
    "\n",
    "import numpy as np\n",
    "\n",
    "ARatioSub = []\n",
    "ARatioSup = []\n",
    "rx        = []\n",
    "Ax        = []\n",
    "AR        = []\n",
    "Px        = []\n",
    "Tx        = []\n",
    "Vx        = []\n",
    "ax        = []\n",
    "Mx        = []\n",
    "sigmax    = []\n",
    "hgx       = []\n",
    "Tawx      = []\n",
    "qx        = []\n",
    "\n",
    "res     = 1000 # resolution of mach lookup matrix\n",
    "\n",
    "MachSub = np.linspace(1/res,1,num=res)\n",
    "MachSup = np.linspace(1+1/res,10,num=res*9)\n",
    "PRSub   = np.linspace(1/res,2,num=res*2)\n",
    "PRSup   = np.linspace(2+2/res,1000,num=res*998)\n",
    "\n",
    "#build AR matricies\n",
    "for Machx in MachSub:\n",
    "    ARatioSub.append(1/Machx*(((1+((gam-1)/2)*Machx**2)/(1+((gam-1)/2)))**((gam+1)/(gam-1)))**0.5)\n",
    "\n",
    "for Machx in MachSup:\n",
    "    ARatioSup.append(1/Machx*(((1+((gam-1)/2)*Machx**2)/(1+((gam-1)/2)))**((gam+1)/(gam-1)))**0.5)\n",
    "\n",
    "i=0\n",
    "\n",
    "while x[i] < ((A1*re**2-A2)-(A1*X1**2-A2)):\n",
    "    rx.append((((A1*re**2-A2)-x[i]+A2)/(A1))**.5)\n",
    "    x.append(x[i]+dx)\n",
    "    Ax.append(math.pi*(rx[i])**2)\n",
    "    AR.append(Ax[i]/At)\n",
    "    \n",
    "    Volumex = Ax[i]*dx\n",
    "    Volumet = At*dx\n",
    "    \n",
    "    j=0\n",
    "\n",
    "    #match mach number to current area ratio\n",
    "    currentAR = 0\n",
    "    while currentAR < Ax[i]/At and j < len(ARatioSup)-1:\n",
    "        j=j+1\n",
    "        currentAR = ARatioSup[j]\n",
    "    \n",
    "    y1 = MachSup[j]\n",
    "    y2 = MachSup[j-1]\n",
    "    x1 = ARatioSup[j]\n",
    "    x2 = ARatioSup[j-1]\n",
    "    \n",
    "    Mx.append((Ax[i]/At-x1)*(y2-y1)/(x2-x1)+y1)\n",
    "    Px.append(Pcns/(1+0.5*(gam-1)*Mx[i]**2)**(gam/(gam-1)))\n",
    "    Tx.append(Tcns/(Pcns/Px[i])**((gam-1)/gam))\n",
    "    Vx.append(math.sqrt(2*g*gam/(gam-1)*R*Tcns*(1-(Px[i]/Pcns)**((gam-1)/gam))))\n",
    "    ax.append(math.sqrt(g*gam*R*Tx[i]))\n",
    "    sigmax.append((1/((.5*Twg/Tcns*(1+(gam-1)/2*Mx[i]**2)+.5)**0.68*(1+(gam+1)/2*Mx[i]**2)**0.12)))\n",
    "    hgx.append(((0.026/(2*rt)**0.2*(mucc**0.2*Cpg/Pr**0.6)*(Pcns*g/cstar)**0.8*(2*rt/rmean)**0.1)*(At/Ax[i])**0.9*sigmax[i]))\n",
    "    Tawx.append(edafilm*Tcns*((1+rturb*((gam-1)/2)*Mx[i]**2)/(1+((gam-1)/2)*Mx[i]**2)))\n",
    "    qx.append(hgx[i]*(Tawx[i]-Twg))\n",
    "\n",
    "    i=i+1\n",
    "\n",
    "while x[i] < ((A1*re**2-A2)-(A1*X1**2-A2))+.382*rt*sin(thetaN/180*math.pi):\n",
    "    yr = Symbol(\"yr\")\n",
    "    rx.append(solve((x[i]-(A1*re**2-A2))**2+(yr-1.382*rt)**2-(.382*rt)**2,yr)[0])\n",
    "    x.append(x[i]+dx)\n",
    "    Ax.append(math.pi*(rx[i])**2)\n",
    "    AR.append(Ax[i]/At)\n",
    "    \n",
    "    Volumex = Ax[i]*dx\n",
    "    Volumet = (At)*dx\n",
    "    \n",
    "    j=0\n",
    "\n",
    "    #match mach number to current area ratio\n",
    "    currentAR = 0\n",
    "    while currentAR < Ax[i]/At and j < len(ARatioSup)-1:\n",
    "        j=j+1\n",
    "        currentAR = ARatioSup[j]\n",
    "    \n",
    "    y1 = MachSup[j]\n",
    "    y2 = MachSup[j-1]\n",
    "    x1 = ARatioSup[j]\n",
    "    x2 = ARatioSup[j-1]\n",
    "\n",
    "    Mx.append((Ax[i]/At-x1)*(y2-y1)/(x2-x1)+y1)\n",
    "    Px.append(Pcns/(1+0.5*(gam-1)*Mx[i]**2)**(gam/(gam-1)))\n",
    "    Tx.append(Tcns/(Pcns/Px[i])**((gam-1)/gam))\n",
    "    Vx.append(math.sqrt(2*g*gam/(gam-1)*R*Tcns*(1-(Px[i]/Pcns)**((gam-1)/gam))))\n",
    "    ax.append(math.sqrt(g*gam*R*Tx[i]))\n",
    "    sigmax.append((1/((.5*Twg/Tcns*(1+(gam-1)/2*Mx[i]**2)+.5)**0.68*(1+(gam+1)/2*Mx[i]**2)**0.12)))\n",
    "    hgx.append(((0.026/(2*rt)**0.2*(mucc**0.2*Cpg/Pr**0.6)*(Pcns*g/cstar)**0.8*(2*rt/rmean)**0.1)*(At/Ax[i])**0.9*sigmax[i]))\n",
    "    Tawx.append(edafilm*Tcns*((1+rturb*((gam-1)/2)*Mx[i]**2)/(1+((gam-1)/2)*Mx[i]**2)))\n",
    "    qx.append(hgx[i]*(Tawx[i]-Twg))\n",
    "    \n",
    "    i=i+1\n",
    "\n",
    "while x[i] < ((A1*re**2-A2)-(A1*X1**2-A2))+.382*rt*sin(thetaN/180*math.pi)+1.5*rt*sin(theta/180*math.pi):\n",
    "    yr = Symbol(\"yr\")\n",
    "    rx.append(solve((x[i]-(A1*re**2-A2))**2+(yr-2.5*rt)**2-(1.5*rt)**2,yr)[0])\n",
    "    x.append(x[i]+dx)\n",
    "    Ax.append(math.pi*(rx[i])**2)\n",
    "    AR.append(Ax[i]/At)\n",
    "    \n",
    "    Volumex = Ax[i]*dx\n",
    "    Volumet = (At)*dx\n",
    "    \n",
    "    j=0\n",
    "\n",
    "    #match mach number to current area ratio\n",
    "    currentAR = ARatioSub[0]\n",
    "    while currentAR > Ax[i]/At and j < len(ARatioSub)-1:\n",
    "        j=j+1\n",
    "        currentAR = ARatioSub[j]\n",
    "    \n",
    "    y1 = MachSub[j]\n",
    "    y2 = MachSub[j-1]\n",
    "    x1 = ARatioSub[j]\n",
    "    x2 = ARatioSub[j-1]\n",
    "\n",
    "    Mx.append((Ax[i]/At-x1)*(y2-y1)/(x2-x1)+y1)\n",
    "    Px.append(Pcns/(1+0.5*(gam-1)*Mx[i]**2)**(gam/(gam-1)))\n",
    "    Tx.append(Tcns/(Pcns/Px[i])**((gam-1)/gam))\n",
    "    Vx.append(math.sqrt(2*g*gam/(gam-1)*R*Tcns*(1-(Px[i]/Pcns)**((gam-1)/gam))))\n",
    "    ax.append(math.sqrt(g*gam*R*Tx[i]))\n",
    "    sigmax.append((1/((.5*Twg/Tcns*(1+(gam-1)/2*Mx[i]**2)+.5)**0.68*(1+(gam+1)/2*Mx[i]**2)**0.12)))\n",
    "    hgx.append(((0.026/(2*rt)**0.2*(mucc**0.2*Cpg/Pr**0.6)*(Pcns*g/cstar)**0.8*(2*rt/rmean)**0.1)*(At/Ax[i])**0.9*sigmax[i]))\n",
    "    Tawx.append(edafilm*Tcns*((1+rturb*((gam-1)/2)*Mx[i]**2)/(1+((gam-1)/2)*Mx[i]**2)))\n",
    "    qx.append(hgx[i]*(Tawx[i]-Twg))\n",
    "    \n",
    "    i=i+1\n",
    "    \n",
    "m = math.tan(thetar)\n",
    "b = rt*(2.5-1.5*math.cos(thetar))-m*((A1*re**2-A2)+1.5*rt*math.sin(thetar))\n",
    "\n",
    "while x[i] < (A1*re**2-A2)-(A7*p2+A8):\n",
    "    rx.append(m*x[i]+b)\n",
    "    x.append(x[i]+dx)\n",
    "    Ax.append(math.pi*(rx[i])**2)\n",
    "    AR.append(Ax[i]/At)\n",
    "    \n",
    "    Volumex = Ax[i]*dx\n",
    "    Volumet = (At)*dx\n",
    "    \n",
    "    j=0\n",
    "\n",
    "    #match mach number to current area ratio\n",
    "    currentAR = ARatioSub[0]\n",
    "    while currentAR > Ax[i]/At and j < len(ARatioSub)-1:\n",
    "        j=j+1\n",
    "        currentAR = ARatioSub[j]\n",
    "    \n",
    "    y1 = MachSub[j]\n",
    "    y2 = MachSub[j-1]\n",
    "    x1 = ARatioSub[j]\n",
    "    x2 = ARatioSub[j-1]\n",
    "\n",
    "    Mx.append((Ax[i]/At-x1)*(y2-y1)/(x2-x1)+y1)\n",
    "    Px.append(Pcns/(1+0.5*(gam-1)*Mx[i]**2)**(gam/(gam-1)))\n",
    "    Tx.append(Tcns/(Pcns/Px[i])**((gam-1)/gam))\n",
    "    Vx.append(math.sqrt(2*g*gam/(gam-1)*R*Tcns*(1-(Px[i]/Pcns)**((gam-1)/gam))))\n",
    "    ax.append(math.sqrt(g*gam*R*Tx[i]))\n",
    "    sigmax.append((1/((.5*Twg/Tcns*(1+(gam-1)/2*Mx[i]**2)+.5)**0.68*(1+(gam+1)/2*Mx[i]**2)**0.12)))\n",
    "    hgx.append(((0.026/(2*rt)**0.2*(mucc**0.2*Cpg/Pr**0.6)*(Pcns*g/cstar)**0.8*(2*rt/rmean)**0.1)*(At/Ax[i])**0.9*sigmax[i]))\n",
    "    Tawx.append(edafilm*Tcns*((1+rturb*((gam-1)/2)*Mx[i]**2)/(1+((gam-1)/2)*Mx[i]**2)))\n",
    "    qx.append(hgx[i]*(Tawx[i]-Twg))\n",
    "    \n",
    "    i=i+1\n",
    "\n",
    "xcenter = (A1*re**2-A2)-(A10*math.sin(0)+A11)\n",
    "ycenter = rcc-1.5*rt\n",
    "    \n",
    "while x[i] < (A1*re**2-A2)-(A10*math.sin(0)+A11):\n",
    "    yr = Symbol(\"yr\")\n",
    "    rx.append(solve((x[i]-xcenter)**2+(yr-ycenter)**2-(1.5*rt)**2,yr)[1])\n",
    "    x.append(x[i]+dx)\n",
    "    Ax.append(math.pi*(rx[i])**2)\n",
    "    AR.append(Ax[i]/At)\n",
    "    \n",
    "    Volumex = Ax[i]*dx\n",
    "    Volumet = (At)*dx\n",
    "    \n",
    "    j=0\n",
    "\n",
    "    #match mach number to current area ratio\n",
    "    currentAR = ARatioSub[0]\n",
    "    while currentAR > Ax[i]/At and j < len(ARatioSub)-1:\n",
    "        j=j+1\n",
    "        currentAR = ARatioSub[j]\n",
    "    \n",
    "    y1 = MachSub[j]\n",
    "    y2 = MachSub[j-1]\n",
    "    x1 = ARatioSub[j]\n",
    "    x2 = ARatioSub[j-1]\n",
    "\n",
    "    Mx.append((Ax[i]/At-x1)*(y2-y1)/(x2-x1)+y1)\n",
    "    Px.append(Pcns/(1+0.5*(gam-1)*Mx[i]**2)**(gam/(gam-1)))\n",
    "    Tx.append(Tcns/(Pcns/Px[i])**((gam-1)/gam))\n",
    "    Vx.append(math.sqrt(2*g*gam/(gam-1)*R*Tcns*(1-(Px[i]/Pcns)**((gam-1)/gam))))\n",
    "    ax.append(math.sqrt(g*gam*R*Tx[i]))\n",
    "    sigmax.append((1/((.5*Twg/Tcns*(1+(gam-1)/2*Mx[i]**2)+.5)**0.68*(1+(gam+1)/2*Mx[i]**2)**0.12)))\n",
    "    hgx.append(((0.026/(2*rt)**0.2*(mucc**0.2*Cpg/Pr**0.6)*(Pcns*g/cstar)**0.8*(2*rt/rmean)**0.1)*(At/Ax[i])**0.9*sigmax[i]))\n",
    "    Tawx.append(edafilm*Tcns*((1+rturb*((gam-1)/2)*Mx[i]**2)/(1+((gam-1)/2)*Mx[i]**2)))\n",
    "    qx.append(hgx[i]*(Tawx[i]-Twg))\n",
    "    \n",
    "    i=i+1\n",
    "del x[-1]\n",
    "\n"
   ]
  },
  {
   "cell_type": "code",
   "execution_count": 392,
   "metadata": {
    "collapsed": false
   },
   "outputs": [
    {
     "data": {
      "text/plain": [
       "(0, 5)"
      ]
     },
     "execution_count": 392,
     "metadata": {},
     "output_type": "execute_result"
    },
    {
     "data": {
      "image/png": "[encoded data removed]",
      "text/plain": [
       "<matplotlib.figure.Figure at 0x1e3cb58c748>"
      ]
     },
     "metadata": {},
     "output_type": "display_data"
    },
    {
     "data": {
      "image/png": "[encoded data removed]",
      "text/plain": [
       "<matplotlib.figure.Figure at 0x1e3cb58ce10>"
      ]
     },
     "metadata": {},
     "output_type": "display_data"
    },
    {
     "data": {
      "image/png": "[encoded data removed]",
      "text/plain": [
       "<matplotlib.figure.Figure at 0x1e3cb9543c8>"
      ]
     },
     "metadata": {},
     "output_type": "display_data"
    },
    {
     "data": {
      "image/png": "[encoded data removed]",
      "text/plain": [
       "<matplotlib.figure.Figure at 0x1e3cb1e2278>"
      ]
     },
     "metadata": {},
     "output_type": "display_data"
    },
    {
     "data": {
      "image/png": "[encoded data removed]",
      "text/plain": [
       "<matplotlib.figure.Figure at 0x1e3cb496588>"
      ]
     },
     "metadata": {},
     "output_type": "display_data"
    },
    {
     "data": {
      "image/png": "[encoded data removed]",
      "text/plain": [
       "<matplotlib.figure.Figure at 0x1e3cbd01c18>"
      ]
     },
     "metadata": {},
     "output_type": "display_data"
    },
    {
     "data": {
      "image/png": "[encoded data removed]",
      "text/plain": [
       "<matplotlib.figure.Figure at 0x1e3cb3b3c18>"
      ]
     },
     "metadata": {},
     "output_type": "display_data"
    },
    {
     "data": {
      "image/png": "[encoded data removed]",
      "text/plain": [
       "<matplotlib.figure.Figure at 0x1e3cb3292b0>"
      ]
     },
     "metadata": {},
     "output_type": "display_data"
    }
   ],
   "source": [
    "plt.figure(0)\n",
    "plt.scatter(x,rx)\n",
    "plt.xlabel('Nozzle Position (in)')\n",
    "plt.ylabel('Radius (in)')\n",
    "plt.xlim([0,math.ceil(max(x))])\n",
    "\n",
    "plt.figure(1)\n",
    "plt.scatter(x,Mx)\n",
    "plt.xlabel('Nozzle Position (in)')\n",
    "plt.ylabel('Mach Number')\n",
    "plt.xlim([0,math.ceil(max(x))])\n",
    "\n",
    "plt.figure(2)\n",
    "plt.scatter(x,Px)\n",
    "plt.xlabel('Nozzle Position (in)')\n",
    "plt.ylabel('Pressure (psia)')\n",
    "plt.xlim([0,math.ceil(max(x))])\n",
    "\n",
    "plt.figure(3)\n",
    "plt.scatter(x,Tx)\n",
    "plt.xlabel('Nozzle Position (in)')\n",
    "plt.ylabel('Temperature (R)')\n",
    "plt.xlim([0,math.ceil(max(x))])\n",
    "\n",
    "plt.figure(4)\n",
    "plt.scatter(x,Vx)\n",
    "plt.xlabel('Nozzle Position (in)')\n",
    "plt.ylabel('Velocity (ft/s)')\n",
    "plt.xlim([0,math.ceil(max(x))])\n",
    "\n",
    "plt.figure(5)\n",
    "plt.scatter(x,hgx)\n",
    "plt.xlabel('Nozzle Position (in)')\n",
    "plt.ylabel('Heat transfer coefficient (Btu/in^2/s/R)')\n",
    "plt.xlim([0,math.ceil(max(x))])\n",
    "\n",
    "plt.figure(6)\n",
    "plt.scatter(x,Tawx)\n",
    "plt.xlabel('Nozzle Position (in)')\n",
    "plt.ylabel('Adiabatic wall Temp of gas (R)')\n",
    "plt.xlim([0,math.ceil(max(x))])\n",
    "\n",
    "plt.figure(7)\n",
    "plt.scatter(x,qx)\n",
    "plt.xlabel('Nozzle Position (in)')\n",
    "plt.ylabel('Heat flux (Btu/in^2/s)')\n",
    "plt.xlim([0,math.ceil(max(x))])\n",
    "\n"
   ]
  },
  {
   "cell_type": "code",
   "execution_count": 393,
   "metadata": {
    "collapsed": false
   },
   "outputs": [],
   "source": [
    "#Determine heat added to fuel\n",
    "\n",
    "j=1\n",
    "Aqx=[]\n",
    "Qx =[]\n",
    "lenCC = 0\n",
    "\n",
    "while j < len(rx):\n",
    "    Aqx.append(math.sqrt(dx**2+(rx[j-1]-rx[j])**2)*math.pi*(rx[j-1]+rx[j]))\n",
    "    Qx.append(Aqx[j-1]*(qx[j-1]+qx[j])*.5)\n",
    "    lenCC = lenCC + math.sqrt(dx**2+(rx[j-1]-rx[j])**2) #total length of channel\n",
    "    \n",
    "    j+=1\n",
    "Qtot = sum(Qx)"
   ]
  },
  {
   "cell_type": "code",
   "execution_count": 394,
   "metadata": {
    "collapsed": false
   },
   "outputs": [
    {
     "name": "stdout",
     "output_type": "stream",
     "text": [
      "Maximum combustion chamber length: 4.973094 in\n",
      "Current combustion chamber length: 2.803548 in\n",
      "Heat transfered into coolant:      599.861317\n",
      "Coolant Capacity:                  635.209133\n"
     ]
    }
   ],
   "source": [
    "#print(\"Maximum combustion chamber length: %f in\" % lenCC) #this isnt correct, this is the total length of the channel, calculate remaining capacity as a combustion chamber length.\n",
    "print(\"Current combustion chamber length: %f in\" % Lc)\n",
    "# print((Qc-Qtot)/(qx[len(qx)-1]*2*math.pi*(rx[len(rx)-1]))) #determine exactly what this is, looks like a ratio of heat fluxes\n",
    "print(\"Heat transfered into coolant:      %f\" % Qtot)\n",
    "print(\"Coolant Capacity:                  %f\" % Qc)"
   ]
  },
  {
   "cell_type": "code",
   "execution_count": 395,
   "metadata": {
    "collapsed": false
   },
   "outputs": [],
   "source": [
    "#pressure loss in cooling passage\n",
    "delP = f*rhof/2*Vco**2/d*(lenCC+Lc)"
   ]
  },
  {
   "cell_type": "code",
   "execution_count": 396,
   "metadata": {
    "collapsed": false
   },
   "outputs": [
    {
     "name": "stdout",
     "output_type": "stream",
     "text": [
      "Coolant velocity:              4.289047 ft/sec\n",
      "Cooling channel pressure drop: 86.984545 psi\n"
     ]
    }
   ],
   "source": [
    "#print(f)\n",
    "#print(rhof)\n",
    "print(\"Coolant velocity:              %f ft/sec\" % (Vco/12)  )\n",
    "#print(d)\n",
    "print(\"Cooling channel pressure drop: %f psi\"    % delP )"
   ]
  },
  {
   "cell_type": "code",
   "execution_count": 397,
   "metadata": {
    "collapsed": false
   },
   "outputs": [],
   "source": [
    "#consider saving this to a file rather than printing out.\n",
    "#Properties of flow along the axial length of the nozzle\n",
    "\n",
    "#i=0\n",
    "#print(\"x,rx,Mx,Px,Tx,Vx,hgx,Tawx\")\n",
    "#while i < len(x):\n",
    "#    print(\"%f,%f,%f,%f,%f,%f,%f,%f\" % (x[i],rx[i],Mx[i],Px[i],Tx[i],Vx[i],hgx[i],Tawx[i]) )\n",
    "#    i=i+1"
   ]
  },
  {
   "cell_type": "code",
   "execution_count": null,
   "metadata": {
    "collapsed": true
   },
   "outputs": [],
   "source": []
  },
  {
   "cell_type": "code",
   "execution_count": null,
   "metadata": {
    "collapsed": true
   },
   "outputs": [],
   "source": []
  }
 ],
 "metadata": {
  "kernelspec": {
   "display_name": "Python 3",
   "language": "python",
   "name": "python3"
  },
  "language_info": {
   "codemirror_mode": {
    "name": "ipython",
    "version": 3
   },
   "file_extension": ".py",
   "mimetype": "text/x-python",
   "name": "python",
   "nbconvert_exporter": "python",
   "pygments_lexer": "ipython3",
   "version": "3.6.0"
  },
  "widgets": {
   "state": {
    "0105c9b3d8a84c1c83e487f9aecdd28c": {
     "views": [
      {
       "cell_index": 16
      }
     ]
    },
    "0344658e0873426993aadd729ba455e6": {
     "views": [
      {
       "cell_index": 16
      }
     ]
    },
    "04f1db22bb2740489fbd8988ea0f7611": {
     "views": [
      {
       "cell_index": 13
      }
     ]
    },
    "08c78ef5bc804996a05e165e66ce3120": {
     "views": [
      {
       "cell_index": 16
      }
     ]
    },
    "09b88fe6f0e542ef9f6981734e6b7508": {
     "views": [
      {
       "cell_index": 4
      }
     ]
    },
    "0c5fe2e9f56b4fa7acbb5b0764749e42": {
     "views": [
      {
       "cell_index": 16
      }
     ]
    },
    "0c6c4e766d0845d28596c889a53d475f": {
     "views": [
      {
       "cell_index": 16
      }
     ]
    },
    "0d4fce91f1354cb0845b65b247ff8ec4": {
     "views": [
      {
       "cell_index": 16
      }
     ]
    },
    "0ec9ebcf9605492ca792660049a6f104": {
     "views": [
      {
       "cell_index": 13
      }
     ]
    },
    "0f46e76899574c0899d34e6e480b6235": {
     "views": [
      {
       "cell_index": 16
      }
     ]
    },
    "0f637f99aa0d459fa316c9469fdb173b": {
     "views": [
      {
       "cell_index": 16
      }
     ]
    },
    "103eda8f8bf949168af487963eec15a9": {
     "views": [
      {
       "cell_index": 16
      }
     ]
    },
    "1283bc8e1d514d38aed95a42bc0194d7": {
     "views": [
      {
       "cell_index": 4
      }
     ]
    },
    "1755a9682aed44c589c140a86f9f3a12": {
     "views": [
      {
       "cell_index": 4
      }
     ]
    },
    "176132d1b9e9463e81213266ee7e336a": {
     "views": [
      {
       "cell_index": 16
      }
     ]
    },
    "181fbc712f18415da72a889f50df8b93": {
     "views": [
      {
       "cell_index": 16
      }
     ]
    },
    "199d9ac54d2541e18a74b206ab7f92f9": {
     "views": [
      {
       "cell_index": 4
      }
     ]
    },
    "19ba57a3b37e43339fba64be20eb6116": {
     "views": [
      {
       "cell_index": 4
      }
     ]
    },
    "1a64c431a47142578940cf7df8bc3b96": {
     "views": [
      {
       "cell_index": 16
      }
     ]
    },
    "1ac9a6d771954bda96c4c81e77892b83": {
     "views": [
      {
       "cell_index": 4
      }
     ]
    },
    "1de6109fa8db4d3994ec0b49db379670": {
     "views": [
      {
       "cell_index": 13
      }
     ]
    },
    "1f14747f6ae04c3cb0d397e402bcf12f": {
     "views": [
      {
       "cell_index": 16
      }
     ]
    },
    "2072988458dd457b830d4cacc6943329": {
     "views": [
      {
       "cell_index": 4
      }
     ]
    },
    "20918b2c450244999ecba7e1099a7025": {
     "views": [
      {
       "cell_index": 16
      }
     ]
    },
    "22fea4623e9b45f6ad351aa6b8bec069": {
     "views": [
      {
       "cell_index": 13
      }
     ]
    },
    "2394bd82e3c74f04a00301791202d0cf": {
     "views": [
      {
       "cell_index": 4
      }
     ]
    },
    "2884d7ca3efb42a2af91f84376b6c55f": {
     "views": [
      {
       "cell_index": 16
      }
     ]
    },
    "28aa1b18b17b4e97ab408489ac33f7eb": {
     "views": [
      {
       "cell_index": 16
      }
     ]
    },
    "28ff13d743cf49229cbc749701b12bfe": {
     "views": [
      {
       "cell_index": 16
      }
     ]
    },
    "290e4b3cbd884c0a9b7a636bf428966e": {
     "views": [
      {
       "cell_index": 16
      }
     ]
    },
    "2a167d49ec7f499d8f2e3bbd69cd3398": {
     "views": [
      {
       "cell_index": 16
      }
     ]
    },
    "2e02c2c15d2a41c6828e98caa5550b48": {
     "views": [
      {
       "cell_index": 16
      }
     ]
    },
    "30321143cd774774a4a7352b4462003e": {
     "views": [
      {
       "cell_index": 4
      }
     ]
    },
    "32203cba1f1d4d52931597bb7e618ef3": {
     "views": [
      {
       "cell_index": 4
      }
     ]
    },
    "3354a97c523148eca31e8edbeb028e47": {
     "views": [
      {
       "cell_index": 4
      }
     ]
    },
    "372e076df2d54234b0c225fe951e5c0f": {
     "views": [
      {
       "cell_index": 13
      }
     ]
    },
    "382744090f5c4081b861b136daebf4a8": {
     "views": [
      {
       "cell_index": 13
      }
     ]
    },
    "39f909b7e56a4e2bb441f053ac2c7637": {
     "views": [
      {
       "cell_index": 13
      }
     ]
    },
    "39fedc1199bb48cb9829807c3b5c6ece": {
     "views": [
      {
       "cell_index": 4
      }
     ]
    },
    "3bb509e132bf44e093e46d67b3b35e42": {
     "views": [
      {
       "cell_index": 16
      }
     ]
    },
    "3c51110af44a406690f2201d656b3aea": {
     "views": [
      {
       "cell_index": 4
      }
     ]
    },
    "3e5db28d244445d7b75f86b88270c953": {
     "views": [
      {
       "cell_index": 4
      }
     ]
    },
    "3fb5cf7c98f34957bdf2cd868074003e": {
     "views": [
      {
       "cell_index": 13
      }
     ]
    },
    "3fdddbe83e664997951d7ecf0a51747b": {
     "views": [
      {
       "cell_index": 4
      }
     ]
    },
    "4065021c8cce45d1a66ec42e2a9ba5e2": {
     "views": [
      {
       "cell_index": 4
      }
     ]
    },
    "432249b8e14b41dd9cb58ffdf67d8460": {
     "views": [
      {
       "cell_index": 16
      }
     ]
    },
    "47464888fe734ad3960398cdc062ce06": {
     "views": [
      {
       "cell_index": 13
      }
     ]
    },
    "48421d756feb4ac497447989674cfe9f": {
     "views": [
      {
       "cell_index": 16
      }
     ]
    },
    "4918c211208146ca96b89ba60ca76580": {
     "views": [
      {
       "cell_index": 4
      }
     ]
    },
    "4cf00a79e23d4b7dbc647c4e3658d37f": {
     "views": [
      {
       "cell_index": 13
      }
     ]
    },
    "4dea66f9bc2640aeb782dcbc7388db77": {
     "views": [
      {
       "cell_index": 4
      }
     ]
    },
    "4e472adb636e4bd6bc902765c8e39d8f": {
     "views": [
      {
       "cell_index": 13
      }
     ]
    },
    "4f5ae1c168764891852ca3e97e57f298": {
     "views": [
      {
       "cell_index": 13
      }
     ]
    },
    "520f243ccb1c404996f23eb0566506a2": {
     "views": [
      {
       "cell_index": 16
      }
     ]
    },
    "542f3e4a7e594369a46b67df03005946": {
     "views": [
      {
       "cell_index": 16
      }
     ]
    },
    "54fa693d111f4ec995b40ddb83d2f4a7": {
     "views": [
      {
       "cell_index": 13
      }
     ]
    },
    "5543784e970b4ead937d6ec774e96276": {
     "views": [
      {
       "cell_index": 13
      }
     ]
    },
    "57421ecd7d9546feb007008b30a2d0d2": {
     "views": [
      {
       "cell_index": 16
      }
     ]
    },
    "5b716ef224b14c0e8a352e3b04e8a1eb": {
     "views": [
      {
       "cell_index": 16
      }
     ]
    },
    "5be70fc146534394953dc7d762079be3": {
     "views": [
      {
       "cell_index": 4
      }
     ]
    },
    "5c6c2b9cf8de41078f635a6c62c4fdd9": {
     "views": [
      {
       "cell_index": 4
      }
     ]
    },
    "6324d4347f234620a0bead34289144c4": {
     "views": [
      {
       "cell_index": 4
      }
     ]
    },
    "63eb36f8e9af465b89184861103740d9": {
     "views": [
      {
       "cell_index": 13
      }
     ]
    },
    "64485e74902447c693228edb19b6c855": {
     "views": [
      {
       "cell_index": 4
      }
     ]
    },
    "64e3000fc42a4dd0848aa25c45480d47": {
     "views": [
      {
       "cell_index": 13
      }
     ]
    },
    "66e1f06633854bf9970c7bc8290efe21": {
     "views": [
      {
       "cell_index": 13
      }
     ]
    },
    "67f7a1a02aa94f7fb2717c248d87f5df": {
     "views": [
      {
       "cell_index": 16
      }
     ]
    },
    "680b8afa46674db1a26e53fb2666eb0b": {
     "views": [
      {
       "cell_index": 16
      }
     ]
    },
    "6af433b020f54f3185152a3460da20ef": {
     "views": [
      {
       "cell_index": 4
      }
     ]
    },
    "6baaac91af4a4b15be28198a4f4d8395": {
     "views": [
      {
       "cell_index": 4
      }
     ]
    },
    "6bf43d7f6bcb4220b03362d2261c8860": {
     "views": [
      {
       "cell_index": 16
      }
     ]
    },
    "7016c61e40e8400cbe764471b256d372": {
     "views": [
      {
       "cell_index": 4
      }
     ]
    },
    "7084318668e04449973f85876ae350e5": {
     "views": [
      {
       "cell_index": 4
      }
     ]
    },
    "714e61730fa24dbb8837299d24fb5734": {
     "views": [
      {
       "cell_index": 13
      }
     ]
    },
    "738e8879ee2446dc950a4abb83884733": {
     "views": [
      {
       "cell_index": 13
      }
     ]
    },
    "73cb880b9b3c4977844706ef61aa6da6": {
     "views": [
      {
       "cell_index": 16
      }
     ]
    },
    "74b7c41657f144f68d596741a18cc043": {
     "views": [
      {
       "cell_index": 4
      }
     ]
    },
    "7609aa83bd5e46019603522f9cf83a1c": {
     "views": [
      {
       "cell_index": 4
      }
     ]
    },
    "763ff5462dfa42d788a61e5940402507": {
     "views": [
      {
       "cell_index": 16
      }
     ]
    },
    "776c6880a1c64930b8eb6ede343d6da0": {
     "views": [
      {
       "cell_index": 16
      }
     ]
    },
    "7a765fea78fc46a38ce3a95c69c30a66": {
     "views": [
      {
       "cell_index": 16
      }
     ]
    },
    "7c21a721f4ff4b39a0fe4ba35f67ac8b": {
     "views": [
      {
       "cell_index": 4
      }
     ]
    },
    "7e61b614a6b84f48a2bace9e067768c0": {
     "views": [
      {
       "cell_index": 16
      }
     ]
    },
    "7e79326102ab430a94025ac5859ed119": {
     "views": [
      {
       "cell_index": 16
      }
     ]
    },
    "7f2607e1a5ab4c989bcd2efe84333fad": {
     "views": [
      {
       "cell_index": 16
      }
     ]
    },
    "7fbe713a7df240ada893861e428073d5": {
     "views": [
      {
       "cell_index": 4
      }
     ]
    },
    "80c85b6f54ef472896d1b3964345da45": {
     "views": [
      {
       "cell_index": 13
      }
     ]
    },
    "86900735ee4148e490ed19c25182a2fd": {
     "views": [
      {
       "cell_index": 13
      }
     ]
    },
    "886d2768040f4d90b093464b70274b40": {
     "views": [
      {
       "cell_index": 4
      }
     ]
    },
    "8bc592743f3e4e56b67323c9e354c1c3": {
     "views": [
      {
       "cell_index": 4
      }
     ]
    },
    "8dc1c0dcadc047128f8d00c9d7e6894c": {
     "views": [
      {
       "cell_index": 4
      }
     ]
    },
    "8dca3fb7448f484bbaa47989647d9579": {
     "views": [
      {
       "cell_index": 16
      }
     ]
    },
    "8ede9724b72f4e06adcec349e784813d": {
     "views": [
      {
       "cell_index": 13
      }
     ]
    },
    "8ff15c5868064291a8324b229159a9f1": {
     "views": [
      {
       "cell_index": 4
      }
     ]
    },
    "93db9f77a7f34a32a9f77e97a5074c2e": {
     "views": [
      {
       "cell_index": 4
      }
     ]
    },
    "9537286be42e413485288e267bd17173": {
     "views": [
      {
       "cell_index": 13
      }
     ]
    },
    "96f53ed8045f4e54972f739bf1e2400a": {
     "views": [
      {
       "cell_index": 4
      }
     ]
    },
    "97d80a12d30848438e1c861763e9ba34": {
     "views": [
      {
       "cell_index": 16
      }
     ]
    },
    "9992c1012dbe4258b766ecf2860eb983": {
     "views": [
      {
       "cell_index": 16
      }
     ]
    },
    "9aa4282a8aa24aeebe959e5b1f3a0659": {
     "views": [
      {
       "cell_index": 4
      }
     ]
    },
    "9f05896205c54017a4912ecaf17c41fd": {
     "views": [
      {
       "cell_index": 4
      }
     ]
    },
    "9f894648668445019f59f9c363fd25fc": {
     "views": [
      {
       "cell_index": 13
      }
     ]
    },
    "9fb78ba048c54b3b8136310cd0b1eb5d": {
     "views": [
      {
       "cell_index": 16
      }
     ]
    },
    "a0dd689da2944e2cbfb2bd3a213eb83c": {
     "views": [
      {
       "cell_index": 4
      }
     ]
    },
    "a2a98e4f5ed4441c9e485272b8e238a5": {
     "views": [
      {
       "cell_index": 16
      }
     ]
    },
    "a40bc782fbfe4644adeaa1ddf467d4c8": {
     "views": [
      {
       "cell_index": 16
      }
     ]
    },
    "a4549b4ae99c4adb97fe42d3a55f0e6d": {
     "views": [
      {
       "cell_index": 16
      }
     ]
    },
    "a75e8ffa6b27420f8f5caa90fe0cff1c": {
     "views": [
      {
       "cell_index": 4
      }
     ]
    },
    "a809574a2adb43c3b9bff317073bb3c2": {
     "views": [
      {
       "cell_index": 13
      }
     ]
    },
    "ab5d70a997934a3988b0e467733b66ce": {
     "views": [
      {
       "cell_index": 13
      }
     ]
    },
    "abec078ef82f4e1584cba48006add658": {
     "views": [
      {
       "cell_index": 16
      }
     ]
    },
    "adbd7c523fc5457ab7f0f31e09b4d099": {
     "views": [
      {
       "cell_index": 13
      }
     ]
    },
    "aefee5ffbbba440caf0d4dcd7f7acd68": {
     "views": [
      {
       "cell_index": 13
      }
     ]
    },
    "afe78fe21bbf46c38f622820e8ed2510": {
     "views": [
      {
       "cell_index": 4
      }
     ]
    },
    "b60bc4963dfc4f16b4ada54e9b6d2508": {
     "views": [
      {
       "cell_index": 4
      }
     ]
    },
    "b68a8c436c63489bbc78c83d20efdac3": {
     "views": [
      {
       "cell_index": 4
      }
     ]
    },
    "b864937c16f44404ab262a47cab82e87": {
     "views": [
      {
       "cell_index": 16
      }
     ]
    },
    "ba0e551396514e37aef1481d14a7a2b1": {
     "views": [
      {
       "cell_index": 16
      }
     ]
    },
    "ba464e369f7f4041a5bcbc2b8cac0e13": {
     "views": [
      {
       "cell_index": 16
      }
     ]
    },
    "be412bea50b74231a9d546fb550b2aba": {
     "views": [
      {
       "cell_index": 4
      }
     ]
    },
    "be8eedca8a50413a90b7ec79e2330223": {
     "views": [
      {
       "cell_index": 13
      }
     ]
    },
    "c3213d53e36f4047a709e1c62f77a079": {
     "views": [
      {
       "cell_index": 13
      }
     ]
    },
    "c530f60a91394e8fa640ac9537eba7d5": {
     "views": [
      {
       "cell_index": 13
      }
     ]
    },
    "c615bc07d5c8458fbaa1110de5a4a43b": {
     "views": [
      {
       "cell_index": 4
      }
     ]
    },
    "c6c365312d09462b91a8af754ff251ed": {
     "views": [
      {
       "cell_index": 13
      }
     ]
    },
    "c9755ffd865c4ee1aabf7375faa38e05": {
     "views": [
      {
       "cell_index": 16
      }
     ]
    },
    "ca95e54146d94a8faebf1d0e6d8d25b4": {
     "views": [
      {
       "cell_index": 4
      }
     ]
    },
    "cc0568446f3c49e38a00beea627cf18c": {
     "views": [
      {
       "cell_index": 4
      }
     ]
    },
    "cd62ff17c7934f68b1612af9f5431a6c": {
     "views": [
      {
       "cell_index": 4
      }
     ]
    },
    "cda0ec6443b6425aacc3c2184279d900": {
     "views": [
      {
       "cell_index": 4
      }
     ]
    },
    "cda1d490414f4909ad7cc81e141d367b": {
     "views": [
      {
       "cell_index": 16
      }
     ]
    },
    "cdc012d092ba4f5aadde8a7bab23855c": {
     "views": [
      {
       "cell_index": 16
      }
     ]
    },
    "d23f530af87c4bfdbc6ffbc9dea925d9": {
     "views": [
      {
       "cell_index": 13
      }
     ]
    },
    "d30ed846e13545258157f77ededed98e": {
     "views": [
      {
       "cell_index": 4
      }
     ]
    },
    "d468389486d0494baa067abe91ce48cd": {
     "views": [
      {
       "cell_index": 16
      }
     ]
    },
    "d63571476afc43eaa2570b1f0cb015a2": {
     "views": [
      {
       "cell_index": 4
      }
     ]
    },
    "d792048a6e4a4c178843bc92b5c14ea3": {
     "views": [
      {
       "cell_index": 13
      }
     ]
    },
    "d7d7dd6fa2474c5e9b193583f85215fb": {
     "views": [
      {
       "cell_index": 13
      }
     ]
    },
    "d7ec90ceb1254188b13ccd6d561b6352": {
     "views": [
      {
       "cell_index": 4
      }
     ]
    },
    "d96081ecc1ba41ca93be49eab23f1eb3": {
     "views": [
      {
       "cell_index": 4
      }
     ]
    },
    "d9b57213eff04be4bf297e90f13bb75f": {
     "views": [
      {
       "cell_index": 4
      }
     ]
    },
    "dc520e9213264f99b4565ae2ac6c0b61": {
     "views": [
      {
       "cell_index": 4
      }
     ]
    },
    "e399cbe0599c4088b8ebb446f7774c35": {
     "views": [
      {
       "cell_index": 4
      }
     ]
    },
    "e4108e28eaa0499d9e9a02c760e01e01": {
     "views": [
      {
       "cell_index": 4
      }
     ]
    },
    "e6368d1f865c4a16993fc73fb894f76c": {
     "views": [
      {
       "cell_index": 16
      }
     ]
    },
    "e6ca6186f51748e99907a6eaa011c7e2": {
     "views": [
      {
       "cell_index": 16
      }
     ]
    },
    "ecc51dc8c63c4cc7ad4239d0bd70c667": {
     "views": [
      {
       "cell_index": 16
      }
     ]
    },
    "ed4f9a8a27014a358ca137c1d2cff5b2": {
     "views": [
      {
       "cell_index": 16
      }
     ]
    },
    "ed8fabe294b94954afdfdb55c06cdf14": {
     "views": [
      {
       "cell_index": 16
      }
     ]
    },
    "edb5355f9b8245099506fb1d23716445": {
     "views": [
      {
       "cell_index": 4
      }
     ]
    },
    "efcd4c14e8c74c5d932cb80bd702b8da": {
     "views": [
      {
       "cell_index": 4
      }
     ]
    },
    "f182bf0f4095463186f3f99a1b4a0813": {
     "views": [
      {
       "cell_index": 4
      }
     ]
    },
    "f23ef951869842dda9650c7522b47bcc": {
     "views": [
      {
       "cell_index": 13
      }
     ]
    },
    "f6bfd1ecda7049efa7fdb2c752181ae5": {
     "views": [
      {
       "cell_index": 16
      }
     ]
    },
    "f6fd7dda227a4956bb063f405b322225": {
     "views": [
      {
       "cell_index": 4
      }
     ]
    },
    "fda0285dad534d31bf0e1d6274726ac5": {
     "views": [
      {
       "cell_index": 16
      }
     ]
    },
    "fec4c5239aa94e3b8cb0134b43bb337a": {
     "views": [
      {
       "cell_index": 16
      }
     ]
    },
    "fff333f43da8495983bbdc4ca659c889": {
     "views": [
      {
       "cell_index": 16
      }
     ]
    }
   },
   "version": "1.2.0"
  }
 },
 "nbformat": 4,
 "nbformat_minor": 0
}
