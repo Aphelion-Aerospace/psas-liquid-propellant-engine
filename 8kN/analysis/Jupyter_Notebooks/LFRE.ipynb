{
 "cells": [
  {
   "cell_type": "markdown",
   "metadata": {},
   "source": [
    "# Exploration of the Construction of Liquid Fuel Bipropellant Rocket Engines Utilizing Additive Manufacturing Processes\n",
    "\n",
    "\n",
    "## Abstract:\n",
    "\n",
    "The Portland State Aerospace Society (PSAS) is an engineering student group and citizen science project at Portland State University dedicated to building low-cost, open-source, open-hardware rockets and avionics systems. The group’s stated long term goal is to place a 1 kg cubesat into low Earth orbit with their own launch vehicle. One step needed to achieve this goal is to transition the current rocket design from a solid motor to a liquid fuel engine. The liquid propelled rocket engine project is being conducted as part of a mechanical engineering senior capstone project at Portland State University. This project is on track to being completed by June of 2016.\n",
    "\n",
    "The complexity and cost of building a liquid fuel rocket engine typically makes such devices unobtainable for a majority of parties interested in their construction. Until recently, manufacturing processes and techniques limited the geometries available to the designer and rendered such engines cost prohibitive as options for inexpensive orbital space flight. Advances in additive manufacturing technologies provide the potential to prototype complex geometries on a lower budget and with shorter lead times which would be considered unobtainable with traditional manufacturing methods. Furthermore, bipropellant liquid fuels offer many complex engineering considerations; the full analysis of which may not be within the design ability of many amateur builds. It is therefore advantageous to develop techniques for additive manufacturing rapid prototyping to make the study of bipropellant fuels more accessible.\n",
    "\n",
    "Explored herein is the process of designing and testing a liquid bipropellant engine on the scale of 50-1000 lbf of thrust using liquid oxygen (LOX) and ethanol as propellants. A low cost pintle injector and accompanying regeneratively cooled thrust chamber is developed using a combination of traditional manufacturing techniques and additive processes. Equations have been determined to describe the more complex geometries of the nozzle contour and the sizing of other important components. Figure 1 shows the preliminary design of the combustion chamber and nozzle with cooling channels. Heat transfer analysis is being conducted to determine the type of metal to be selected for the nozzle and cooling chamber, most likely a high-temperature steel such as inconel.\n",
    "\n",
    "\n",
    "Figure 1: Combustion chamber and nozzle preliminary design\n",
    "\n",
    "In order to achieve a simple and easy to manufacture pintle injector design, the regenerative cooling channel interface, fuel manifold and most of the injector plate will be part of the additively manufactured combustion chamber. The design will accommodate easy installation of different injector types to allow for testing of different injector and spray configurations. Cold flow tests will be conducted to study the viscous losses in 3D-printed metal cooling channels, manifold system, and pintle injector designs.\n",
    "\n",
    "An engine test-stand has been constructed and a pressure fed fuel system with actuated valves is being developed for fuel delivery. Pressure transducers and thermocouples will be ported into the final engine design to collect pressure and temperature data in the nozzle and combustion chamber. Analytical solutions and empirical data will be compared against simulations carried out by computational fluid dynamics (CFD) simulations. CFD simulations will be conducted using Loci/CHEM and Star-CCM+ simulation software."
   ]
  },
  {
   "cell_type": "markdown",
   "metadata": {
    "collapsed": true
   },
   "source": [
    "#### Initial Design Considerations\n",
    "\n",
    "Parameters must be selected. The generation of force is the desire of a rocket engine. the force equation is:\n",
    "\n",
    "$$ F = \\frac{\\dot{w}}{g} V_{e} + A_{e}(P_{e}-P_{a}) $$\n",
    "\n",
    "This is important when designing engines for flight, but when testing engines $P_{e}$ is optimally expanded and assumed to be atmospheric pressure (14.7 psia) and the equation becomes:\n",
    "\n",
    "$$ F = \\frac{\\dot{w}}{g} V_{e} $$\n",
    "\n",
    "For engines in flight the effective exhaust velocity, $c$, can be used, and equation X can be expressed as:\n",
    "\n",
    "$$F = c\\frac{\\dot{W}}{g} $$\n",
    "\n",
    "Where c is defined as\n",
    "\n",
    "$$c=V_{e} + A_{e}(P_{e}-P_{a})\\frac{g}{\\dot{W}} $$\n",
    "\n",
    "which changes with altitude.\n",
    "\n",
    "For a desired force, there must then be selected an exit velocity to find the necessary flow rate, $\\dot{w}$. The theoretical exit velocity is defined as:\n",
    "\n",
    "$$V_{e} = \\sqrt{\\frac{2g\\gamma}{\\gamma-1}RT_{i}\\bigg[1-\\bigg(\\frac{P_{e}}{P_{i}}\\bigg)\\bigg]^\\frac{\\gamma-1}{\\gamma}+v_{i}^2} $$\n",
    "\n",
    "Because the inlet velocity is very small, it is assumed to be zero, this gives the following:\n",
    "\n",
    "$$V_{e} = \\sqrt{\\frac{2g\\gamma}{\\gamma-1}RT_{c_{ns}}\\bigg[1-\\bigg(\\frac{P_{e}}{P_{c_{ns}}}\\bigg)\\bigg]^\\frac{\\gamma-1}{\\gamma}} $$\n",
    "\n",
    "which is dependent on the propellants, chamber pressure which should be chosen for the design, $P_{i}$, and the mach number at the nozzle inlet, $M_{i}$, which must be calculated iteratively. \n",
    "\n",
    "Pressure at the exit, $P_{e}$, of a test nozzle should be expanded to the pressure of testing conditions (assumed to be sea-level atmospheric pressure).\n",
    "\n",
    "Flame temperature and gamma can be obtained for a given propellant combination by using NASA's [CEArun](https://cearun.grc.nasa.gov/) tool. [link to portion in document which describes how to use cearun](internallinkhere)\n",
    "\n",
    "The propellent mixture ratio, can be used to manipulate flame temperature as well as cooling capacity. Increasing fuel; and thereby decreasing rw, will result in lower temperatures and more coolant mass flow-rate. CEArun should be used to determine the effect of a given mixture ratio.\n",
    "\n",
    "Things to add to this section:\n",
    "choosing OF ratios, (maximize theoretical specific impulse, balance with temperature limits, increases in oxidizer tend to lead to higher temperatures. selecting chamber pressures should be dependent on material limits, impulse tends to increase with increases in pressure, more enthalpy is available to convert to exhaust velocity, higher pressures generally result in higher temperatures.\n",
    "\n",
    "define constants to be used in mathmatics. discuss gas constants and their calculations.\n",
    "\n",
    "discuss each parameter as well as nomenclature, what does inj, inlet, throat, or exit mean, show locations in diagrams.\n",
    "\n",
    "\n"
   ]
  },
  {
   "cell_type": "code",
   "execution_count": 58,
   "metadata": {
    "collapsed": true
   },
   "outputs": [],
   "source": [
    "import math\n",
    "from mpmath import *\n",
    "from IPython.display import display\n",
    "from ipywidgets import widgets\n",
    "\n",
    "#Define Constants\n",
    "g     = 32.2  # gravitational constant in ft/s^2\n",
    "J     = 778   # Energy conversion factor (ft-lb/Btu)\n",
    "Regas = 1544  # Gas constant (ft/degR)\n",
    "Rgas  = 8.314 # Gas constant (J/mol/K)"
   ]
  },
  {
   "cell_type": "markdown",
   "metadata": {},
   "source": [
    "Force: The desired force output of the nozzle. Increasing force will increase mass flow rate of propellants, and can be used to increase cooling capacity.\n",
    "\n",
    "Molecular weight: CEARun Parameter\n",
    "\n",
    "Atmospheric Pressure: Pressure of the open atmosphere at desired optimized altitude. 14.7 psi for sea level applications.\n",
    "\n",
    "Exit Pressure: Desired expansion pressure. Equal to atmospheric pressure in an ideally expanded nozzle.\n",
    "\n",
    "Pressure at Injector: Desired chamber pressure after drop across injector. Higher chamber pressures allow for longer super sonic flow sections and greater expansion ratios, but will result in larger cooling surface areas and heavier nozzles.\n",
    "\n",
    "Weight mixture ratio: Optimized using CEARun for particular propellant combinations. Use of fuel rich ratios can aid in cooling by increasing fuel mass flow rate and thereby cooling capacity. Non ideal mixtures can have the effect of small changes in flame temperature.\n",
    "\n",
    "Fuel mixture percentage: mass percent of aqueous fuel solutions. Lowering can increase cooling capacity by increasing the mass flow rate of coolant, as well as raising the specific heat of the coolant. Results in less available fuel for combustion and lower combustion efficiencies.\n",
    "\n",
    "Ambient temperature: Local air temperature, assumed to be the holding temperature of fuel. Refridgeration of fuel can be acheived by altering ambient temperature. (this could potentially be altered by adding a refridgeration temperature differential value, or solving for needed refridgeration temperature in order to provide sufficient cooling capacity for an engine near convergence on heat transfer.\n",
    "\n",
    "Nozzle Stagnation Temperature: Flame temperature at stagnation, assumed to be chamber flame temperature. Obtained by CEARun.\n",
    "\n",
    "Contraction Ratio: Ratio of chamber cross sectional area to throat cross sectional area. Reasonable values may be obtained by Fig 4-9 Huang (add picture of fig 4-9 xx). Small rockets may increase avaible tooling area by increasing this value. Larger values result in larger cooling surface areas and greater cooling capacity requirements. Decreasing can aid in heat transfer convergence.\n",
    "\n",
    "Ratio of specific heats: The ratio of specific heats of propellants. Obtained via CEARun."
   ]
  },
  {
   "cell_type": "code",
   "execution_count": 59,
   "metadata": {
    "collapsed": false,
    "scrolled": true
   },
   "outputs": [],
   "source": [
    "#initial design considerations inputs\n",
    "#consider calculated exit pressure based on desired optimized altitude and then printing results by iterating\n",
    "#through various ambient pressures as a tool for designing flight engines.\n",
    "#-------------------------------------------------------------------------\n",
    "#also consider grouping all CEArun generated perameters together and dedicating a whole section to using the tool.\n",
    "\n",
    "F_        = widgets.Text(\"1500\"    , description=\"Force, F (lbf)\"                           , width=60  )\n",
    "M_        = widgets.Text(\"19.736\" , description=\"Molecular Weight, (lb/lb-mol)\"             , width=100 )\n",
    "Pa_       = widgets.Text(\"14.7\"   , description=\"Ambient Pressure, (lbf/in^2)\"                 , width=60  )\n",
    "Pe_       = widgets.Text(\"10\"   , description=\"Exit Pressure, Pe (lbf/in^2) \"                , width=60  )\n",
    "Pinj_     = widgets.Text(\"350\"    , description=\"Pressure at injector, Pinj (lb/in^2)\"      , width=60  )\n",
    "rw_       = widgets.Text(\"1.17\"    , description=\"(oxidizer/fuel) Weight mixture ratio\"      , width=60  )\n",
    "rwfuel_   = widgets.Text(\"86\"   , description=\"Fuel mixture percentage\"                     , width=60  )\n",
    "Tamb_     = widgets.Text(\"536.67\"    , description=\"Ambient temperature, (deg R)\"              , width=60  ) #77 deg f and default in CEARUN\n",
    "Tcns_     = widgets.Text(\"5203.8\" , description=\"Nozzle stagnation temperature, (deg R)\"    , width=80  )\n",
    "epsilonc_ = widgets.Text(\"5\"   , description=\"Contraction ratio\"                         , width=60  )\n",
    "gam_      = widgets.Text(\"1.1701\" , description=\"Specific heat ratio\"                       , width=80  )\n",
    "\n",
    "display(F_        )\n",
    "display(M_        )\n",
    "display(Pa_       )\n",
    "display(Pe_       )\n",
    "display(Pinj_     )\n",
    "display(rw_       )\n",
    "display(rwfuel_   )\n",
    "display(Tamb_     )\n",
    "display(Tcns_     )\n",
    "display(epsilonc_ )\n",
    "display(gam_      )"
   ]
  },
  {
   "cell_type": "code",
   "execution_count": 60,
   "metadata": {
    "collapsed": false
   },
   "outputs": [],
   "source": [
    "F        = float(F_.value        ) #Nozzle force\n",
    "M        = float(M_.value        ) #Molecular Weight\n",
    "Pa       = float(Pa_.value       ) #Atmospheric Pressure\n",
    "Pe       = float(Pe_.value       ) #Pressure at exit\n",
    "Pinj     = float(Pinj_.value     ) #Pressure at injector\n",
    "rw       = float(rw_.value       ) #Weight mixture ratio\n",
    "rwfuel   = float(rwfuel_.value   ) #Fuel mixture percentage\n",
    "Tamb     = float(Tamb_.value     ) #Ambient temperature\n",
    "Tcns     = float(Tcns_.value     ) #Nozzle stagnation temperature\n",
    "epsilonc = float(epsilonc_.value ) #Contraction ratio\n",
    "gam      = float(gam_.value      ) #Specific Heat Ratio\n"
   ]
  },
  {
   "cell_type": "markdown",
   "metadata": {},
   "source": [
    "The mach number at the inlet varies with dependence on the contraction ratio. Higher contraction ratios lead to smaller mach numbers at the nozzle inlet, small engines tend to have large contraction ratios in order to be machinable, which results in small mach numbers at the inlet.\n",
    "\n",
    "(Figure 1-10 (huang) could be displayed here xx)"
   ]
  },
  {
   "cell_type": "code",
   "execution_count": 61,
   "metadata": {
    "collapsed": false
   },
   "outputs": [
    {
     "name": "stdout",
     "output_type": "stream",
     "text": [
      "Mach Number at inlet: 0.13\n"
     ]
    }
   ],
   "source": [
    "#Itterative process to find mach number at the inlet.\n",
    "#equation 1-23, huang\n",
    "Mi_current = .3 # a reasonable guess for mach number at inlet\n",
    "Mi_last    = 0\n",
    "\n",
    "while (abs(Mi_current-Mi_last)>0.0001):\n",
    "    Mi_last    = Mi_current\n",
    "    Mi_current = math.sqrt(((1+(gam-1)/2*Mi_last)/((gam+1)/2))**((gam+1)/(gam-1)))/epsilonc\n",
    "\n",
    "Mi = Mi_current\n",
    "\n",
    "print(\"Mach Number at inlet: %.2f\" % Mi)"
   ]
  },
  {
   "cell_type": "code",
   "execution_count": 62,
   "metadata": {
    "collapsed": false
   },
   "outputs": [],
   "source": [
    "#Assumptions\n",
    "\n",
    "Pcinj = Pinj                   #Chamber total pressure is equal to injector pressure\n",
    "Minj  = 0                      #Mach number at injector assumed to be zero\n",
    "R     = Regas/M                #Gas constant for the flow\n",
    "Tci   = Tamb                   #Fuel holding temperature is equal to ambient temp\n",
    "Vinj  = 0                      #Injector velocity is zero"
   ]
  },
  {
   "cell_type": "markdown",
   "metadata": {},
   "source": [
    "After determining the inlet mach number, several other parameters may also be obtained.\n",
    "\n",
    "#### Pressures\n",
    "\n",
    "The nozzle stagnation pressure can be found as a function of the injector pressure, gamma, and the inlet mach number:\n",
    "\n",
    "$$ \\frac{P_{c_{inj}}}{P_{c_{ns}}} = \\frac{\\big( 1 + \\gamma M^2_i\\big)}{\\bigg( 1 + \\frac{\\gamma - 1}{2} M^2_i \\bigg)^\\frac{\\gamma}{\\gamma-1}} $$\n",
    "(equation 1-14, huang)\n",
    "\n",
    "Which may be used to find the nozzle pressure at the inlet:\n",
    "\n",
    "$$ \\frac{P_{inj}}{P_i} = 1 + \\gamma M^2_i $$\n",
    "(equation 1-15, huang)\n",
    "\n",
    "Further, the pressure at the throat, also known as the critical pressure, may also be determined:\n",
    "\n",
    "$$ \\frac{P_t}{P_{c_{ns}}} = \\bigg( \\frac{2}{\\gamma + 1} \\bigg)^{\\frac{\\gamma}{\\gamma - 1}} $$\n",
    "(equation 1-16, huang)\n",
    "\n",
    "It is important to note that past the throat of a de Laval nozzle, because the flow is moving faster than a pressure wave will propegate; a pressure wave due to an ambient pressure higher than that inside the nozzle will not occur. Because of this it is possible to expand the flow to pressures lower than ambient (or over-expand). Peak force production occurs when this pressure difference is negligible, and it is therefore important to consider at which altitude a nozzle should produce its peak force. It is uncommon for seperation to occur at the nozzle wall due to this overexpansion, but severe expansion angles or drastic over-expansion can lead to flow seperation.\n",
    "\n",
    "#### Velocities\n",
    "\n",
    "Velocity is obtained by the conversion of propellant enthalpy to motion, exit velocity is a function of the ratio of specific heats, nozzle pressure ratio, and chamber temperature, and is represented by,\n",
    "\n",
    "$$ V_{e} = \\sqrt{\\frac{2g\\gamma}{\\gamma-1}R T_{c_{ns}}\\bigg[1-\\bigg(\\frac{P_{e}}{P_{c_{ns}}}\\bigg)^\\frac{\\gamma-1}{\\gamma}}\\bigg] $$\n",
    "(1-18, huang)\n",
    "\n",
    "The velocity at the throat is independent of pressure, and represents the speed of sound in the particular medium at the throat; it is a function of the ratio of specific heats and nozzle stagnation temperature,\n",
    "\n",
    "$$ V_t = \\sqrt{\\frac{2g\\gamma}{\\gamma + 1}RT_{c_{ns}}} $$\n",
    "(1-22, huang)\n",
    "\n",
    "#### Mass flow rates\n",
    "\n",
    "Mass flow rate will depend on the desired force for a nozzle design. In order to provide a specific force requirement, and given the above calculated exit velocities; a mass flow rate is calculated,\n",
    "\n",
    "$$ F = \\frac{\\dot{w}}{g}V_e $$\n",
    "(1-6, huang)\n",
    "\n",
    "The propellant composition determines the specific mass flow rates of fuel and oxidizer. The fuel mass flow rate is calculated,\n",
    "\n",
    "(mass percent formula for fuel * flow rate)\n",
    "\n",
    "The difference between fuel and total flow rate is the remaining oxidizer flow rate,\n",
    "\n",
    "(ox flow rate formula)\n",
    "\n",
    "#### Temperature\n",
    "\n",
    "The throat temperature is a function of either the throat pressure ratio, or throat velocity ratio and ratio of specific heats and is calculated,\n",
    "\n",
    "$$ \\frac{T_i}{T_t} = \\bigg( \\frac{P_i}{P_t} \\bigg)^{\\frac{\\gamma - 1}{\\gamma}} = \\bigg( \\frac{V_t}{V_i} \\bigg)^{\\gamma - 1} $$\n",
    "(1-13, huang)\n",
    "\n",
    "The exit temperature is calculated similarly,\n",
    "\n",
    "$$ \\frac{T_i}{T_e} = \\bigg( \\frac{P_i}{P_e} \\bigg)^{\\frac{\\gamma - 1}{\\gamma}} = \\bigg( \\frac{V_e}{V_i} \\bigg)^{\\gamma - 1} $$\n",
    "(1-13, huang)\n",
    "\n",
    "The inlet temperature is a function of the inlet mach number and ratio of specific heats,\n",
    "\n",
    "$$ T_i = \\frac{T_{c_{ns}}}{\\big( 1+\\frac{\\gamma - 1}{2}M^2_i \\big)}  $$\n",
    "(table 1-1, huang)\n",
    "\n",
    "#### Geometries\n",
    "\n",
    "The throat area is critical to a choked flow. It is determined by first calculating the volume of gas according to the perfect gas law,\n",
    "\n",
    "$$ 144 P_xV_x=RT_x $$\n",
    "(1-9, huang)\n",
    "\n",
    "which is then applied with the mass flow rate and throat velocity.\n",
    "\n",
    "$$ \\dot{W} = \\frac{A_iv_i}{144V_i} = \\frac{A_xv_x}{144V_x} $$\n",
    "(1-11, huang)\n",
    "\n",
    "Further, the expansion ratio is represented as a function of the exit ratio and ratio of specific heats,\n",
    "\n",
    "$$ \\epsilon = \\frac{A_e}{A_t} = \\frac{\\bigg( \\frac{2}{\\gamma + 1} \\bigg)^{\\frac{1}{\\gamma - 1}} \\bigg[ \\frac{P_{c_{ns}}}{P_e} \\bigg]^{\\frac{1}{\\gamma}}}{\\sqrt{ \\frac{\\gamma + 1}{\\gamma - 1} \\bigg[ 1 - \\big( \\frac{P_e}{P_{c_{ns}}} \\big)^{\\frac{\\gamma - 1}{\\gamma}} \\bigg] }} $$\n",
    "(1-20, huang)\n",
    "\n",
    "which may be applied to the area ratio to determine the requisite exit area,\n",
    "\n",
    "$$ A_e = A_t \\frac{\\bigg( \\frac{2}{\\gamma + 1} \\bigg)^{\\frac{1}{\\gamma - 1}} \\bigg[ \\frac{P_{c_{ns}}}{P_e} \\bigg]^{\\frac{1}{\\gamma}}}{\\sqrt{ \\frac{\\gamma + 1}{\\gamma - 1} \\bigg[ 1 - \\big( \\frac{P_e}{P_{c_{ns}}} \\big)^{\\frac{\\gamma - 1}{\\gamma}} \\bigg] }} $$\n",
    "(1-20, huang)\n",
    "\n",
    "Finally, the effective exhaust velocity is now calculated for engines operating at ambient pressures which are not equal to the exit pressure.\n",
    "\n",
    "$$ c = v_e + A_e \\big( P_e - P_a \\big) \\frac{g}{\\dot{W}} $$\n",
    "(1-8, huang)"
   ]
  },
  {
   "cell_type": "code",
   "execution_count": 63,
   "metadata": {
    "collapsed": false
   },
   "outputs": [],
   "source": [
    "#Calculations\n",
    "\n",
    "Pcns     = Pcinj*(1+((gam-1)/2)*Mi**2)**(gam/(gam-1))/(1+gam*Mi**2)         #Nozzle stagnation pressure (1-14, huang)\n",
    "Pi       = Pinj/(1+gam*Mi**2)                                               #Pressure at inlet          (1-15, huang)\n",
    "Pt       = Pcns*(2/(gam+1))**(gam/(gam-1))                                  #Pressure at throat         (1-21, huang)\n",
    "Ve       = math.sqrt(((2*g*gam)/(gam-1))*R*Tcns*(1-(Pe/Pi)**((gam-1)/gam))) #Velocity at exit           (1-18, huang)\n",
    "Vt       = math.sqrt(((2*g*gam)/(gam+1))*R*Tcns)                            #Velocity at throat         (1-22, huang)\n",
    "wdot     = F*g/Ve                                                           #Propellant flow rate       (1-6,  huang)\n",
    "wdotf    = 1/(1+rw)*wdot                                                    #Fuel mass flow rate\n",
    "wdoto    = wdot-wdotf                                                       #Ox mass flow rate\n",
    "Tt       = Tcns*(Pt/Pcns)**((gam-1)/gam)                                    #Temperature at throat      (1-13, huang)\n",
    "Ti       = Tcns/(1+.5*(gam-1)*Mi**2)                                        #Inlet temperature          (Tab. 1-1, huang)\n",
    "Te       = Ti/(Pi/Pe)**((gam-1)/gam)                                        #Temperature at exit        (1-13, huang)\n",
    "Volumet  = R*Tt/144/Pt                                                      #Gas volume at throat       (1-9,  huang)\n",
    "At       = 144*wdot*Volumet/Vt                                              #Area of throat             (1-11, huang)\n",
    "Wdot     = At*Pcns*math.sqrt(g*gam*(2/(gam+1))**((gam+1)/(gam-1))/R/Tcns)   #Theoretical weight flow    (1-19, huang)\n",
    "epsilon  = ((2/(gam+1))**(1/(gam-1))*(Pcns/Pe)**(1/gam)/math.sqrt((gam+1)/\n",
    "                        (gam-1)*(1-(Pe/Pcns)**((gam-1/gam)))))              #Expansion ratio            (1-20, huang)\n",
    "Ae       = At*epsilon                                                       #Area of exit               (1-20, huang)\n",
    "c        = Ve+Ae*(Pe-Pa)*(g/wdot)                                           #Effective exhaust velocity (1-8,  huang)\n"
   ]
  },
  {
   "cell_type": "code",
   "execution_count": 64,
   "metadata": {
    "collapsed": false
   },
   "outputs": [
    {
     "name": "stdout",
     "output_type": "stream",
     "text": [
      "Pressures:\n",
      "Total Chamber,  Pcinj (psi):     350.00\n",
      "Stagnation,     Pcns  (psi):     346.76\n",
      "Inlet,          Pi    (psi):     343.49\n",
      "Throat,         Pt    (psi):     197.77\n",
      "\n",
      "Velocities:\n",
      "Throat,         Vt (ft/sec):     3759.84\n",
      "Exit,           Vt (ft/sec):     8514.42\n",
      "Effective,      c  (ft/sec):     8180.51\n",
      "\n",
      "Mass Flow Rates:\n",
      "Total,          wdot  (lb/sec):  5.67\n",
      "Fuel,           wdotf (lb/sec):  2.61\n",
      "Oxidizer,       wdoto (lb/sec):  3.06\n",
      "Theoretical,    Wdot  (lb/sec):  5.67\n",
      "\n",
      "Temperatures:\n",
      "Fuel (holding), Tci  (R):        536.67\n",
      "Stagnation,     Tcns (R):        5203.80\n",
      "Inlet,          Ti   (R):        5196.64\n",
      "\n",
      "Expansion Ratio: 4.37\n"
     ]
    }
   ],
   "source": [
    "#Print results\n",
    "print(\"Pressures:\")\n",
    "print(\"Total Chamber,  Pcinj (psi):     %.2f\"   % Pcinj )\n",
    "print(\"Stagnation,     Pcns  (psi):     %.2f\"   % Pcns  )\n",
    "print(\"Inlet,          Pi    (psi):     %.2f\"   % Pi    )\n",
    "print(\"Throat,         Pt    (psi):     %.2f\\n\" % Pt    )\n",
    "print(\"Velocities:\")\n",
    "print(\"Throat,         Vt (ft/sec):     %.2f\"   % Vt    )\n",
    "print(\"Exit,           Vt (ft/sec):     %.2f\"   % Ve    )\n",
    "print(\"Effective,      c  (ft/sec):     %.2f\\n\" % c     )\n",
    "print(\"Mass Flow Rates:\")\n",
    "print(\"Total,          wdot  (lb/sec):  %.2f\"   % wdot  )\n",
    "print(\"Fuel,           wdotf (lb/sec):  %.2f\"   % wdotf )\n",
    "print(\"Oxidizer,       wdoto (lb/sec):  %.2f\"   % wdoto )\n",
    "print(\"Theoretical,    Wdot  (lb/sec):  %.2f\\n\" % Wdot  )\n",
    "print(\"Temperatures:\")\n",
    "print(\"Fuel (holding), Tci  (R):        %.2f\"   % Tci   )\n",
    "print(\"Stagnation,     Tcns (R):        %.2f\"   % Tcns  )\n",
    "print(\"Inlet,          Ti   (R):        %.2f\\n\" % Ti    )\n",
    "print(\"Expansion Ratio: %.2f\" % epsilon)"
   ]
  },
  {
   "cell_type": "markdown",
   "metadata": {},
   "source": [
    "#### Material Properties\n",
    "\n",
    "Material properties are dependent on the material and process used. Current listed properties represent materials available through i3D manufacturing processes according to their print datasheets. Values do not typically deviate to a magnitude which would result in unacceptable designs if different print materials were to be used, but it is important to check any design against material datasheet properties which represent the final process which will be used to machine the engine.\n",
    "\n",
    "Properties are represented by the following variables:\n",
    "a: Thermal expansion coefficent (in/in-F)\n",
    "E: Modulus of elasticity (lb/in^2)\n",
    "k: Thermal conductivity (Btu/in^2-s-F/in)\n",
    "Twg: Maximum acceptable material temperature (R)\n",
    "v: Poisson's ratio (in/in)\n",
    "RA: RA surface roughness (in)\n",
    "\n",
    "#### Changing material properties\n",
    "\n",
    "Alteration of the material index variable (MatInd) is the only change necessary to choose a material for nozzle construction."
   ]
  },
  {
   "cell_type": "code",
   "execution_count": 65,
   "metadata": {
    "collapsed": false
   },
   "outputs": [],
   "source": [
    "#material properties\n",
    "\n",
    "# Typical values for various printable materials\n",
    "# Inconel 718:         a = 0.000008065 , E = 25450000 , k = .000225694 , Twg = 1700 , v = 0.274 , RA = 650*10**-6 in\n",
    "# Aluminum (AlSi10Mg): a = 0.000014 , E = 10200000 , k = 0.001716667 - 0.001983333, Twg = 1500, v = 0.33 , RA = 0.59-0.75 * 10**-3 in\n",
    "# Cobalt Chrome:       a = 0.0000069 , E = 30000000 , k = 0.000333333 , Twg = 2563 , v = 0.29 , RA = 0.39 *10**-3 in\n",
    "# Titanium:            a = 0.000032724 , E =16100000 , k = .000111667 , Twg = 3479 , v = 0.31, RA \n",
    "# Steel\n",
    "\n",
    "Props = [\n",
    "    #     a              E              k          Twg        v         RA\n",
    "    [\"0.000008065\" , \"25450000\" , \"0.000225694\" , \"1700\" , \"0.274\" , \"0.00065\"], # 0 Inconel\n",
    "    [\"0.000014\"    , \"10200000\" , \"0.001716667\" , \"1200\" , \"0.33\"  , \"0.00059\"], # 1 Aluminum\n",
    "    [\"0.0000069\"   , \"30000000\" , \"0.000333333\" , \"2563\" , \"0.29\"  , \"0.00039\"], # 2 Cobalt Chrome\n",
    "    [\"0.000032724\" , \"16100000\" , \"0.000111667\" , \"3479\" , \"0.31\"  , \"0.00065\"]  # 3 Titanium\n",
    "        ]\n",
    "MatInd = 1 # Material index\n",
    "\n",
    "a_   = widgets.Text(Props[MatInd][0], description=\"Thermal expansion ratio nozzle material\"        , width=100 )\n",
    "E_   = widgets.Text(Props[MatInd][1], description=\"Elastic modulus of nozzle material, E (psi)\"    , width=70  )\n",
    "k_   = widgets.Text(Props[MatInd][2], description=\"Wall thermal conductivity, k (Btu-in/in^2-s-F)\" , width=120 )\n",
    "Twg_ = widgets.Text(Props[MatInd][3], description=\"Maximum Material Temperature at wall, (deg R)\"  , width=60  )\n",
    "v_   = widgets.Text(Props[MatInd][4], description=\"Poisson's ratio nozzle material\"                , width=60  )\n",
    "RA_  = widgets.Text(Props[MatInd][5], description=\"Surface Rougness, (inch RA)\"                    , width=100 )\n",
    "\n",
    "\n",
    "\n",
    "#display user input boxes\n",
    "display(a_   )\n",
    "display(E_   )\n",
    "display(k_   )\n",
    "display(Twg_ )\n",
    "display(v_   )\n",
    "display(RA_  )"
   ]
  },
  {
   "cell_type": "code",
   "execution_count": 66,
   "metadata": {
    "collapsed": true
   },
   "outputs": [],
   "source": [
    "#Convert user inputs to float\n",
    "a   = float(a_.value   ) #Thermal expansion ratio of nozzle material\n",
    "E   = float(E_.value   ) #Elastic modulus of nozzle material\n",
    "k   = float(k_.value   ) #Wall thermal conductivity\n",
    "Twg = float(Twg_.value ) #Maximum Wall Temperature\n",
    "v   = float(v_.value   ) #Poisson's ratio nozzle material\n",
    "RA  = float(RA_.value  ) #RA surface roughness of nozzle material"
   ]
  },
  {
   "cell_type": "markdown",
   "metadata": {},
   "source": [
    "#### Design Variables\n",
    "\n",
    "Certain variables are dependant on design choices, such as a choice of fuel, or a desired cooling channel area ratio. These variables may be used to manipulate resulting design dependent values.\n",
    "\n",
    "#### Cooling channel aspect ratio at throat\n",
    "\n",
    "High aspect ratios have been associated with higher cooling efficiencies (cite paper xx). Increasing the cooling channel aspect ratio will result in a smaller hydraulic diameter, and greater pressure losses through the cooling channels. Increases in aspect ratio will also lead to an increased number of cooling channels, which decreases stresses in the chamber walls due to a pressure differential on either side of a given wall. Typically, small scale rockets will not experience significant stresses due to pressure within the cooling channel, as the pressures required to cause significant stresses within such small geometries are high enough to require turbomachinery, which are generally not available to builds on the amature scale. Lowering aspect ratios can therefore be used to decrease pressure losses and make pressure fed systems more manageable.\n",
    "\n",
    "#### Boiling point of fuel\n",
    "\n",
    "Fuel boiling point is a material property, but may be manipulated in certain fuels, particularly those which are aqueous solutions. Dilution of fuels with water will generally change the boiling point of a fuel, though the effect is generally not linear. Boiling point is taken at standard temperature and pressure for a given fuel solution.\n",
    "\n",
    "#### Specific heat of fuel\n",
    "\n",
    "The specific heat of the fuel is a material property. The value used for specific heat should be that of a pure sample of the fuel.\n",
    "\n",
    "#### Injector pressure drop\n",
    "\n",
    "Injector design is beyond the scope of this document, but the pressure drop across any particular design must be accounted for, and is done so here.\n",
    "\n",
    "#### Fuel heat of vaporization\n",
    "\n",
    "Heat of vaporization is a material property. In order to determine coolant capacity, the boiling point of the coolant must be calculated at the lowest pressure along the cooling channel. The heat of vaporization is used to calculate this value.\n",
    "\n",
    "#### Characteristic chamber length\n",
    "\n",
    "The characteristic length of the chamber is a range of emperically determined values for various propellant combinations. Accepted ranges for characterist length for various fuels can be found (consider adding table xx) in table 4-1 in Huang. \n",
    "\n",
    "#### Nucleate boiling factor of safety\n",
    "\n",
    "Factor of safety to protect against nucleate boiling. For pressures which will not allow for a supercritical coolant, nucleate boiling should be avoided. Designers should determine an acceptable level of risk when approaching the boiling point of the coolant. High factors of safety should also be avoided, as over cooling an engine can decrease performance significantly. Typical factors of safety range from 1.1 to 1.3 for engine applications.\n",
    "\n",
    "#### Initial fuel pressure\n",
    "\n",
    "The pressure of the fuel when it arrives at the fuel manifold. Higher pressures can protect against nucleate boiling by raising the temperature required for nucleate boiling.\n",
    "\n",
    "#### Throat temperature\n",
    "\n",
    "CEArun parameter. Can be manipulated slightly by changing composition of the fuel or mixture ratio.\n",
    "\n",
    "#### Combustion efficiency\n",
    "\n",
    "Determined experimentally. Adjust after measuring engine performance in testing.\n",
    "\n",
    "#### Film cooling correction factor\n",
    "\n",
    "When film cooling is used in conjunction with regenerative cooling, a correction factor for the adiabadic gas wall temperature must be applied. There is no reliable model for determining this, but a correction factor can be determined after measuring the temperature rise in the coolant during hot fire."
   ]
  },
  {
   "cell_type": "code",
   "execution_count": 67,
   "metadata": {
    "collapsed": true
   },
   "outputs": [],
   "source": [
    "#Define User Inputs for Equation Variables, assign values to default values\n",
    "\n",
    "ARhb_    = widgets.Text(\"11\"     , description=\"Cooling channel aspect ratio at throat\"        , width=60  )\n",
    "Bpf_     = widgets.Text(\"688.67\" , description=\"Boiling Point of Fuel, Bpf (deg R)\"            , width=100 )\n",
    "CpFuel_  = widgets.Text(\"0.5876\" , description=\"Specific heat of pure Fuel, CpFuel (BTU/lb-F)\" , width=80  )\n",
    "DelPi_   = widgets.Text(\"87.5\"   , description=\"Injector pressure drop, DelPi (lbf/in^2)\"      , width=60  )\n",
    "Hvapf_   = widgets.Text(\"36800\"  , description=\"Fuel heat of vaporization, Hvapf (J/mol)\"      , width=80  )\n",
    "Lstar_   = widgets.Text(\"40\"     , description=\"Characteristic Chamber Length, L* (in) \"       , width=60  )\n",
    "nc_      = widgets.Text(\"1.1\"    , description=\"Nucleate boiling factor of safety, nc\"         , width=60  )\n",
    "Pco_     = widgets.Text(\"550\"    , description=\"Initial fuel pressure, Pco (lbf/in^2)\"         , width=60  )\n",
    "Tt_      = widgets.Text(\"4818\"   , description=\"Throat Temperature (deg R)\"                    , width=80  )\n",
    "eta_     = widgets.Text(\"0.90\"   , description=\"Combustion efficiency\"                         , width=60  )\n",
    "edafilm_ = widgets.Text(\"1\"      , description=\"Correction factor from film cooling for Taw\"   , width=60  ) # 1 = NO FILM COOLING\n",
    "\n",
    "\n",
    "#Display user input text boxes\n",
    "\n",
    "display(ARhb_    )\n",
    "display(Bpf_     )\n",
    "display(CpFuel_  )\n",
    "display(DelPi_   )\n",
    "display(Hvapf_   )\n",
    "display(Lstar_   )\n",
    "display(nc_      )\n",
    "display(Pco_     )\n",
    "display(Tt_      )\n",
    "display(eta_     )\n",
    "display(edafilm_ )"
   ]
  },
  {
   "cell_type": "code",
   "execution_count": 68,
   "metadata": {
    "collapsed": false,
    "scrolled": true
   },
   "outputs": [],
   "source": [
    "#Convert string entries to floats\n",
    "\n",
    "ARhb    = float(ARhb_.value    ) #Cooling channel aspect ratio\n",
    "Bpf     = float(Bpf_.value     ) #Boiling Point of fuel\n",
    "CpFuel  = float(CpFuel_.value  ) #Specific Heat of pure fuel\n",
    "DelPi   = float(DelPi_.value   ) #Pressure drop across injector\n",
    "Hvapf   = float(Hvapf_.value   ) #Fuel heat of vaporization\n",
    "Lstar   = float(Lstar_.value   ) #Characteristic Chamber Length\n",
    "nc      = float(nc_.value      ) #Nucleate boiling factor of safety\n",
    "Pco     = float(Pco_.value     ) #Initial fuel pressure\n",
    "Tt      = float(Tt_.value      ) #Temperature of throat flow\n",
    "eta     = float(eta_.value     ) #Combustion efficiency\n",
    "edafilm = float(edafilm_.value ) #Adiabadic wall temperature correction factor due to film cooling"
   ]
  },
  {
   "cell_type": "code",
   "execution_count": 69,
   "metadata": {
    "collapsed": true
   },
   "outputs": [],
   "source": [
    "#Performance Parameters\n",
    "\n",
    "Is    = F/wdot                                                      #Specific Impulse                (1-28,  huang)\n",
    "Istc  = c/g                                                         #Thrust chamber specific impulse (1-31a, huang)\n",
    "cstar = (math.sqrt(g*gam*R*Tcns)/gam\n",
    "             /math.sqrt((2/(gam+1))**((gam+1)/(gam-1))))            #Characteristic Velocity         (1-32a, huang)\n",
    "Cf    = (math.sqrt(2*gam**2/(gam-1)*(2/(gam+1))**((gam+1)/(gam-1))\n",
    "             *(1-(Pe/Pcns)**((gam-1)/gam)))+epsilon*((Pe-Pa)/Pcns)) #Thrust Coefficient              (1-33a, huang)"
   ]
  },
  {
   "cell_type": "code",
   "execution_count": 70,
   "metadata": {
    "collapsed": false
   },
   "outputs": [
    {
     "name": "stdout",
     "output_type": "stream",
     "text": [
      "Specific Impulse,                Is   (lb s/lb):  264.42\n",
      "Thrust Chamber specific impulse, Istc (lb s/lb):  254.05\n",
      "Characteristic Velocity,         c*   (ft/s):     5633.80\n",
      "Thrust Coefficient,              Cf:              1.45\n"
     ]
    }
   ],
   "source": [
    "#Print Performance Parameters\n",
    "\n",
    "print(\"Specific Impulse,                Is   (lb s/lb):  %.2f\" % Is    )\n",
    "print(\"Thrust Chamber specific impulse, Istc (lb s/lb):  %.2f\" % Istc  )\n",
    "print(\"Characteristic Velocity,         c*   (ft/s):     %.2f\" % cstar )\n",
    "print(\"Thrust Coefficient,              Cf:              %.2f\" % Cf    )"
   ]
  },
  {
   "cell_type": "code",
   "execution_count": 71,
   "metadata": {
    "collapsed": false
   },
   "outputs": [],
   "source": [
    "#Thrust Chamber Layout\n",
    "\n",
    "Vc = Lstar*At    #Chamber volume (4-4, huang)\n",
    "Ac = epsilonc*At #Chamber cross sectional area (fig. 4-11, huang)\n",
    "Lc = Lstar/Ac    #does not account for the converging part of combustion chamber use 4-5, huang instead"
   ]
  },
  {
   "cell_type": "code",
   "execution_count": 72,
   "metadata": {
    "collapsed": false
   },
   "outputs": [
    {
     "name": "stdout",
     "output_type": "stream",
     "text": [
      "Chamber Volume,               Vc (in^3):  114.49\n",
      "Chamber Cross Sectional Area, Ac (in^2):  14.31\n",
      "Chamber Length,               Lc (in):    2.79\n"
     ]
    }
   ],
   "source": [
    "#print thrust chamber layout\n",
    "\n",
    "print(\"Chamber Volume,               Vc (in^3):  %.2f\" % Vc)\n",
    "print(\"Chamber Cross Sectional Area, Ac (in^2):  %.2f\" % Ac)\n",
    "print(\"Chamber Length,               Lc (in):    %.2f\" % Lc)"
   ]
  },
  {
   "cell_type": "code",
   "execution_count": 73,
   "metadata": {
    "collapsed": false
   },
   "outputs": [],
   "source": [
    "#Heat Transfer\n",
    "\n",
    "CpH20  = 0.998137                                                 #Water specific heat\n",
    "Cplc   = rwfuel/100*CpFuel+(1-rwfuel/100)*CpH20                   #Coolant specific heat\n",
    "Pr     = 4*gam/(9*gam-5)                                          #Prandtl number\n",
    "mucc   = (46.6*10**-10)*M**0.5*Tcns                               #Viscosity in the combustion chamber\n",
    "mut    = (46.6*10**-10)*M**0.5*Tt                                 #Viscosity in the throat\n",
    "rlam   = Pr**0.5                                                  #Laminar flow local recovery factor\n",
    "rturb  = Pr**0.33                                                 #Turbulent flow local recovery factor\n",
    "Reffcc = ((1+rturb*((gam-1)/2)*Mi**2)/(1+((gam-1)/2)*Mi**2))\n",
    "Refft  = ((1+rturb*((gam-1)/2))/(1+((gam-1)/2)))\n",
    "Tawi   = edafilm*Tcns*Reffcc                                      #Adiabatic wall temperature at inlet\n",
    "Tawt   = edafilm*Tcns*Refft                                       #Adiabatic wall temperature at throat\n",
    "Tcc    = 9/5*(math.log(Pa/(Pi+DelPi))*Rgas/Hvapf+1/(Bpf*5/9))**-1 #Critical temperature of fuel coolant\n",
    "Twc    = Tcc/nc                                                   #Maximum coolant wall temperature\n",
    "Cpg    = gam*R/(gam-1)/J                                          #Specific heat at constant pressure\n",
    "rt     = math.sqrt(At/math.pi)                                    #Radius of throat\n",
    "re     = math.sqrt(Ae/math.pi)                                    #Radius of exit\n",
    "rmean  = rt*(1.5+.382)/2                                          #Mean throat curvature\n",
    "sigmat = (1/((.5*Twg/Tcns*(1+(gam-1)/2)+.5)**0.68                 #Correction factor for property variations across BL\n",
    "             *(1+(gam+1)/2)**0.12))                               #specified at throat\n",
    "sigmai = (1/((.5*Twg/Tcns*(1+(gam-1)/2*Mi**2)+.5)**0.68           #Correction factor for property variations across BL\n",
    "             *(1+(gam+1)/2*Mi**2)**0.12))                         #specified at inlet\n",
    "hg     = ((0.026/(2*rt)**0.2*(mucc**0.2*Cpg/Pr**0.6)\n",
    "           *(Pcns*g/cstar)**0.8*(2*rt/rmean)**0.1)*sigmat)        #heat transfer coefficient at throat\n",
    "\n",
    "#film cooling estimate\n",
    "\n",
    "Cpvc  =  0.582784 #btu/lb/f\n",
    "edac  = .5\n",
    "Gc    = (hg/Cpvc/edac)/math.log((Tawt-Twc)/(Tawt-Twg))\n",
    "Acool = 0 # Desired cooled surface area (in^2)\n",
    "\n",
    "q     = hg*(Tawt-Twg)                   #required heat flux\n",
    "Tbulk = (Twc + Tci)/2                   #Coolant bulk temp\n",
    "t     = k/q*(Twg-Twc)                   #Calculated Wall thickness for desired coolant wall temp\n",
    "Qc    = (wdotf+Gc*Acool)*Cplc*(Twc-Tci) #Coolant capacity\n",
    "hc    = q/(Twc-Tbulk)                   #Coolant side heat transfer coefficient\n",
    "H     = 1/(1/hg+t/k+1/hc)               #Overall heat transfer coefficient"
   ]
  },
  {
   "cell_type": "code",
   "execution_count": 74,
   "metadata": {
    "collapsed": false
   },
   "outputs": [
    {
     "name": "stdout",
     "output_type": "stream",
     "text": [
      "Coolant Specific Heat,                                         Cplc:   0.65\n",
      "Prandtl Number,                                                Pr:     0.85\n",
      "Viscosity in combustion chamber,                               mucc:   0.00010773\n",
      "Viscosity in throat,                                           mut:    0.00009974\n",
      "Laminar Flow Local Recovery Factor,                            rlam:   0.92\n",
      "Turbulent Flow Local Recovery Factor,                          rturb:  0.95\n",
      "Effective Combustion Chamber Recovery Factor,                  Reffcc: 1.00\n",
      "Effective Throat Recovery Factor,                              Refft:  1.00\n",
      "Adiabatic wall temperature at inlet,                           Tawi:   5203.42\n",
      "Adiabatic wall temperature at throat,                          Tawt:   5181.93\n",
      "Throat radius,                                                 rt:     0.955\n",
      "Exit radius,                                                   re:     1.996\n",
      "Mean throat curvature,                                         rmean:  0.898\n",
      "Correction factor for property variations across BL at throat, sigmat: 1.26\n",
      "Correction factor for property variations across BL at inlet,  sigmai: 1.39\n",
      "Specific heat at constant pressure,                            Cpg:    0.69172\n",
      "Heat transfer coefficient at throat,                           hg:     0.00660\n",
      "Required heat flux,                                            q:      26.28\n",
      "Critical temperature of coolant,                               Tcc:    972.71\n",
      "Coolant capacity,                                              Qc:     586.18\n",
      "Coolant wall temperature,                                      Twc     884.28\n",
      "Coolant bulk temperature,                                      Tbulk:  710.47\n",
      "Wall thickness,                                                t:      0.02062\n",
      "Coolant side heat transfer coefficient,                        hc:     0.15122\n",
      "Overall heat transfer coefficient,                             H:      0.00588\n",
      "Film-Coolant flowrate per unit area of cooled wall, lb/in^2/s  Gc:     0.297\n"
     ]
    }
   ],
   "source": [
    "#print heat transfer\n",
    "print(\"Coolant Specific Heat,                                         Cplc:   %.2f\" % Cplc)\n",
    "print(\"Prandtl Number,                                                Pr:     %.2f\" % Pr)\n",
    "print(\"Viscosity in combustion chamber,                               mucc:   %.8f\" % mucc)\n",
    "print(\"Viscosity in throat,                                           mut:    %.8f\" % mut)\n",
    "print(\"Laminar Flow Local Recovery Factor,                            rlam:   %.2f\" % rlam)\n",
    "print(\"Turbulent Flow Local Recovery Factor,                          rturb:  %.2f\" % rturb)\n",
    "print(\"Effective Combustion Chamber Recovery Factor,                  Reffcc: %.2f\" % Reffcc)\n",
    "print(\"Effective Throat Recovery Factor,                              Refft:  %.2f\" % Refft)\n",
    "print(\"Adiabatic wall temperature at inlet,                           Tawi:   %.2f\" % Tawi)\n",
    "print(\"Adiabatic wall temperature at throat,                          Tawt:   %.2f\" % Tawt)\n",
    "print(\"Throat radius,                                                 rt:     %.3f\" % rt)\n",
    "print(\"Exit radius,                                                   re:     %.3f\" % re)\n",
    "print(\"Mean throat curvature,                                         rmean:  %.3f\" % rmean)\n",
    "print(\"Correction factor for property variations across BL at throat, sigmat: %.2f\" % sigmat)\n",
    "print(\"Correction factor for property variations across BL at inlet,  sigmai: %.2f\" % sigmai)\n",
    "print(\"Specific heat at constant pressure,                            Cpg:    %.5f\" % Cpg)\n",
    "print(\"Heat transfer coefficient at throat,                           hg:     %.5f\" % hg)\n",
    "print(\"Required heat flux,                                            q:      %.2f\" % q)\n",
    "print(\"Critical temperature of coolant,                               Tcc:    %.2f\" % Tcc)\n",
    "print(\"Coolant capacity,                                              Qc:     %.2f\" % Qc)\n",
    "print(\"Coolant wall temperature,                                      Twc     %.2f\" % Twc)\n",
    "print(\"Coolant bulk temperature,                                      Tbulk:  %.2f\" % Tbulk)\n",
    "print(\"Wall thickness,                                                t:      %.5f\" % t)\n",
    "print(\"Coolant side heat transfer coefficient,                        hc:     %.5f\" % hc)\n",
    "print(\"Overall heat transfer coefficient,                             H:      %.5f\" % H)\n",
    "print(\"Film-Coolant flowrate per unit area of cooled wall, lb/in^2/s  Gc:     %.3f\" % Gc)"
   ]
  },
  {
   "cell_type": "code",
   "execution_count": 75,
   "metadata": {
    "collapsed": false
   },
   "outputs": [],
   "source": [
    "import sympy as sympy\n",
    "\n",
    "from sympy.solvers import solve\n",
    "from sympy import Symbol\n",
    "from sympy import log\n",
    "\n",
    "#######These should be in a reasonable input section, not burried in code.#########\n",
    "Re  = 3840 #Desired channel Reynold's number\n",
    "muf = 2.7998705 *10**-5 #Viscosity of the fuel mixture\n",
    "rhof = 0.031972653 #density of 70% ethanol (lb per cubic inch)\n",
    "\n",
    "#solve for minimum number of cooling channels to acheive appropriate cross sectional area,\n",
    "#and the appropriate channel aspect ratio\n",
    "\n",
    "n_g    = 0                                 #a reasonable guess for a particular geometry's number of cooling channels\n",
    "n      = 1\n",
    "while (abs(n_g-n)>0):\n",
    "    n_g   = n\n",
    "    bt    = (2*(rt+t)*pi/n_g-t)          \n",
    "    d     = 2*ARhb*bt**2/(ARhb+1)/bt \n",
    "    Vco   = Re/rhof/d*muf                 #Velocity for chosen Reynold's Number\n",
    "    A_u   = (wdotf+Gc*Acool)/rhof/Vco     #unobstructed cross sectional area\n",
    "\n",
    "    #find min number of channels for ideal ratio\n",
    "    L = Symbol('L')\n",
    "    n = round(solve(L*t+(A_u*L/ARhb)**0.5-(2*rt+2*t)*math.pi,L)[0])\n",
    "    \n",
    "Vco    = Re/rhof/d*muf                    #velocity for chosen Reynold's Number\n",
    "A_u    = (wdotf+Gc*Acool)/rhof/Vco        #unobstructed cross sectional area\n",
    "\n",
    "#cooling channel geometry\n",
    "bt     = (2*rt+t)*math.pi/n-t              #base width at throat\n",
    "be     = (2*re+t)*math.pi/n-t              #base width at exit\n",
    "rccht  = bt/2                              #cooling channel effective radius at throat\n",
    "rcche  = be/2                              #cooling channel effective radius at nozzle exit\n",
    "d      = 2*ARhb*bt**2/(ARhb+1)/bt          #cooling channel hydraulic diameter\n",
    "A_ob   = n*(bt**2*(1-math.pi/4)+ARhb*bt*t) #total obstructed area\n",
    "A_c    = A_u + A_ob                        #Total area for cooling channels to be used in parametric equations\n",
    "\n",
    "\n",
    "#friction factor\n",
    "\n",
    "if Re > 4000:\n",
    "    f=0.2\n",
    "    F=0\n",
    "\n",
    "    while (abs(f-F)>0.000000000001):\n",
    "        F=(f+F)/2\n",
    "        f=(1/(-2*math.log10(RA/3.71/d+2.51/Re/F**0.5)))**2\n",
    "else:\n",
    "    f=64/Re\n",
    "\n",
    "#calculate pressure drop of a cooling channel\n",
    "#to do this we must:\n",
    "#calculate arc length of parametric equations (or use solidworks for now...)\n",
    "#calculate reynolds number of passage\n",
    "#calculate friction factor for the pipe use solver of darcy FF\n",
    "#use this to determine holding tank pressure"
   ]
  },
  {
   "cell_type": "code",
   "execution_count": 76,
   "metadata": {
    "collapsed": false
   },
   "outputs": [
    {
     "name": "stdout",
     "output_type": "stream",
     "text": [
      "Fuel viscosity,                             muf:   0.00002800\n",
      "Fuel density,                               rhof:  0.03197\n",
      "Velocity for turbulent flow,                Vco (in/sec):   44.45\n",
      "Base width at throat,                       bt:    0.04061\n",
      "Base width at exit,                         be:    0.10671\n",
      "Cooling channel effective radius at throat, rccht: 0.02031\n",
      "Cooling channel effective radius at exit,   rcche: 0.05336\n",
      "Cooling channel hydraulic diameter,         d:     0.07446\n",
      "Cooling channel unobstructed area,          A_u:   1.83952\n",
      "Cooling channel obstructed area,            A_ob:  0.94706\n",
      "Cooling channel total area,                 A_c:   2.78659\n",
      "Number of cooling channels,                 n:     99\n",
      "Friction factor of cooling channel,         f:     0.01667\n"
     ]
    }
   ],
   "source": [
    "#print cooling channel geometry\n",
    "\n",
    "print(\"Fuel viscosity,                             muf:   %.8f\" % muf)\n",
    "print(\"Fuel density,                               rhof:  %.5f\" % rhof)\n",
    "print(\"Velocity for turbulent flow,                Vco (in/sec):   %.2f\" % Vco)\n",
    "print(\"Base width at throat,                       bt:    %.5f\" % bt)\n",
    "print(\"Base width at exit,                         be:    %.5f\" % be)\n",
    "print(\"Cooling channel effective radius at throat, rccht: %.5f\" % rccht)\n",
    "print(\"Cooling channel effective radius at exit,   rcche: %.5f\" % rcche)\n",
    "print(\"Cooling channel hydraulic diameter,         d:     %.5f\" % d)\n",
    "print(\"Cooling channel unobstructed area,          A_u:   %.5f\" % A_u)\n",
    "print(\"Cooling channel obstructed area,            A_ob:  %.5f\" % A_ob)\n",
    "print(\"Cooling channel total area,                 A_c:   %.5f\" % A_c)\n",
    "print(\"Number of cooling channels,                 n:     %.0f\" % n)\n",
    "print(\"Friction factor of cooling channel,         f:     %.5f\" % f)\n"
   ]
  },
  {
   "cell_type": "code",
   "execution_count": 77,
   "metadata": {
    "collapsed": false
   },
   "outputs": [],
   "source": [
    "#wall stresses\n",
    "\n",
    "Ste    =(Pco-Pe)*rcche/t+E*a*q*t/2/(1-v)/k #combined tangential stress at nozzle exit\n",
    "Stt    =(Pco-Pt)*rccht/t+E*a*q*t/2/(1-v)/k\n",
    "Sce    =(Pco-Pe)*re/t+E*a*q*t/2/(1-v)/k    #maximum compressive stress as coaxial shell design"
   ]
  },
  {
   "cell_type": "code",
   "execution_count": 78,
   "metadata": {
    "collapsed": false
   },
   "outputs": [
    {
     "name": "stdout",
     "output_type": "stream",
     "text": [
      "Combined tangential stress at nozzle exit,          Ste: 35042.86\n",
      "Combined tangential stress at throat,               Stt: 33992.50\n",
      "Maximum compressive stress as coaxial shell design, Sce: 85913.44\n"
     ]
    }
   ],
   "source": [
    "#Print wall stresses\n",
    "\n",
    "print(\"Combined tangential stress at nozzle exit,          Ste: %.2f\" % Ste)\n",
    "print(\"Combined tangential stress at throat,               Stt: %.2f\" % Stt)\n",
    "print(\"Maximum compressive stress as coaxial shell design, Sce: %.2f\" % Sce) #does not account for support of channel walls"
   ]
  },
  {
   "cell_type": "code",
   "execution_count": 79,
   "metadata": {
    "collapsed": true
   },
   "outputs": [],
   "source": [
    "#heat transfer plots\n",
    "\n",
    "%matplotlib inline\n",
    "\n",
    "import matplotlib\n",
    "import numpy as np\n",
    "import matplotlib.pyplot as plt"
   ]
  },
  {
   "cell_type": "code",
   "execution_count": 80,
   "metadata": {
    "collapsed": false
   },
   "outputs": [
    {
     "data": {
      "text/plain": [
       "(884.277413475756, 1200.0)"
      ]
     },
     "execution_count": 80,
     "metadata": {},
     "output_type": "execute_result"
    },
    {
     "data": {
      "image/png": "[encoded data removed]",
      "text/plain": [
       "<matplotlib.figure.Figure at 0x27ed8314e48>"
      ]
     },
     "metadata": {},
     "output_type": "display_data"
    },
    {
     "data": {
      "image/png": "[encoded data removed]",
      "text/plain": [
       "<matplotlib.figure.Figure at 0x27ed6a28e48>"
      ]
     },
     "metadata": {},
     "output_type": "display_data"
    }
   ],
   "source": [
    "#this needs to be revisited to ensure adjustments are being made for film cooling, the temperature doesnt seem to be graphing quite correctly\n",
    "\n",
    "x = np.linspace(Tbulk,Twg)\n",
    "\n",
    "#figure 1 Max stress v. Gas side wall temp\n",
    "plt.figure(1)\n",
    "line, = plt.plot(x,(Pco-Pt)*rccht/(k/((((0.026/(2*rt)**0.2*(mucc**0.2*Cpg/Pr**0.6)*(Pcns*g/cstar)**0.8*(2*rt/rmean)**0.1)*((1/((.5*x/Tcns*(1+(gam-1)/2)+.5)**0.68*(1+(gam+1)/2)**0.12)))))*(Tawt-x))*(x-Tcc))+E*a*q*(k/((((0.026/(2*rt)**0.2*(mucc**0.2*Cpg/Pr**0.6)*(Pcns*g/cstar)**0.8*(2*rt/rmean)**0.1)*((1/((.5*x/Tcns*(1+(gam-1)/2)+.5)**0.68*(1+(gam+1)/2)**0.12)))))*(Tawt-x))*(x-Tcc))/2/(1-v)/k, '--', linewidth=2)\n",
    "plt.suptitle(\"Figure 1\")\n",
    "plt.title(\"Max stress v. Gas-side wall temp\")\n",
    "plt.xlabel(\"Temp (R)\")\n",
    "plt.ylabel(\"Stress (psi)\")\n",
    "plt.ylim([0,30000])\n",
    "plt.xlim([Twc,Twg])\n",
    "\n",
    "#figure 2 Wall thickness v. gas side wall temp\n",
    "plt.figure(2)\n",
    "line, = plt.plot(x,k/((((0.026/(2*rt)**0.2*(mucc**0.2*Cpg/Pr**0.6)*(Pcns*g/cstar)**0.8*(2*rt/rmean)**0.1)*((1/((.5*x/Tcns*(1+(gam-1)/2)+.5)**0.68*(1+(gam+1)/2)**0.12)))))*(Tawt-x))*(x-Tcc), '--', linewidth=2)\n",
    "plt.suptitle(\"Figure 2\")\n",
    "plt.title(\"Wall thickness v. Gas-side wall temp\")\n",
    "plt.xlabel(\"Temp (R)\")\n",
    "plt.ylabel(\"Thickness (in)\")\n",
    "plt.ylim([0,0.020])\n",
    "plt.xlim([Twc,Twg])"
   ]
  },
  {
   "cell_type": "markdown",
   "metadata": {},
   "source": [
    "### Parametric Equations\n",
    "\n",
    "Nozzle geometry is a critical perameter of any engine. Given an throat area, contraction ratio, expansion ratio, as well as the rapid expansion and contraction angles surrounding the throat; a unique set of parametric equations will justify the inner nozzle contour. Furthermore, given the wall thickness calculated as a function of the heat transfer properties of the throat; there exists a unique set of parametric equations justifying the remaining cooling channel geometries. These contours are generated such that the cross sectional area of the cooling channels normal to the surface of the rocket is a constant. Scaling functions may be applied, with an inversely proportional effect on the velocity of the fluid through the cooling channels. Left unchanged, the velocity of the coolant will be highest at the throat. The cross sectional area of the channels is certainly uniform, but the hydraulic diameter is decreasing as the cooling channels increase in aspect ratio (defined as the height of the rectangular duct divided by the base).\n",
    "\n",
    "A designer may utilize these parametric equations by importing them into computer aided drafting (CAD) software, and rotating the resulting contours about the y axis. The particular proceedure of such a rotation in any particular CAD software is beyond the scope of this document."
   ]
  },
  {
   "cell_type": "code",
   "execution_count": 81,
   "metadata": {
    "collapsed": true
   },
   "outputs": [],
   "source": [
    "rcc = math.sqrt((At*epsilonc)/math.pi)\n",
    "#Parametric Equations\n",
    "\n",
    "#calculate parameters\n",
    "\n",
    "tout   = 2*t # calculate a better outer thickness or place in input parameters\n",
    "theta  = 45\n",
    "thetaN = 45\n",
    "A1     = math.tan(math.radians(90-thetaN))/(2*(rt-rt*.382*(1-math.cos(math.radians(thetaN)))))\n",
    "A2     = -(.382*rt*math.sin(math.radians(thetaN)))+A1*(rt+.382*rt*(1-math.cos(math.radians(thetaN))))**2\n",
    "X1     = rt+.382*rt*(1-math.cos(math.radians(thetaN)))"
   ]
  },
  {
   "cell_type": "code",
   "execution_count": 82,
   "metadata": {
    "collapsed": false
   },
   "outputs": [
    {
     "name": "stdout",
     "output_type": "stream",
     "text": [
      "Parametric Equations:\n",
      "\n",
      "Internal Contour:\n",
      "\n",
      "Bell\n",
      "x(t):\n",
      " t\n",
      "y(t):\n",
      " 0.589821 * t^2 - 0.406529\n",
      "Parameters:\n",
      "t1:\n",
      " 1.061306\n",
      "t2:\n",
      " 1.995890\n",
      "\n",
      "Throat, rapid expansion\n",
      "x(t):\n",
      " 1.319133 * (1- (.382/1.382) * cos(t*3.14159/180))\n",
      "y(t):\n",
      " 0.364623 * sin(t*3.14159/180)\n",
      "Parameters:\n",
      "t1:\n",
      " 0.001\n",
      "t2:\n",
      " 44.999000\n",
      "\n",
      "Throat, rapid contraction\n",
      "x(t):\n",
      " 2.386275 * (1 - 0.6 * cos(t*3.14159/180))\n",
      "y(t):\n",
      " -1.431765 * sin(t*3.14159/180)\n",
      "Parameters:\n",
      "t1:\n",
      " 0.001\n",
      "t2:\n",
      " 44.999000\n",
      "\n",
      "Linear contraction\n",
      "x(t):\n",
      " t\n",
      "y(t):\n",
      " -1.000000 * t + 0.361454\n",
      "Parameters:\n",
      "t1:\n",
      " 1.373964\n",
      "t2:\n",
      " 1.714895\n",
      "\n",
      "Inlet\n",
      "x(t):\n",
      " 2.134349 - 1.431765 * (1 - cos(t*3.14159/180))\n",
      "y(t):\n",
      " 1.431765 * sin(t*3.14159/180) + -2.365952\n",
      "Parameters:\n",
      "t1:\n",
      " 0.001\n",
      "t2:\n",
      " 44.999900\n",
      "\n"
     ]
    }
   ],
   "source": [
    "print(\"Parametric Equations:\\n\")\n",
    "print(\"Internal Contour:\\n\")\n",
    "\n",
    "print(\"Bell\")\n",
    "print(\"x(t):\")\n",
    "print(\" t\")\n",
    "print(\"y(t):\")\n",
    "print(\" %f * t^2 - %f\" % (A1,A2) )\n",
    "print(\"Parameters:\" )\n",
    "print(\"t1:\")\n",
    "print(\" %f\" % X1 )\n",
    "print(\"t2:\")\n",
    "print(\" %f\\n\" % (re-0.0001) )\n",
    "\n",
    "Rbell = t\n",
    "\n",
    "A3 = 1.382*rt\n",
    "A4 = 0.382*rt\n",
    "\n",
    "print(\"Throat, rapid expansion\")\n",
    "print(\"x(t):\")\n",
    "print(\" %f * (1- (.382/1.382) * cos(t*3.14159/180))\" % A3 )\n",
    "print(\"y(t):\")\n",
    "print(\" %f * sin(t*3.14159/180)\" % A4 )\n",
    "print(\"Parameters:\" )\n",
    "print(\"t1:\")\n",
    "print(\" 0.001\" )\n",
    "print(\"t2:\")\n",
    "print(\" %f\\n\" % (thetaN-0.001) )\n",
    "\n",
    "A5 = 2.5*rt\n",
    "A6 = -1.5*rt\n",
    "\n",
    "print(\"Throat, rapid contraction\")\n",
    "print(\"x(t):\")\n",
    "print(\" %f * (1 - 0.6 * cos(t*3.14159/180))\" % A5 )\n",
    "print(\"y(t):\")\n",
    "print(\" %f * sin(t*3.14159/180)\" % A6 )\n",
    "print(\"Parameters:\" )\n",
    "print(\"t1:\")\n",
    "print(\" 0.001\" )\n",
    "print(\"t2:\")\n",
    "print(\" %f\\n\" % (theta-0.001) )\n",
    "\n",
    "A7 = -math.tan(math.pi/2-math.radians(theta))\n",
    "A8 = (math.tan(math.pi/2-math.radians(theta))*2.5*rt*(1-0.6*math.cos(math.radians(theta))))-1.5*rt*math.sin(math.radians(theta))\n",
    "p1 = 2.5*rt*(1-0.6*math.cos(math.radians(theta)))\n",
    "p2 = rcc-1.5*rt*(1-math.cos(math.radians(theta)))\n",
    "\n",
    "print(\"Linear contraction\")\n",
    "print(\"x(t):\")\n",
    "print(\" t\")\n",
    "print(\"y(t):\")\n",
    "print(\" %f * t + %f\" % (A7,A8))\n",
    "print(\"Parameters:\" )\n",
    "print(\"t1:\")\n",
    "print(\" %f\" % (p1+0.0001) )\n",
    "print(\"t2:\")\n",
    "print(\" %f\\n\" % (p2-0.0001) )\n",
    "\n",
    "A9  = 1.5*rt\n",
    "A10 = 1.5*rt\n",
    "A11 = (math.tan(2*math.pi-(math.pi/2-math.radians(theta))))*(rcc-1.5*rt*(1-math.cos(math.radians(theta))))+(-math.tan(2*math.pi-(math.pi/2-math.radians(theta)))*(2.5*rt*(1-0.6*math.cos(math.radians(theta))))-1.5*rt*math.sin(math.radians(theta)))-1.5*rt*math.sin(math.radians(theta))\n",
    "\n",
    "print(\"Inlet\")\n",
    "print(\"x(t):\")\n",
    "print(\" %f - %f * (1 - cos(t*3.14159/180))\" % (rcc,A9))\n",
    "print(\"y(t):\")\n",
    "print(\" %f * sin(t*3.14159/180) + %f\" % (A10,A11))\n",
    "print(\"Parameters:\")\n",
    "print(\"t1:\")\n",
    "print(\" 0.001\" )\n",
    "print(\"t2:\")\n",
    "print(\" %f\\n\" % (theta-0.0001) )"
   ]
  },
  {
   "cell_type": "code",
   "execution_count": 83,
   "metadata": {
    "collapsed": false
   },
   "outputs": [
    {
     "name": "stdout",
     "output_type": "stream",
     "text": [
      "Cooling Channel, inner:\n",
      "\n",
      "Bell\n",
      "x(t):\n",
      " t + ( 0.020621 * t / ( t^2 + 0.718620 )^0.5)\n",
      "y(t):\n",
      " 0.589821 *t^2 - 0.406529 + ( -0.020621 / ( 1.179642 *( t^2 + 0.718620 )^0.5))\n",
      "Parameters:\n",
      "t1:\n",
      " 1.061406\n",
      "t2:\n",
      " 1.995890\n",
      "\n",
      "Rapid Expansion\n",
      "x(t):\n",
      " 1.319133 * (1- (.382/1.382) * cos(t*3.14159/180)) + ( 0.020621 * cos(t*3.14159/180))\n",
      "y(t):\n",
      " 0.364623 * sin(t*3.14159/180) + (-0.020621 *sin(t*3.14159/180))\n",
      "Parameters:\n",
      "t1:\n",
      " 0.001\n",
      "t2:\n",
      " 44.999000\n",
      "\n",
      "Rapid Contraction\n",
      "x(t):\n",
      " 2.386275 * (1 - 0.6 * cos(t*3.14159/180)) + ( 0.020621 * cos(t*3.14159/180))\n",
      "y(t):\n",
      " -1.431765 * sin(t*3.14159/180) + (0.020621 *sin(t*3.14159/180))\n",
      "Parameters:\n",
      "t1:\n",
      " 0.001\n",
      "t2:\n",
      " 44.999000\n",
      "\n",
      "Linear contraction\n",
      "x(t):\n",
      " t + 0.014582\n",
      "y(t):\n",
      " -1.000000 * t + 0.376035\n",
      "Parameters:\n",
      "t1:\n",
      " 1.373964\n",
      "t2:\n",
      " 1.714895\n",
      "\n",
      "Inlet\n",
      "x(t):\n",
      " 2.134349 - 1.431765 * (1 - cos(t*3.14159/180)) + ( 0.020621 * cos(t*3.14159/180))\n",
      "y(t):\n",
      " 1.431765 * sin(t*3.14159/180) + -2.365952 + (0.020621 *sin(t*3.14159/180))\n",
      "Parameters:\n",
      "t1:\n",
      " 0.001\n",
      "t2:\n",
      " 44.999900\n",
      "\n"
     ]
    }
   ],
   "source": [
    "print(\"Cooling Channel, inner:\\n\" )\n",
    "\n",
    "A12 = 1/(4*A1**2)\n",
    "\n",
    "print(\"Bell\")\n",
    "print(\"x(t):\")\n",
    "print(\" t + ( %f * t / ( t^2 + %f )^0.5)\" % (t,A12))\n",
    "print(\"y(t):\")\n",
    "print(\" %f *t^2 - %f + ( %f / ( %f *( t^2 + %f )^0.5))\" % (A1,A2,-t,2*A1,A12))\n",
    "print(\"Parameters:\")\n",
    "print(\"t1:\")\n",
    "print(\" %f\" % (X1+0.0001) )\n",
    "print(\"t2:\")\n",
    "print(\" %f\\n\" % (re-0.0001) )\n",
    "\n",
    "print(\"Rapid Expansion\")\n",
    "print(\"x(t):\")\n",
    "print(\" %f * (1- (.382/1.382) * cos(t*3.14159/180)) + ( %f * cos(t*3.14159/180))\" % (A3,t) )\n",
    "print(\"y(t):\")\n",
    "print(\" %f * sin(t*3.14159/180) + (%f *sin(t*3.14159/180))\" % (A4,-t) )\n",
    "print(\"Parameters:\" )\n",
    "print(\"t1:\")\n",
    "print(\" 0.001\" )\n",
    "print(\"t2:\")\n",
    "print(\" %f\\n\" % (thetaN-0.001) )\n",
    "\n",
    "\n",
    "\n",
    "print(\"Rapid Contraction\")\n",
    "print(\"x(t):\")\n",
    "print(\" %f * (1 - 0.6 * cos(t*3.14159/180)) + ( %f * cos(t*3.14159/180))\" % (A5,t) )\n",
    "print(\"y(t):\")\n",
    "print(\" %f * sin(t*3.14159/180) + (%f *sin(t*3.14159/180))\" % (A6,t) )\n",
    "print(\"Parameters:\" )\n",
    "print(\"t1:\")\n",
    "print(\" 0.001\" )\n",
    "print(\"t2:\")\n",
    "print(\" %f\\n\" % (theta-0.001) )\n",
    "\n",
    "A13 = math.cos(math.radians(theta))*t\n",
    "A14 = math.sin(math.radians(theta))*t\n",
    "\n",
    "print(\"Linear contraction\")\n",
    "print(\"x(t):\")\n",
    "print(\" t + %f\" % A13)\n",
    "print(\"y(t):\")\n",
    "print(\" %f * t + %f\" % (A7,A8+A14))\n",
    "print(\"Parameters:\" )\n",
    "print(\"t1:\")\n",
    "print(\" %f\" % (p1+0.0001) )\n",
    "print(\"t2:\")\n",
    "print(\" %f\\n\" % (p2-0.0001) )\n",
    "\n",
    "print(\"Inlet\")\n",
    "print(\"x(t):\")\n",
    "print(\" %f - %f * (1 - cos(t*3.14159/180)) + ( %f * cos(t*3.14159/180))\" % (rcc,A9,t))\n",
    "print(\"y(t):\")\n",
    "print(\" %f * sin(t*3.14159/180) + %f + (%f *sin(t*3.14159/180))\" % (A10,A11,t))\n",
    "print(\"Parameters:\")\n",
    "print(\"t1:\")\n",
    "print(\" 0.001\" )\n",
    "print(\"t2:\")\n",
    "print(\" %f\\n\" % (theta-0.0001) )"
   ]
  },
  {
   "cell_type": "code",
   "execution_count": 84,
   "metadata": {
    "collapsed": false
   },
   "outputs": [
    {
     "name": "stdout",
     "output_type": "stream",
     "text": [
      "Cooling Channel, outer:\n",
      "\n",
      "Bell\n",
      "x(t):\n",
      " t + ( 0.020621 * t / ( t^2 + 0.718620 )^0.5) + ( t / ( t^2 + 0.718620 )^0.5) * ( -t + (t^2 + 0.886998 * sin(2*3.14159 - arctan(-1.179642*t)))^(.5)) / (sin(2*3.14159-arctan(-1.179642*t)))\n",
      "y(t):\n",
      " 0.589821 *t^2 - 0.406529 + ( -0.020621 / ( 1.179642 *( t^2 + 0.718620 )^0.5)) + ( 1 / ( -1.179642 * (t^2+ 0.718620 )^0.5)) * ( -t + ( t^2 + 0.886998 * sin(2*3.14159-arctan(-1.179642*t)))^0.5) / ( sin(2*3.14159 - arctan(-1.179642*t)))\n",
      "Parameters:\n",
      "t1:\n",
      " 1.061406\n",
      "t2:\n",
      " 1.995890\n",
      "\n",
      "Rapid Expansion\n",
      "x(t):\n",
      " 1.319133 * (1- (.382/1.382) * cos(t*3.14159/180)) + ( 0.020621 * cos(t*3.14159/180)) + ( -( 1.319133 * ( 1 - (0.382)/(1.382) * cos(t*3.14159/180) ) ) + (( 1.319133 * (1 - (0.382)/(1.382) * cos(t*3.14159/180) ))^2 + 0.886998 * cos(t*3.14159/180))^0.5)\n",
      "y(t):\n",
      " 0.364623 * sin(t*3.14159/180) + (-0.020621 *sin(t*3.14159/180)) + ( -( 1.319133 * ( 1 - (0.382)/(1.382) * cos(t*3.14159/180) ) ) + ( (1.319133 * ( 1 - (0.382)/(1.382) * cos(t*3.14159/180) ) )^2 + 0.886998 * cos(t*3.14159/180) )^0.5 ) * ( -tan(t*3.14159/180) )\n",
      "Parameters:\n",
      "t1:\n",
      " 0.001\n",
      "t2:\n",
      " 44.999000\n",
      "\n",
      "Rapid Contraction\n",
      "x(t):\n",
      " 2.386275 * (1 - 0.6 * cos(t*3.14159/180)) + ( 0.020621 * cos(t*3.14159/180)) + ( -( 2.386275 * ( 1 - 0.6 * cos(t*3.14159/180) ) ) + ( ( 2.386275 * ( 1 - 0.6 * cos(t*3.14159/180) ) )^2 + ( 0.886998 ) * cos(t*3.14159/180) )^0.5 )\n",
      "y(t):\n",
      " -1.431765 * sin(t*3.14159/180) + (0.020621 *sin(t*3.14159/180)) + ( -( 2.386275 * ( 1 - 0.6 * cos(t*3.14159/180) ) ) + ( ( 2.386275 * ( 1 - 0.6 * cos(t*3.14159/180) ) )^2 + 0.886998 * cos(t*3.14159/180) )^0.5 ) * ( tan(t*3.14159/180) )\n",
      "Parameters:\n",
      "t1:\n",
      " 0.001\n",
      "t2:\n",
      " 44.999000\n",
      "\n",
      "Linear contraction\n",
      "x(t):\n",
      " t + 0.014582 + ( -t + ( t^2 + 0.627202 )^0.5 )\n",
      "y(t):\n",
      " -1.000000 *t + 1.373864 + -1.012411 + ( -t + ( t^2 + 0.627202 )^0.5 ) * ( 1.000000 ) + ( 0.014582 )\n",
      "Parameters:\n",
      "t1:\n",
      " 1.373964\n",
      "t2:\n",
      " 1.714895\n",
      "\n",
      "Inlet\n",
      "x(t):\n",
      " 2.134349 - 1.431765 * (1 - cos(t*3.14159/180)) + ( 0.020621 * cos(t*3.14159/180)) + ( -( 2.134349 - 1.431765 * ( 1 - cos(t*3.14159/180) ) ) + ( ( 2.134349 - 1.431765 * ( 1 - cos(t*3.14159/180)))^2 + 0.886998 * cos(t*3.14159/180) )^0.5 )\n",
      "y(t):\n",
      " 1.431765 * sin(t*3.14159/180) + -2.365952 + ( 0.020621 * sin(t*3.14159/180) ) + ( -( 2.134349 - 1.431765 * ( 1 - cos(t*3.14159/180) ) ) + ( ( 2.134349 - 1.431765 * ( 1 - cos(t*3.14159/180) ) )^2 + 0.886998 * cos(t*3.14159/180) )^0.5 ) * tan(t*3.14159/180)\n",
      "Parameters:\n",
      "t1:\n",
      " 0.001\n",
      "t2:\n",
      " 44.999900\n",
      "\n"
     ]
    }
   ],
   "source": [
    "print(\"Cooling Channel, outer:\\n\" )\n",
    "\n",
    "A15 = A_c/math.pi\n",
    "\n",
    "print(\"Bell\")\n",
    "print(\"x(t):\")\n",
    "print(\" t + ( %f * t / ( t^2 + %f )^0.5) + ( t / ( t^2 + %f )^0.5) * ( -t + (t^2 + %f * sin(2*3.14159 - arctan(%f*t)))^(.5)) / (sin(2*3.14159-arctan(%f*t)))\" % (t,A12,A12,A15,-2*A1,-2*A1))\n",
    "print(\"y(t):\")\n",
    "print(\" %f *t^2 - %f + ( %f / ( %f *( t^2 + %f )^0.5)) + ( 1 / ( %f * (t^2+ %f )^0.5)) * ( -t + ( t^2 + %f * sin(2*3.14159-arctan(%f*t)))^0.5) / ( sin(2*3.14159 - arctan(%f*t)))\" % (A1,A2,-t,2*A1,A12,-2*A1,A12,A15,-2*A1,-2*A1))\n",
    "print(\"Parameters:\")\n",
    "print(\"t1:\")\n",
    "print(\" %f\" % (X1+0.0001) )\n",
    "print(\"t2:\")\n",
    "print(\" %f\\n\" % (re-0.0001) )\n",
    "\n",
    "print(\"Rapid Expansion\")\n",
    "print(\"x(t):\")\n",
    "print(\" %f * (1- (.382/1.382) * cos(t*3.14159/180)) + ( %f * cos(t*3.14159/180)) + ( -( %f * ( 1 - (0.382)/(1.382) * cos(t*3.14159/180) ) ) + (( %f * (1 - (0.382)/(1.382) * cos(t*3.14159/180) ))^2 + %f * cos(t*3.14159/180))^0.5)\" % (A3,t,A3,A3,A15)     )\n",
    "print(\"y(t):\")\n",
    "print(\" %f * sin(t*3.14159/180) + (%f *sin(t*3.14159/180)) + ( -( %f * ( 1 - (0.382)/(1.382) * cos(t*3.14159/180) ) ) + ( (%f * ( 1 - (0.382)/(1.382) * cos(t*3.14159/180) ) )^2 + %f * cos(t*3.14159/180) )^0.5 ) * ( -tan(t*3.14159/180) )\" % (A4,-t,A3,A3,A15)     )\n",
    "print(\"Parameters:\" )\n",
    "print(\"t1:\")\n",
    "print(\" 0.001\" )\n",
    "print(\"t2:\")\n",
    "print(\" %f\\n\" % (thetaN-0.001) )\n",
    "\n",
    "print(\"Rapid Contraction\")\n",
    "print(\"x(t):\")\n",
    "print(\" %f * (1 - 0.6 * cos(t*3.14159/180)) + ( %f * cos(t*3.14159/180)) + ( -( %f * ( 1 - 0.6 * cos(t*3.14159/180) ) ) + ( ( %f * ( 1 - 0.6 * cos(t*3.14159/180) ) )^2 + ( %f ) * cos(t*3.14159/180) )^0.5 )\" % (A5,t,A5,A5,A15)     )\n",
    "print(\"y(t):\")\n",
    "print(\" %f * sin(t*3.14159/180) + (%f *sin(t*3.14159/180)) + ( -( %f * ( 1 - 0.6 * cos(t*3.14159/180) ) ) + ( ( %f * ( 1 - 0.6 * cos(t*3.14159/180) ) )^2 + %f * cos(t*3.14159/180) )^0.5 ) * ( tan(t*3.14159/180) )\"             % (A6,t,A5,A5,A15)     )\n",
    "print(\"Parameters:\" )\n",
    "print(\"t1:\")\n",
    "print(\" 0.001\" )\n",
    "print(\"t2:\")\n",
    "print(\" %f\\n\" % (theta-0.001) )\n",
    "\n",
    "A16 = math.cos(math.radians(theta))*A15\n",
    "A17 = math.tan(math.pi/2-math.radians(theta))*2.5*rt*(1-0.6*math.cos(math.radians(theta)))\n",
    "A18 = -1.5*rt*math.sin(math.radians(theta))\n",
    "A19 = A15 * math.cos(math.radians(theta))\n",
    "A20 = math.tan(math.radians(theta))\n",
    "\n",
    "print(\"Linear contraction\")\n",
    "print(\"x(t):\")\n",
    "print(\" t + %f + ( -t + ( t^2 + %f )^0.5 )\" % (A13,A16))\n",
    "print(\"y(t):\")\n",
    "print(\" %f *t + %f + %f + ( -t + ( t^2 + %f )^0.5 ) * ( %f ) + ( %f )\" % (A7,A17,A18,A19,A20,A14))\n",
    "print(\"Parameters:\" )\n",
    "print(\"t1:\")\n",
    "print(\" %f\" % (p1+0.0001) )\n",
    "print(\"t2:\")\n",
    "print(\" %f\\n\" % (p2-0.0001) )\n",
    "\n",
    "print(\"Inlet\")\n",
    "print(\"x(t):\")\n",
    "print(\" %f - %f * (1 - cos(t*3.14159/180)) + ( %f * cos(t*3.14159/180)) + ( -( %f - %f * ( 1 - cos(t*3.14159/180) ) ) + ( ( %f - %f * ( 1 - cos(t*3.14159/180)))^2 + %f * cos(t*3.14159/180) )^0.5 )\" % (rcc,A9,t,rcc,A9,rcc,A9,A15))\n",
    "print(\"y(t):\")\n",
    "print(\" %f * sin(t*3.14159/180) + %f + ( %f * sin(t*3.14159/180) ) + ( -( %f - %f * ( 1 - cos(t*3.14159/180) ) ) + ( ( %f - %f * ( 1 - cos(t*3.14159/180) ) )^2 + %f * cos(t*3.14159/180) )^0.5 ) * tan(t*3.14159/180)\" % (A10,A11,t,rcc,A10,rcc,A10,A15))\n",
    "print(\"Parameters:\")\n",
    "print(\"t1:\")\n",
    "print(\" 0.001\" )\n",
    "print(\"t2:\")\n",
    "print(\" %f\\n\" % (theta-0.0001) )"
   ]
  },
  {
   "cell_type": "code",
   "execution_count": 85,
   "metadata": {
    "collapsed": false
   },
   "outputs": [
    {
     "name": "stdout",
     "output_type": "stream",
     "text": [
      "Nozzle surface, outer:\n",
      "\n",
      "Bell\n",
      "x(t):\n",
      " t + ( 0.020621 * t / ( t^2 + 0.718620 )^0.5 ) + ( t / ( t^2 + 0.718620 )^0.5 ) * ( -t + ( t^2 + 0.886998 * sin(2*3.14159 - arctan(-1.179642*t)) )^0.5 ) / ( sin(2*3.14159 - arctan(-1.179642*t)) ) + ( 0.041243 * t / ( t^2 + 0.718620 )^0.5 )\n",
      "y(t):\n",
      " 0.589821 *t^2 - 0.406529 + ( -0.020621 / ( 1.179642 *( t^2 + 0.718620 )^0.5)) + ( 1 / ( -1.179642 * ( t^2+ 0.718620 )^0.5 ) ) * ( -t + ( t^2 + 0.886998 * sin(2*3.14159 - arctan(-1.179642*t)) )^0.5 ) / ( sin(2*3.14159 - arctan(-1.179642*t)) ) + ( -0.041243 / ( 1.179642 * ( t^2 + 0.718620 )^0.5 ) )\n",
      "Parameters:\n",
      "t1:\n",
      " 1.061406\n",
      "t2:\n",
      " 1.995890\n",
      "\n",
      "Rapid Expansion\n",
      "x(t):\n",
      " 1.319133 * ( 1- (.382/1.382) * cos(t*3.14159/180) ) + ( 0.020621 * cos(t*3.14159/180) ) + ( -( 1.319133 * ( 1 - (0.382)/(1.382) * cos(t*3.14159/180) ) ) + ( ( 1.319133 * ( 1 - (0.382)/(1.382) * cos(t*3.14159/180) ) )^2 + 0.886998 * cos(t*3.14159/180) )^0.5 ) + ( 0.041243 * cos(t*3.14159/180) )\n",
      "y(t):\n",
      " 0.364623 * sin(t*3.14159/180) + ( -0.020621 *sin(t*3.14159/180) ) + ( -( 1.319133 * ( 1 - (0.382)/(1.382) * cos(t*3.14159/180) ) ) + ( ( 1.319133 * ( 1 - (0.382)/(1.382) * cos(t*3.14159/180) ) )^2 + 0.886998 * cos(t*3.14159/180) )^0.5 ) * ( -tan(t*3.14159/180) ) + ( -0.041243 * sin(t*3.14159/180) )\n",
      "Parameters:\n",
      "t1:\n",
      " 0.001\n",
      "t2:\n",
      " 44.999000\n",
      "\n",
      "Rapid Contraction\n",
      "x(t):\n",
      " 2.386275 * ( 1 - 0.6 * cos(t*3.14159/180) ) + ( 0.020621 * cos(t*3.14159/180) ) + ( -( 2.386275 * ( 1 - 0.6 * cos(t*3.14159/180) ) ) + ( ( 2.386275 * ( 1 - 0.6 * cos(t*3.14159/180) ) )^2 + ( 0.886998 ) * cos(t*3.14159/180) )^0.5 ) + ( 0.041243 * cos(t*3.14159/180) )\n",
      "y(t):\n",
      " -1.431765 * sin(t*3.14159/180) + ( 0.020621 *sin(t*3.14159/180) ) + ( -( 2.386275 * ( 1 - 0.6 * cos(t*3.14159/180) ) ) + ( ( 2.386275 * ( 1 - 0.6 * cos(t*3.14159/180) ) )^2 + 0.886998 * cos(t*3.14159/180) )^0.5 ) * ( tan(t*3.14159/180) ) + ( 0.041243 *sin(t*3.14159/180) )\n",
      "Parameters:\n",
      "t1:\n",
      " 0.001\n",
      "t2:\n",
      " 44.999000\n",
      "\n",
      "Linear contraction\n",
      "x(t):\n",
      " t + 0.014582 + ( -t + ( t^2 + 0.627202 )^0.5 ) + 0.029163\n",
      "y(t):\n",
      " -1.000000 *t + 1.373864 + -1.012411 + ( -t + ( t^2 + 0.627202 )^0.5 ) * ( 1.000000 ) + ( 0.014582 ) + ( 0.029163 )\n",
      "Parameters:\n",
      "t1:\n",
      " 1.373964\n",
      "t2:\n",
      " 1.714895\n",
      "\n",
      "Inlet\n",
      "x(t):\n",
      " 2.134349 - 1.431765 * (1 - cos(t*3.14159/180) ) + ( 0.020621 * cos(t*3.14159/180) ) + ( -( 2.134349 - 1.431765 * ( 1 - cos(t*3.14159/180) ) ) + ( ( 2.134349 - 1.431765 * ( 1 - cos(t*3.14159/180) ) )^2 + 0.886998 * cos(t*3.14159/180) )^0.5 ) + ( 0.041243 * cos(t*3.14159/180) )\n",
      "y(t):\n",
      " 1.431765 * sin(t*3.14159/180) + -2.365952 + ( 0.020621 * sin(t*3.14159/180) ) + ( -( 2.134349 - 1.431765 * ( 1 - cos(t*3.14159/180) ) ) + ( ( 2.134349 - 1.431765 * ( 1 - cos(t*3.14159/180) ) )^2 + 0.886998 * cos(t*3.14159/180) )^0.5 ) * tan(t*3.14159/180) + ( 0.041243 * sin(t*3.14159/180) )\n",
      "Parameters:\n",
      "t1:\n",
      " 0.001\n",
      "t2:\n",
      " 44.999900\n",
      "\n"
     ]
    }
   ],
   "source": [
    "print(\"Nozzle surface, outer:\\n\" )\n",
    "\n",
    "print(\"Bell\")\n",
    "print(\"x(t):\")\n",
    "print(\" t + ( %f * t / ( t^2 + %f )^0.5 ) + ( t / ( t^2 + %f )^0.5 ) * ( -t + ( t^2 + %f * sin(2*3.14159 - arctan(%f*t)) )^0.5 ) / ( sin(2*3.14159 - arctan(%f*t)) ) + ( %f * t / ( t^2 + %f )^0.5 )\" % (t,A12,A12,A15,-2*A1,-2*A1,tout,A12))\n",
    "print(\"y(t):\")\n",
    "print(\" %f *t^2 - %f + ( %f / ( %f *( t^2 + %f )^0.5)) + ( 1 / ( %f * ( t^2+ %f )^0.5 ) ) * ( -t + ( t^2 + %f * sin(2*3.14159 - arctan(%f*t)) )^0.5 ) / ( sin(2*3.14159 - arctan(%f*t)) ) + ( %f / ( %f * ( t^2 + %f )^0.5 ) )\" % (A1,A2,-t,2*A1,A12,-2*A1,A12,A15,-2*A1,-2*A1,-tout,2*A1,A12))\n",
    "print(\"Parameters:\")\n",
    "print(\"t1:\")\n",
    "print(\" %f\" % (X1+0.0001) )\n",
    "print(\"t2:\")\n",
    "print(\" %f\\n\" % (re-0.0001) )\n",
    "\n",
    "print(\"Rapid Expansion\")\n",
    "print(\"x(t):\")\n",
    "print(\" %f * ( 1- (.382/1.382) * cos(t*3.14159/180) ) + ( %f * cos(t*3.14159/180) ) + ( -( %f * ( 1 - (0.382)/(1.382) * cos(t*3.14159/180) ) ) + ( ( %f * ( 1 - (0.382)/(1.382) * cos(t*3.14159/180) ) )^2 + %f * cos(t*3.14159/180) )^0.5 ) + ( %f * cos(t*3.14159/180) )\" % (A3,t,A3,A3,A15,tout)     )\n",
    "print(\"y(t):\")\n",
    "print(\" %f * sin(t*3.14159/180) + ( %f *sin(t*3.14159/180) ) + ( -( %f * ( 1 - (0.382)/(1.382) * cos(t*3.14159/180) ) ) + ( ( %f * ( 1 - (0.382)/(1.382) * cos(t*3.14159/180) ) )^2 + %f * cos(t*3.14159/180) )^0.5 ) * ( -tan(t*3.14159/180) ) + ( %f * sin(t*3.14159/180) )\" % (A4,-t,A3,A3,A15,-tout)     )\n",
    "print(\"Parameters:\" )\n",
    "print(\"t1:\")\n",
    "print(\" 0.001\" )\n",
    "print(\"t2:\")\n",
    "print(\" %f\\n\" % (thetaN-0.001) )\n",
    "\n",
    "print(\"Rapid Contraction\")\n",
    "print(\"x(t):\")\n",
    "print(\" %f * ( 1 - 0.6 * cos(t*3.14159/180) ) + ( %f * cos(t*3.14159/180) ) + ( -( %f * ( 1 - 0.6 * cos(t*3.14159/180) ) ) + ( ( %f * ( 1 - 0.6 * cos(t*3.14159/180) ) )^2 + ( %f ) * cos(t*3.14159/180) )^0.5 ) + ( %f * cos(t*3.14159/180) )\" % (A5,t,A5,A5,A15,tout)     )\n",
    "print(\"y(t):\")\n",
    "print(\" %f * sin(t*3.14159/180) + ( %f *sin(t*3.14159/180) ) + ( -( %f * ( 1 - 0.6 * cos(t*3.14159/180) ) ) + ( ( %f * ( 1 - 0.6 * cos(t*3.14159/180) ) )^2 + %f * cos(t*3.14159/180) )^0.5 ) * ( tan(t*3.14159/180) ) + ( %f *sin(t*3.14159/180) )\"             % (A6,t,A5,A5,A15,tout)     )\n",
    "print(\"Parameters:\" )\n",
    "print(\"t1:\")\n",
    "print(\" 0.001\" )\n",
    "print(\"t2:\")\n",
    "print(\" %f\\n\" % (theta-0.001) )\n",
    "\n",
    "A21 = math.cos(math.radians(theta))*tout\n",
    "A22 = math.sin(math.radians(theta))*tout\n",
    "\n",
    "print(\"Linear contraction\")\n",
    "print(\"x(t):\")\n",
    "print(\" t + %f + ( -t + ( t^2 + %f )^0.5 ) + %f\" % (A13,A16,A21))\n",
    "print(\"y(t):\")\n",
    "print(\" %f *t + %f + %f + ( -t + ( t^2 + %f )^0.5 ) * ( %f ) + ( %f ) + ( %f )\" % (A7,A17,A18,A19,A20,A14,A22))\n",
    "print(\"Parameters:\" )\n",
    "print(\"t1:\")\n",
    "print(\" %f\" % (p1+0.0001) )\n",
    "print(\"t2:\")\n",
    "print(\" %f\\n\" % (p2-0.0001) )\n",
    "\n",
    "print(\"Inlet\")\n",
    "print(\"x(t):\")\n",
    "print(\" %f - %f * (1 - cos(t*3.14159/180) ) + ( %f * cos(t*3.14159/180) ) + ( -( %f - %f * ( 1 - cos(t*3.14159/180) ) ) + ( ( %f - %f * ( 1 - cos(t*3.14159/180) ) )^2 + %f * cos(t*3.14159/180) )^0.5 ) + ( %f * cos(t*3.14159/180) )\" % (rcc,A9,t,rcc,A9,rcc,A9,A15,tout))\n",
    "print(\"y(t):\")\n",
    "print(\" %f * sin(t*3.14159/180) + %f + ( %f * sin(t*3.14159/180) ) + ( -( %f - %f * ( 1 - cos(t*3.14159/180) ) ) + ( ( %f - %f * ( 1 - cos(t*3.14159/180) ) )^2 + %f * cos(t*3.14159/180) )^0.5 ) * tan(t*3.14159/180) + ( %f * sin(t*3.14159/180) )\" % (A10,A11,t,rcc,A10,rcc,A10,A15,tout))\n",
    "print(\"Parameters:\")\n",
    "print(\"t1:\")\n",
    "print(\" 0.001\"  )\n",
    "print(\"t2:\")\n",
    "print(\" %f\\n\" % (theta-0.0001) )"
   ]
  },
  {
   "cell_type": "markdown",
   "metadata": {},
   "source": [
    "### Finite Element Analysis\n",
    "\n",
    "The flow properties at any axial location of a rocket nozzle are modeled as an ideal gas. Therefore, if the particular geometry of the nozzle is known, then the properties within a finite element of the flow may be known. By determining the flow properties of the gas, a heat transfer coefficient may also be found, as well as the heat flux into any particular channel. By assuming that the heat flux into the fluid is equal to the heat flux through the nozzle wall, it may be determined whether a particular finite volume of coolant aquires enough heat to achieve a phase change, resulting in nucleate boiling when the coolant pressures are low enough for that phase change to be from a liquid to a gas.\n",
    "\n",
    "In some cases; where the pressure is high enough, a coolant super critical state may be achieved. In such cases, there may be advantages to allowing a phase change. It is; however, not advantageous to allow nucleate boiling, which would result in an insulative gas layer forming between the wall and the coolant, quickly leading to engine failure.\n",
    "\n",
    "The scope of this analysis is solely to determine the amount of heat accepted by a finite volume of fluid and produce a reasonable guess as to the phase state of the coolant at the exit of the convergent section of the nozzle. This will allow for a designer to alter their original assumptions about the converging angle of the nozzle, the rapid expansion angle of the nozzle, or the length of the combustion chamber.\n",
    "\n",
    "In general, a decrease in the surface area of the nozzle will result in less heat being transfered into the coolant. Therefore, heat transfer may be decreased by an increase of either the convergence angle or the rapid expansion angle of the nozzle. Furthermore, heat transfer may be decreased by shortening the combustion chamber. Typically, these changes will result in lower nozzle efficiencies.\n",
    "\n",
    "Coolant capacity may be increased by either the dilution of the fuel with water (in the case that the fuel is aqueous), or by increasing the mass flow rate of fuel in the nozzle. The latter is achievable by increasing the desired force of a nozzle, or by increasing the amount of film cooled surface area within the nozzle. Coefficients modifiying the adiabadic wall temperature of the flow due to the addition of film cooling should be determined by measurements performed in testing."
   ]
  },
  {
   "cell_type": "code",
   "execution_count": 86,
   "metadata": {
    "collapsed": false
   },
   "outputs": [],
   "source": [
    "import sympy as sympy\n",
    "\n",
    "from sympy.solvers import solve\n",
    "from sympy import Symbol\n",
    "from sympy import log\n",
    "\n",
    "import numpy as np\n",
    "import matplotlib.pyplot as plt\n",
    "\n",
    "#Boiling analysis\n",
    "#Heat transfer along bell\n",
    "#find Ax/At\n",
    "x  = [0]\n",
    "dx = 0.01\n",
    "\n",
    "thetaNr = math.pi/180*thetaN\n",
    "thetar  = math.pi/180*theta\n",
    "\n",
    "\n",
    "\n",
    "import numpy as np\n",
    "\n",
    "ARatioSub = []\n",
    "ARatioSup = []\n",
    "rx        = []\n",
    "Ax        = []\n",
    "AR        = []\n",
    "Px        = []\n",
    "Tx        = []\n",
    "Vx        = []\n",
    "ax        = []\n",
    "Mx        = []\n",
    "sigmax    = []\n",
    "hgx       = []\n",
    "Tawx      = []\n",
    "qx        = []\n",
    "\n",
    "res     = 1000 # resolution of mach lookup matrix\n",
    "\n",
    "MachSub = np.linspace(1/res,1,num=res)\n",
    "MachSup = np.linspace(1+1/res,10,num=res*9)\n",
    "PRSub   = np.linspace(1/res,2,num=res*2)\n",
    "PRSup   = np.linspace(2+2/res,1000,num=res*998)\n",
    "\n",
    "#build AR matricies\n",
    "for Machx in MachSub:\n",
    "    ARatioSub.append(1/Machx*(((1+((gam-1)/2)*Machx**2)/(1+((gam-1)/2)))**((gam+1)/(gam-1)))**0.5)\n",
    "\n",
    "for Machx in MachSup:\n",
    "    ARatioSup.append(1/Machx*(((1+((gam-1)/2)*Machx**2)/(1+((gam-1)/2)))**((gam+1)/(gam-1)))**0.5)\n",
    "\n",
    "i=0\n",
    "\n",
    "while x[i] < ((A1*re**2-A2)-(A1*X1**2-A2)):\n",
    "    rx.append((((A1*re**2-A2)-x[i]+A2)/(A1))**.5)\n",
    "    x.append(x[i]+dx)\n",
    "    Ax.append(math.pi*(rx[i])**2)\n",
    "    AR.append(Ax[i]/At)\n",
    "    \n",
    "    Volumex = Ax[i]*dx\n",
    "    Volumet = At*dx\n",
    "    \n",
    "    j=0\n",
    "\n",
    "    #match mach number to current area ratio\n",
    "    currentAR = 0\n",
    "    while currentAR < Ax[i]/At and j < len(ARatioSup)-1:\n",
    "        j=j+1\n",
    "        currentAR = ARatioSup[j]\n",
    "    \n",
    "    y1 = MachSup[j]\n",
    "    y2 = MachSup[j-1]\n",
    "    x1 = ARatioSup[j]\n",
    "    x2 = ARatioSup[j-1]\n",
    "    \n",
    "    Mx.append((Ax[i]/At-x1)*(y2-y1)/(x2-x1)+y1)\n",
    "    Px.append(Pcns/(1+0.5*(gam-1)*Mx[i]**2)**(gam/(gam-1)))\n",
    "    Tx.append(Tcns/(Pcns/Px[i])**((gam-1)/gam))\n",
    "    Vx.append(math.sqrt(2*g*gam/(gam-1)*R*Tcns*(1-(Px[i]/Pcns)**((gam-1)/gam))))\n",
    "    ax.append(math.sqrt(g*gam*R*Tx[i]))\n",
    "    sigmax.append((1/((.5*Twg/Tcns*(1+(gam-1)/2*Mx[i]**2)+.5)**0.68*(1+(gam+1)/2*Mx[i]**2)**0.12)))\n",
    "    hgx.append(((0.026/(2*rt)**0.2*(mucc**0.2*Cpg/Pr**0.6)*(Pcns*g/cstar)**0.8*(2*rt/rmean)**0.1)*(At/Ax[i])**0.9*sigmax[i]))\n",
    "    Tawx.append(edafilm*Tcns*((1+rturb*((gam-1)/2)*Mx[i]**2)/(1+((gam-1)/2)*Mx[i]**2)))\n",
    "    qx.append(hgx[i]*(Tawx[i]-Twg))\n",
    "\n",
    "    i=i+1\n",
    "\n",
    "while x[i] < ((A1*re**2-A2)-(A1*X1**2-A2))+.382*rt*sin(thetaN/180*math.pi):\n",
    "    yr = Symbol(\"yr\")\n",
    "    rx.append(solve((x[i]-(A1*re**2-A2))**2+(yr-1.382*rt)**2-(.382*rt)**2,yr)[0])\n",
    "    x.append(x[i]+dx)\n",
    "    Ax.append(math.pi*(rx[i])**2)\n",
    "    AR.append(Ax[i]/At)\n",
    "    \n",
    "    Volumex = Ax[i]*dx\n",
    "    Volumet = (At)*dx\n",
    "    \n",
    "    j=0\n",
    "\n",
    "    #match mach number to current area ratio\n",
    "    currentAR = 0\n",
    "    while currentAR < Ax[i]/At and j < len(ARatioSup)-1:\n",
    "        j=j+1\n",
    "        currentAR = ARatioSup[j]\n",
    "    \n",
    "    y1 = MachSup[j]\n",
    "    y2 = MachSup[j-1]\n",
    "    x1 = ARatioSup[j]\n",
    "    x2 = ARatioSup[j-1]\n",
    "\n",
    "    Mx.append((Ax[i]/At-x1)*(y2-y1)/(x2-x1)+y1)\n",
    "    Px.append(Pcns/(1+0.5*(gam-1)*Mx[i]**2)**(gam/(gam-1)))\n",
    "    Tx.append(Tcns/(Pcns/Px[i])**((gam-1)/gam))\n",
    "    Vx.append(math.sqrt(2*g*gam/(gam-1)*R*Tcns*(1-(Px[i]/Pcns)**((gam-1)/gam))))\n",
    "    ax.append(math.sqrt(g*gam*R*Tx[i]))\n",
    "    sigmax.append((1/((.5*Twg/Tcns*(1+(gam-1)/2*Mx[i]**2)+.5)**0.68*(1+(gam+1)/2*Mx[i]**2)**0.12)))\n",
    "    hgx.append(((0.026/(2*rt)**0.2*(mucc**0.2*Cpg/Pr**0.6)*(Pcns*g/cstar)**0.8*(2*rt/rmean)**0.1)*(At/Ax[i])**0.9*sigmax[i]))\n",
    "    Tawx.append(edafilm*Tcns*((1+rturb*((gam-1)/2)*Mx[i]**2)/(1+((gam-1)/2)*Mx[i]**2)))\n",
    "    qx.append(hgx[i]*(Tawx[i]-Twg))\n",
    "    \n",
    "    i=i+1\n",
    "\n",
    "while x[i] < ((A1*re**2-A2)-(A1*X1**2-A2))+.382*rt*sin(thetaN/180*math.pi)+1.5*rt*sin(theta/180*math.pi):\n",
    "    yr = Symbol(\"yr\")\n",
    "    rx.append(solve((x[i]-(A1*re**2-A2))**2+(yr-2.5*rt)**2-(1.5*rt)**2,yr)[0])\n",
    "    x.append(x[i]+dx)\n",
    "    Ax.append(math.pi*(rx[i])**2)\n",
    "    AR.append(Ax[i]/At)\n",
    "    \n",
    "    Volumex = Ax[i]*dx\n",
    "    Volumet = (At)*dx\n",
    "    \n",
    "    j=0\n",
    "\n",
    "    #match mach number to current area ratio\n",
    "    currentAR = ARatioSub[0]\n",
    "    while currentAR > Ax[i]/At and j < len(ARatioSub)-1:\n",
    "        j=j+1\n",
    "        currentAR = ARatioSub[j]\n",
    "    \n",
    "    y1 = MachSub[j]\n",
    "    y2 = MachSub[j-1]\n",
    "    x1 = ARatioSub[j]\n",
    "    x2 = ARatioSub[j-1]\n",
    "\n",
    "    Mx.append((Ax[i]/At-x1)*(y2-y1)/(x2-x1)+y1)\n",
    "    Px.append(Pcns/(1+0.5*(gam-1)*Mx[i]**2)**(gam/(gam-1)))\n",
    "    Tx.append(Tcns/(Pcns/Px[i])**((gam-1)/gam))\n",
    "    Vx.append(math.sqrt(2*g*gam/(gam-1)*R*Tcns*(1-(Px[i]/Pcns)**((gam-1)/gam))))\n",
    "    ax.append(math.sqrt(g*gam*R*Tx[i]))\n",
    "    sigmax.append((1/((.5*Twg/Tcns*(1+(gam-1)/2*Mx[i]**2)+.5)**0.68*(1+(gam+1)/2*Mx[i]**2)**0.12)))\n",
    "    hgx.append(((0.026/(2*rt)**0.2*(mucc**0.2*Cpg/Pr**0.6)*(Pcns*g/cstar)**0.8*(2*rt/rmean)**0.1)*(At/Ax[i])**0.9*sigmax[i]))\n",
    "    Tawx.append(edafilm*Tcns*((1+rturb*((gam-1)/2)*Mx[i]**2)/(1+((gam-1)/2)*Mx[i]**2)))\n",
    "    qx.append(hgx[i]*(Tawx[i]-Twg))\n",
    "    \n",
    "    i=i+1\n",
    "    \n",
    "m = math.tan(thetar)\n",
    "b = rt*(2.5-1.5*math.cos(thetar))-m*((A1*re**2-A2)+1.5*rt*math.sin(thetar))\n",
    "\n",
    "while x[i] < (A1*re**2-A2)-(A7*p2+A8):\n",
    "    rx.append(m*x[i]+b)\n",
    "    x.append(x[i]+dx)\n",
    "    Ax.append(math.pi*(rx[i])**2)\n",
    "    AR.append(Ax[i]/At)\n",
    "    \n",
    "    Volumex = Ax[i]*dx\n",
    "    Volumet = (At)*dx\n",
    "    \n",
    "    j=0\n",
    "\n",
    "    #match mach number to current area ratio\n",
    "    currentAR = ARatioSub[0]\n",
    "    while currentAR > Ax[i]/At and j < len(ARatioSub)-1:\n",
    "        j=j+1\n",
    "        currentAR = ARatioSub[j]\n",
    "    \n",
    "    y1 = MachSub[j]\n",
    "    y2 = MachSub[j-1]\n",
    "    x1 = ARatioSub[j]\n",
    "    x2 = ARatioSub[j-1]\n",
    "\n",
    "    Mx.append((Ax[i]/At-x1)*(y2-y1)/(x2-x1)+y1)\n",
    "    Px.append(Pcns/(1+0.5*(gam-1)*Mx[i]**2)**(gam/(gam-1)))\n",
    "    Tx.append(Tcns/(Pcns/Px[i])**((gam-1)/gam))\n",
    "    Vx.append(math.sqrt(2*g*gam/(gam-1)*R*Tcns*(1-(Px[i]/Pcns)**((gam-1)/gam))))\n",
    "    ax.append(math.sqrt(g*gam*R*Tx[i]))\n",
    "    sigmax.append((1/((.5*Twg/Tcns*(1+(gam-1)/2*Mx[i]**2)+.5)**0.68*(1+(gam+1)/2*Mx[i]**2)**0.12)))\n",
    "    hgx.append(((0.026/(2*rt)**0.2*(mucc**0.2*Cpg/Pr**0.6)*(Pcns*g/cstar)**0.8*(2*rt/rmean)**0.1)*(At/Ax[i])**0.9*sigmax[i]))\n",
    "    Tawx.append(edafilm*Tcns*((1+rturb*((gam-1)/2)*Mx[i]**2)/(1+((gam-1)/2)*Mx[i]**2)))\n",
    "    qx.append(hgx[i]*(Tawx[i]-Twg))\n",
    "    \n",
    "    i=i+1\n",
    "\n",
    "xcenter = (A1*re**2-A2)-(A10*math.sin(0)+A11)\n",
    "ycenter = rcc-1.5*rt\n",
    "    \n",
    "while x[i] < (A1*re**2-A2)-(A10*math.sin(0)+A11):\n",
    "    yr = Symbol(\"yr\")\n",
    "    rx.append(solve((x[i]-xcenter)**2+(yr-ycenter)**2-(1.5*rt)**2,yr)[1])\n",
    "    x.append(x[i]+dx)\n",
    "    Ax.append(math.pi*(rx[i])**2)\n",
    "    AR.append(Ax[i]/At)\n",
    "    \n",
    "    Volumex = Ax[i]*dx\n",
    "    Volumet = (At)*dx\n",
    "    \n",
    "    j=0\n",
    "\n",
    "    #match mach number to current area ratio\n",
    "    currentAR = ARatioSub[0]\n",
    "    while currentAR > Ax[i]/At and j < len(ARatioSub)-1:\n",
    "        j=j+1\n",
    "        currentAR = ARatioSub[j]\n",
    "    \n",
    "    y1 = MachSub[j]\n",
    "    y2 = MachSub[j-1]\n",
    "    x1 = ARatioSub[j]\n",
    "    x2 = ARatioSub[j-1]\n",
    "\n",
    "    Mx.append((Ax[i]/At-x1)*(y2-y1)/(x2-x1)+y1)\n",
    "    Px.append(Pcns/(1+0.5*(gam-1)*Mx[i]**2)**(gam/(gam-1)))\n",
    "    Tx.append(Tcns/(Pcns/Px[i])**((gam-1)/gam))\n",
    "    Vx.append(math.sqrt(2*g*gam/(gam-1)*R*Tcns*(1-(Px[i]/Pcns)**((gam-1)/gam))))\n",
    "    ax.append(math.sqrt(g*gam*R*Tx[i]))\n",
    "    sigmax.append((1/((.5*Twg/Tcns*(1+(gam-1)/2*Mx[i]**2)+.5)**0.68*(1+(gam+1)/2*Mx[i]**2)**0.12)))\n",
    "    hgx.append(((0.026/(2*rt)**0.2*(mucc**0.2*Cpg/Pr**0.6)*(Pcns*g/cstar)**0.8*(2*rt/rmean)**0.1)*(At/Ax[i])**0.9*sigmax[i]))\n",
    "    Tawx.append(edafilm*Tcns*((1+rturb*((gam-1)/2)*Mx[i]**2)/(1+((gam-1)/2)*Mx[i]**2)))\n",
    "    qx.append(hgx[i]*(Tawx[i]-Twg))\n",
    "    \n",
    "    i=i+1\n",
    "del x[-1]\n",
    "\n"
   ]
  },
  {
   "cell_type": "code",
   "execution_count": 87,
   "metadata": {
    "collapsed": false
   },
   "outputs": [
    {
     "data": {
      "text/plain": [
       "(0, 5)"
      ]
     },
     "execution_count": 87,
     "metadata": {},
     "output_type": "execute_result"
    },
    {
     "data": {
      "image/png": "[encoded data removed]",
      "text/plain": [
       "<matplotlib.figure.Figure at 0x27ed832d6a0>"
      ]
     },
     "metadata": {},
     "output_type": "display_data"
    },
    {
     "data": {
      "image/png": "[encoded data removed]",
      "text/plain": [
       "<matplotlib.figure.Figure at 0x27ed67172b0>"
      ]
     },
     "metadata": {},
     "output_type": "display_data"
    },
    {
     "data": {
      "image/png": "[encoded data removed]",
      "text/plain": [
       "<matplotlib.figure.Figure at 0x27ed5f7ebe0>"
      ]
     },
     "metadata": {},
     "output_type": "display_data"
    },
    {
     "data": {
      "image/png": "[encoded data removed]",
      "text/plain": [
       "<matplotlib.figure.Figure at 0x27ed82dfac8>"
      ]
     },
     "metadata": {},
     "output_type": "display_data"
    },
    {
     "data": {
      "image/png": "[encoded data removed]",
      "text/plain": [
       "<matplotlib.figure.Figure at 0x27ed60cb400>"
      ]
     },
     "metadata": {},
     "output_type": "display_data"
    },
    {
     "data": {
      "image/png": "[encoded data removed]",
      "text/plain": [
       "<matplotlib.figure.Figure at 0x27ed60d1390>"
      ]
     },
     "metadata": {},
     "output_type": "display_data"
    },
    {
     "data": {
      "image/png": "[encoded data removed]",
      "text/plain": [
       "<matplotlib.figure.Figure at 0x27ed6b16be0>"
      ]
     },
     "metadata": {},
     "output_type": "display_data"
    },
    {
     "data": {
      "image/png": "[encoded data removed]",
      "text/plain": [
       "<matplotlib.figure.Figure at 0x27ed6b2b390>"
      ]
     },
     "metadata": {},
     "output_type": "display_data"
    }
   ],
   "source": [
    "plt.figure(0)\n",
    "plt.scatter(x,rx)\n",
    "plt.xlabel('Nozzle Position (in)')\n",
    "plt.ylabel('Radius (in)')\n",
    "plt.xlim([0,math.ceil(max(x))])\n",
    "\n",
    "plt.figure(1)\n",
    "plt.scatter(x,Mx)\n",
    "plt.xlabel('Nozzle Position (in)')\n",
    "plt.ylabel('Mach Number')\n",
    "plt.xlim([0,math.ceil(max(x))])\n",
    "\n",
    "plt.figure(2)\n",
    "plt.scatter(x,Px)\n",
    "plt.xlabel('Nozzle Position (in)')\n",
    "plt.ylabel('Pressure (psia)')\n",
    "plt.xlim([0,math.ceil(max(x))])\n",
    "\n",
    "plt.figure(3)\n",
    "plt.scatter(x,Tx)\n",
    "plt.xlabel('Nozzle Position (in)')\n",
    "plt.ylabel('Temperature (R)')\n",
    "plt.xlim([0,math.ceil(max(x))])\n",
    "\n",
    "plt.figure(4)\n",
    "plt.scatter(x,Vx)\n",
    "plt.xlabel('Nozzle Position (in)')\n",
    "plt.ylabel('Velocity (ft/s)')\n",
    "plt.xlim([0,math.ceil(max(x))])\n",
    "\n",
    "plt.figure(5)\n",
    "plt.scatter(x,hgx)\n",
    "plt.xlabel('Nozzle Position (in)')\n",
    "plt.ylabel('Heat transfer coefficient (Btu/in^2/s/R)')\n",
    "plt.xlim([0,math.ceil(max(x))])\n",
    "\n",
    "plt.figure(6)\n",
    "plt.scatter(x,Tawx)\n",
    "plt.xlabel('Nozzle Position (in)')\n",
    "plt.ylabel('Adiabatic wall Temp of gas (R)')\n",
    "plt.xlim([0,math.ceil(max(x))])\n",
    "\n",
    "plt.figure(7)\n",
    "plt.scatter(x,qx)\n",
    "plt.xlabel('Nozzle Position (in)')\n",
    "plt.ylabel('Heat flux (Btu/in^2/s)')\n",
    "plt.xlim([0,math.ceil(max(x))])\n",
    "\n"
   ]
  },
  {
   "cell_type": "code",
   "execution_count": 88,
   "metadata": {
    "collapsed": false
   },
   "outputs": [],
   "source": [
    "#Determine heat added to fuel\n",
    "\n",
    "j=1\n",
    "Aqx=[]\n",
    "Qx =[]\n",
    "lenCC = 0\n",
    "\n",
    "while j < len(rx):\n",
    "    Aqx.append(math.sqrt(dx**2+(rx[j-1]-rx[j])**2)*math.pi*(rx[j-1]+rx[j]))\n",
    "    Qx.append(Aqx[j-1]*(qx[j-1]+qx[j])*.5)\n",
    "    lenCC = lenCC + math.sqrt(dx**2+(rx[j-1]-rx[j])**2) #total length of channel\n",
    "    \n",
    "    j+=1\n",
    "Qtot = sum(Qx)"
   ]
  },
  {
   "cell_type": "code",
   "execution_count": 89,
   "metadata": {
    "collapsed": false
   },
   "outputs": [
    {
     "name": "stdout",
     "output_type": "stream",
     "text": [
      "Current combustion chamber length: 2.794983 in\n",
      "Heat transfered into coolant:      551.304169\n",
      "Coolant Capacity:                  586.181016\n"
     ]
    }
   ],
   "source": [
    "#print(\"Maximum combustion chamber length: %f in\" % lenCC) #this isnt correct, this is the total length of the channel, calculate remaining capacity as a combustion chamber length.\n",
    "print(\"Current combustion chamber length: %f in\" % Lc)\n",
    "# print((Qc-Qtot)/(qx[len(qx)-1]*2*math.pi*(rx[len(rx)-1]))) #determine exactly what this is, looks like a ratio of heat fluxes\n",
    "print(\"Heat transfered into coolant:      %f\" % Qtot)\n",
    "print(\"Coolant Capacity:                  %f\" % Qc)"
   ]
  },
  {
   "cell_type": "code",
   "execution_count": 90,
   "metadata": {
    "collapsed": false
   },
   "outputs": [],
   "source": [
    "#pressure loss in cooling passage\n",
    "delP = f*rhof/2*Vco**2/d*(lenCC+Lc)"
   ]
  },
  {
   "cell_type": "code",
   "execution_count": 91,
   "metadata": {
    "collapsed": false
   },
   "outputs": [
    {
     "name": "stdout",
     "output_type": "stream",
     "text": [
      "Coolant velocity:              3.703966 ft/sec\n",
      "Cooling channel pressure drop: 54.692905 psi\n"
     ]
    }
   ],
   "source": [
    "#print(f)\n",
    "#print(rhof)\n",
    "print(\"Coolant velocity:              %f ft/sec\" % (Vco/12)  )\n",
    "#print(d)\n",
    "print(\"Cooling channel pressure drop: %f psi\"    % delP )"
   ]
  },
  {
   "cell_type": "code",
   "execution_count": 92,
   "metadata": {
    "collapsed": false
   },
   "outputs": [],
   "source": [
    "#consider saving this to a file rather than printing out.\n",
    "#Properties of flow along the axial length of the nozzle\n",
    "\n",
    "#i=0\n",
    "#print(\"x,rx,Mx,Px,Tx,Vx,hgx,Tawx\")\n",
    "#while i < len(x):\n",
    "#    print(\"%f,%f,%f,%f,%f,%f,%f,%f\" % (x[i],rx[i],Mx[i],Px[i],Tx[i],Vx[i],hgx[i],Tawx[i]) )\n",
    "#    i=i+1"
   ]
  },
  {
   "cell_type": "code",
   "execution_count": null,
   "metadata": {
    "collapsed": true
   },
   "outputs": [],
   "source": []
  },
  {
   "cell_type": "code",
   "execution_count": null,
   "metadata": {
    "collapsed": true
   },
   "outputs": [],
   "source": []
  }
 ],
 "metadata": {
  "kernelspec": {
   "display_name": "Python 3",
   "language": "python",
   "name": "python3"
  },
  "language_info": {
   "codemirror_mode": {
    "name": "ipython",
    "version": 3
   },
   "file_extension": ".py",
   "mimetype": "text/x-python",
   "name": "python",
   "nbconvert_exporter": "python",
   "pygments_lexer": "ipython3",
   "version": "3.6.0"
  },
  "widgets": {
   "state": {
    "079400bc027a42fc885630196c088d8a": {
     "views": [
      {
       "cell_index": 16
      }
     ]
    },
    "0969163fd5134cf3aae611d90e6fb643": {
     "views": [
      {
       "cell_index": 13
      }
     ]
    },
    "0d5c83f909ae40ecb7dedb8774c46441": {
     "views": [
      {
       "cell_index": 13
      }
     ]
    },
    "0d7dd82b87dd48c191edff408340359c": {
     "views": [
      {
       "cell_index": 4
      }
     ]
    },
    "16ce59742fb541f29db5d3af2c7c1bbe": {
     "views": [
      {
       "cell_index": 13
      }
     ]
    },
    "187377d377fc45db9b86e08adc772467": {
     "views": [
      {
       "cell_index": 13
      }
     ]
    },
    "1b96230e42324a46acd2a46067a9d3c3": {
     "views": [
      {
       "cell_index": 4
      }
     ]
    },
    "2fad1052b6484a989dc5daaaebfba8c2": {
     "views": [
      {
       "cell_index": 16
      }
     ]
    },
    "2fc0b651c124415bb2c8ceaa1d598d15": {
     "views": [
      {
       "cell_index": 16
      }
     ]
    },
    "3fddc9f794cd48238394e39bcabb475f": {
     "views": [
      {
       "cell_index": 13
      }
     ]
    },
    "40c282b841884576ad05da496e867cb3": {
     "views": [
      {
       "cell_index": 4
      }
     ]
    },
    "479401329c2649f29a40a71dec1ac8d9": {
     "views": [
      {
       "cell_index": 13
      }
     ]
    },
    "48d78709efa14bd3887285d496f3f559": {
     "views": [
      {
       "cell_index": 13
      }
     ]
    },
    "4b843b08c5254d928603636972080450": {
     "views": [
      {
       "cell_index": 16
      }
     ]
    },
    "52dd9ac8754f49788ad27f389bf05bd7": {
     "views": [
      {
       "cell_index": 4
      }
     ]
    },
    "545ae1e475874e06b06caf3e86975098": {
     "views": [
      {
       "cell_index": 16
      }
     ]
    },
    "5a778402fd044803bf009c2b2ee8cfbf": {
     "views": [
      {
       "cell_index": 4
      }
     ]
    },
    "5fe132d6f97b4f07a9d6ceac9e849e57": {
     "views": [
      {
       "cell_index": 16
      }
     ]
    },
    "655a66956b6b4761bff65c761207916c": {
     "views": [
      {
       "cell_index": 16
      }
     ]
    },
    "68cb1f29c7894fa38faf984c07ef84cc": {
     "views": [
      {
       "cell_index": 4
      }
     ]
    },
    "71d1733c59a047e48541d9c88dbc3d0f": {
     "views": [
      {
       "cell_index": 16
      }
     ]
    },
    "7422b23c3fd249ffbf35c0c51cdd2242": {
     "views": [
      {
       "cell_index": 4
      }
     ]
    },
    "77d33903b3554a68b7afa80130071255": {
     "views": [
      {
       "cell_index": 16
      }
     ]
    },
    "82bb908eef2f46a2abb83793a477b7a9": {
     "views": [
      {
       "cell_index": 4
      }
     ]
    },
    "875d508a37fc454397a476afcc698173": {
     "views": [
      {
       "cell_index": 4
      }
     ]
    },
    "8ac817fe9d2b490683bb3857b598e3af": {
     "views": [
      {
       "cell_index": 4
      }
     ]
    },
    "90c1dd13687c468fa1d43dbab59ccfc8": {
     "views": [
      {
       "cell_index": 4
      }
     ]
    },
    "93e2dcc4e1fd4ce19101a339cdb0e9c2": {
     "views": [
      {
       "cell_index": 4
      }
     ]
    },
    "96073f01726746bbb368c3844592fd1e": {
     "views": [
      {
       "cell_index": 13
      }
     ]
    },
    "9d89e0d1bef74b6dbf1aa066f1cfa59f": {
     "views": [
      {
       "cell_index": 13
      }
     ]
    },
    "a153f061d07646d2919dc7d8febea874": {
     "views": [
      {
       "cell_index": 16
      }
     ]
    },
    "a78cab02f8ff42eaa894c75c5fcc3cea": {
     "views": [
      {
       "cell_index": 4
      }
     ]
    },
    "aa7d63d4ed684094b1333b87c4e9d53a": {
     "views": [
      {
       "cell_index": 16
      }
     ]
    },
    "ad5fbeac503b4e4386c3082b2f902be4": {
     "views": [
      {
       "cell_index": 16
      }
     ]
    },
    "b7d3970f31444ec7b28113b3f43722c3": {
     "views": [
      {
       "cell_index": 16
      }
     ]
    },
    "b99241fffa98498aa11dfa30381ab642": {
     "views": [
      {
       "cell_index": 4
      }
     ]
    },
    "b9c1855a4ba0437c812fe248928b9841": {
     "views": [
      {
       "cell_index": 4
      }
     ]
    },
    "bddcb19f801d4242a925496361a4de26": {
     "views": [
      {
       "cell_index": 4
      }
     ]
    },
    "d5582a5d498b46608b3c94d765305923": {
     "views": [
      {
       "cell_index": 16
      }
     ]
    },
    "dd7f372fad7345e3bd95c5025091ecf7": {
     "views": [
      {
       "cell_index": 16
      }
     ]
    },
    "e0215cec2bda4c01be63f46c8eacbb4e": {
     "views": [
      {
       "cell_index": 16
      }
     ]
    }
   },
   "version": "1.2.0"
  }
 },
 "nbformat": 4,
 "nbformat_minor": 0
}
