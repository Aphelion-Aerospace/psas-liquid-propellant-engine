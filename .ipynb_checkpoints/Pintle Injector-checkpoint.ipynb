{
 "cells": [
  {
   "cell_type": "markdown",
   "metadata": {
    "collapsed": true
   },
   "source": [
    "# Pintle Injector\n"
   ]
  },
  {
   "cell_type": "markdown",
   "metadata": {},
   "source": [
    "For ease of machinability and other reasons, the pintle injector has been chosen as the injector for the liquid fueled rocket engine. \n",
    "\n",
    "The pintle injector can be either fuel centered or lox centered. \n",
    "\n",
    "Fuel centered is typically used for smaller engines, but for ease of machinability a pintle design with LOX centered is being used.  \n"
   ]
  },
  {
   "cell_type": "markdown",
   "metadata": {},
   "source": [
    "<img src=\"lox.png\" width=\"500\" height=\"500\"  /> "
   ]
  },
  {
   "cell_type": "markdown",
   "metadata": {},
   "source": [
    "<img src=\"pintle.png\" width=\"600\" height=\"600\"/> "
   ]
  },
  {
   "cell_type": "markdown",
   "metadata": {},
   "source": [
    "## Important Equations:"
   ]
  },
  {
   "cell_type": "markdown",
   "metadata": {
    "collapsed": true
   },
   "source": [
    "\n",
    "$$n = number\\ of\\ slots$$\n",
    "\n",
    "$$w = slot\\ width$$\n",
    "\n",
    "$$TMR = total\\ momentum\\ ratio$$\n",
    "\n",
    "$$BF = blockage\\ factor$$\n",
    "\n",
    "$$D = outer\\ post\\ diameter$$\n",
    "\n",
    "$$EMR = effective\\ momentum\\ ratio$$\n",
    "\n",
    "$$TMR = \\frac{\\dot{m}U_{inner}}{\\dot{m}U_{outer}}$$\n",
    "\n",
    "\n",
    "$$BF = \\frac{n*w}{D*pi}$$\n",
    "\n",
    "\n",
    "$$EMR = \\frac{TMR}{BF}$$\n",
    "\n",
    "\n",
    "*Note:\n",
    "\n",
    "BF should be less than 1, preferably between 0.3 and 0.7.\n",
    "\n",
    "If BF>1, there will be risk of interfacial shear \n"
   ]
  },
  {
   "cell_type": "markdown",
   "metadata": {},
   "source": [
    "<img src=\"outerpostd.png\" width=\"150\" height=\"150\"/> "
   ]
  },
  {
   "cell_type": "code",
   "execution_count": 3,
   "metadata": {
    "collapsed": false
   },
   "outputs": [],
   "source": [
    "from IPython.display import display\n",
    "from ipywidgets import widgets\n",
    "\n",
    "nuser = widgets.Text(description=\"number of slots, n\", width=60)\n",
    "wuser = widgets.Text(description=\"slot width, w (in)\", width=60)\n",
    "duser = widgets.Text(description=\"outer post diameter, d (in)\", width=60)\n",
    "mluser = widgets.Text(description=\"lox mass flow rate, mdotl ()\", width=60)\n",
    "mfuser = widgets.Text(description=\"fuel mass flow rate, mdotf ()\", width=60)\n",
    "Uinner = widgets.Text(description=\"fluid inner velocity, Ui ()\", width=60)\n",
    "Uouter = widgets.Text(description=\"fluid outer velocity, Uo ()\", width=60)\n",
    "\n",
    "display(nuser)\n",
    "display(wuser)\n",
    "display(duser)\n",
    "display(mluser)\n",
    "display(mfuser)\n",
    "display(Uinner)\n",
    "display(Uouter)\n",
    "\n",
    "\n"
   ]
  },
  {
   "cell_type": "code",
   "execution_count": 4,
   "metadata": {
    "collapsed": false
   },
   "outputs": [],
   "source": [
    "n=float(nuser.value)\n",
    "w=float(wuser.value)\n",
    "d=float(duser.value)\n",
    "ml=float(mluser.value)\n",
    "mf=float(mfuser.value)\n",
    "Ui=float(Uinner.value)\n",
    "Uo=float(Uouter.value)\n",
    "\n",
    "\n",
    "\n"
   ]
  },
  {
   "cell_type": "code",
   "execution_count": 15,
   "metadata": {
    "collapsed": false
   },
   "outputs": [
    {
     "name": "stdout",
     "output_type": "stream",
     "text": [
      "BF =  1.592356687898089\n",
      "TMR lox centered =  1.0\n",
      "TMR fuel centered =  1.0\n",
      "EMR lox centered =  0.628\n",
      "EMR fuel centered =  0.628\n"
     ]
    }
   ],
   "source": [
    "BF = (n*w)/(d*3.14)\n",
    "mil = ml*Ui\n",
    "mfo = mf*Uo\n",
    "mfi = mf*Ui\n",
    "mfl = ml*Uo\n",
    "TMR_l = mil/mfo \n",
    "TMR_F = mfi/mfl\n",
    "EMR_l = TMRl/BF\n",
    "EMR_F = TMRF/BF\n",
    "print(\"BF = \", BF)\n",
    "print(\"TMR lox centered = \", TMR_l)\n",
    "print(\"TMR fuel centered = \", TMR_F)\n",
    "print(\"EMR lox centered = \", EMR_l)\n",
    "print(\"EMR fuel centered = \", EMR_F)\n",
    "\n",
    "\n"
   ]
  },
  {
   "cell_type": "markdown",
   "metadata": {},
   "source": [
    "## Injector Discharge Coefficient:"
   ]
  },
  {
   "cell_type": "markdown",
   "metadata": {},
   "source": [
    "The pintle injector will have a sharp-edged orifice. The figure below taken from Sutton shows a diagram of a sharp-edged orifice with the corresponding coefficients.\n",
    "\n",
    "<img src=\"orifice.png\" width=\"600\" height=\"600\"/> \n",
    "\n",
    "$$\\frac{Q}{A} = C_d*\\sqrt{\\frac{2*\\Delta P}{\\rho}}$$\n",
    "\n",
    "\n",
    "\n",
    "$$Cd = Discharge\\ Coefficient $$\n",
    "\n",
    "$$\\rho = Density $$\n",
    "\n",
    "$$\\Delta P = Change\\ in\\ Pressure $$\n",
    "\n",
    "$$Q = Volume\\ Flow\\ Rate $$\n"
   ]
  },
  {
   "cell_type": "markdown",
   "metadata": {},
   "source": []
  }
 ],
 "metadata": {
  "kernelspec": {
   "display_name": "Python 3",
   "language": "python",
   "name": "python3"
  },
  "language_info": {
   "codemirror_mode": {
    "name": "ipython",
    "version": 3
   },
   "file_extension": ".py",
   "mimetype": "text/x-python",
   "name": "python",
   "nbconvert_exporter": "python",
   "pygments_lexer": "ipython3",
   "version": "3.5.1"
  }
 },
 "nbformat": 4,
 "nbformat_minor": 0
}
