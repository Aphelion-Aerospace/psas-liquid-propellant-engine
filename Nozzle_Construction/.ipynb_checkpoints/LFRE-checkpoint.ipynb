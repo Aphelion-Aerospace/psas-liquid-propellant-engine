{
 "cells": [
  {
   "cell_type": "markdown",
   "metadata": {},
   "source": [
    "# Exploration of the Construction of Liquid Fuel Bipropellant Rocket Engines Utilizing Additive Manufacturing Processes\n",
    "\n",
    "\n",
    "## Abstract:\n",
    "\n",
    "The Portland State Aerospace Society (PSAS) is an engineering student group and citizen science project at Portland State University dedicated to building low-cost, open-source, open-hardware rockets and avionics systems. The group’s stated long term goal is to place a 1 kg cubesat into low Earth orbit with their own launch vehicle. One step needed to achieve this goal is to transition the current rocket design from a solid motor to a liquid fuel engine. The liquid propelled rocket engine project is being conducted as part of a mechanical engineering senior capstone project at Portland State University. This project is on track to being completed by June of 2016.\n",
    "\n",
    "The complexity and cost of building a liquid fuel rocket engine typically makes such devices unobtainable for a majority of parties interested in their construction. Until recently, manufacturing processes and techniques limited the geometries available to the designer and rendered such engines cost prohibitive as options for inexpensive orbital space flight. Advances in additive manufacturing technologies provide the potential to prototype complex geometries on a lower budget and with shorter lead times which would be considered unobtainable with traditional manufacturing methods. Furthermore, bipropellant liquid fuels offer many complex engineering considerations; the full analysis of which may not be within the design ability of many amateur builds. It is therefore advantageous to develop techniques for additive manufacturing rapid prototyping to make the study of bipropellant fuels more accessible.\n",
    "\n",
    "Explored herein is the process of designing and testing a liquid bipropellant engine on the scale of 50-1000 lbf of thrust using liquid oxygen (LOX) and ethanol as propellants. A low cost pintle injector and accompanying regeneratively cooled thrust chamber is developed using a combination of traditional manufacturing techniques and additive processes. Equations have been determined to describe the more complex geometries of the nozzle contour and the sizing of other important components. Figure 1 shows the preliminary design of the combustion chamber and nozzle with cooling channels. Heat transfer analysis is being conducted to determine the type of metal to be selected for the nozzle and cooling chamber, most likely a high-temperature steel such as inconel.\n",
    "\n",
    "\n",
    "Figure 1: Combustion chamber and nozzle preliminary design\n",
    "\n",
    "In order to achieve a simple and easy to manufacture pintle injector design, the regenerative cooling channel interface, fuel manifold and most of the injector plate will be part of the additively manufactured combustion chamber. The design will accommodate easy installation of different injector types to allow for testing of different injector and spray configurations. Cold flow tests will be conducted to study the viscous losses in 3D-printed metal cooling channels, manifold system, and pintle injector designs.\n",
    "\n",
    "An engine test-stand has been constructed and a pressure fed fuel system with actuated valves is being developed for fuel delivery. Pressure transducers and thermocouples will be ported into the final engine design to collect pressure and temperature data in the nozzle and combustion chamber. Analytical solutions and empirical data will be compared against simulations carried out by computational fluid dynamics (CFD) simulations. CFD simulations will be conducted using Loci/CHEM and Star-CCM+ simulation software."
   ]
  },
  {
   "cell_type": "markdown",
   "metadata": {
    "collapsed": true
   },
   "source": [
    "#### Initial Design Considerations\n",
    "\n",
    "Parameters must be selected. The generation of force is the desire of a rocket engine. the force equation is:\n",
    "\n",
    "$$ F = \\frac{\\dot{w}}{g} V_{e} + A_{e}(P_{e}-P_{a}) $$\n",
    "\n",
    "This is important when designing engines for flight, but when testing engines $P_{e}$ is optimally expanded and assumed to be atmospheric pressure (14.7 psia) and the equation becomes:\n",
    "\n",
    "$$ F = \\frac{\\dot{w}}{g} V_{e} $$\n",
    "\n",
    "For engines in flight the effective exhaust velocity, $c$, can be used, and equation X can be expressed as:\n",
    "\n",
    "$$F = c\\frac{\\dot{W}}{g} $$\n",
    "\n",
    "Where c is defined as\n",
    "\n",
    "$$c=V_{e} + A_{e}(P_{e}-P_{a})\\frac{g}{\\dot{W}} $$\n",
    "\n",
    "which changes with altitude.\n",
    "\n",
    "For a desired force, there must then be selected an exit velocity to find the necessary flow rate, $\\dot{w}$. The theoretical exit velocity is defined as:\n",
    "\n",
    "$$V_{e} = \\sqrt{\\frac{2g\\gamma}{\\gamma-1}RT_{i}\\bigg[1-\\bigg(\\frac{P_{e}}{P_{i}}\\bigg)\\bigg]^\\frac{\\gamma-1}{\\gamma}+v_{i}^2} $$\n",
    "\n",
    "Because the inlet velocity is very small, it is assumed to be zero, this gives the following:\n",
    "\n",
    "$$V_{e} = \\sqrt{\\frac{2g\\gamma}{\\gamma-1}R(T_{c})_{ns}\\bigg[1-\\bigg(\\frac{P_{e}}{(P_{c})_{ns}}\\bigg)\\bigg]^\\frac{\\gamma-1}{\\gamma}} $$\n",
    "\n",
    "which is dependent on the propellants, chamber pressure which should be chosen for the design, $P_{i}$, and the mach number at the nozzle inlet, Mi, which must be calculated iteratively. \n",
    "\n",
    "Pressure at the exit, Pe, of a test nozzle should be expanded to the pressure of testing conditions (assumed to be sea-level atmospheric pressure).\n",
    "\n",
    "Flame temperature and gamma can be obtained for a given propellant combination by using NASA's [CEArun](https://cearun.grc.nasa.gov/) tool. [link to portion in document which describes how to use cearun](internallinkhere)\n",
    "\n",
    "The propellent mixture ratio, can be used to manipulate flame temperature as well as cooling capacity. Increasing fuel; and thereby decreasing rw, will result in lower temperatures and more coolant mass flow-rate. CEArun should be used to determine the effect of a given mixture ratio.\n",
    "\n",
    "Things to add to this section:\n",
    "choosing OF ratios, (maximize theoretical specific impulse, balance with temperature limits, increases in oxidizer tend to lead to higher temperatures. selecting chamber pressures should be dependent on material limits, impulse tends to increase with increases in pressure, more enthalpy is available to convert to exhaust velocity, higher pressures generally result in higher temperatures.\n",
    "\n",
    "define constants to be used in mathmatics. discuss gas constants and their calculations.\n",
    "\n",
    "discuss each parameter as well as nomenclature, what does inj, inlet, throat, or exit mean, show locations in diagrams.\n",
    "\n",
    "\n"
   ]
  },
  {
   "cell_type": "code",
   "execution_count": 629,
   "metadata": {
    "collapsed": true
   },
   "outputs": [],
   "source": [
    "import math\n",
    "from mpmath import *\n",
    "from IPython.display import display\n",
    "from ipywidgets import widgets\n",
    "\n",
    "#Define Constants\n",
    "g     = 32.2  # gravitational constant in ft/s^2\n",
    "J     = 778   # Energy conversion factor (ft-lb/Btu)\n",
    "Regas = 1544  # Gas constant (ft/degR)\n",
    "Rgas  = 8.314 # Gas constant (J/mol/K)"
   ]
  },
  {
   "cell_type": "code",
   "execution_count": 630,
   "metadata": {
    "collapsed": false,
    "scrolled": true
   },
   "outputs": [],
   "source": [
    "#initial design considerations inputs\n",
    "F_        = widgets.Text(\"350\",           description=\"Force, F (lbf)\",                              width=60 )\n",
    "M_        = widgets.Text(\"24.029\",        description=\"Molecular Weight, (lb/lb-mol)\",               width=100)\n",
    "Pa_       = widgets.Text(\"14.7\",          description=\"Atmospheric Pressure, (lbf/in^2)\",            width=60 )\n",
    "Pe_       = widgets.Text(\"40\",            description=\"Exit Pressure, Pe (lbf/in^2) \",               width=60 )\n",
    "Pinj_     = widgets.Text(\"350\",           description=\"Pressure at injector, Pinj (lb/in^2)\",        width=60 )\n",
    "rw_       = widgets.Text(\"1.2\",           description=\"(oxidizer/fuel) Weight mixture ratio\",        width=60 )\n",
    "rwfuel_   = widgets.Text(\"59.5\",          description=\"Fuel mixture percentage\",                     width=60 )\n",
    "Tamb_     = widgets.Text(\"551\",           description=\"Ambient temperature, (deg R)\",                width=60 )\n",
    "Tcns_     = widgets.Text(\"5487.1\",        description=\"Flow temperature at nozzle inlet, (deg R)\",   width=80 )\n",
    "epsilonc_ = widgets.Text(\"8\",             description=\"Contraction ratio\",                           width=60 )\n",
    "gam_      = widgets.Text(\"1.1208\",        description=\"Specific heat ratio\",                         width=60 )\n",
    "\n",
    "display(F_)\n",
    "display(M_)\n",
    "display(Pa_)\n",
    "display(Pe_)\n",
    "display(Pinj_)\n",
    "display(rw_)\n",
    "display(rwfuel_)\n",
    "display(Tamb_)\n",
    "display(Tcns_)\n",
    "display(epsilonc_)\n",
    "display(gam_)"
   ]
  },
  {
   "cell_type": "code",
   "execution_count": 631,
   "metadata": {
    "collapsed": true
   },
   "outputs": [],
   "source": [
    "F        = float(F_.value)        #Nozzle force\n",
    "M        = float(M_.value)        #Molecular Weight\n",
    "Pa       = float(Pa_.value)       #Atmospheric Pressure\n",
    "Pe       = float(Pe_.value)       #Pressure at exit\n",
    "Pinj     = float(Pinj_.value)     #Pressure at injector\n",
    "rw       = float(rw_.value)       #Weight mixture ratio\n",
    "rwfuel   = float(rwfuel_.value)   #Fuel mixture percentage\n",
    "Tamb     = float(Tamb_.value)     #Ambient temperature\n",
    "Tcns     = float(Tcns_.value)     #Nozzle stagnation temperature\n",
    "epsilonc = float(epsilonc_.value) #Contraction ratio\n",
    "gam      = float(gam_.value)      #Specific Heat Ratio"
   ]
  },
  {
   "cell_type": "code",
   "execution_count": 632,
   "metadata": {
    "collapsed": false
   },
   "outputs": [
    {
     "name": "stdout",
     "output_type": "stream",
     "text": [
      "Mach Number at inlet: 0.08\n"
     ]
    }
   ],
   "source": [
    "#Itterative process to find mach number at the inlet.\n",
    "Mi_current = .3 # a reasonable guess for mach number at inlet\n",
    "Mi_last = 0\n",
    "\n",
    "while (abs(Mi_current-Mi_last)>0.0001):\n",
    "    Mi_last = Mi_current\n",
    "    Mi_current = math.sqrt(((1+(gam-1)/2*Mi_last)/((gam+1)/2))**((gam+1)/(gam-1)))/epsilonc\n",
    "\n",
    "Mi = Mi_current\n",
    "\n",
    "print(\"Mach Number at inlet: %.2f\" % Mi)"
   ]
  },
  {
   "cell_type": "code",
   "execution_count": 633,
   "metadata": {
    "collapsed": false
   },
   "outputs": [],
   "source": [
    "#Assumptions\n",
    "\n",
    "Pcinj    = Pinj                   #Chamber total pressure is equal to injector pressure\n",
    "Minj     = 0                      #Mach number at injector assumed to be zero\n",
    "R        = Regas/M                #Gas constant for the flow\n",
    "Tci      = Tamb                   #Fuel holding temperature is equal to ambient temp\n",
    "Vinj     = 0                      #Injector velocity is zero"
   ]
  },
  {
   "cell_type": "code",
   "execution_count": 634,
   "metadata": {
    "collapsed": false
   },
   "outputs": [],
   "source": [
    "#Calculations\n",
    "\n",
    "Pcns     = Pcinj*(1+((gam-1)/2)*Mi**2)**(gam/(gam-1))/(1+gam*Mi**2)                   #Nozzle stagnation pressure\n",
    "Pi       = Pinj/(1+gam*Mi**2)                                                         #Pressure at inlet\n",
    "Pt       = Pcns*(2/(gam+1))**(gam/(gam-1))                                            #Pressure at throat\n",
    "Vt       = math.sqrt(((2*g*gam)/(gam+1))*R*Tcns)                                      #Velocity at throat\n",
    "Ve       = math.sqrt(((2*g*gam)/(gam-1))*R*Tcns*(1-(Pe/Pi)**((gam-1)/gam)))           #Velocity at exit\n",
    "wdot     = F*g/Ve                                                                     #Propellant flow rate\n",
    "wdotf    = 1/(1+rw)*wdot                                                              #Fuel mass flow rate\n",
    "wdoto    = wdot-wdotf                                                                 #Ox mass flow rate\n",
    "#At       = wdot/(Pcns*math.sqrt(g*gam*(2/(gam+1))**((gam+1)/(gam-1))/R/Tcns))         #Area of throat\n",
    "Tt       = Tcns*(Pt/Pcns)**((gam-1)/gam)\n",
    "Volumet  = R*Tt/144/Pt\n",
    "At       = 144*wdot*Volumet/Vt\n",
    "epsilon  = ((2/(gam+1))**(1/(gam-1))*(Pcns/Pe)**(1/gam)/math.sqrt((gam+1)/\n",
    "                        (gam-1)*(1-(Pe/Pcns)**((gam-1/gam)))))                        #Expansion ratio\n",
    "Ae       = At*epsilon                                                                 #Area of exit\n",
    "c        = Ve+Ae*(Pe-Pa)*(g/wdot)                                                     #Effective exhaust velocity\n",
    "Ti       = Tcns/(1+.5*(gam-1)*Mi**2)                                                  #Inlet temperature\n",
    "Te       = Ti/(Pi/Pe)**((gam-1)/gam)                                                  #Temperature at exit"
   ]
  },
  {
   "cell_type": "code",
   "execution_count": 635,
   "metadata": {
    "collapsed": false
   },
   "outputs": [
    {
     "name": "stdout",
     "output_type": "stream",
     "text": [
      "Pressures:\n",
      "Total Chamber,  Pcinj (psi):    350.00\n",
      "Stagnation,     Pcns (psi):     348.82\n",
      "Inlet,          Pi (psi):       347.64\n",
      "Throat,         Pt (psi):       202.44\n",
      "\n",
      "Velocities:\n",
      "Throat,         Vt (ft/sec):    3464.05\n",
      "Exit,           Vt (ft/sec):    6617.81\n",
      "Effective,      c  (ft/sec):    7244.74\n",
      "\n",
      "Mass Flow Rates:\n",
      "Total,          wdot (lb/sec):  1.70\n",
      "Fuel,           wdotf (lb/sec): 0.77\n",
      "Oxidizer,       wdoto (lb/sec): 0.93\n",
      "\n",
      "Temperatures:\n",
      "Fuel (holding), Tci (R):        551.00\n",
      "Stagnation,     Tcns (R):       5487.10\n",
      "Inlet,          Ti (R):         5485.09\n",
      "\n"
     ]
    }
   ],
   "source": [
    "#Print results\n",
    "print(\"Pressures:\")\n",
    "print(\"Total Chamber,  Pcinj (psi):    %.2f\"   % Pcinj)\n",
    "print(\"Stagnation,     Pcns (psi):     %.2f\"   % Pcns)\n",
    "print(\"Inlet,          Pi (psi):       %.2f\"   % Pi)\n",
    "print(\"Throat,         Pt (psi):       %.2f\\n\" % Pt)\n",
    "print(\"Velocities:\")\n",
    "print(\"Throat,         Vt (ft/sec):    %.2f\"   % Vt)\n",
    "print(\"Exit,           Vt (ft/sec):    %.2f\"   % Ve)\n",
    "print(\"Effective,      c  (ft/sec):    %.2f\\n\" % c)\n",
    "print(\"Mass Flow Rates:\")\n",
    "print(\"Total,          wdot (lb/sec):  %.2f\"   % wdot)\n",
    "print(\"Fuel,           wdotf (lb/sec): %.2f\"   % wdotf)\n",
    "print(\"Oxidizer,       wdoto (lb/sec): %.2f\\n\" % wdoto)\n",
    "print(\"Temperatures:\")\n",
    "print(\"Fuel (holding), Tci (R):        %.2f\"   % Tci)\n",
    "print(\"Stagnation,     Tcns (R):       %.2f\"   % Tcns)\n",
    "print(\"Inlet,          Ti (R):         %.2f\\n\"  % Ti)"
   ]
  },
  {
   "cell_type": "code",
   "execution_count": 636,
   "metadata": {
    "collapsed": false
   },
   "outputs": [],
   "source": [
    "#material properties\n",
    "\n",
    "# Typical values for various printable materials\n",
    "# Inconel 718:         a = 0.000008065 , E = 25450000 , k = .000225694 , Twg = 1700 , v = 0.274 , RA = 650*10**-6 in\n",
    "# Aluminum (AlSi10Mg): a = 0.000014 , E = 10200000 , k = 0.001716667 - 0.001983333, Twg = 1500, v = 0.33 , RA = 0.59-0.75 * 10**-3 in\n",
    "# Cobalt Chrome:       a = 0.0000069 , E = 30000000 , k = 0.000333333 , Twg = 2563 , v = 0.29 , RA = 0.39 *10**-3 in\n",
    "# Titanium:            a = 0.000032724 , E =16100000 , k = .000111667 , Twg = 3479 , v = 0.31, RA \n",
    "# Steel\n",
    "\n",
    "Props = [\n",
    "    #     a              E              k          Twg        v         RA\n",
    "    [\"0.000008065\" , \"25450000\" , \"0.000225694\" , \"1700\" , \"0.274\" , \"0.00065\"], # 0 Inconel\n",
    "    [\"0.000014\"    , \"10200000\" , \"0.001716667\" , \"1150\" , \"0.33\"  , \"0.00059\"], # 1 Aluminum\n",
    "    [\"0.0000069\"   , \"30000000\" , \"0.000333333\" , \"2563\" , \"0.29\"  , \"0.00039\"], # 2 Cobalt Chrome\n",
    "    [\"0.000032724\" , \"16100000\" , \"0.000111667\" , \"3479\" , \"0.31\"  , \"0.00065\"]  # 3 Titanium\n",
    "        ]\n",
    "MatInd = 1 # Material index\n",
    "\n",
    "a_        = widgets.Text(Props[MatInd][0], description=\"Thermal expansion ratio nozzle material\",        width=100)\n",
    "E_        = widgets.Text(Props[MatInd][1], description=\"Elastic modulus of nozzle material, E (psi)\",    width=60 )\n",
    "k_        = widgets.Text(Props[MatInd][2], description=\"Wall thermal conductivity, k (Btu-in/in^2-s-F)\", width=120)\n",
    "Twg_      = widgets.Text(Props[MatInd][3], description=\"Maximum Material Temperature at wall, (deg R)\",  width=60 )\n",
    "v_        = widgets.Text(Props[MatInd][4], description=\"Poisson's ratio nozzle material\",                width=60 )\n",
    "RA_       = widgets.Text(Props[MatInd][5], description=\"Surface Rougness, (inch RA)\",                    width=100)\n",
    "\n",
    "\n",
    "\n",
    "#display user input boxes\n",
    "display(a_)\n",
    "display(E_)\n",
    "display(k_)\n",
    "display(Twg_)\n",
    "display(v_)\n",
    "display(RA_)"
   ]
  },
  {
   "cell_type": "code",
   "execution_count": 637,
   "metadata": {
    "collapsed": true
   },
   "outputs": [],
   "source": [
    "#Convert user inputs to float\n",
    "a        = float(a_.value)        #Thermal expansion ratio of nozzle material\n",
    "E        = float(E_.value)        #Elastic modulus of nozzle material\n",
    "k        = float(k_.value)        #Wall thermal conductivity\n",
    "Twg      = float(Twg_.value)      #Maximum Wall Temperature\n",
    "v        = float(v_.value)        #Poisson's ratio nozzle material\n",
    "RA       = float(RA_.value)       #RA surface roughness of nozzle material"
   ]
  },
  {
   "cell_type": "code",
   "execution_count": 638,
   "metadata": {
    "collapsed": true
   },
   "outputs": [],
   "source": [
    "#Define User Inputs for Equation Variables, assign values to default values\n",
    "\n",
    "ARhb_     = widgets.Text(\"3\",             description=\"Cooling channel aspect ratio at throat\",        width=60 )\n",
    "Bpf_      = widgets.Text(\"688.67\",        description=\"Boiling Point of Fuel, Bpf (deg K)\",            width=100)\n",
    "CpFuel_   = widgets.Text(\"0.5876\",        description=\"Specific heat of pure Fuel, CpFuel (BTU/lb-F)\", width=100)\n",
    "DelPi_    = widgets.Text(\"87.5\",          description=\"Injector pressure drop, DelPi (lbf/in^2)\",      width=60 )\n",
    "Hvapf_    = widgets.Text(\"36800\",         description=\"Fuel heat of vaporization, Hvapf (J/mol)\",     width=60 )\n",
    "Lc_       = widgets.Text(\"3.5\",           description=\"Chamber Length, Lc (in) \",                      width=60 )\n",
    "Lstar_    = widgets.Text(\"50\",            description=\"Characteristic Chamber Length, L* (in) \",       width=60 )\n",
    "nc_       = widgets.Text(\"1.1\",           description=\"Nucleate boiling factor of safety, nc\",         width=60 )\n",
    "Pco_      = widgets.Text(\"550\",           description=\"Initial fuel pressure, Pco (lbf/in^2)\",         width=60 )\n",
    "Tt_       = widgets.Text(\"5232.4\",        description=\"Throat Temperature (deg R)\",                    width=80 )\n",
    "eta_      = widgets.Text(\"0.90\",          description=\"Combustion efficiency\",                         width=60 )\n",
    "\n",
    "#Display user input text boxes\n",
    "display(ARhb_)\n",
    "display(Bpf_)\n",
    "display(CpFuel_)\n",
    "display(DelPi_)\n",
    "display(Hvapf_)\n",
    "display(Lc_)\n",
    "display(Lstar_)\n",
    "display(nc_)\n",
    "display(Pco_)\n",
    "display(Tt_)\n",
    "display(eta_)"
   ]
  },
  {
   "cell_type": "code",
   "execution_count": 639,
   "metadata": {
    "collapsed": false,
    "scrolled": true
   },
   "outputs": [],
   "source": [
    "#Convert string entries to floats\n",
    "ARhb     = float(ARhb_.value)     #Cooling channel aspect ratio\n",
    "Bpf      = float(Bpf_.value)      #Boiling Point of fuel\n",
    "CpFuel   = float(CpFuel_.value)   #Specific Heat of pure fuel\n",
    "DelPi    = float(DelPi_.value)    #Pressure drop across injector\n",
    "Hvapf    = float(Hvapf_.value)    #Fuel heat of vaporization\n",
    "Lc       = float(Lc_.value)       #Length of Combustion Chamber\n",
    "Lstar    = float(Lstar_.value)    #Characteristic Chamber Length\n",
    "nc       = float(nc_.value)       #Nucleate boiling factor of safety\n",
    "Pco      = float(Pco_.value)      #Initial fuel pressure\n",
    "Tt       = float(Tt_.value)       #Temperature of throat flow\n",
    "eta      = float(eta_.value)      #Combustion efficiency"
   ]
  },
  {
   "cell_type": "code",
   "execution_count": 640,
   "metadata": {
    "collapsed": true
   },
   "outputs": [],
   "source": [
    "#Performance Parameters\n",
    "\n",
    "Is     = F/wdot                                                               #Specific Impulse\n",
    "Istc   = c/g                                                                  #Thrust chamber specific impulse\n",
    "wdottc = F/Istc*eta                                                           #Thrust chamber propellant flow rate\n",
    "cstar  = (math.sqrt(g*gam*R*Tcns)/gam\n",
    "             /math.sqrt((2/(gam+1))**((gam+1)/(gam-1))))                      #Characteristic Velocity\n",
    "Cf     = (math.sqrt(2*gam**2/(gam-1)*(2/(gam+1))**((gam+1)/(gam-1))\n",
    "             *(1-(Pe/Pcns)**((gam-1)/gam)))+epsilon*((Pe-Pa)/Pcns))           #Thrust Coefficient"
   ]
  },
  {
   "cell_type": "code",
   "execution_count": 641,
   "metadata": {
    "collapsed": false
   },
   "outputs": [
    {
     "name": "stdout",
     "output_type": "stream",
     "text": [
      "Specific Impulse,                    Is:     205.52\n",
      "Thrust Chamber specific impulse,     Istc:   224.99\n",
      "Thrust Chamber propellant flow rate, wdottc: 1.40\n",
      "Characteristic Velocity,             c*:     5325.59\n",
      "Thrust Coefficient,                  Cf:     1.36\n"
     ]
    }
   ],
   "source": [
    "#Print Performance Parameters\n",
    "print(\"Specific Impulse,                    Is:     %.2f\" % Is)\n",
    "print(\"Thrust Chamber specific impulse,     Istc:   %.2f\" % Istc)\n",
    "print(\"Thrust Chamber propellant flow rate, wdottc: %.2f\" % wdottc)\n",
    "print(\"Characteristic Velocity,             c*:     %.2f\" % cstar)\n",
    "print(\"Thrust Coefficient,                  Cf:     %.2f\" % Cf)"
   ]
  },
  {
   "cell_type": "code",
   "execution_count": 642,
   "metadata": {
    "collapsed": false
   },
   "outputs": [],
   "source": [
    "#Thrust Chamber Layout\n",
    "\n",
    "Vc = Lstar*At    #Chamber volume\n",
    "Ac = epsilonc*At #Chamber cross sectional area"
   ]
  },
  {
   "cell_type": "code",
   "execution_count": 643,
   "metadata": {
    "collapsed": false
   },
   "outputs": [
    {
     "name": "stdout",
     "output_type": "stream",
     "text": [
      "Chamnber Volume,              Vc: 40.37\n",
      "Chamber Cross Sectional Area, Ac: 6.46\n"
     ]
    }
   ],
   "source": [
    "#print thrust chamber layout\n",
    "\n",
    "print(\"Chamnber Volume,              Vc: %.2f\" % Vc)\n",
    "print(\"Chamber Cross Sectional Area, Ac: %.2f\" % Ac)"
   ]
  },
  {
   "cell_type": "code",
   "execution_count": 644,
   "metadata": {
    "collapsed": false
   },
   "outputs": [],
   "source": [
    "#Heat Transfer\n",
    "CpH20  = 0.998137                                                #Water specific heat\n",
    "Cpf    = rwfuel/100*CpFuel+(1-rwfuel/100)*CpH20                  #Coolant specific heat\n",
    "Pr     = 4*gam/(9*gam-5)                                         #Prandtl number\n",
    "mucc   = (46.6*10**-10)*M**0.5*Tcns                              #Viscosity in the combustion chamber\n",
    "mut    = (46.6*10**-10)*M**0.5*Tt                                #Viscosity in the throat\n",
    "rlam   = Pr**0.5                                                 #Laminar flow local recovery factor\n",
    "rturb  = Pr**0.33                                                #Turbulent flow local recovery factor\n",
    "Reffcc = ((1+rturb*((gam-1)/2)*Mi**2)/(1+((gam-1)/2)*Mi**2))\n",
    "Refft  = ((1+rturb*((gam-1)/2))/(1+((gam-1)/2)))\n",
    "Tawi   = Tcns*Reffcc                                             #Adiabatic wall temperature at inlet\n",
    "Tawt   = Tcns*Refft                                              #Adiabatic wall temperature at throat\n",
    "rt     = math.sqrt(At/math.pi)                                   #Radius of throat\n",
    "re     = math.sqrt(Ae/math.pi)                                   #Radius of exit\n",
    "rmean  = rt*(1.5+.382)/2                                         #Mean throat curvature\n",
    "sigmat = (1/((.5*Twg/Tcns*(1+(gam-1)/2)+.5)**0.68                #Correction factor for property variations across BL\n",
    "             *(1+(gam+1)/2)**0.12))                              #specified at throat\n",
    "sigmai = (1/((.5*Twg/Tcns*(1+(gam-1)/2*Mi**2)+.5)**0.68          #Correction factor for property variations across BL\n",
    "             *(1+(gam+1)/2*Mi**2)**0.12))                        #specified at inlet\n",
    "Cp     = gam*R/(gam-1)/J                                         #Specific heat at constant pressure\n",
    "hg     = ((0.026/(2*rt)**0.2*(mucc**0.2*Cp/Pr**0.6)\n",
    "           *(Pcns*g/cstar)**0.8*(2*rt/rmean)**0.1)*sigmat)       #heat transfer coefficient at throat\n",
    "q      = hg*(Tawt-Twg)                                           #required heat flux\n",
    "Tcc    = 9/5*(math.log(Pa/(Pi+DelPi))*Rgas/Hvapf+1/(Bpf*5/9))**-1#Critical temperature of fuel coolant\n",
    "Twc    = Tcc/nc                                                  #Maximum coolant wall temperature\n",
    "Qc     = wdotf*Cpf*(Twc-Tci)                                     #Coolant capacity\n",
    "Tbulk  = (Twc + Tci)/2                                           #Coolant bulk temp\n",
    "t      = k/q*(Twg-Tcc)                                           #Wall thickness\n",
    "hc     = q/(Twc-Tbulk)                                           #Coolant side heat transfer coefficient\n",
    "H      = 1/(1/hg+t/k+1/hc)                                       #Overall heat transfer coefficient\n"
   ]
  },
  {
   "cell_type": "code",
   "execution_count": 645,
   "metadata": {
    "collapsed": false
   },
   "outputs": [
    {
     "name": "stdout",
     "output_type": "stream",
     "text": [
      "Coolant Specific Heat,                                         Cpf:    0.75\n",
      "Prandtl Number,                                                Pr:     0.88\n",
      "Viscosity in combustion chamber,                               mucc:   0.00012534\n",
      "Viscosity in throat,                                           mut:    0.00011952\n",
      "Laminar Flow Local Recovery Factor,                            rlam:   0.94\n",
      "Turbulent Flow Local Recovery Factor,                          rturb:  0.96\n",
      "Effective Combustion Chamber Recovery Factor,                  Reffcc: 1.00\n",
      "Effective Throat Recovery Factor,                              Refft:  1.00\n",
      "Adiabatic wall temperature at inlet,                           Tawi:   5487.02\n",
      "Adiabatic wall temperature at throat,                          Tawt:   5474.33\n",
      "Throat radius,                                                 rt:     0.507\n",
      "Exit radius,                                                   re:     0.646\n",
      "Mean throat curvature,                                         rmean:  0.477\n",
      "Correction factor for property variations across BL at throat, sigmat: 1.28\n",
      "Correction factor for property variations across BL at inlet,  sigmai: 1.41\n",
      "Specific heat at constant pressure,                            Cp:     0.76629\n",
      "Heat transfer coefficient at throat,                           hg:     0.00892\n",
      "Required heat flux,                                            q:      38.58\n",
      "Critical temperature of coolant,                               Tcc:    973.84\n",
      "Coolant capacity,                                              Qc:     195.09\n",
      "Coolant bulk temperature,                                      Tbulk:  718.16\n",
      "Wall thickness,                                                t:      0.00784\n",
      "Coolant side heat transfer coefficient,                        hc:     0.23083\n",
      "Overall heat transfer coefficient,                             H:      0.00827\n"
     ]
    }
   ],
   "source": [
    "#print heat transfer\n",
    "print(\"Coolant Specific Heat,                                         Cpf:    %.2f\" % Cpf)\n",
    "print(\"Prandtl Number,                                                Pr:     %.2f\" % Pr)\n",
    "print(\"Viscosity in combustion chamber,                               mucc:   %.8f\" % mucc)\n",
    "print(\"Viscosity in throat,                                           mut:    %.8f\" % mut)\n",
    "print(\"Laminar Flow Local Recovery Factor,                            rlam:   %.2f\" % rlam)\n",
    "print(\"Turbulent Flow Local Recovery Factor,                          rturb:  %.2f\" % rturb)\n",
    "print(\"Effective Combustion Chamber Recovery Factor,                  Reffcc: %.2f\" % Reffcc)\n",
    "print(\"Effective Throat Recovery Factor,                              Refft:  %.2f\" % Refft)\n",
    "print(\"Adiabatic wall temperature at inlet,                           Tawi:   %.2f\" % Tawi)\n",
    "print(\"Adiabatic wall temperature at throat,                          Tawt:   %.2f\" % Tawt)\n",
    "print(\"Throat radius,                                                 rt:     %.3f\" % rt)\n",
    "print(\"Exit radius,                                                   re:     %.3f\" % re)\n",
    "print(\"Mean throat curvature,                                         rmean:  %.3f\" % rmean)\n",
    "print(\"Correction factor for property variations across BL at throat, sigmat: %.2f\" % sigmat)\n",
    "print(\"Correction factor for property variations across BL at inlet,  sigmai: %.2f\" % sigmai)\n",
    "print(\"Specific heat at constant pressure,                            Cp:     %.5f\" % Cp)\n",
    "print(\"Heat transfer coefficient at throat,                           hg:     %.5f\" % hg)\n",
    "print(\"Required heat flux,                                            q:      %.2f\" % q)\n",
    "print(\"Critical temperature of coolant,                               Tcc:    %.2f\" % Tcc)\n",
    "print(\"Coolant capacity,                                              Qc:     %.2f\" % Qc)\n",
    "print(\"Coolant bulk temperature,                                      Tbulk:  %.2f\" % Tbulk)\n",
    "print(\"Wall thickness,                                                t:      %.5f\" % t)\n",
    "print(\"Coolant side heat transfer coefficient,                        hc:     %.5f\" % hc)\n",
    "print(\"Overall heat transfer coefficient,                             H:      %.5f\" % H)"
   ]
  },
  {
   "cell_type": "code",
   "execution_count": 646,
   "metadata": {
    "collapsed": false
   },
   "outputs": [],
   "source": [
    "import sympy as sympy\n",
    "\n",
    "from sympy.solvers import solve\n",
    "from sympy import Symbol\n",
    "from sympy import log\n",
    "\n",
    "muf = 2.7998705 *10**-5 \n",
    "rhof = 0.031972653 #density of 70% ethanol (lb per cubic inch)\n",
    "\n",
    "#solve for minimum number of cooling channels to acheive appropriate cross sectional area,\n",
    "#and the appropriate channel aspect ratio\n",
    "\n",
    "n_g    = 0                                 #a reasonable guess for a particular geometries number of cooling channels\n",
    "n      = 1\n",
    "while (abs(n_g-n)>0):\n",
    "    n_g   = n\n",
    "    bt    = (2*(rt+t)*pi/n_g-t)          \n",
    "    d     = 2*ARhb*bt**2/(ARhb+1)/bt \n",
    "    Vco   = 10000/rhof/d*muf              #needed velocity for turbulent flow in in/s\n",
    "    A_u   = wdotf/rhof/Vco                #unobstructed cross sectional area\n",
    "\n",
    "    #find min number of channels for ideal ratio\n",
    "    L = Symbol('L')\n",
    "    n = round(solve(L*t+(A_u*L/ARhb)**0.5-(2*rt+2*t)*math.pi,L)[0])\n",
    "    \n",
    "Vco    = 10000/rhof/d*muf                  #needed velocity for turbulent flow in in/s\n",
    "A_u    = wdotf/rhof/Vco                    #unobstructed cross sectional area\n",
    "\n",
    "#cooling channel geometry\n",
    "bt     = (2*rt+t)*math.pi/n-t              #base width at throat\n",
    "be     = (2*re+t)*math.pi/n-t              #base width at exit\n",
    "rccht  = bt/2                              #cooling channel effective radius at throat\n",
    "rcche  = be/2                              #cooling channel effective radius at nozzle exit\n",
    "d      = 2*ARhb*bt**2/(ARhb+1)/bt          #cooling channel hydraulic diameter\n",
    "A_ob   = n*(bt**2*(1-math.pi/4)+ARhb*bt*t) #total obstructed area\n",
    "A_c    = A_u + A_ob                        #Total area for cooling channels to be used in parametric equations\n",
    "Re     = rhof*Vco*d/muf                    #Reynolds number of channel\n",
    "\n",
    "#friction factor\n",
    "\n",
    "f=0.2\n",
    "F=0\n",
    "\n",
    "while (abs(f-F)>0.000000000001):\n",
    "    F=(f+F)/2\n",
    "    f=(1/(-2*math.log10(RA/3.71/d+2.51/Re/F**0.5)))**2\n",
    "    \n",
    "#calculate pressure drop of a cooling channel\n",
    "#to do this we must:\n",
    "#calculate arc length of parametric equations (or use solidworks for now...)\n",
    "#calculate reynolds number of passage\n",
    "#calculate friction factor for the pipe use solver of darcy FF\n",
    "#use this to determine holding tank pressure"
   ]
  },
  {
   "cell_type": "code",
   "execution_count": 647,
   "metadata": {
    "collapsed": false
   },
   "outputs": [
    {
     "name": "stdout",
     "output_type": "stream",
     "text": [
      "Fuel viscosity,                             muf:   0.00002800\n",
      "Fuel density,                               rhof:  0.03197\n",
      "Velocity for turbulent flow,                Vco:   984.98\n",
      "Base width at throat,                       bt:    0.00582\n",
      "Base width at exit,                         be:    0.00954\n",
      "Cooling channel effective radius at throat, rccht: 0.00291\n",
      "Cooling channel effective radius at exit,   rcche: 0.00477\n",
      "Cooling channel hydraulic diameter,         d:     0.00873\n",
      "Cooling channel unobstructed area,          A_u:   0.02458\n",
      "Cooling channel obstructed area,            A_ob:  0.03388\n",
      "Cooling channel total area,                 A_c:   0.05846\n",
      "Number of cooling channels,                 n:     235\n",
      "Friction factor of cooling channel,         f:     0.08458\n"
     ]
    }
   ],
   "source": [
    "#print cooling channel geometry\n",
    "\n",
    "print(\"Fuel viscosity,                             muf:   %.8f\" % muf)\n",
    "print(\"Fuel density,                               rhof:  %.5f\" % rhof)\n",
    "print(\"Velocity for turbulent flow,                Vco:   %.2f\" % Vco)\n",
    "print(\"Base width at throat,                       bt:    %.5f\" % bt)\n",
    "print(\"Base width at exit,                         be:    %.5f\" % be)\n",
    "print(\"Cooling channel effective radius at throat, rccht: %.5f\" % rccht)\n",
    "print(\"Cooling channel effective radius at exit,   rcche: %.5f\" % rcche)\n",
    "print(\"Cooling channel hydraulic diameter,         d:     %.5f\" % d)\n",
    "print(\"Cooling channel unobstructed area,          A_u:   %.5f\" % A_u)\n",
    "print(\"Cooling channel obstructed area,            A_ob:  %.5f\" % A_ob)\n",
    "print(\"Cooling channel total area,                 A_c:   %.5f\" % A_c)\n",
    "print(\"Number of cooling channels,                 n:     %.0f\" % n)\n",
    "print(\"Friction factor of cooling channel,         f:     %.5f\" % f)\n"
   ]
  },
  {
   "cell_type": "code",
   "execution_count": 648,
   "metadata": {
    "collapsed": false
   },
   "outputs": [],
   "source": [
    "#wall stresses\n",
    "Ste    =(Pco-Pe)*rcche/t+E*a*q*t/2/(1-v)/k #combined tangential stress at nozzle exit\n",
    "Stt    =(Pco-Pt)*rccht/t+E*a*q*t/2/(1-v)/k\n",
    "Sce    =(Pco-Pe)*re/t+E*a*q*t/2/(1-v)/k    #maximum compressive stress as coaxial shell design"
   ]
  },
  {
   "cell_type": "code",
   "execution_count": 649,
   "metadata": {
    "collapsed": false
   },
   "outputs": [
    {
     "name": "stdout",
     "output_type": "stream",
     "text": [
      "Combined tangential stress at nozzle exit,          Ste: 19082.68\n",
      "Combined tangential stress at throat,               Stt: 18901.51\n",
      "Maximum compressive stress as coaxial shell design, Sce: 60801.50\n"
     ]
    }
   ],
   "source": [
    "print(\"Combined tangential stress at nozzle exit,          Ste: %.2f\" % Ste)\n",
    "print(\"Combined tangential stress at throat,               Stt: %.2f\" % Stt)\n",
    "print(\"Maximum compressive stress as coaxial shell design, Sce: %.2f\" % Sce) #does not account for support of channel walls"
   ]
  },
  {
   "cell_type": "code",
   "execution_count": 650,
   "metadata": {
    "collapsed": true
   },
   "outputs": [],
   "source": [
    "#heat transfer plots\n",
    "%matplotlib inline\n",
    "\n",
    "import matplotlib\n",
    "import numpy as np\n",
    "import matplotlib.pyplot as plt"
   ]
  },
  {
   "cell_type": "code",
   "execution_count": 651,
   "metadata": {
    "collapsed": false
   },
   "outputs": [
    {
     "data": {
      "text/plain": [
       "<matplotlib.text.Text at 0x184d920a780>"
      ]
     },
     "execution_count": 651,
     "metadata": {},
     "output_type": "execute_result"
    },
    {
     "data": {
      "image/png": "[encoded data removed]",
      "text/plain": [
       "<matplotlib.figure.Figure at 0x184d60fa1d0>"
      ]
     },
     "metadata": {},
     "output_type": "display_data"
    },
    {
     "data": {
      "image/png": "[encoded data removed]",
      "text/plain": [
       "<matplotlib.figure.Figure at 0x184d91ff0b8>"
      ]
     },
     "metadata": {},
     "output_type": "display_data"
    }
   ],
   "source": [
    "x = np.linspace(Tbulk,Twg)\n",
    "\n",
    "#figure 1 Max stress v. Gas side wall temp\n",
    "plt.figure(1)\n",
    "line, = plt.plot(x,(Pco-Pt)*rccht/(k/((((0.026/(2*rt)**0.2*(mucc**0.2*Cp/Pr**0.6)*(Pcns*g/cstar)**0.8*(2*rt/rmean)**0.1)*((1/((.5*x/Tcns*(1+(gam-1)/2)+.5)**0.68*(1+(gam+1)/2)**0.12)))))*(Tawt-x))*(x-Tcc))+E*a*q*(k/((((0.026/(2*rt)**0.2*(mucc**0.2*Cp/Pr**0.6)*(Pcns*g/cstar)**0.8*(2*rt/rmean)**0.1)*((1/((.5*x/Tcns*(1+(gam-1)/2)+.5)**0.68*(1+(gam+1)/2)**0.12)))))*(Tawt-x))*(x-Tcc))/2/(1-v)/k, '--', linewidth=2)\n",
    "plt.suptitle(\"Figure 1\")\n",
    "plt.title(\"Max stress v. Gas-side wall temp\")\n",
    "plt.xlabel(\"Temp (R)\")\n",
    "plt.ylabel(\"Stress (psi)\")\n",
    "\n",
    "#figure 2 Wall thickness v. gas side wall temp\n",
    "plt.figure(2)\n",
    "line, = plt.plot(x,k/((((0.026/(2*rt)**0.2*(mucc**0.2*Cp/Pr**0.6)*(Pcns*g/cstar)**0.8*(2*rt/rmean)**0.1)*((1/((.5*x/Tcns*(1+(gam-1)/2)+.5)**0.68*(1+(gam+1)/2)**0.12)))))*(Tawt-x))*(x-Tcc), '--', linewidth=2)\n",
    "plt.suptitle(\"Figure 2\")\n",
    "plt.title(\"Wall thickness v. Gas-side wall temp\")\n",
    "plt.xlabel(\"Temp (R)\")\n",
    "plt.ylabel(\"Thickness (in)\")"
   ]
  },
  {
   "cell_type": "code",
   "execution_count": 652,
   "metadata": {
    "collapsed": true
   },
   "outputs": [],
   "source": [
    "rcc = math.sqrt((At*epsilonc)/math.pi)\n",
    "#Parametric Equations\n",
    "\n",
    "#calculate parameters\n",
    "\n",
    "tout   = 2*t # calculate a better outer thickness or place in input parameters\n",
    "theta  = 45\n",
    "thetaN = 45\n",
    "A1     = math.tan(math.radians(90-thetaN))/(2*(rt-rt*.382*(1-math.cos(math.radians(thetaN)))))\n",
    "A2     = -(.382*rt*math.sin(math.radians(thetaN)))+A1*(rt+.382*rt*(1-math.cos(math.radians(thetaN))))**2\n",
    "X1     = rt+.382*rt*(1-math.cos(math.radians(thetaN)))"
   ]
  },
  {
   "cell_type": "code",
   "execution_count": 653,
   "metadata": {
    "collapsed": false
   },
   "outputs": [
    {
     "name": "stdout",
     "output_type": "stream",
     "text": [
      "Parametric Equations:\n",
      "\n",
      "Internal Contour:\n",
      "\n",
      "Bell\n",
      "x(t):\n",
      " t\n",
      "y(t):\n",
      " 1.110495 * t^2 - 0.215921\n",
      "Parameters:\n",
      "t1:\n",
      " 0.563695\n",
      "t2:\n",
      " 0.645777\n",
      "\n",
      "Throat, rapid expansion\n",
      "x(t):\n",
      " 0.700636 * (1- (.382/1.382) * cos(t*3.14159/180))\n",
      "y(t):\n",
      " 0.193663 * sin(t*3.14159/180)\n",
      "Parameters:\n",
      "t1:\n",
      " 0.001\n",
      "t2:\n",
      " 44.999000\n",
      "\n",
      "Throat, rapid contraction\n",
      "x(t):\n",
      " 1.267431 * (1 - 0.6 * cos(t*3.14159/180))\n",
      "y(t):\n",
      " -0.760459 * sin(t*3.14159/180)\n",
      "Parameters:\n",
      "t1:\n",
      " 0.001\n",
      "t2:\n",
      " 44.999000\n",
      "\n",
      "Linear contraction\n",
      "x(t):\n",
      " t\n",
      "y(t):\n",
      " -1.000000 * t + 0.191980\n",
      "Parameters:\n",
      "t1:\n",
      " 0.729806\n",
      "t2:\n",
      " 1.211101\n",
      "\n",
      "Inlet\n",
      "x(t):\n",
      " 1.433934 - 0.760459 * (1 - cos(t*3.14159/180))\n",
      "y(t):\n",
      " 0.760459 * sin(t*3.14159/180) + -1.556947\n",
      "Parameters:\n",
      "t1:\n",
      " 0.001\n",
      "t2:\n",
      " 44.999900\n",
      "\n"
     ]
    }
   ],
   "source": [
    "print(\"Parametric Equations:\\n\")\n",
    "print(\"Internal Contour:\\n\")\n",
    "\n",
    "print(\"Bell\")\n",
    "print(\"x(t):\")\n",
    "print(\" t\")\n",
    "print(\"y(t):\")\n",
    "print(\" %f * t^2 - %f\" % (A1,A2) )\n",
    "print(\"Parameters:\" )\n",
    "print(\"t1:\")\n",
    "print(\" %f\" % X1 )\n",
    "print(\"t2:\")\n",
    "print(\" %f\\n\" % (re-0.0001) )\n",
    "\n",
    "Rbell = t\n",
    "\n",
    "A3 = 1.382*rt\n",
    "A4 = 0.382*rt\n",
    "\n",
    "print(\"Throat, rapid expansion\")\n",
    "print(\"x(t):\")\n",
    "print(\" %f * (1- (.382/1.382) * cos(t*3.14159/180))\" % A3 )\n",
    "print(\"y(t):\")\n",
    "print(\" %f * sin(t*3.14159/180)\" % A4 )\n",
    "print(\"Parameters:\" )\n",
    "print(\"t1:\")\n",
    "print(\" 0.001\" )\n",
    "print(\"t2:\")\n",
    "print(\" %f\\n\" % (thetaN-0.001) )\n",
    "\n",
    "A5 = 2.5*rt\n",
    "A6 = -1.5*rt\n",
    "\n",
    "print(\"Throat, rapid contraction\")\n",
    "print(\"x(t):\")\n",
    "print(\" %f * (1 - 0.6 * cos(t*3.14159/180))\" % A5 )\n",
    "print(\"y(t):\")\n",
    "print(\" %f * sin(t*3.14159/180)\" % A6 )\n",
    "print(\"Parameters:\" )\n",
    "print(\"t1:\")\n",
    "print(\" 0.001\" )\n",
    "print(\"t2:\")\n",
    "print(\" %f\\n\" % (theta-0.001) )\n",
    "\n",
    "A7 = -math.tan(math.pi/2-math.radians(theta))\n",
    "A8 = (math.tan(math.pi/2-math.radians(theta))*2.5*rt*(1-0.6*math.cos(math.radians(theta))))-1.5*rt*math.sin(math.radians(theta))\n",
    "p1 = 2.5*rt*(1-0.6*math.cos(math.radians(theta)))\n",
    "p2 = rcc-1.5*rt*(1-math.cos(math.radians(theta)))\n",
    "\n",
    "print(\"Linear contraction\")\n",
    "print(\"x(t):\")\n",
    "print(\" t\")\n",
    "print(\"y(t):\")\n",
    "print(\" %f * t + %f\" % (A7,A8))\n",
    "print(\"Parameters:\" )\n",
    "print(\"t1:\")\n",
    "print(\" %f\" % (p1+0.0001) )\n",
    "print(\"t2:\")\n",
    "print(\" %f\\n\" % (p2-0.0001) )\n",
    "\n",
    "A9  = 1.5*rt\n",
    "A10 = 1.5*rt\n",
    "A11 = (math.tan(2*math.pi-(math.pi/2-math.radians(theta))))*(rcc-1.5*rt*(1-math.cos(math.radians(theta))))+(-math.tan(2*math.pi-(math.pi/2-math.radians(theta)))*(2.5*rt*(1-0.6*math.cos(math.radians(theta))))-1.5*rt*math.sin(math.radians(theta)))-1.5*rt*math.sin(math.radians(theta))\n",
    "\n",
    "print(\"Inlet\")\n",
    "print(\"x(t):\")\n",
    "print(\" %f - %f * (1 - cos(t*3.14159/180))\" % (rcc,A9))\n",
    "print(\"y(t):\")\n",
    "print(\" %f * sin(t*3.14159/180) + %f\" % (A10,A11))\n",
    "print(\"Parameters:\")\n",
    "print(\"t1:\")\n",
    "print(\" 0.001\" )\n",
    "print(\"t2:\")\n",
    "print(\" %f\\n\" % (theta-0.0001) )"
   ]
  },
  {
   "cell_type": "code",
   "execution_count": 654,
   "metadata": {
    "collapsed": false
   },
   "outputs": [
    {
     "name": "stdout",
     "output_type": "stream",
     "text": [
      "Cooling Channel, inner:\n",
      "\n",
      "Bell\n",
      "x(t):\n",
      " t + ( 0.007837 * t / ( t^2 + 0.202725 )^0.5)\n",
      "y(t):\n",
      " 1.110495 *t^2 - 0.215921 + ( -0.007837 / ( 2.220990 *( t^2 + 0.202725 )^0.5))\n",
      "Parameters:\n",
      "t1:\n",
      " 0.563795\n",
      "t2:\n",
      " 0.645777\n",
      "\n",
      "Rapid Expansion\n",
      "x(t):\n",
      " 0.700636 * (1- (.382/1.382) * cos(t*3.14159/180)) + ( 0.007837 * cos(t*3.14159/180))\n",
      "y(t):\n",
      " 0.193663 * sin(t*3.14159/180) + (-0.007837 *sin(t*3.14159/180))\n",
      "Parameters:\n",
      "t1:\n",
      " 0.001\n",
      "t2:\n",
      " 44.999000\n",
      "\n",
      "Rapid Contraction\n",
      "x(t):\n",
      " 1.267431 * (1 - 0.6 * cos(t*3.14159/180)) + ( 0.007837 * cos(t*3.14159/180))\n",
      "y(t):\n",
      " -0.760459 * sin(t*3.14159/180) + (0.007837 *sin(t*3.14159/180))\n",
      "Parameters:\n",
      "t1:\n",
      " 0.001\n",
      "t2:\n",
      " 44.999000\n",
      "\n",
      "Linear contraction\n",
      "x(t):\n",
      " t + 0.005542\n",
      "y(t):\n",
      " -1.000000 * t + 0.197522\n",
      "Parameters:\n",
      "t1:\n",
      " 0.729806\n",
      "t2:\n",
      " 1.211101\n",
      "\n",
      "Inlet\n",
      "x(t):\n",
      " 1.433934 - 0.760459 * (1 - cos(t*3.14159/180)) + ( 0.007837 * cos(t*3.14159/180))\n",
      "y(t):\n",
      " 0.760459 * sin(t*3.14159/180) + -1.556947 + (0.007837 *sin(t*3.14159/180))\n",
      "Parameters:\n",
      "t1:\n",
      " 0.001\n",
      "t2:\n",
      " 44.999900\n",
      "\n"
     ]
    }
   ],
   "source": [
    "print(\"Cooling Channel, inner:\\n\" )\n",
    "\n",
    "A12 = 1/(4*A1**2)\n",
    "\n",
    "print(\"Bell\")\n",
    "print(\"x(t):\")\n",
    "print(\" t + ( %f * t / ( t^2 + %f )^0.5)\" % (t,A12))\n",
    "print(\"y(t):\")\n",
    "print(\" %f *t^2 - %f + ( %f / ( %f *( t^2 + %f )^0.5))\" % (A1,A2,-t,2*A1,A12))\n",
    "print(\"Parameters:\")\n",
    "print(\"t1:\")\n",
    "print(\" %f\" % (X1+0.0001) )\n",
    "print(\"t2:\")\n",
    "print(\" %f\\n\" % (re-0.0001) )\n",
    "\n",
    "print(\"Rapid Expansion\")\n",
    "print(\"x(t):\")\n",
    "print(\" %f * (1- (.382/1.382) * cos(t*3.14159/180)) + ( %f * cos(t*3.14159/180))\" % (A3,t) )\n",
    "print(\"y(t):\")\n",
    "print(\" %f * sin(t*3.14159/180) + (%f *sin(t*3.14159/180))\" % (A4,-t) )\n",
    "print(\"Parameters:\" )\n",
    "print(\"t1:\")\n",
    "print(\" 0.001\" )\n",
    "print(\"t2:\")\n",
    "print(\" %f\\n\" % (thetaN-0.001) )\n",
    "\n",
    "\n",
    "\n",
    "print(\"Rapid Contraction\")\n",
    "print(\"x(t):\")\n",
    "print(\" %f * (1 - 0.6 * cos(t*3.14159/180)) + ( %f * cos(t*3.14159/180))\" % (A5,t) )\n",
    "print(\"y(t):\")\n",
    "print(\" %f * sin(t*3.14159/180) + (%f *sin(t*3.14159/180))\" % (A6,t) )\n",
    "print(\"Parameters:\" )\n",
    "print(\"t1:\")\n",
    "print(\" 0.001\" )\n",
    "print(\"t2:\")\n",
    "print(\" %f\\n\" % (theta-0.001) )\n",
    "\n",
    "A13 = math.cos(math.radians(theta))*t\n",
    "A14 = math.sin(math.radians(theta))*t\n",
    "\n",
    "print(\"Linear contraction\")\n",
    "print(\"x(t):\")\n",
    "print(\" t + %f\" % A13)\n",
    "print(\"y(t):\")\n",
    "print(\" %f * t + %f\" % (A7,A8+A14))\n",
    "print(\"Parameters:\" )\n",
    "print(\"t1:\")\n",
    "print(\" %f\" % (p1+0.0001) )\n",
    "print(\"t2:\")\n",
    "print(\" %f\\n\" % (p2-0.0001) )\n",
    "\n",
    "print(\"Inlet\")\n",
    "print(\"x(t):\")\n",
    "print(\" %f - %f * (1 - cos(t*3.14159/180)) + ( %f * cos(t*3.14159/180))\" % (rcc,A9,t))\n",
    "print(\"y(t):\")\n",
    "print(\" %f * sin(t*3.14159/180) + %f + (%f *sin(t*3.14159/180))\" % (A10,A11,t))\n",
    "print(\"Parameters:\")\n",
    "print(\"t1:\")\n",
    "print(\" 0.001\" )\n",
    "print(\"t2:\")\n",
    "print(\" %f\\n\" % (theta-0.0001) )"
   ]
  },
  {
   "cell_type": "code",
   "execution_count": 655,
   "metadata": {
    "collapsed": false
   },
   "outputs": [
    {
     "name": "stdout",
     "output_type": "stream",
     "text": [
      "Cooling Channel, outer:\n",
      "\n",
      "Bell\n",
      "x(t):\n",
      " t + ( 0.007837 * t / ( t^2 + 0.202725 )^0.5) + ( t / ( t^2 + 0.202725 )^0.5) * ( -t + (t^2 + 0.018608 * sin(2*3.14159 - arctan(-2.220990*t)))^(.5)) / (sin(2*3.14159-arctan(-2.220990*t)))\n",
      "y(t):\n",
      " 1.110495 *t^2 - 0.215921 + ( -0.007837 / ( 2.220990 *( t^2 + 0.202725 )^0.5)) + ( 1 / ( -2.220990 * (t^2+ 0.202725 )^0.5)) * ( -t + ( t^2 + 0.018608 * sin(2*3.14159-arctan(-2.220990*t)))^0.5) / ( sin(2*3.14159 - arctan(-2.220990*t)))\n",
      "Parameters:\n",
      "t1:\n",
      " 0.563795\n",
      "t2:\n",
      " 0.645777\n",
      "\n",
      "Rapid Expansion\n",
      "x(t):\n",
      " 0.700636 * (1- (.382/1.382) * cos(t*3.14159/180)) + ( 0.007837 * cos(t*3.14159/180)) + ( -( 0.700636 * ( 1 - (0.382)/(1.382) * cos(t*3.14159/180) ) ) + (( 0.700636 * (1 - (0.382)/(1.382) * cos(t*3.14159/180) ))^2 + 0.018608 * cos(t*3.14159/180))^0.5)\n",
      "y(t):\n",
      " 0.193663 * sin(t*3.14159/180) + (-0.007837 *sin(t*3.14159/180)) + ( -( 0.700636 * ( 1 - (0.382)/(1.382) * cos(t*3.14159/180) ) ) + ( (0.700636 * ( 1 - (0.382)/(1.382) * cos(t*3.14159/180) ) )^2 + 0.018608 * cos(t*3.14159/180) )^0.5 ) * ( -tan(t*3.14159/180) )\n",
      "Parameters:\n",
      "t1:\n",
      " 0.001\n",
      "t2:\n",
      " 44.999000\n",
      "\n",
      "Rapid Contraction\n",
      "x(t):\n",
      " 1.267431 * (1 - 0.6 * cos(t*3.14159/180)) + ( 0.007837 * cos(t*3.14159/180)) + ( -( 1.267431 * ( 1 - 0.6 * cos(t*3.14159/180) ) ) + ( ( 1.267431 * ( 1 - 0.6 * cos(t*3.14159/180) ) )^2 + ( 0.018608 ) * cos(t*3.14159/180) )^0.5 )\n",
      "y(t):\n",
      " -0.760459 * sin(t*3.14159/180) + (0.007837 *sin(t*3.14159/180)) + ( -( 1.267431 * ( 1 - 0.6 * cos(t*3.14159/180) ) ) + ( ( 1.267431 * ( 1 - 0.6 * cos(t*3.14159/180) ) )^2 + 0.018608 * cos(t*3.14159/180) )^0.5 ) * ( tan(t*3.14159/180) )\n",
      "Parameters:\n",
      "t1:\n",
      " 0.001\n",
      "t2:\n",
      " 44.999000\n",
      "\n",
      "Linear contraction\n",
      "x(t):\n",
      " t + 0.005542 + ( -t + ( t^2 + 0.013158 )^0.5 )\n",
      "y(t):\n",
      " -1.000000 *t + 0.729706 + -0.537725 + ( -t + ( t^2 + 0.013158 )^0.5 ) * ( 1.000000 ) + ( 0.005542 )\n",
      "Parameters:\n",
      "t1:\n",
      " 0.729806\n",
      "t2:\n",
      " 1.211101\n",
      "\n",
      "Inlet\n",
      "x(t):\n",
      " 1.433934 - 0.760459 * (1 - cos(t*3.14159/180)) + ( 0.007837 * cos(t*3.14159/180)) + ( -( 1.433934 - 0.760459 * ( 1 - cos(t*3.14159/180) ) ) + ( ( 1.433934 - 0.760459 * ( 1 - cos(t*3.14159/180)))^2 + 0.018608 * cos(t*3.14159/180) )^0.5 )\n",
      "y(t):\n",
      " 0.760459 * sin(t*3.14159/180) + -1.556947 + ( 0.007837 * sin(t*3.14159/180) ) + ( -( 1.433934 - 0.760459 * ( 1 - cos(t*3.14159/180) ) ) + ( ( 1.433934 - 0.760459 * ( 1 - cos(t*3.14159/180) ) )^2 + 0.018608 * cos(t*3.14159/180) )^0.5 ) * tan(t*3.14159/180)\n",
      "Parameters:\n",
      "t1:\n",
      " 0.001\n",
      "t2:\n",
      " 44.999900\n",
      "\n"
     ]
    }
   ],
   "source": [
    "print(\"Cooling Channel, outer:\\n\" )\n",
    "\n",
    "A15 = A_c/math.pi\n",
    "\n",
    "print(\"Bell\")\n",
    "print(\"x(t):\")\n",
    "print(\" t + ( %f * t / ( t^2 + %f )^0.5) + ( t / ( t^2 + %f )^0.5) * ( -t + (t^2 + %f * sin(2*3.14159 - arctan(%f*t)))^(.5)) / (sin(2*3.14159-arctan(%f*t)))\" % (t,A12,A12,A15,-2*A1,-2*A1))\n",
    "print(\"y(t):\")\n",
    "print(\" %f *t^2 - %f + ( %f / ( %f *( t^2 + %f )^0.5)) + ( 1 / ( %f * (t^2+ %f )^0.5)) * ( -t + ( t^2 + %f * sin(2*3.14159-arctan(%f*t)))^0.5) / ( sin(2*3.14159 - arctan(%f*t)))\" % (A1,A2,-t,2*A1,A12,-2*A1,A12,A15,-2*A1,-2*A1))\n",
    "print(\"Parameters:\")\n",
    "print(\"t1:\")\n",
    "print(\" %f\" % (X1+0.0001) )\n",
    "print(\"t2:\")\n",
    "print(\" %f\\n\" % (re-0.0001) )\n",
    "\n",
    "print(\"Rapid Expansion\")\n",
    "print(\"x(t):\")\n",
    "print(\" %f * (1- (.382/1.382) * cos(t*3.14159/180)) + ( %f * cos(t*3.14159/180)) + ( -( %f * ( 1 - (0.382)/(1.382) * cos(t*3.14159/180) ) ) + (( %f * (1 - (0.382)/(1.382) * cos(t*3.14159/180) ))^2 + %f * cos(t*3.14159/180))^0.5)\" % (A3,t,A3,A3,A15)     )\n",
    "print(\"y(t):\")\n",
    "print(\" %f * sin(t*3.14159/180) + (%f *sin(t*3.14159/180)) + ( -( %f * ( 1 - (0.382)/(1.382) * cos(t*3.14159/180) ) ) + ( (%f * ( 1 - (0.382)/(1.382) * cos(t*3.14159/180) ) )^2 + %f * cos(t*3.14159/180) )^0.5 ) * ( -tan(t*3.14159/180) )\" % (A4,-t,A3,A3,A15)     )\n",
    "print(\"Parameters:\" )\n",
    "print(\"t1:\")\n",
    "print(\" 0.001\" )\n",
    "print(\"t2:\")\n",
    "print(\" %f\\n\" % (thetaN-0.001) )\n",
    "\n",
    "print(\"Rapid Contraction\")\n",
    "print(\"x(t):\")\n",
    "print(\" %f * (1 - 0.6 * cos(t*3.14159/180)) + ( %f * cos(t*3.14159/180)) + ( -( %f * ( 1 - 0.6 * cos(t*3.14159/180) ) ) + ( ( %f * ( 1 - 0.6 * cos(t*3.14159/180) ) )^2 + ( %f ) * cos(t*3.14159/180) )^0.5 )\" % (A5,t,A5,A5,A15)     )\n",
    "print(\"y(t):\")\n",
    "print(\" %f * sin(t*3.14159/180) + (%f *sin(t*3.14159/180)) + ( -( %f * ( 1 - 0.6 * cos(t*3.14159/180) ) ) + ( ( %f * ( 1 - 0.6 * cos(t*3.14159/180) ) )^2 + %f * cos(t*3.14159/180) )^0.5 ) * ( tan(t*3.14159/180) )\"             % (A6,t,A5,A5,A15)     )\n",
    "print(\"Parameters:\" )\n",
    "print(\"t1:\")\n",
    "print(\" 0.001\" )\n",
    "print(\"t2:\")\n",
    "print(\" %f\\n\" % (theta-0.001) )\n",
    "\n",
    "A16 = math.cos(math.radians(theta))*A15\n",
    "A17 = math.tan(math.pi/2-math.radians(theta))*2.5*rt*(1-0.6*math.cos(math.radians(theta)))\n",
    "A18 = -1.5*rt*math.sin(math.radians(theta))\n",
    "A19 = A15 * math.cos(math.radians(theta))\n",
    "A20 = math.tan(math.radians(theta))\n",
    "\n",
    "print(\"Linear contraction\")\n",
    "print(\"x(t):\")\n",
    "print(\" t + %f + ( -t + ( t^2 + %f )^0.5 )\" % (A13,A16))\n",
    "print(\"y(t):\")\n",
    "print(\" %f *t + %f + %f + ( -t + ( t^2 + %f )^0.5 ) * ( %f ) + ( %f )\" % (A7,A17,A18,A19,A20,A14))\n",
    "print(\"Parameters:\" )\n",
    "print(\"t1:\")\n",
    "print(\" %f\" % (p1+0.0001) )\n",
    "print(\"t2:\")\n",
    "print(\" %f\\n\" % (p2-0.0001) )\n",
    "\n",
    "print(\"Inlet\")\n",
    "print(\"x(t):\")\n",
    "print(\" %f - %f * (1 - cos(t*3.14159/180)) + ( %f * cos(t*3.14159/180)) + ( -( %f - %f * ( 1 - cos(t*3.14159/180) ) ) + ( ( %f - %f * ( 1 - cos(t*3.14159/180)))^2 + %f * cos(t*3.14159/180) )^0.5 )\" % (rcc,A9,t,rcc,A9,rcc,A9,A15))\n",
    "print(\"y(t):\")\n",
    "print(\" %f * sin(t*3.14159/180) + %f + ( %f * sin(t*3.14159/180) ) + ( -( %f - %f * ( 1 - cos(t*3.14159/180) ) ) + ( ( %f - %f * ( 1 - cos(t*3.14159/180) ) )^2 + %f * cos(t*3.14159/180) )^0.5 ) * tan(t*3.14159/180)\" % (A10,A11,t,rcc,A10,rcc,A10,A15))\n",
    "print(\"Parameters:\")\n",
    "print(\"t1:\")\n",
    "print(\" 0.001\" )\n",
    "print(\"t2:\")\n",
    "print(\" %f\\n\" % (theta-0.0001) )"
   ]
  },
  {
   "cell_type": "code",
   "execution_count": 656,
   "metadata": {
    "collapsed": false
   },
   "outputs": [
    {
     "name": "stdout",
     "output_type": "stream",
     "text": [
      "Nozzle surface, outer:\n",
      "\n",
      "Bell\n",
      "x(t):\n",
      " t + ( 0.007837 * t / ( t^2 + 0.202725 )^0.5 ) + ( t / ( t^2 + 0.202725 )^0.5 ) * ( -t + ( t^2 + 0.018608 * sin(2*3.14159 - arctan(-2.220990*t)) )^0.5 ) / ( sin(2*3.14159 - arctan(-2.220990*t)) ) + ( 0.015675 * t / ( t^2 + 0.202725 )^0.5 )\n",
      "y(t):\n",
      " 1.110495 *t^2 - 0.215921 + ( -0.007837 / ( 2.220990 *( t^2 + 0.202725 )^0.5)) + ( 1 / ( -2.220990 * ( t^2+ 0.202725 )^0.5 ) ) * ( -t + ( t^2 + 0.018608 * sin(2*3.14159 - arctan(-2.220990*t)) )^0.5 ) / ( sin(2*3.14159 - arctan(-2.220990*t)) ) + ( -0.015675 / ( 2.220990 * ( t^2 + 0.202725 )^0.5 ) )\n",
      "Parameters:\n",
      "t1:\n",
      " 0.563795\n",
      "t2:\n",
      " 0.645777\n",
      "\n",
      "Rapid Expansion\n",
      "x(t):\n",
      " 0.700636 * ( 1- (.382/1.382) * cos(t*3.14159/180) ) + ( 0.007837 * cos(t*3.14159/180) ) + ( -( 0.700636 * ( 1 - (0.382)/(1.382) * cos(t*3.14159/180) ) ) + ( ( 0.700636 * ( 1 - (0.382)/(1.382) * cos(t*3.14159/180) ) )^2 + 0.018608 * cos(t*3.14159/180) )^0.5 ) + ( 0.015675 * cos(t*3.14159/180) )\n",
      "y(t):\n",
      " 0.193663 * sin(t*3.14159/180) + ( -0.007837 *sin(t*3.14159/180) ) + ( -( 0.700636 * ( 1 - (0.382)/(1.382) * cos(t*3.14159/180) ) ) + ( ( 0.700636 * ( 1 - (0.382)/(1.382) * cos(t*3.14159/180) ) )^2 + 0.018608 * cos(t*3.14159/180) )^0.5 ) * ( -tan(t*3.14159/180) ) + ( -0.015675 * sin(t*3.14159/180) )\n",
      "Parameters:\n",
      "t1:\n",
      " 0.001\n",
      "t2:\n",
      " 44.999000\n",
      "\n",
      "Rapid Contraction\n",
      "x(t):\n",
      " 1.267431 * ( 1 - 0.6 * cos(t*3.14159/180) ) + ( 0.007837 * cos(t*3.14159/180) ) + ( -( 1.267431 * ( 1 - 0.6 * cos(t*3.14159/180) ) ) + ( ( 1.267431 * ( 1 - 0.6 * cos(t*3.14159/180) ) )^2 + ( 0.018608 ) * cos(t*3.14159/180) )^0.5 ) + ( 0.015675 * cos(t*3.14159/180) )\n",
      "y(t):\n",
      " -0.760459 * sin(t*3.14159/180) + ( 0.007837 *sin(t*3.14159/180) ) + ( -( 1.267431 * ( 1 - 0.6 * cos(t*3.14159/180) ) ) + ( ( 1.267431 * ( 1 - 0.6 * cos(t*3.14159/180) ) )^2 + 0.018608 * cos(t*3.14159/180) )^0.5 ) * ( tan(t*3.14159/180) ) + ( 0.015675 *sin(t*3.14159/180) )\n",
      "Parameters:\n",
      "t1:\n",
      " 0.001\n",
      "t2:\n",
      " 44.999000\n",
      "\n",
      "Linear contraction\n",
      "x(t):\n",
      " t + 0.005542 + ( -t + ( t^2 + 0.013158 )^0.5 ) + 0.011084\n",
      "y(t):\n",
      " -1.000000 *t + 0.729706 + -0.537725 + ( -t + ( t^2 + 0.013158 )^0.5 ) * ( 1.000000 ) + ( 0.005542 ) + ( 0.011084 )\n",
      "Parameters:\n",
      "t1:\n",
      " 0.729806\n",
      "t2:\n",
      " 1.211101\n",
      "\n",
      "Inlet\n",
      "x(t):\n",
      " 1.433934 - 0.760459 * (1 - cos(t*3.14159/180) ) + ( 0.007837 * cos(t*3.14159/180) ) + ( -( 1.433934 - 0.760459 * ( 1 - cos(t*3.14159/180) ) ) + ( ( 1.433934 - 0.760459 * ( 1 - cos(t*3.14159/180) ) )^2 + 0.018608 * cos(t*3.14159/180) )^0.5 ) + ( 0.015675 * cos(t*3.14159/180) )\n",
      "y(t):\n",
      " 0.760459 * sin(t*3.14159/180) + -1.556947 + ( 0.007837 * sin(t*3.14159/180) ) + ( -( 1.433934 - 0.760459 * ( 1 - cos(t*3.14159/180) ) ) + ( ( 1.433934 - 0.760459 * ( 1 - cos(t*3.14159/180) ) )^2 + 0.018608 * cos(t*3.14159/180) )^0.5 ) * tan(t*3.14159/180) + ( 0.015675 * sin(t*3.14159/180) )\n",
      "Parameters:\n",
      "t1:\n",
      " 0.001\n",
      "t2:\n",
      " 44.999900\n",
      "\n"
     ]
    }
   ],
   "source": [
    "print(\"Nozzle surface, outer:\\n\" )\n",
    "\n",
    "print(\"Bell\")\n",
    "print(\"x(t):\")\n",
    "print(\" t + ( %f * t / ( t^2 + %f )^0.5 ) + ( t / ( t^2 + %f )^0.5 ) * ( -t + ( t^2 + %f * sin(2*3.14159 - arctan(%f*t)) )^0.5 ) / ( sin(2*3.14159 - arctan(%f*t)) ) + ( %f * t / ( t^2 + %f )^0.5 )\" % (t,A12,A12,A15,-2*A1,-2*A1,tout,A12))\n",
    "print(\"y(t):\")\n",
    "print(\" %f *t^2 - %f + ( %f / ( %f *( t^2 + %f )^0.5)) + ( 1 / ( %f * ( t^2+ %f )^0.5 ) ) * ( -t + ( t^2 + %f * sin(2*3.14159 - arctan(%f*t)) )^0.5 ) / ( sin(2*3.14159 - arctan(%f*t)) ) + ( %f / ( %f * ( t^2 + %f )^0.5 ) )\" % (A1,A2,-t,2*A1,A12,-2*A1,A12,A15,-2*A1,-2*A1,-tout,2*A1,A12))\n",
    "print(\"Parameters:\")\n",
    "print(\"t1:\")\n",
    "print(\" %f\" % (X1+0.0001) )\n",
    "print(\"t2:\")\n",
    "print(\" %f\\n\" % (re-0.0001) )\n",
    "\n",
    "print(\"Rapid Expansion\")\n",
    "print(\"x(t):\")\n",
    "print(\" %f * ( 1- (.382/1.382) * cos(t*3.14159/180) ) + ( %f * cos(t*3.14159/180) ) + ( -( %f * ( 1 - (0.382)/(1.382) * cos(t*3.14159/180) ) ) + ( ( %f * ( 1 - (0.382)/(1.382) * cos(t*3.14159/180) ) )^2 + %f * cos(t*3.14159/180) )^0.5 ) + ( %f * cos(t*3.14159/180) )\" % (A3,t,A3,A3,A15,tout)     )\n",
    "print(\"y(t):\")\n",
    "print(\" %f * sin(t*3.14159/180) + ( %f *sin(t*3.14159/180) ) + ( -( %f * ( 1 - (0.382)/(1.382) * cos(t*3.14159/180) ) ) + ( ( %f * ( 1 - (0.382)/(1.382) * cos(t*3.14159/180) ) )^2 + %f * cos(t*3.14159/180) )^0.5 ) * ( -tan(t*3.14159/180) ) + ( %f * sin(t*3.14159/180) )\" % (A4,-t,A3,A3,A15,-tout)     )\n",
    "print(\"Parameters:\" )\n",
    "print(\"t1:\")\n",
    "print(\" 0.001\" )\n",
    "print(\"t2:\")\n",
    "print(\" %f\\n\" % (thetaN-0.001) )\n",
    "\n",
    "print(\"Rapid Contraction\")\n",
    "print(\"x(t):\")\n",
    "print(\" %f * ( 1 - 0.6 * cos(t*3.14159/180) ) + ( %f * cos(t*3.14159/180) ) + ( -( %f * ( 1 - 0.6 * cos(t*3.14159/180) ) ) + ( ( %f * ( 1 - 0.6 * cos(t*3.14159/180) ) )^2 + ( %f ) * cos(t*3.14159/180) )^0.5 ) + ( %f * cos(t*3.14159/180) )\" % (A5,t,A5,A5,A15,tout)     )\n",
    "print(\"y(t):\")\n",
    "print(\" %f * sin(t*3.14159/180) + ( %f *sin(t*3.14159/180) ) + ( -( %f * ( 1 - 0.6 * cos(t*3.14159/180) ) ) + ( ( %f * ( 1 - 0.6 * cos(t*3.14159/180) ) )^2 + %f * cos(t*3.14159/180) )^0.5 ) * ( tan(t*3.14159/180) ) + ( %f *sin(t*3.14159/180) )\"             % (A6,t,A5,A5,A15,tout)     )\n",
    "print(\"Parameters:\" )\n",
    "print(\"t1:\")\n",
    "print(\" 0.001\" )\n",
    "print(\"t2:\")\n",
    "print(\" %f\\n\" % (theta-0.001) )\n",
    "\n",
    "A21 = math.cos(math.radians(theta))*tout\n",
    "A22 = math.sin(math.radians(theta))*tout\n",
    "\n",
    "print(\"Linear contraction\")\n",
    "print(\"x(t):\")\n",
    "print(\" t + %f + ( -t + ( t^2 + %f )^0.5 ) + %f\" % (A13,A16,A21))\n",
    "print(\"y(t):\")\n",
    "print(\" %f *t + %f + %f + ( -t + ( t^2 + %f )^0.5 ) * ( %f ) + ( %f ) + ( %f )\" % (A7,A17,A18,A19,A20,A14,A22))\n",
    "print(\"Parameters:\" )\n",
    "print(\"t1:\")\n",
    "print(\" %f\" % (p1+0.0001) )\n",
    "print(\"t2:\")\n",
    "print(\" %f\\n\" % (p2-0.0001) )\n",
    "\n",
    "print(\"Inlet\")\n",
    "print(\"x(t):\")\n",
    "print(\" %f - %f * (1 - cos(t*3.14159/180) ) + ( %f * cos(t*3.14159/180) ) + ( -( %f - %f * ( 1 - cos(t*3.14159/180) ) ) + ( ( %f - %f * ( 1 - cos(t*3.14159/180) ) )^2 + %f * cos(t*3.14159/180) )^0.5 ) + ( %f * cos(t*3.14159/180) )\" % (rcc,A9,t,rcc,A9,rcc,A9,A15,tout))\n",
    "print(\"y(t):\")\n",
    "print(\" %f * sin(t*3.14159/180) + %f + ( %f * sin(t*3.14159/180) ) + ( -( %f - %f * ( 1 - cos(t*3.14159/180) ) ) + ( ( %f - %f * ( 1 - cos(t*3.14159/180) ) )^2 + %f * cos(t*3.14159/180) )^0.5 ) * tan(t*3.14159/180) + ( %f * sin(t*3.14159/180) )\" % (A10,A11,t,rcc,A10,rcc,A10,A15,tout))\n",
    "print(\"Parameters:\")\n",
    "print(\"t1:\")\n",
    "print(\" 0.001\"  )\n",
    "print(\"t2:\")\n",
    "print(\" %f\\n\" % (theta-0.0001) )"
   ]
  },
  {
   "cell_type": "code",
   "execution_count": 657,
   "metadata": {
    "collapsed": false
   },
   "outputs": [
    {
     "data": {
      "text/plain": [
       "1.8100000000000014"
      ]
     },
     "execution_count": 657,
     "metadata": {},
     "output_type": "execute_result"
    }
   ],
   "source": [
    "import sympy as sympy\n",
    "\n",
    "from sympy.solvers import solve\n",
    "from sympy import Symbol\n",
    "from sympy import log\n",
    "\n",
    "import numpy as np\n",
    "import matplotlib.pyplot as plt\n",
    "\n",
    "#Boiling analysis\n",
    "#Heat transfer along bell\n",
    "#find Ax/At\n",
    "x  = [0]\n",
    "dx = 0.01\n",
    "\n",
    "thetaNr = math.pi/180*thetaN\n",
    "thetar  = math.pi/180*theta\n",
    "\n",
    "import numpy as np\n",
    "\n",
    "ARatioSub = []\n",
    "ARatioSup = []\n",
    "rx        = []\n",
    "Ax        = []\n",
    "AR        = []\n",
    "Px        = []\n",
    "Tx        = []\n",
    "Vx        = []\n",
    "ax        = []\n",
    "Mx        = []\n",
    "sigmax    = []\n",
    "hgx       = []\n",
    "Tawx      = []\n",
    "qx        = []\n",
    "Aqx       = [0]\n",
    "Qx        = []\n",
    "\n",
    "res     = 1000 # resolution of mach lookup matrix\n",
    "\n",
    "MachSub = np.linspace(1/res,1,num=res)\n",
    "MachSup = np.linspace(1+1/res,10,num=res*9)\n",
    "PRSub   = np.linspace(1/res,2,num=res*2)\n",
    "PRSup   = np.linspace(2+2/res,1000,num=res*998)\n",
    "\n",
    "#build AR matricies\n",
    "for Machx in MachSub:\n",
    "    ARatioSub.append(1/Machx*(((1+((gam-1)/2)*Machx**2)/(1+((gam-1)/2)))**((gam+1)/(gam-1)))**0.5)\n",
    "\n",
    "for Machx in MachSup:\n",
    "    ARatioSup.append(1/Machx*(((1+((gam-1)/2)*Machx**2)/(1+((gam-1)/2)))**((gam+1)/(gam-1)))**0.5)\n",
    "\n",
    "i=0\n",
    "\n",
    "while x[i] < ((A1*re**2-A2)-(A1*X1**2-A2)):\n",
    "    rx.append((((A1*re**2-A2)-x[i]+A2)/(A1))**.5)\n",
    "    x.append(x[i]+dx)\n",
    "    Ax.append(math.pi*(rx[i])**2)\n",
    "    AR.append(Ax[i]/At)\n",
    "    \n",
    "    Volumex = Ax[i]*dx\n",
    "    Volumet = At*dx\n",
    "    \n",
    "    j=0\n",
    "\n",
    "    #match mach number to current area ratio\n",
    "    currentAR = 0\n",
    "    while currentAR < Ax[i]/At and j < len(ARatioSup)-1:\n",
    "        j=j+1\n",
    "        currentAR = ARatioSup[j]\n",
    "    \n",
    "    y1 = MachSup[j]\n",
    "    y2 = MachSup[j-1]\n",
    "    x1 = ARatioSup[j]\n",
    "    x2 = ARatioSup[j-1]\n",
    "    \n",
    "    Mx.append((Ax[i]/At-x1)*(y2-y1)/(x2-x1)+y1)\n",
    "    Px.append(Pcns/(1+0.5*(gam-1)*Mx[i]**2)**(gam/(gam-1)))\n",
    "    Tx.append(Tcns/(Pcns/Px[i])**((gam-1)/gam))\n",
    "    Vx.append(math.sqrt(2*g*gam/(gam-1)*R*Tcns*(1-(Px[i]/Pcns)**((gam-1)/gam))))\n",
    "    ax.append(math.sqrt(g*gam*R*Tx[i]))\n",
    "    sigmax.append((1/((.5*Twg/Tcns*(1+(gam-1)/2*Mx[i]**2)+.5)**0.68*(1+(gam+1)/2*Mx[i]**2)**0.12)))\n",
    "    hgx.append(((0.026/(2*rt)**0.2*(mucc**0.2*Cp/Pr**0.6)*(Pcns*g/cstar)**0.8*(2*rt/rmean)**0.1)*(At/Ax[i])**0.9*sigmax[i]))\n",
    "    Tawx.append(Tcns*((1+rturb*((gam-1)/2)*Mx[i]**2)/(1+((gam-1)/2)*Mx[i]**2)))\n",
    "    qx.append(hgx[i]*(Tawx[i]-Twg))\n",
    "\n",
    "    i=i+1\n",
    "\n",
    "while x[i] < ((A1*re**2-A2)-(A1*X1**2-A2))+.382*rt*sin(thetaN/180*math.pi):\n",
    "    yr = Symbol(\"yr\")\n",
    "    rx.append(solve((x[i]-(A1*re**2-A2))**2+(yr-1.382*rt)**2-(.382*rt)**2,yr)[0])\n",
    "    x.append(x[i]+dx)\n",
    "    Ax.append(math.pi*(rx[i])**2)\n",
    "    AR.append(Ax[i]/At)\n",
    "    \n",
    "    Volumex = Ax[i]*dx\n",
    "    Volumet = (At)*dx\n",
    "    \n",
    "    j=0\n",
    "\n",
    "    #match mach number to current area ratio\n",
    "    currentAR = 0\n",
    "    while currentAR < Ax[i]/At and j < len(ARatioSup)-1:\n",
    "        j=j+1\n",
    "        currentAR = ARatioSup[j]\n",
    "    \n",
    "    y1 = MachSup[j]\n",
    "    y2 = MachSup[j-1]\n",
    "    x1 = ARatioSup[j]\n",
    "    x2 = ARatioSup[j-1]\n",
    "\n",
    "    Mx.append((Ax[i]/At-x1)*(y2-y1)/(x2-x1)+y1)\n",
    "    Px.append(Pcns/(1+0.5*(gam-1)*Mx[i]**2)**(gam/(gam-1)))\n",
    "    Tx.append(Tcns/(Pcns/Px[i])**((gam-1)/gam))\n",
    "    Vx.append(math.sqrt(2*g*gam/(gam-1)*R*Tcns*(1-(Px[i]/Pcns)**((gam-1)/gam))))\n",
    "    ax.append(math.sqrt(g*gam*R*Tx[i]))\n",
    "    sigmax.append((1/((.5*Twg/Tcns*(1+(gam-1)/2*Mx[i]**2)+.5)**0.68*(1+(gam+1)/2*Mx[i]**2)**0.12)))\n",
    "    hgx.append(((0.026/(2*rt)**0.2*(mucc**0.2*Cp/Pr**0.6)*(Pcns*g/cstar)**0.8*(2*rt/rmean)**0.1)*(At/Ax[i])**0.9*sigmax[i]))\n",
    "    Tawx.append(Tcns*((1+rturb*((gam-1)/2)*Mx[i]**2)/(1+((gam-1)/2)*Mx[i]**2)))\n",
    "    qx.append(hgx[i]*(Tawx[i]-Twg))\n",
    "    \n",
    "    i=i+1\n",
    "\n",
    "while x[i] < ((A1*re**2-A2)-(A1*X1**2-A2))+.382*rt*sin(thetaN/180*math.pi)+1.5*rt*sin(theta/180*math.pi):\n",
    "    yr = Symbol(\"yr\")\n",
    "    rx.append(solve((x[i]-(A1*re**2-A2))**2+(yr-2.5*rt)**2-(1.5*rt)**2,yr)[0])\n",
    "    x.append(x[i]+dx)\n",
    "    Ax.append(math.pi*(rx[i])**2)\n",
    "    AR.append(Ax[i]/At)\n",
    "    \n",
    "    Volumex = Ax[i]*dx\n",
    "    Volumet = (At)*dx\n",
    "    \n",
    "    j=0\n",
    "\n",
    "    #match mach number to current area ratio\n",
    "    currentAR = ARatioSub[0]\n",
    "    while currentAR > Ax[i]/At and j < len(ARatioSub)-1:\n",
    "        j=j+1\n",
    "        currentAR = ARatioSub[j]\n",
    "    \n",
    "    y1 = MachSub[j]\n",
    "    y2 = MachSub[j-1]\n",
    "    x1 = ARatioSub[j]\n",
    "    x2 = ARatioSub[j-1]\n",
    "\n",
    "    Mx.append((Ax[i]/At-x1)*(y2-y1)/(x2-x1)+y1)\n",
    "    Px.append(Pcns/(1+0.5*(gam-1)*Mx[i]**2)**(gam/(gam-1)))\n",
    "    Tx.append(Tcns/(Pcns/Px[i])**((gam-1)/gam))\n",
    "    Vx.append(math.sqrt(2*g*gam/(gam-1)*R*Tcns*(1-(Px[i]/Pcns)**((gam-1)/gam))))\n",
    "    ax.append(math.sqrt(g*gam*R*Tx[i]))\n",
    "    sigmax.append((1/((.5*Twg/Tcns*(1+(gam-1)/2*Mx[i]**2)+.5)**0.68*(1+(gam+1)/2*Mx[i]**2)**0.12)))\n",
    "    hgx.append(((0.026/(2*rt)**0.2*(mucc**0.2*Cp/Pr**0.6)*(Pcns*g/cstar)**0.8*(2*rt/rmean)**0.1)*(At/Ax[i])**0.9*sigmax[i]))\n",
    "    Tawx.append(Tcns*((1+rturb*((gam-1)/2)*Mx[i]**2)/(1+((gam-1)/2)*Mx[i]**2)))\n",
    "    qx.append(hgx[i]*(Tawx[i]-Twg))\n",
    "    \n",
    "    i=i+1\n",
    "    \n",
    "m = math.tan(thetar)\n",
    "b = rt*(2.5-1.5*math.cos(thetar))-m*((A1*re**2-A2)+1.5*rt*math.sin(thetar))\n",
    "\n",
    "while x[i] < (A1*re**2-A2)-(A7*p2+A8):\n",
    "    rx.append(m*x[i]+b)\n",
    "    x.append(x[i]+dx)\n",
    "    Ax.append(math.pi*(rx[i])**2)\n",
    "    AR.append(Ax[i]/At)\n",
    "    \n",
    "    Volumex = Ax[i]*dx\n",
    "    Volumet = (At)*dx\n",
    "    \n",
    "    j=0\n",
    "\n",
    "    #match mach number to current area ratio\n",
    "    currentAR = ARatioSub[0]\n",
    "    while currentAR > Ax[i]/At and j < len(ARatioSub)-1:\n",
    "        j=j+1\n",
    "        currentAR = ARatioSub[j]\n",
    "    \n",
    "    y1 = MachSub[j]\n",
    "    y2 = MachSub[j-1]\n",
    "    x1 = ARatioSub[j]\n",
    "    x2 = ARatioSub[j-1]\n",
    "\n",
    "    Mx.append((Ax[i]/At-x1)*(y2-y1)/(x2-x1)+y1)\n",
    "    Px.append(Pcns/(1+0.5*(gam-1)*Mx[i]**2)**(gam/(gam-1)))\n",
    "    Tx.append(Tcns/(Pcns/Px[i])**((gam-1)/gam))\n",
    "    Vx.append(math.sqrt(2*g*gam/(gam-1)*R*Tcns*(1-(Px[i]/Pcns)**((gam-1)/gam))))\n",
    "    ax.append(math.sqrt(g*gam*R*Tx[i]))\n",
    "    sigmax.append((1/((.5*Twg/Tcns*(1+(gam-1)/2*Mx[i]**2)+.5)**0.68*(1+(gam+1)/2*Mx[i]**2)**0.12)))\n",
    "    hgx.append(((0.026/(2*rt)**0.2*(mucc**0.2*Cp/Pr**0.6)*(Pcns*g/cstar)**0.8*(2*rt/rmean)**0.1)*(At/Ax[i])**0.9*sigmax[i]))\n",
    "    Tawx.append(Tcns*((1+rturb*((gam-1)/2)*Mx[i]**2)/(1+((gam-1)/2)*Mx[i]**2)))\n",
    "    qx.append(hgx[i]*(Tawx[i]-Twg))\n",
    "    \n",
    "    i=i+1\n",
    "\n",
    "xcenter = (A1*re**2-A2)-(A10*math.sin(0)+A11)\n",
    "ycenter = rcc-1.5*rt\n",
    "    \n",
    "while x[i] < (A1*re**2-A2)-(A10*math.sin(0)+A11):\n",
    "    yr = Symbol(\"yr\")\n",
    "    rx.append(solve((x[i]-xcenter)**2+(yr-ycenter)**2-(1.5*rt)**2,yr)[1])\n",
    "    x.append(x[i]+dx)\n",
    "    Ax.append(math.pi*(rx[i])**2)\n",
    "    AR.append(Ax[i]/At)\n",
    "    \n",
    "    Volumex = Ax[i]*dx\n",
    "    Volumet = (At)*dx\n",
    "    \n",
    "    j=0\n",
    "\n",
    "    #match mach number to current area ratio\n",
    "    currentAR = ARatioSub[0]\n",
    "    while currentAR > Ax[i]/At and j < len(ARatioSub)-1:\n",
    "        j=j+1\n",
    "        currentAR = ARatioSub[j]\n",
    "    \n",
    "    y1 = MachSub[j]\n",
    "    y2 = MachSub[j-1]\n",
    "    x1 = ARatioSub[j]\n",
    "    x2 = ARatioSub[j-1]\n",
    "\n",
    "    Mx.append((Ax[i]/At-x1)*(y2-y1)/(x2-x1)+y1)\n",
    "    Px.append(Pcns/(1+0.5*(gam-1)*Mx[i]**2)**(gam/(gam-1)))\n",
    "    Tx.append(Tcns/(Pcns/Px[i])**((gam-1)/gam))\n",
    "    Vx.append(math.sqrt(2*g*gam/(gam-1)*R*Tcns*(1-(Px[i]/Pcns)**((gam-1)/gam))))\n",
    "    ax.append(math.sqrt(g*gam*R*Tx[i]))\n",
    "    sigmax.append((1/((.5*Twg/Tcns*(1+(gam-1)/2*Mx[i]**2)+.5)**0.68*(1+(gam+1)/2*Mx[i]**2)**0.12)))\n",
    "    hgx.append(((0.026/(2*rt)**0.2*(mucc**0.2*Cp/Pr**0.6)*(Pcns*g/cstar)**0.8*(2*rt/rmean)**0.1)*(At/Ax[i])**0.9*sigmax[i]))\n",
    "    Tawx.append(Tcns*((1+rturb*((gam-1)/2)*Mx[i]**2)/(1+((gam-1)/2)*Mx[i]**2)))\n",
    "    qx.append(hgx[i]*(Tawx[i]-Twg))\n",
    "    \n",
    "    i=i+1\n",
    "x.pop()\n",
    "\n"
   ]
  },
  {
   "cell_type": "code",
   "execution_count": 658,
   "metadata": {
    "collapsed": false
   },
   "outputs": [
    {
     "data": {
      "text/plain": [
       "(0, 2)"
      ]
     },
     "execution_count": 658,
     "metadata": {},
     "output_type": "execute_result"
    },
    {
     "data": {
      "image/png": "[encoded data removed]",
      "text/plain": [
       "<matplotlib.figure.Figure at 0x184d9240cc0>"
      ]
     },
     "metadata": {},
     "output_type": "display_data"
    },
    {
     "data": {
      "image/png": "[encoded data removed]",
      "text/plain": [
       "<matplotlib.figure.Figure at 0x184d9196518>"
      ]
     },
     "metadata": {},
     "output_type": "display_data"
    },
    {
     "data": {
      "image/png": "[encoded data removed]",
      "text/plain": [
       "<matplotlib.figure.Figure at 0x184d5ba5588>"
      ]
     },
     "metadata": {},
     "output_type": "display_data"
    },
    {
     "data": {
      "image/png": "[encoded data removed]",
      "text/plain": [
       "<matplotlib.figure.Figure at 0x184d6487128>"
      ]
     },
     "metadata": {},
     "output_type": "display_data"
    },
    {
     "data": {
      "image/png": "[encoded data removed]",
      "text/plain": [
       "<matplotlib.figure.Figure at 0x184d6743048>"
      ]
     },
     "metadata": {},
     "output_type": "display_data"
    },
    {
     "data": {
      "image/png": "[encoded data removed]",
      "text/plain": [
       "<matplotlib.figure.Figure at 0x184d64e4390>"
      ]
     },
     "metadata": {},
     "output_type": "display_data"
    },
    {
     "data": {
      "image/png": "[encoded data removed]",
      "text/plain": [
       "<matplotlib.figure.Figure at 0x184d5da7d30>"
      ]
     },
     "metadata": {},
     "output_type": "display_data"
    },
    {
     "data": {
      "image/png": "[encoded data removed]",
      "text/plain": [
       "<matplotlib.figure.Figure at 0x184d315bdd8>"
      ]
     },
     "metadata": {},
     "output_type": "display_data"
    }
   ],
   "source": [
    "plt.figure(0)\n",
    "plt.scatter(x,rx)\n",
    "plt.xlabel('Nozzle Position (in)')\n",
    "plt.ylabel('Radius (in)')\n",
    "plt.xlim([0,math.ceil(max(x))])\n",
    "\n",
    "plt.figure(1)\n",
    "plt.scatter(x,Mx)\n",
    "plt.xlabel('Nozzle Position (in)')\n",
    "plt.ylabel('Mach Number')\n",
    "plt.xlim([0,math.ceil(max(x))])\n",
    "\n",
    "plt.figure(2)\n",
    "plt.scatter(x,Px)\n",
    "plt.xlabel('Nozzle Position (in)')\n",
    "plt.ylabel('Pressure (psia)')\n",
    "plt.xlim([0,math.ceil(max(x))])\n",
    "\n",
    "plt.figure(3)\n",
    "plt.scatter(x,Tx)\n",
    "plt.xlabel('Nozzle Position (in)')\n",
    "plt.ylabel('Temperature (R)')\n",
    "plt.xlim([0,math.ceil(max(x))])\n",
    "\n",
    "plt.figure(4)\n",
    "plt.scatter(x,Vx)\n",
    "plt.xlabel('Nozzle Position (in)')\n",
    "plt.ylabel('Velocity (ft/s)')\n",
    "plt.xlim([0,math.ceil(max(x))])\n",
    "\n",
    "plt.figure(5)\n",
    "plt.scatter(x,hgx)\n",
    "plt.xlabel('Nozzle Position (in)')\n",
    "plt.ylabel('Heat transfer coefficient (Btu/in^2/s/R)')\n",
    "plt.xlim([0,math.ceil(max(x))])\n",
    "\n",
    "plt.figure(6)\n",
    "plt.scatter(x,Tawx)\n",
    "plt.xlabel('Nozzle Position (in)')\n",
    "plt.ylabel('Adiabatic wall Temp of gas (R)')\n",
    "plt.xlim([0,math.ceil(max(x))])\n",
    "\n",
    "plt.figure(7)\n",
    "plt.scatter(x,qx)\n",
    "plt.xlabel('Nozzle Position (in)')\n",
    "plt.ylabel('Heat flux (Btu/in^2/s)')\n",
    "plt.xlim([0,math.ceil(max(x))])\n",
    "\n"
   ]
  },
  {
   "cell_type": "code",
   "execution_count": 659,
   "metadata": {
    "collapsed": false
   },
   "outputs": [],
   "source": [
    "j=1\n",
    "Aqx=[]\n",
    "Qx =[]\n",
    "while j < len(rx):\n",
    "    Aqx.append(math.sqrt(dx**2+(rx[j-1]-rx[j])**2)*math.pi*(rx[j-1]+rx[j]))\n",
    "    Qx.append(Aqx[j-1]*(qx[j-1]+qx[j])*.5)\n",
    "    j+=1\n",
    "Qtot = sum(Qx)"
   ]
  },
  {
   "cell_type": "code",
   "execution_count": 660,
   "metadata": {
    "collapsed": false
   },
   "outputs": [
    {
     "name": "stdout",
     "output_type": "stream",
     "text": [
      "192.508421283221\n",
      "195.08999319580954\n"
     ]
    }
   ],
   "source": [
    "print(Qtot)\n",
    "print(Qc)"
   ]
  }
 ],
 "metadata": {
  "kernelspec": {
   "display_name": "Python 3",
   "language": "python",
   "name": "python3"
  },
  "language_info": {
   "codemirror_mode": {
    "name": "ipython",
    "version": 3
   },
   "file_extension": ".py",
   "mimetype": "text/x-python",
   "name": "python",
   "nbconvert_exporter": "python",
   "pygments_lexer": "ipython3",
   "version": "3.5.1"
  }
 },
 "nbformat": 4,
 "nbformat_minor": 0
}
